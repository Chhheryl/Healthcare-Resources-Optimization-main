{
 "cells": [
  {
   "cell_type": "markdown",
   "metadata": {},
   "source": [
    "# Patient Allocation Experiments - Texas"
   ]
  },
  {
   "cell_type": "markdown",
   "metadata": {},
   "source": [
    "## Setup"
   ]
  },
  {
   "cell_type": "code",
   "execution_count": 1,
   "metadata": {},
   "outputs": [],
   "source": [
    "using Dates\n",
    "using Distributions\n",
    "using JuMP\n",
    "using Serialization\n",
    "ENV[\"COLUMNS\"] = 1000;"
   ]
  },
  {
   "cell_type": "code",
   "execution_count": 3,
   "metadata": {},
   "outputs": [
    {
     "data": {
      "text/plain": [
       "Main.PatientAllocation"
      ]
     },
     "metadata": {},
     "output_type": "display_data"
    }
   ],
   "source": [
    "projectbasepath = \"../\";\n",
    "include(normpath(projectbasepath, \"models/PatientAllocation.jl\"));\n",
    "#include(normpath(projectbasepath, \"src/util/PatientAllocationFigures.jl\"));"
   ]
  },
  {
   "cell_type": "code",
   "execution_count": 4,
   "metadata": {},
   "outputs": [],
   "source": [
    "include(\"tx_data.jl\");"
   ]
  },
  {
   "cell_type": "markdown",
   "metadata": {},
   "source": [
    "## Config and Data"
   ]
  },
  {
   "cell_type": "code",
   "execution_count": 5,
   "metadata": {},
   "outputs": [],
   "source": [
    "results_basepath = abspath(joinpath(projectbasepath, \"results/\"));\n",
    "paperfigures_basepath = abspath(joinpath(projectbasepath, \"figures/\"));\n",
    "\n",
    "if !isdir(results_basepath) mkpath(results_basepath) end;\n",
    "if !isdir(paperfigures_basepath) mkpath(paperfigures_basepath) end;"
   ]
  },
  {
   "cell_type": "code",
   "execution_count": 6,
   "metadata": {},
   "outputs": [
    {
     "name": "stdout",
     "output_type": "stream",
     "text": [
      "today() = Date(\"2024-04-22\")\n"
     ]
    }
   ],
   "source": [
    "shared_config = (\n",
    "    rundate = today(),\n",
    "    region = \"Texas\",\n",
    "    region_abbrev = \"tx\",\n",
    "    alloc_level = \"tsa\",\n",
    "    results_basepath = results_basepath,\n",
    "    paperfigures_basepath = paperfigures_basepath,\n",
    ");\n",
    "@show today();"
   ]
  },
  {
   "cell_type": "code",
   "execution_count": 13,
   "metadata": {},
   "outputs": [
    {
     "name": "stdout",
     "output_type": "stream",
     "text": [
      "T = 66\n"
     ]
    }
   ],
   "source": [
    "start_date = Date(2020, 6, 15);\n",
    "end_date   = Date(2020, 8, 19);\n",
    "date_range = collect(start_date : Day(1) : end_date);\n",
    "T = length(date_range);\n",
    "@show T;"
   ]
  },
  {
   "cell_type": "code",
   "execution_count": 7,
   "metadata": {},
   "outputs": [],
   "source": [
    "locations_limit = nothing;\n",
    "focus_locations = [\n",
    "    \"Austin\",\n",
    "    \"Dallas/Ft. Worth\",\n",
    "    \"El Paso\",\n",
    "    \"Galveston\",\n",
    "    \"Houston\",\n",
    "    \"San Antonio\",\n",
    "];"
   ]
  },
  {
   "cell_type": "code",
   "execution_count": 8,
   "metadata": {},
   "outputs": [],
   "source": [
    "pct_beds_available = (\n",
    "    icu = 0.5,\n",
    "    ward = 0.35,\n",
    "    allpat = 0.4,\n",
    ");\n",
    "los_dist = (\n",
    "    icu = Weibull(1.58, 13.32),\n",
    "    ward = Weibull(1.38, 12.88),\n",
    "    allpat = Weibull(1.38, 12.88),\n",
    ");"
   ]
  },
  {
   "cell_type": "code",
   "execution_count": 14,
   "metadata": {},
   "outputs": [
    {
     "name": "stderr",
     "output_type": "stream",
     "text": [
      "\r\u001b[32mProgress:   9%|███▊                                     |  ETA: 0:01:03\u001b[39m\u001b[K"
     ]
    },
    {
     "name": "stderr",
     "output_type": "stream",
     "text": [
      "\r\u001b[32mProgress:  18%|███████▌                                 |  ETA: 0:00:43\u001b[39m\u001b[K"
     ]
    },
    {
     "name": "stderr",
     "output_type": "stream",
     "text": [
      "\r\u001b[32mProgress:  23%|█████████▍                               |  ETA: 0:00:36\u001b[39m\u001b[K"
     ]
    },
    {
     "name": "stderr",
     "output_type": "stream",
     "text": [
      "\r\u001b[32mProgress:  27%|███████████▏                             |  ETA: 0:00:31\u001b[39m\u001b[K"
     ]
    },
    {
     "name": "stderr",
     "output_type": "stream",
     "text": [
      "\r\u001b[32mProgress:  32%|█████████████                            |  ETA: 0:00:27\u001b[39m\u001b[K"
     ]
    },
    {
     "name": "stderr",
     "output_type": "stream",
     "text": [
      "\r\u001b[32mProgress:  36%|██████████████▉                          |  ETA: 0:00:24\u001b[39m\u001b[K"
     ]
    },
    {
     "name": "stderr",
     "output_type": "stream",
     "text": [
      "\r\u001b[32mProgress:  41%|████████████████▊                        |  ETA: 0:00:21\u001b[39m\u001b[K"
     ]
    },
    {
     "name": "stderr",
     "output_type": "stream",
     "text": [
      "\r\u001b[32mProgress:  45%|██████████████████▋                      |  ETA: 0:00:19\u001b[39m\u001b[K"
     ]
    },
    {
     "name": "stderr",
     "output_type": "stream",
     "text": [
      "\r\u001b[32mProgress:  50%|████████████████████▌                    |  ETA: 0:00:17\u001b[39m\u001b[K"
     ]
    },
    {
     "name": "stderr",
     "output_type": "stream",
     "text": [
      "\r\u001b[32mProgress:  55%|██████████████████████▍                  |  ETA: 0:00:15\u001b[39m\u001b[K"
     ]
    },
    {
     "name": "stderr",
     "output_type": "stream",
     "text": [
      "\r\u001b[32mProgress:  59%|████████████████████████▎                |  ETA: 0:00:13\u001b[39m\u001b[K"
     ]
    },
    {
     "name": "stderr",
     "output_type": "stream",
     "text": [
      "\r\u001b[32mProgress:  64%|██████████████████████████▏              |  ETA: 0:00:11\u001b[39m\u001b[K"
     ]
    },
    {
     "name": "stderr",
     "output_type": "stream",
     "text": [
      "\r\u001b[32mProgress:  68%|████████████████████████████             |  ETA: 0:00:10\u001b[39m\u001b[K"
     ]
    },
    {
     "name": "stderr",
     "output_type": "stream",
     "text": [
      "\r\u001b[32mProgress:  73%|█████████████████████████████▉           |  ETA: 0:00:08\u001b[39m\u001b[K"
     ]
    },
    {
     "name": "stderr",
     "output_type": "stream",
     "text": [
      "\r\u001b[32mProgress:  77%|███████████████████████████████▋         |  ETA: 0:00:07\u001b[39m\u001b[K"
     ]
    },
    {
     "name": "stderr",
     "output_type": "stream",
     "text": [
      "\r\u001b[32mProgress:  82%|█████████████████████████████████▌       |  ETA: 0:00:05\u001b[39m\u001b[K"
     ]
    },
    {
     "name": "stderr",
     "output_type": "stream",
     "text": [
      "\r\u001b[32mProgress:  86%|███████████████████████████████████▍     |  ETA: 0:00:04\u001b[39m\u001b[K"
     ]
    },
    {
     "name": "stderr",
     "output_type": "stream",
     "text": [
      "\r\u001b[32mProgress:  91%|█████████████████████████████████████▎   |  ETA: 0:00:03\u001b[39m\u001b[K"
     ]
    },
    {
     "name": "stderr",
     "output_type": "stream",
     "text": [
      "\r\u001b[32mProgress:  95%|███████████████████████████████████████▏ |  ETA: 0:00:01\u001b[39m\u001b[K"
     ]
    },
    {
     "name": "stderr",
     "output_type": "stream",
     "text": [
      "\r\u001b[32mProgress: 100%|█████████████████████████████████████████| Time: 0:00:27\u001b[39m\u001b[K\n"
     ]
    },
    {
     "name": "stderr",
     "output_type": "stream",
     "text": [
      "\r\u001b[32mProgress:   9%|███▊                                     |  ETA: 0:00:20\u001b[39m\u001b[K"
     ]
    },
    {
     "name": "stderr",
     "output_type": "stream",
     "text": [
      "\r\u001b[32mProgress:  14%|█████▋                                   |  ETA: 0:00:19\u001b[39m\u001b[K"
     ]
    },
    {
     "name": "stderr",
     "output_type": "stream",
     "text": [
      "\r\u001b[32mProgress:  18%|███████▌                                 |  ETA: 0:00:18\u001b[39m\u001b[K"
     ]
    },
    {
     "name": "stderr",
     "output_type": "stream",
     "text": [
      "\r\u001b[32mProgress:  23%|█████████▍                               |  ETA: 0:00:17\u001b[39m\u001b[K"
     ]
    },
    {
     "name": "stderr",
     "output_type": "stream",
     "text": [
      "\r\u001b[32mProgress:  27%|███████████▏                             |  ETA: 0:00:16\u001b[39m\u001b[K"
     ]
    },
    {
     "name": "stderr",
     "output_type": "stream",
     "text": [
      "\r\u001b[32mProgress:  32%|█████████████                            |  ETA: 0:00:15\u001b[39m\u001b[K"
     ]
    },
    {
     "name": "stderr",
     "output_type": "stream",
     "text": [
      "\r\u001b[32mProgress:  36%|██████████████▉                          |  ETA: 0:00:14\u001b[39m\u001b[K"
     ]
    },
    {
     "name": "stderr",
     "output_type": "stream",
     "text": [
      "\r\u001b[32mProgress:  41%|████████████████▊                        |  ETA: 0:00:13\u001b[39m\u001b[K"
     ]
    },
    {
     "name": "stderr",
     "output_type": "stream",
     "text": [
      "\r\u001b[32mProgress:  45%|██████████████████▋                      |  ETA: 0:00:12\u001b[39m\u001b[K"
     ]
    },
    {
     "name": "stderr",
     "output_type": "stream",
     "text": [
      "\r\u001b[32mProgress:  50%|████████████████████▌                    |  ETA: 0:00:11\u001b[39m\u001b[K"
     ]
    },
    {
     "name": "stderr",
     "output_type": "stream",
     "text": [
      "\r\u001b[32mProgress:  55%|██████████████████████▍                  |  ETA: 0:00:10\u001b[39m\u001b[K"
     ]
    },
    {
     "name": "stderr",
     "output_type": "stream",
     "text": [
      "\r\u001b[32mProgress:  59%|████████████████████████▎                |  ETA: 0:00:09\u001b[39m\u001b[K"
     ]
    },
    {
     "name": "stderr",
     "output_type": "stream",
     "text": [
      "\r\u001b[32mProgress:  64%|██████████████████████████▏              |  ETA: 0:00:08\u001b[39m\u001b[K"
     ]
    },
    {
     "name": "stderr",
     "output_type": "stream",
     "text": [
      "\r\u001b[32mProgress:  68%|████████████████████████████             |  ETA: 0:00:07\u001b[39m\u001b[K"
     ]
    },
    {
     "name": "stderr",
     "output_type": "stream",
     "text": [
      "\r\u001b[32mProgress:  73%|█████████████████████████████▉           |  ETA: 0:00:06\u001b[39m\u001b[K"
     ]
    },
    {
     "name": "stderr",
     "output_type": "stream",
     "text": [
      "\r\u001b[32mProgress:  77%|███████████████████████████████▋         |  ETA: 0:00:05\u001b[39m\u001b[K"
     ]
    },
    {
     "name": "stderr",
     "output_type": "stream",
     "text": [
      "\r\u001b[32mProgress:  82%|█████████████████████████████████▌       |  ETA: 0:00:04\u001b[39m\u001b[K"
     ]
    },
    {
     "name": "stderr",
     "output_type": "stream",
     "text": [
      "\r\u001b[32mProgress:  86%|███████████████████████████████████▍     |  ETA: 0:00:03\u001b[39m\u001b[K"
     ]
    },
    {
     "name": "stderr",
     "output_type": "stream",
     "text": [
      "\r\u001b[32mProgress:  91%|█████████████████████████████████████▎   |  ETA: 0:00:02\u001b[39m\u001b[K"
     ]
    },
    {
     "name": "stderr",
     "output_type": "stream",
     "text": [
      "\r\u001b[32mProgress:  95%|███████████████████████████████████████▏ |  ETA: 0:00:01\u001b[39m\u001b[K"
     ]
    },
    {
     "name": "stderr",
     "output_type": "stream",
     "text": [
      "\r\u001b[32mProgress: 100%|█████████████████████████████████████████| Time: 0:00:22\u001b[39m\u001b[K\n"
     ]
    },
    {
     "name": "stderr",
     "output_type": "stream",
     "text": [
      "\r\u001b[32mProgress:   9%|███▊                                     |  ETA: 0:00:20\u001b[39m\u001b[K"
     ]
    },
    {
     "name": "stderr",
     "output_type": "stream",
     "text": [
      "\r\u001b[32mProgress:  14%|█████▋                                   |  ETA: 0:00:19\u001b[39m\u001b[K"
     ]
    },
    {
     "name": "stderr",
     "output_type": "stream",
     "text": [
      "\r\u001b[32mProgress:  18%|███████▌                                 |  ETA: 0:00:18\u001b[39m\u001b[K"
     ]
    },
    {
     "name": "stderr",
     "output_type": "stream",
     "text": [
      "\r\u001b[32mProgress:  23%|█████████▍                               |  ETA: 0:00:17\u001b[39m\u001b[K"
     ]
    },
    {
     "name": "stderr",
     "output_type": "stream",
     "text": [
      "\r\u001b[32mProgress:  27%|███████████▏                             |  ETA: 0:00:16\u001b[39m\u001b[K"
     ]
    },
    {
     "name": "stderr",
     "output_type": "stream",
     "text": [
      "\r\u001b[32mProgress:  32%|█████████████                            |  ETA: 0:00:15\u001b[39m\u001b[K"
     ]
    },
    {
     "name": "stderr",
     "output_type": "stream",
     "text": [
      "\r\u001b[32mProgress:  36%|██████████████▉                          |  ETA: 0:00:14\u001b[39m\u001b[K"
     ]
    },
    {
     "name": "stderr",
     "output_type": "stream",
     "text": [
      "\r\u001b[32mProgress:  41%|████████████████▊                        |  ETA: 0:00:13\u001b[39m\u001b[K"
     ]
    },
    {
     "name": "stderr",
     "output_type": "stream",
     "text": [
      "\r\u001b[32mProgress:  45%|██████████████████▋                      |  ETA: 0:00:12\u001b[39m\u001b[K"
     ]
    },
    {
     "name": "stderr",
     "output_type": "stream",
     "text": [
      "\r\u001b[32mProgress:  50%|████████████████████▌                    |  ETA: 0:00:11\u001b[39m\u001b[K"
     ]
    },
    {
     "name": "stderr",
     "output_type": "stream",
     "text": [
      "\r\u001b[32mProgress:  55%|██████████████████████▍                  |  ETA: 0:00:10\u001b[39m\u001b[K"
     ]
    },
    {
     "name": "stderr",
     "output_type": "stream",
     "text": [
      "\r\u001b[32mProgress:  59%|████████████████████████▎                |  ETA: 0:00:09\u001b[39m\u001b[K"
     ]
    },
    {
     "name": "stderr",
     "output_type": "stream",
     "text": [
      "\r\u001b[32mProgress:  64%|██████████████████████████▏              |  ETA: 0:00:08\u001b[39m\u001b[K"
     ]
    },
    {
     "name": "stderr",
     "output_type": "stream",
     "text": [
      "\r\u001b[32mProgress:  68%|████████████████████████████             |  ETA: 0:00:07\u001b[39m\u001b[K"
     ]
    },
    {
     "name": "stderr",
     "output_type": "stream",
     "text": [
      "\r\u001b[32mProgress:  73%|█████████████████████████████▉           |  ETA: 0:00:06\u001b[39m\u001b[K"
     ]
    },
    {
     "name": "stderr",
     "output_type": "stream",
     "text": [
      "\r\u001b[32mProgress:  77%|███████████████████████████████▋         |  ETA: 0:00:05\u001b[39m\u001b[K"
     ]
    },
    {
     "name": "stderr",
     "output_type": "stream",
     "text": [
      "\r\u001b[32mProgress:  82%|█████████████████████████████████▌       |  ETA: 0:00:04\u001b[39m\u001b[K"
     ]
    },
    {
     "name": "stderr",
     "output_type": "stream",
     "text": [
      "\r\u001b[32mProgress:  86%|███████████████████████████████████▍     |  ETA: 0:00:03\u001b[39m\u001b[K"
     ]
    },
    {
     "name": "stderr",
     "output_type": "stream",
     "text": [
      "\r\u001b[32mProgress:  91%|█████████████████████████████████████▎   |  ETA: 0:00:02\u001b[39m\u001b[K"
     ]
    },
    {
     "name": "stderr",
     "output_type": "stream",
     "text": [
      "\r\u001b[32mProgress:  95%|███████████████████████████████████████▏ |  ETA: 0:00:01\u001b[39m\u001b[K"
     ]
    },
    {
     "name": "stderr",
     "output_type": "stream",
     "text": [
      "\r\u001b[32mProgress: 100%|█████████████████████████████████████████| Time: 0:00:22\u001b[39m\u001b[K\n"
     ]
    }
   ],
   "source": [
    "data = TexasData.load_data_tx(\n",
    "    date_range,\n",
    "    los_dist, pct_beds_available,\n",
    "    focus_locations, locations_limit,\n",
    "    use_rounding=true,\n",
    ");"
   ]
  },
  {
   "cell_type": "code",
   "execution_count": 15,
   "metadata": {},
   "outputs": [],
   "source": [
    "saves_path = \"$(shared_config.results_basepath)/$(shared_config.region_abbrev)/$(shared_config.rundate)/saves/\"\n",
    "if !isdir(saves_path) mkpath(saves_path) end;"
   ]
  },
  {
   "cell_type": "code",
   "execution_count": 16,
   "metadata": {},
   "outputs": [],
   "source": [
    "serialize(joinpath(saves_path, \"data.jldata\"), data);"
   ]
  },
  {
   "cell_type": "markdown",
   "metadata": {},
   "source": [
    "## Helper Functions"
   ]
  },
  {
   "cell_type": "code",
   "execution_count": 17,
   "metadata": {},
   "outputs": [],
   "source": [
    "function save_results(experiment_name, _sent)\n",
    "    serialize(joinpath(saves_path, \"sent_$(experiment_name).jldata\"), _sent)\n",
    "    return\n",
    "end;"
   ]
  },
  {
   "cell_type": "code",
   "execution_count": 18,
   "metadata": {},
   "outputs": [],
   "source": [
    "function print_solve_metrics(_model)\n",
    "    println(\"termination status:       \", termination_status(_model))\n",
    "    println(\"solve time:               \", round(solve_time(_model), digits=3), \"s\")\n",
    "    println(\"objective function value: \", round(objective_value(_model), digits=3))\n",
    "    return\n",
    "end;"
   ]
  },
  {
   "cell_type": "code",
   "execution_count": 19,
   "metadata": {},
   "outputs": [],
   "source": [
    "function make_data_figures(_data)\n",
    "    _config = merge(shared_config, (experiment = \"data\",))\n",
    "    _sent = zeros(Int, _data.N, _data.N, _data.T)\n",
    "    _results = PatientAllocationFigures.compute_results(_config, _data, _sent, use_rounding=true)\n",
    "    \n",
    "    PatientAllocationFigures.plot_active_total(_config, _data, _results, display=false)\n",
    "    \n",
    "    return\n",
    "end;"
   ]
  },
  {
   "cell_type": "code",
   "execution_count": 20,
   "metadata": {},
   "outputs": [],
   "source": [
    "function make_all_figures_base(experiment_name, _data, _sent)\n",
    "    _config = merge(shared_config, (experiment = experiment_name,))\n",
    "    \n",
    "    _results = PatientAllocationFigures.compute_results(_config, _data, _sent, use_rounding=true)\n",
    "\n",
    "    PatientAllocationFigures.plot_metrics(_config, _data, _results, display=false)\n",
    "\n",
    "    PatientAllocationFigures.plot_estimates_total(_config, _data, display=false)\n",
    "\n",
    "    PatientAllocationFigures.plot_overflow_distribution(_config, _data, _results, display=false)\n",
    "    PatientAllocationFigures.plot_load_distribution(_config, _data, _results, display=false)\n",
    "    PatientAllocationFigures.plot_maxload_distribution(_config, _data, _results, display=false)\n",
    "\n",
    "    PatientAllocationFigures.plot_sent_total(_config, _data, _results, display=false)\n",
    "    PatientAllocationFigures.plot_transfers(_config, _data, _results, display=false)\n",
    "    PatientAllocationFigures.plot_transfers(_config, _data, _results, display=false, subset=_data.focus_locations)\n",
    "\n",
    "    PatientAllocationFigures.plot_load(_config, _data, _results, display=false)\n",
    "    PatientAllocationFigures.plot_load(_config, _data, _results, display=false, subset=_data.focus_locations)\n",
    "\n",
    "    PatientAllocationFigures.plot_active(_config, _data, _results, display=false)\n",
    "    PatientAllocationFigures.plot_active(_config, _data, _results, display=false, subset=_data.focus_locations)\n",
    "    \n",
    "    PatientAllocationFigures.plot_figures_list(_config)\n",
    "    \n",
    "    return _results\n",
    "end;"
   ]
  },
  {
   "cell_type": "code",
   "execution_count": 21,
   "metadata": {},
   "outputs": [],
   "source": [
    "function make_all_figures_block(experiment_name, _data, _sent)\n",
    "    _config = merge(shared_config, (experiment = experiment_name,))\n",
    "    \n",
    "    _results = PatientAllocationFigures.compute_results_block(_config, _data, _sent, use_rounding=true);\n",
    "\n",
    "    PatientAllocationFigures.plot_active_total(_config, _data.icu, _results.icu, bedtype=:icu, display=false);\n",
    "    PatientAllocationFigures.plot_active_total(_config, _data.ward, _results.ward, bedtype=:ward, display=false);\n",
    "\n",
    "    PatientAllocationFigures.plot_metrics(_config, _data.icu, _results.icu, bedtype=:icu, display=false);\n",
    "    PatientAllocationFigures.plot_metrics(_config, _data.ward, _results.ward, bedtype=:ward, display=false);\n",
    "\n",
    "    PatientAllocationFigures.plot_estimates_total(_config, _data.icu, bedtype=:icu, display=false);\n",
    "    PatientAllocationFigures.plot_estimates_total(_config, _data.ward, bedtype=:ward, display=false);\n",
    "\n",
    "    PatientAllocationFigures.plot_overflow_distribution(_config, _data.icu, _results.icu, bedtype=:icu, display=false);\n",
    "    PatientAllocationFigures.plot_load_distribution(_config, _data.icu, _results.icu, bedtype=:icu, display=false);\n",
    "    PatientAllocationFigures.plot_maxload_distribution(_config, _data.icu, _results.icu, bedtype=:icu, display=false);\n",
    "\n",
    "    PatientAllocationFigures.plot_overflow_distribution(_config, _data.ward, _results.ward, bedtype=:ward, display=false);\n",
    "    PatientAllocationFigures.plot_load_distribution(_config, _data.ward, _results.ward, bedtype=:ward, display=false);\n",
    "    PatientAllocationFigures.plot_maxload_distribution(_config, _data.ward, _results.ward, bedtype=:ward, display=false);\n",
    "\n",
    "    PatientAllocationFigures.plot_sent_total(_config, _data.icu, _results.icu, bedtype=:icu, display=false);\n",
    "    PatientAllocationFigures.plot_transfers(_config, _data.icu, _results.icu, bedtype=:icu, display=false);\n",
    "    PatientAllocationFigures.plot_transfers(_config, _data.icu, _results.icu, bedtype=:icu, display=false, subset=_data.focus_locations);\n",
    "\n",
    "    PatientAllocationFigures.plot_sent_total(_config, _data.ward, _results.ward, bedtype=:ward, display=false);\n",
    "    PatientAllocationFigures.plot_transfers(_config, _data.ward, _results.ward, bedtype=:ward, display=false);\n",
    "    PatientAllocationFigures.plot_transfers(_config, _data.ward, _results.ward, bedtype=:ward, display=false, subset=_data.focus_locations);\n",
    "\n",
    "    PatientAllocationFigures.plot_load(_config, _data.icu, _results.icu, bedtype=:icu, display=false);\n",
    "    PatientAllocationFigures.plot_load(_config, _data.icu, _results.icu, bedtype=:icu, display=false, subset=_data.focus_locations);\n",
    "\n",
    "    PatientAllocationFigures.plot_load(_config, _data.ward, _results.ward, bedtype=:ward, display=false);\n",
    "    PatientAllocationFigures.plot_load(_config, _data.ward, _results.ward, bedtype=:ward, display=false, subset=_data.focus_locations);\n",
    "\n",
    "    PatientAllocationFigures.plot_active(_config, _data.icu, _results.icu, add_title=true, bedtype=:icu, display=false);\n",
    "    PatientAllocationFigures.plot_active(_config, _data.icu, _results.icu, add_title=true, bedtype=:icu, display=false, subset=_data.focus_locations);\n",
    "\n",
    "    PatientAllocationFigures.plot_active(_config, _data.ward, _results.ward, add_title=true, bedtype=:ward, display=false);\n",
    "    PatientAllocationFigures.plot_active(_config, _data.ward, _results.ward, add_title=true, bedtype=:ward, display=false, subset=_data.focus_locations);\n",
    "\n",
    "    return _results\n",
    "end;"
   ]
  },
  {
   "cell_type": "code",
   "execution_count": 22,
   "metadata": {},
   "outputs": [],
   "source": [
    "function make_all_figures_robust(experiment_name, _data, _sent, _sent_base)\n",
    "    _config = merge(shared_config, (experiment = experiment_name,))\n",
    "    \n",
    "    _results = PatientAllocationFigures.compute_results(_config, _data, _sent, use_rounding=true)\n",
    "    _results = merge(_results, (sent_robust = _sent, sent_nonrobust = _sent_base));\n",
    "    \n",
    "    PatientAllocationFigures.plot_active_robust(_config, _data, _results, display=false)\n",
    "    PatientAllocationFigures.plot_active_robust(_config, _data, _results, display=false, subset=_data.focus_locations)\n",
    "\n",
    "    PatientAllocationFigures.plot_active_samples_notransfers(_config, _data, _results, display=false)\n",
    "    PatientAllocationFigures.plot_active_samples_notransfers(_config, _data, _results, display=false, subset=_data.focus_locations)\n",
    "\n",
    "    PatientAllocationFigures.plot_robust_overflow_distribution(_config, _data, _results, debug=false, display=false)\n",
    "    \n",
    "    PatientAllocationFigures.plot_figures_list(_config)\n",
    "\n",
    "    return _results\n",
    "end;"
   ]
  },
  {
   "cell_type": "markdown",
   "metadata": {},
   "source": [
    "## No Transfers Model"
   ]
  },
  {
   "cell_type": "code",
   "execution_count": 23,
   "metadata": {},
   "outputs": [
    {
     "ename": "UndefVarError",
     "evalue": "UndefVarError: `PatientAllocationFigures` not defined",
     "output_type": "error",
     "traceback": [
      "UndefVarError: `PatientAllocationFigures` not defined\n",
      "\n",
      "Stacktrace:\n",
      " [1] make_data_figures(_data::@NamedTuple{date_range::Vector{Date}, start_date::Date, end_date::Date, T::Int64, locations::Vector{String}, tsa_ids::Vector{InlineStrings.String1}, N::Int64, focus_locations::Vector{String}, adj::BitMatrix, active::Matrix{Int64}, initial::Vector{Int64}, capacity::Matrix{Int64}, los_dist::Weibull{Float64}, pct_beds_available::Float64, admitted::Matrix{Int64}, discharged::Matrix{Int64}, beds::Vector{Int64}, admitted_uncertainty::Matrix{Float64}})\n",
      "   @ Main ~/Desktop/Healthcare-Resources-Optimization-main/tx/allmodels.ipynb:4\n",
      " [2] top-level scope\n",
      "   @ ~/Desktop/Healthcare-Resources-Optimization-main/tx/allmodels.ipynb:1"
     ]
    }
   ],
   "source": [
    "make_data_figures(data.icu);"
   ]
  },
  {
   "cell_type": "code",
   "execution_count": 19,
   "metadata": {},
   "outputs": [],
   "source": [
    "sent_null = zeros(Float64, data.N, data.N, data.T);"
   ]
  },
  {
   "cell_type": "code",
   "execution_count": 20,
   "metadata": {},
   "outputs": [],
   "source": [
    "results_null = make_all_figures_base(\"no_transfers\", data.icu, sent_null);"
   ]
  },
  {
   "cell_type": "markdown",
   "metadata": {},
   "source": [
    "## Base Model"
   ]
  },
  {
   "cell_type": "code",
   "execution_count": 25,
   "metadata": {},
   "outputs": [
    {
     "ename": "MethodError",
     "evalue": "MethodError: no method matching patient_redistribution(::Vector{Int64}, ::Vector{Int64}, ::Matrix{Int64}, ::Matrix{Int64}, ::BitMatrix; los::Weibull{Float64}, verbose::Bool)\n\nClosest candidates are:\n  patient_redistribution(::Array{<:Real}, ::Vector{<:Real}, ::Matrix{<:Real}, ::Matrix{<:Real}, ::BitMatrix, !Matched::Union{Int64, Distribution, Vector{<:Real}}; capacity_cushion, capacity_weights, no_artificial_overflow, no_worse_overflow, sent_penalty, smoothness_penalty, sendreceive_gap, min_send_amt, balancing_thresh, balancing_penalty, severity_weighting, setup_cost, verbose) got unsupported keyword argument \"los\"\n   @ Main.PatientAllocation ~/Desktop/Healthcare-Resources-Optimization-main/models/PatientAllocation.jl:17\n",
     "output_type": "error",
     "traceback": [
      "MethodError: no method matching patient_redistribution(::Vector{Int64}, ::Vector{Int64}, ::Matrix{Int64}, ::Matrix{Int64}, ::BitMatrix; los::Weibull{Float64}, verbose::Bool)\n",
      "\n",
      "Closest candidates are:\n",
      "  patient_redistribution(::Array{<:Real}, ::Vector{<:Real}, ::Matrix{<:Real}, ::Matrix{<:Real}, ::BitMatrix, !Matched::Union{Int64, Distribution, Vector{<:Real}}; capacity_cushion, capacity_weights, no_artificial_overflow, no_worse_overflow, sent_penalty, smoothness_penalty, sendreceive_gap, min_send_amt, balancing_thresh, balancing_penalty, severity_weighting, setup_cost, verbose) got unsupported keyword argument \"los\"\n",
      "   @ Main.PatientAllocation ~/Desktop/Healthcare-Resources-Optimization-main/models/PatientAllocation.jl:17\n",
      "\n",
      "\n",
      "Stacktrace:\n",
      " [1] top-level scope\n",
      "   @ ~/Desktop/Healthcare-Resources-Optimization-main/tx/allmodels.ipynb:1"
     ]
    }
   ],
   "source": [
    "model_base = PatientAllocation.patient_allocation(\n",
    "    data.icu.beds,\n",
    "    data.icu.initial,\n",
    "    data.icu.discharged,\n",
    "    data.icu.admitted,\n",
    "    data.icu.adj,\n",
    "    los=data.icu.los_dist,\n",
    "    verbose=false,\n",
    ")\n",
    "sent_base = value.(model_base[:sent])\n",
    "save_results(\"base\", sent_base)\n",
    "print_solve_metrics(model_base)"
   ]
  },
  {
   "cell_type": "code",
   "execution_count": 22,
   "metadata": {},
   "outputs": [],
   "source": [
    "results_base = make_all_figures_base(\"base\", data.icu, sent_base);"
   ]
  },
  {
   "cell_type": "markdown",
   "metadata": {},
   "source": [
    "## Operational Model"
   ]
  },
  {
   "cell_type": "code",
   "execution_count": 23,
   "metadata": {},
   "outputs": [
    {
     "name": "stdout",
     "output_type": "stream",
     "text": [
      "Academic license - for non-commercial use only\n",
      "Academic license - for non-commercial use only\n",
      "termination status:       OPTIMAL\n",
      "solve time:               16.248s\n",
      "objective function value: 22.902\n"
     ]
    }
   ],
   "source": [
    "model_operational = PatientAllocation.patient_allocation(\n",
    "    data.icu.beds,\n",
    "    data.icu.initial,\n",
    "    data.icu.discharged,\n",
    "    data.icu.admitted,\n",
    "    data.icu.adj,\n",
    "    los=data.icu.los_dist,\n",
    "    \n",
    "    smoothness_penalty = 0.01,\n",
    "    sent_penalty = 0.01,\n",
    "    no_artificial_overflow = true,\n",
    "    no_worse_overflow = true,\n",
    "    capacity_cushion = 0.05,\n",
    "    \n",
    "    verbose=false,\n",
    ")\n",
    "sent_operational = value.(model_operational[:sent])\n",
    "save_results(\"operational\", sent_operational)\n",
    "print_solve_metrics(model_operational)"
   ]
  },
  {
   "cell_type": "code",
   "execution_count": 24,
   "metadata": {},
   "outputs": [],
   "source": [
    "results_operational = make_all_figures_base(\"operational\", data.icu, sent_operational);"
   ]
  },
  {
   "cell_type": "markdown",
   "metadata": {},
   "source": [
    "## Robust Model"
   ]
  },
  {
   "cell_type": "code",
   "execution_count": 25,
   "metadata": {},
   "outputs": [
    {
     "name": "stdout",
     "output_type": "stream",
     "text": [
      "Academic license - for non-commercial use only\n",
      "Academic license - for non-commercial use only\n",
      "termination status:       OPTIMAL\n",
      "solve time:               1.262s\n",
      "objective function value: 4.198\n"
     ]
    }
   ],
   "source": [
    "model_robust = PatientAllocation.patient_allocation_robust(\n",
    "    data.icu.beds,\n",
    "    data.icu.initial,\n",
    "    data.icu.discharged,\n",
    "    data.icu.admitted,\n",
    "    data.icu.admitted_uncertainty,\n",
    "    data.icu.adj,\n",
    "    los=data.icu.los_dist,\n",
    "    \n",
    "    Γ = 7,\n",
    "\n",
    "    verbose=false,\n",
    ")\n",
    "sent_robust = value.(model_robust[:sent])\n",
    "save_results(\"robust_base\", sent_robust)\n",
    "print_solve_metrics(model_robust)"
   ]
  },
  {
   "cell_type": "code",
   "execution_count": 26,
   "metadata": {},
   "outputs": [
    {
     "name": "stderr",
     "output_type": "stream",
     "text": [
      "\u001b[32mProgress: 100%|█████████████████████████████████████████| Time: 0:00:13\u001b[39m\n"
     ]
    }
   ],
   "source": [
    "make_all_figures_base(\"robust_base\", data.icu, sent_robust);\n",
    "results_robust = make_all_figures_robust(\"robust_base\", data.icu, sent_robust, sent_base);"
   ]
  },
  {
   "cell_type": "markdown",
   "metadata": {},
   "source": [
    "## Robust+Operational Model"
   ]
  },
  {
   "cell_type": "code",
   "execution_count": 27,
   "metadata": {},
   "outputs": [
    {
     "name": "stdout",
     "output_type": "stream",
     "text": [
      "Academic license - for non-commercial use only\n",
      "Academic license - for non-commercial use only\n",
      "termination status:       OPTIMAL\n",
      "solve time:               27.121s\n",
      "objective function value: 36.796\n"
     ]
    }
   ],
   "source": [
    "model_robust_operational = PatientAllocation.patient_allocation_robust(\n",
    "    data.icu.beds,\n",
    "    data.icu.initial,\n",
    "    data.icu.discharged,\n",
    "    data.icu.admitted,\n",
    "    data.icu.admitted_uncertainty,\n",
    "    data.icu.adj,\n",
    "    los=data.icu.los_dist,\n",
    "    \n",
    "    Γ = 7,\n",
    "    \n",
    "    smoothness_penalty = 0.01,\n",
    "    sent_penalty = 0.01,\n",
    "    no_artificial_overflow = true,\n",
    "    no_worse_overflow = true,\n",
    "    capacity_cushion = 0.05,\n",
    "    \n",
    "    verbose=false,\n",
    ")\n",
    "sent_robust_operational = value.(model_robust_operational[:sent])\n",
    "save_results(\"robust_operational\", sent_robust_operational)\n",
    "print_solve_metrics(model_robust_operational)"
   ]
  },
  {
   "cell_type": "code",
   "execution_count": 28,
   "metadata": {},
   "outputs": [
    {
     "name": "stderr",
     "output_type": "stream",
     "text": [
      "\u001b[32mProgress: 100%|█████████████████████████████████████████| Time: 0:00:12\u001b[39m\n"
     ]
    }
   ],
   "source": [
    "make_all_figures_base(\"robust_operational\", data.icu, sent_robust_operational);\n",
    "results_robust_operational = make_all_figures_robust(\"robust_operational\", data.icu, sent_robust_operational, sent_operational);"
   ]
  },
  {
   "cell_type": "markdown",
   "metadata": {},
   "source": [
    "## Block Model"
   ]
  },
  {
   "cell_type": "code",
   "execution_count": 29,
   "metadata": {},
   "outputs": [
    {
     "name": "stdout",
     "output_type": "stream",
     "text": [
      "Academic license - for non-commercial use only\n",
      "Academic license - for non-commercial use only\n",
      "termination status:       OPTIMAL\n",
      "solve time:               7.165s\n",
      "objective function value: 0.0\n"
     ]
    }
   ],
   "source": [
    "model_block = PatientAllocation.patient_block_allocation(\n",
    "    data.carepaths.beds,\n",
    "    data.carepaths.initial,\n",
    "    data.carepaths.discharged,\n",
    "    data.carepaths.admitted,\n",
    "    data.carepaths.los_bygroup,\n",
    "    data.carepaths.adj,\n",
    "    data.carepaths.group_transfer_graph,\n",
    "    data.carepaths.bedtype_bygroup,\n",
    "    verbose=false,\n",
    ")\n",
    "sent_block = value.(model_block[:sent])\n",
    "save_results(\"block_base\", sent_block)\n",
    "print_solve_metrics(model_block)"
   ]
  },
  {
   "cell_type": "code",
   "execution_count": 30,
   "metadata": {},
   "outputs": [],
   "source": [
    "results_block = make_all_figures_block(\"block_base\", data.carepaths, sent_block);"
   ]
  },
  {
   "cell_type": "markdown",
   "metadata": {},
   "source": [
    "## Block+Operational Model"
   ]
  },
  {
   "cell_type": "code",
   "execution_count": 31,
   "metadata": {},
   "outputs": [
    {
     "name": "stdout",
     "output_type": "stream",
     "text": [
      "Academic license - for non-commercial use only\n",
      "Academic license - for non-commercial use only\n",
      "termination status:       OPTIMAL\n",
      "solve time:               173.897s\n",
      "objective function value: 42.038\n"
     ]
    }
   ],
   "source": [
    "model_block_operational = PatientAllocation.patient_block_allocation(\n",
    "    data.carepaths.beds,\n",
    "    data.carepaths.initial,\n",
    "    data.carepaths.discharged,\n",
    "    data.carepaths.admitted,\n",
    "    data.carepaths.los_bygroup,\n",
    "    data.carepaths.adj,\n",
    "    data.carepaths.group_transfer_graph,\n",
    "    data.carepaths.bedtype_bygroup,\n",
    "    \n",
    "    smoothness_penalty = 0.01,\n",
    "    sent_penalty = 0.01,\n",
    "    no_artificial_overflow = true,\n",
    "    no_worse_overflow = true,\n",
    "    capacity_cushion = 0.05,\n",
    "    \n",
    "    verbose=false,\n",
    ")\n",
    "sent_block_operational = value.(model_block_operational[:sent])\n",
    "save_results(\"block_operational\", sent_block_operational)\n",
    "print_solve_metrics(model_block_operational)"
   ]
  },
  {
   "cell_type": "code",
   "execution_count": 32,
   "metadata": {},
   "outputs": [],
   "source": [
    "results_block_operational = make_all_figures_block(\"block_operational\", data.carepaths, sent_block_operational);"
   ]
  },
  {
   "cell_type": "markdown",
   "metadata": {},
   "source": [
    "## Compare Models"
   ]
  },
  {
   "cell_type": "code",
   "execution_count": 33,
   "metadata": {},
   "outputs": [],
   "source": [
    "PatientAllocationFigures.plot_metrics_compare(shared_config, data.icu, [\n",
    "    \"no_transfer\" => results_null,\n",
    "    \"base\" => results_base,\n",
    "    \"operational\" => results_operational,\n",
    "    \"robust_base\" => results_robust,\n",
    "    \"robust_operational\" => results_robust_operational,\n",
    "], display_table=false)"
   ]
  },
  {
   "cell_type": "code",
   "execution_count": null,
   "metadata": {},
   "outputs": [],
   "source": []
  }
 ],
 "metadata": {
  "kernelspec": {
   "display_name": "Julia 1.10.2",
   "language": "julia",
   "name": "julia-1.10"
  },
  "language_info": {
   "file_extension": ".jl",
   "mimetype": "application/julia",
   "name": "julia",
   "version": "1.10.2"
  }
 },
 "nbformat": 4,
 "nbformat_minor": 4
}
