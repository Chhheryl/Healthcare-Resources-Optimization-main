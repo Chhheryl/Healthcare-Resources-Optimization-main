{
 "cells": [
  {
   "cell_type": "code",
   "execution_count": 1,
   "metadata": {},
   "outputs": [],
   "source": [
    "using Dates\n",
    "using JuMP\n",
    "using CSV\n",
    "using DataFrames\n",
    "using LinearAlgebra\n",
    "using Pkg\n",
    "using IJulia\n"
   ]
  },
  {
   "cell_type": "code",
   "execution_count": 2,
   "metadata": {},
   "outputs": [],
   "source": [
    "ENV[\"COLUMNS\"] = 200;"
   ]
  },
  {
   "cell_type": "code",
   "execution_count": 3,
   "metadata": {},
   "outputs": [],
   "source": [
    "# Assuming your Julia file is named \"COVIDResourceAllocation.jl\"\n",
    "include(\"COVIDResourceAllocation.jl\")\n",
    "using .COVIDResourceAllocation\n"
   ]
  },
  {
   "cell_type": "code",
   "execution_count": 4,
   "metadata": {},
   "outputs": [],
   "source": [
    "states = [\"CT\", \"DE\", \"MA\", \"MD\", \"ME\", \"NH\", \"NJ\", \"NY\", \"PA\", \"RI\", \"VT\"]\n",
    "start_date = Date(2020, 4, 1)\n",
    "end_date   = Date(2020, 5, 1)\n",
    "travel_threshold_hours = 4.0;"
   ]
  },
  {
   "cell_type": "code",
   "execution_count": 5,
   "metadata": {},
   "outputs": [
    {
     "name": "stdout",
     "output_type": "stream",
     "text": [
      "nurse_hrs_per_day_covid = nurse_hrs_per_week_covid / 7 = 5.142857142857143\n",
      "nurses_days_per_day_covid = 24 / nurse_hrs_per_day_covid = 4.666666666666666\n",
      "nurse_days_per_patient_day_covid = nurses_days_per_day_covid / patients_per_nurse_covid = 1.8666666666666665\n"
     ]
    }
   ],
   "source": [
    "pct_nurses_available = 0.5\n",
    "patients_per_nurse_covid = 2.5\n",
    "nurse_hrs_per_week_covid = 36\n",
    "\n",
    "@show nurse_hrs_per_day_covid = nurse_hrs_per_week_covid / 7\n",
    "@show nurses_days_per_day_covid = 24 / nurse_hrs_per_day_covid\n",
    "\n",
    "@show nurse_days_per_patient_day_covid = nurses_days_per_day_covid / patients_per_nurse_covid;"
   ]
  },
  {
   "cell_type": "code",
   "execution_count": 6,
   "metadata": {},
   "outputs": [],
   "source": [
    "adj = adjacencies(states, level=:state, source=:google, threshold=travel_threshold_hours);"
   ]
  },
  {
   "cell_type": "code",
   "execution_count": 7,
   "metadata": {},
   "outputs": [],
   "source": [
    "forecast_active = forecast(\n",
    "    states, start_date, end_date,\n",
    "    level=:state,\n",
    "    source=:ihme,\n",
    "    forecast_type=:active,\n",
    "    patient_type=:regular,\n",
    "    bound_type=:mean,\n",
    ");"
   ]
  },
  {
   "cell_type": "code",
   "execution_count": 8,
   "metadata": {},
   "outputs": [],
   "source": [
    "demand = forecast_active * Float32(nurse_days_per_patient_day_covid);"
   ]
  },
  {
   "cell_type": "code",
   "execution_count": 9,
   "metadata": {},
   "outputs": [],
   "source": [
    "nurses = n_nurses(states) * Float32(pct_nurses_available);"
   ]
  },
  {
   "cell_type": "code",
   "execution_count": 10,
   "metadata": {},
   "outputs": [
    {
     "data": {
      "text/html": [
       "<div><div style = \"float: left;\"><span>11×4 DataFrame</span></div><div style = \"clear: both;\"></div></div><div class = \"data-frame\" style = \"overflow-x: scroll;\"><table class = \"data-frame\" style = \"margin-bottom: 6px;\"><thead><tr class = \"header\"><th class = \"rowNumber\" style = \"font-weight: bold; text-align: right;\">Row</th><th style = \"text-align: left;\">state</th><th style = \"text-align: left;\">from_beds</th><th style = \"text-align: left;\">from_empl</th><th style = \"text-align: left;\">from_ahrf</th></tr><tr class = \"subheader headerLastRow\"><th class = \"rowNumber\" style = \"font-weight: bold; text-align: right;\"></th><th title = \"String\" style = \"text-align: left;\">String</th><th title = \"Float32\" style = \"text-align: left;\">Float32</th><th title = \"Float32\" style = \"text-align: left;\">Float32</th><th title = \"Float32\" style = \"text-align: left;\">Float32</th></tr></thead><tbody><tr><td class = \"rowNumber\" style = \"font-weight: bold; text-align: right;\">1</td><td style = \"text-align: left;\">CT</td><td style = \"text-align: right;\">8221.27</td><td style = \"text-align: right;\">12120.0</td><td style = \"text-align: right;\">4593.0</td></tr><tr><td class = \"rowNumber\" style = \"font-weight: bold; text-align: right;\">2</td><td style = \"text-align: left;\">DE</td><td style = \"text-align: right;\">2257.27</td><td style = \"text-align: right;\">3234.06</td><td style = \"text-align: right;\">1322.0</td></tr><tr><td class = \"rowNumber\" style = \"font-weight: bold; text-align: right;\">3</td><td style = \"text-align: left;\">MA</td><td style = \"text-align: right;\">17563.5</td><td style = \"text-align: right;\">38220.5</td><td style = \"text-align: right;\">10146.0</td></tr><tr><td class = \"rowNumber\" style = \"font-weight: bold; text-align: right;\">4</td><td style = \"text-align: left;\">MD</td><td style = \"text-align: right;\">9598.4</td><td style = \"text-align: right;\">29581.0</td><td style = \"text-align: right;\">6169.0</td></tr><tr><td class = \"rowNumber\" style = \"font-weight: bold; text-align: right;\">5</td><td style = \"text-align: left;\">ME</td><td style = \"text-align: right;\">2877.47</td><td style = \"text-align: right;\">2346.56</td><td style = \"text-align: right;\">1962.0</td></tr><tr><td class = \"rowNumber\" style = \"font-weight: bold; text-align: right;\">6</td><td style = \"text-align: left;\">NH</td><td style = \"text-align: right;\">2567.13</td><td style = \"text-align: right;\">1484.33</td><td style = \"text-align: right;\">1934.0</td></tr><tr><td class = \"rowNumber\" style = \"font-weight: bold; text-align: right;\">7</td><td style = \"text-align: left;\">NJ</td><td style = \"text-align: right;\">19164.1</td><td style = \"text-align: right;\">71498.5</td><td style = \"text-align: right;\">6652.0</td></tr><tr><td class = \"rowNumber\" style = \"font-weight: bold; text-align: right;\">8</td><td style = \"text-align: left;\">NY</td><td style = \"text-align: right;\">44213.9</td><td style = \"text-align: right;\">83342.8</td><td style = \"text-align: right;\">19547.0</td></tr><tr><td class = \"rowNumber\" style = \"font-weight: bold; text-align: right;\">9</td><td style = \"text-align: left;\">PA</td><td style = \"text-align: right;\">34385.9</td><td style = \"text-align: right;\">65427.3</td><td style = \"text-align: right;\">14189.0</td></tr><tr><td class = \"rowNumber\" style = \"font-weight: bold; text-align: right;\">10</td><td style = \"text-align: left;\">RI</td><td style = \"text-align: right;\">3042.2</td><td style = \"text-align: right;\">10057.2</td><td style = \"text-align: right;\">1253.0</td></tr><tr><td class = \"rowNumber\" style = \"font-weight: bold; text-align: right;\">11</td><td style = \"text-align: left;\">VT</td><td style = \"text-align: right;\">1131.2</td><td style = \"text-align: right;\">1665.86</td><td style = \"text-align: right;\">691.0</td></tr></tbody></table></div>"
      ],
      "text/latex": [
       "\\begin{tabular}{r|cccc}\n",
       "\t& state & from\\_beds & from\\_empl & from\\_ahrf\\\\\n",
       "\t\\hline\n",
       "\t& String & Float32 & Float32 & Float32\\\\\n",
       "\t\\hline\n",
       "\t1 & CT & 8221.27 & 12120.0 & 4593.0 \\\\\n",
       "\t2 & DE & 2257.27 & 3234.06 & 1322.0 \\\\\n",
       "\t3 & MA & 17563.5 & 38220.5 & 10146.0 \\\\\n",
       "\t4 & MD & 9598.4 & 29581.0 & 6169.0 \\\\\n",
       "\t5 & ME & 2877.47 & 2346.56 & 1962.0 \\\\\n",
       "\t6 & NH & 2567.13 & 1484.33 & 1934.0 \\\\\n",
       "\t7 & NJ & 19164.1 & 71498.5 & 6652.0 \\\\\n",
       "\t8 & NY & 44213.9 & 83342.8 & 19547.0 \\\\\n",
       "\t9 & PA & 34385.9 & 65427.3 & 14189.0 \\\\\n",
       "\t10 & RI & 3042.2 & 10057.2 & 1253.0 \\\\\n",
       "\t11 & VT & 1131.2 & 1665.86 & 691.0 \\\\\n",
       "\\end{tabular}\n"
      ],
      "text/plain": [
       "\u001b[1m11×4 DataFrame\u001b[0m\n",
       "\u001b[1m Row \u001b[0m│\u001b[1m state  \u001b[0m\u001b[1m from_beds \u001b[0m\u001b[1m from_empl \u001b[0m\u001b[1m from_ahrf \u001b[0m\n",
       "     │\u001b[90m String \u001b[0m\u001b[90m Float32   \u001b[0m\u001b[90m Float32   \u001b[0m\u001b[90m Float32   \u001b[0m\n",
       "─────┼─────────────────────────────────────────\n",
       "   1 │ CT        8221.27   12120.0      4593.0\n",
       "   2 │ DE        2257.27    3234.06     1322.0\n",
       "   3 │ MA       17563.5    38220.5     10146.0\n",
       "   4 │ MD        9598.4    29581.0      6169.0\n",
       "   5 │ ME        2877.47    2346.56     1962.0\n",
       "   6 │ NH        2567.13    1484.33     1934.0\n",
       "   7 │ NJ       19164.1    71498.5      6652.0\n",
       "   8 │ NY       44213.9    83342.8     19547.0\n",
       "   9 │ PA       34385.9    65427.3     14189.0\n",
       "  10 │ RI        3042.2    10057.2      1253.0\n",
       "  11 │ VT        1131.2     1665.86      691.0"
      ]
     },
     "metadata": {},
     "output_type": "display_data"
    }
   ],
   "source": [
    "_nurses_beds = n_nurses(states, source=:beds);\n",
    "_nurses_empl = n_nurses(states, source=:employment);\n",
    "_nurses_ahrf = n_nurses(states, source=:ahrf);\n",
    "DataFrame(\n",
    "    state = states,\n",
    "    from_beds = _nurses_beds,\n",
    "    from_empl = _nurses_empl,\n",
    "    from_ahrf = _nurses_ahrf,\n",
    ")"
   ]
  },
  {
   "cell_type": "code",
   "execution_count": 11,
   "metadata": {},
   "outputs": [
    {
     "name": "stdout",
     "output_type": "stream",
     "text": [
      "Set parameter Username\n",
      "Academic license - for non-commercial use only - expires 2025-04-21\n",
      "Gurobi Optimizer version 11.0.1 build v11.0.1rc0 (mac64[x86] - Darwin 22.6.0 22G513)\n",
      "\n",
      "CPU model: Intel(R) Core(TM) i5-8257U CPU @ 1.40GHz\n",
      "Thread count: 4 physical cores, 8 logical processors, using up to 8 threads\n",
      "\n",
      "Optimize a model with 4492 rows, 4092 columns and 218023 nonzeros\n",
      "Model fingerprint: 0x0a2522c1\n",
      "Coefficient statistics:\n",
      "  Matrix range     [1e+00, 1e+00]\n",
      "  Objective range  [1e-02, 1e+00]\n",
      "  Bounds range     [0e+00, 0e+00]\n",
      "  RHS range        [4e+00, 2e+04]\n",
      "Presolve removed 3812 rows and 1893 columns\n",
      "Presolve time: 0.08s\n",
      "Presolved: 680 rows, 2199 columns, 119365 nonzeros\n",
      "\n",
      "Concurrent LP optimizer: dual simplex and barrier\n",
      "Showing barrier log only...\n",
      "\n",
      "Ordering time: 0.00s\n",
      "\n",
      "Barrier performed 0 iterations in 0.14 seconds (0.06 work units)\n",
      "Barrier solve interrupted - model solved by another algorithm\n",
      "\n",
      "\n",
      "Solved with dual simplex\n",
      "Iteration    Objective       Primal Inf.    Dual Inf.      Time\n",
      "     532    2.3346174e+05   0.000000e+00   0.000000e+00      0s\n",
      "\n",
      "Solved in 532 iterations and 0.17 seconds (0.07 work units)\n",
      "Optimal objective  2.334617414e+05\n",
      "\n",
      "User-callback calls 52, time in user-callback 0.01 sec\n",
      "termination status: OPTIMAL\n",
      "solve time: "
     ]
    },
    {
     "name": "stdout",
     "output_type": "stream",
     "text": [
      "0.169s\n",
      "objective function value: "
     ]
    },
    {
     "name": "stdout",
     "output_type": "stream",
     "text": [
      "233461.741\n"
     ]
    }
   ],
   "source": [
    "model = reusable_resource_allocation(\n",
    "    nurses,\n",
    "    zeros(Float32, size(demand)...),\n",
    "    demand,\n",
    "    adj,\n",
    "    send_new_only=false,\n",
    "    sendrecieve_switch_time=0,\n",
    "    min_send_amt=0,\n",
    "    smoothness_penalty=0,\n",
    "    setup_cost=0,\n",
    "    sent_penalty=0.01,\n",
    "    verbose=true\n",
    ")\n",
    "sent = value.(model[:sent])\n",
    "println(\"termination status: \", termination_status(model))\n",
    "println(\"solve time: \", round(solve_time(model), digits=3), \"s\")\n",
    "println(\"objective function value: \", round(objective_value(model), digits=3))"
   ]
  },
  {
   "cell_type": "code",
   "execution_count": 12,
   "metadata": {},
   "outputs": [],
   "source": [
    "results = NurseAllocationResults.results_all(sent, nurses, demand, states, start_date);"
   ]
  },
  {
   "cell_type": "code",
   "execution_count": 13,
   "metadata": {},
   "outputs": [
    {
     "name": "stdout",
     "output_type": "stream",
     "text": [
      "Total sent: 28886.43657684326\n",
      "Total shortage: 214557.67404556274\n",
      "Average load: 1.1737886621449873\n"
     ]
    }
   ],
   "source": [
    "println(\"Total sent: \", results.total_sent)\n",
    "println(\"Total shortage: \", results.total_shortage)\n",
    "println(\"Average load: \", results.average_load)"
   ]
  },
  {
   "cell_type": "code",
   "execution_count": 14,
   "metadata": {},
   "outputs": [
    {
     "data": {
      "text/html": [
       "<div><div style = \"float: left;\"><span>11×8 DataFrame</span></div><div style = \"clear: both;\"></div></div><div class = \"data-frame\" style = \"overflow-x: scroll;\"><table class = \"data-frame\" style = \"margin-bottom: 6px;\"><thead><tr class = \"header\"><th class = \"rowNumber\" style = \"font-weight: bold; text-align: right;\">Row</th><th style = \"text-align: left;\">state</th><th style = \"text-align: left;\">total_sent</th><th style = \"text-align: left;\">total_received</th><th style = \"text-align: left;\">initial_nurses</th><th style = \"text-align: left;\">total_nurse_days</th><th style = \"text-align: left;\">total_demand</th><th style = \"text-align: left;\">total_shortage</th><th style = \"text-align: left;\">average_load</th></tr><tr class = \"subheader headerLastRow\"><th class = \"rowNumber\" style = \"font-weight: bold; text-align: right;\"></th><th title = \"String\" style = \"text-align: left;\">String</th><th title = \"Float64\" style = \"text-align: left;\">Float64</th><th title = \"Float64\" style = \"text-align: left;\">Float64</th><th title = \"Float32\" style = \"text-align: left;\">Float32</th><th title = \"Float64\" style = \"text-align: left;\">Float64</th><th title = \"Float32\" style = \"text-align: left;\">Float32</th><th title = \"Float64\" style = \"text-align: left;\">Float64</th><th title = \"Float64\" style = \"text-align: left;\">Float64</th></tr></thead><tbody><tr><td class = \"rowNumber\" style = \"font-weight: bold; text-align: right;\">1</td><td style = \"text-align: left;\">CT</td><td style = \"text-align: right;\">1291.93</td><td style = \"text-align: right;\">2416.66</td><td style = \"text-align: right;\">2296.5</td><td style = \"text-align: right;\">80094.3</td><td style = \"text-align: right;\">96222.5</td><td style = \"text-align: right;\">17242.7</td><td style = \"text-align: right;\">1.24039</td></tr><tr><td class = \"rowNumber\" style = \"font-weight: bold; text-align: right;\">2</td><td style = \"text-align: left;\">DE</td><td style = \"text-align: right;\">555.537</td><td style = \"text-align: right;\">233.057</td><td style = \"text-align: right;\">661.0</td><td style = \"text-align: right;\">5899.0</td><td style = \"text-align: right;\">6673.62</td><td style = \"text-align: right;\">874.505</td><td style = \"text-align: right;\">1.11919</td></tr><tr><td class = \"rowNumber\" style = \"font-weight: bold; text-align: right;\">3</td><td style = \"text-align: left;\">MA</td><td style = \"text-align: right;\">4612.29</td><td style = \"text-align: right;\">2154.04</td><td style = \"text-align: right;\">5073.0</td><td style = \"text-align: right;\">52174.5</td><td style = \"text-align: right;\">64383.0</td><td style = \"text-align: right;\">13474.5</td><td style = \"text-align: right;\">1.22305</td></tr><tr><td class = \"rowNumber\" style = \"font-weight: bold; text-align: right;\">4</td><td style = \"text-align: left;\">MD</td><td style = \"text-align: right;\">1873.89</td><td style = \"text-align: right;\">2005.66</td><td style = \"text-align: right;\">3084.5</td><td style = \"text-align: right;\">71409.5</td><td style = \"text-align: right;\">79474.2</td><td style = \"text-align: right;\">9775.27</td><td style = \"text-align: right;\">1.1921</td></tr><tr><td class = \"rowNumber\" style = \"font-weight: bold; text-align: right;\">5</td><td style = \"text-align: left;\">ME</td><td style = \"text-align: right;\">932.525</td><td style = \"text-align: right;\">0.0</td><td style = \"text-align: right;\">981.0</td><td style = \"text-align: right;\">1939.56</td><td style = \"text-align: right;\">2261.99</td><td style = \"text-align: right;\">359.406</td><td style = \"text-align: right;\">1.1621</td></tr><tr><td class = \"rowNumber\" style = \"font-weight: bold; text-align: right;\">6</td><td style = \"text-align: left;\">NH</td><td style = \"text-align: right;\">887.499</td><td style = \"text-align: right;\">27.0914</td><td style = \"text-align: right;\">967.0</td><td style = \"text-align: right;\">3653.0</td><td style = \"text-align: right;\">4054.2</td><td style = \"text-align: right;\">1256.99</td><td style = \"text-align: right;\">1.34465</td></tr><tr><td class = \"rowNumber\" style = \"font-weight: bold; text-align: right;\">7</td><td style = \"text-align: left;\">NJ</td><td style = \"text-align: right;\">0.0</td><td style = \"text-align: right;\">6029.5</td><td style = \"text-align: right;\">3326.0</td><td style = \"text-align: right;\">268491.0</td><td style = \"text-align: right;\">3.05234e5</td><td style = \"text-align: right;\">43564.7</td><td style = \"text-align: right;\">1.12935</td></tr><tr><td class = \"rowNumber\" style = \"font-weight: bold; text-align: right;\">8</td><td style = \"text-align: left;\">NY</td><td style = \"text-align: right;\">11550.8</td><td style = \"text-align: right;\">11335.4</td><td style = \"text-align: right;\">9773.5</td><td style = \"text-align: right;\">454958.0</td><td style = \"text-align: right;\">5.72581e5</td><td style = \"text-align: right;\">1.22314e5</td><td style = \"text-align: right;\">1.27887</td></tr><tr><td class = \"rowNumber\" style = \"font-weight: bold; text-align: right;\">9</td><td style = \"text-align: left;\">PA</td><td style = \"text-align: right;\">5546.13</td><td style = \"text-align: right;\">3505.87</td><td style = \"text-align: right;\">7094.5</td><td style = \"text-align: right;\">1.09274e5</td><td style = \"text-align: right;\">108595.0</td><td style = \"text-align: right;\">3482.5</td><td style = \"text-align: right;\">0.991604</td></tr><tr><td class = \"rowNumber\" style = \"font-weight: bold; text-align: right;\">10</td><td style = \"text-align: left;\">RI</td><td style = \"text-align: right;\">1332.18</td><td style = \"text-align: right;\">1179.14</td><td style = \"text-align: right;\">626.5</td><td style = \"text-align: right;\">11905.9</td><td style = \"text-align: right;\">12277.4</td><td style = \"text-align: right;\">2211.04</td><td style = \"text-align: right;\">1.2314</td></tr><tr><td class = \"rowNumber\" style = \"font-weight: bold; text-align: right;\">11</td><td style = \"text-align: left;\">VT</td><td style = \"text-align: right;\">303.621</td><td style = \"text-align: right;\">0.0</td><td style = \"text-align: right;\">345.5</td><td style = \"text-align: right;\">1299.95</td><td style = \"text-align: right;\">1298.58</td><td style = \"text-align: right;\">1.89851</td><td style = \"text-align: right;\">0.998955</td></tr></tbody></table></div>"
      ],
      "text/latex": [
       "\\begin{tabular}{r|cccccccc}\n",
       "\t& state & total\\_sent & total\\_received & initial\\_nurses & total\\_nurse\\_days & total\\_demand & total\\_shortage & average\\_load\\\\\n",
       "\t\\hline\n",
       "\t& String & Float64 & Float64 & Float32 & Float64 & Float32 & Float64 & Float64\\\\\n",
       "\t\\hline\n",
       "\t1 & CT & 1291.93 & 2416.66 & 2296.5 & 80094.3 & 96222.5 & 17242.7 & 1.24039 \\\\\n",
       "\t2 & DE & 555.537 & 233.057 & 661.0 & 5899.0 & 6673.62 & 874.505 & 1.11919 \\\\\n",
       "\t3 & MA & 4612.29 & 2154.04 & 5073.0 & 52174.5 & 64383.0 & 13474.5 & 1.22305 \\\\\n",
       "\t4 & MD & 1873.89 & 2005.66 & 3084.5 & 71409.5 & 79474.2 & 9775.27 & 1.1921 \\\\\n",
       "\t5 & ME & 932.525 & 0.0 & 981.0 & 1939.56 & 2261.99 & 359.406 & 1.1621 \\\\\n",
       "\t6 & NH & 887.499 & 27.0914 & 967.0 & 3653.0 & 4054.2 & 1256.99 & 1.34465 \\\\\n",
       "\t7 & NJ & 0.0 & 6029.5 & 3326.0 & 268491.0 & 3.05234e5 & 43564.7 & 1.12935 \\\\\n",
       "\t8 & NY & 11550.8 & 11335.4 & 9773.5 & 454958.0 & 5.72581e5 & 1.22314e5 & 1.27887 \\\\\n",
       "\t9 & PA & 5546.13 & 3505.87 & 7094.5 & 1.09274e5 & 108595.0 & 3482.5 & 0.991604 \\\\\n",
       "\t10 & RI & 1332.18 & 1179.14 & 626.5 & 11905.9 & 12277.4 & 2211.04 & 1.2314 \\\\\n",
       "\t11 & VT & 303.621 & 0.0 & 345.5 & 1299.95 & 1298.58 & 1.89851 & 0.998955 \\\\\n",
       "\\end{tabular}\n"
      ],
      "text/plain": [
       "\u001b[1m11×8 DataFrame\u001b[0m\n",
       "\u001b[1m Row \u001b[0m│\u001b[1m state  \u001b[0m\u001b[1m total_sent \u001b[0m\u001b[1m total_received \u001b[0m\u001b[1m initial_nurses \u001b[0m\u001b[1m total_nurse_days \u001b[0m\u001b[1m total_demand   \u001b[0m\u001b[1m total_shortage \u001b[0m\u001b[1m average_load \u001b[0m\n",
       "     │\u001b[90m String \u001b[0m\u001b[90m Float64    \u001b[0m\u001b[90m Float64        \u001b[0m\u001b[90m Float32        \u001b[0m\u001b[90m Float64          \u001b[0m\u001b[90m Float32        \u001b[0m\u001b[90m Float64        \u001b[0m\u001b[90m Float64      \u001b[0m\n",
       "─────┼────────────────────────────────────────────────────────────────────────────────────────────────────────────────────\n",
       "   1 │ CT        1291.93        2416.66            2296.5     80094.3         96222.5         17242.7            1.24039\n",
       "   2 │ DE         555.537        233.057            661.0      5899.0          6673.62          874.505          1.11919\n",
       "   3 │ MA        4612.29        2154.04            5073.0     52174.5         64383.0         13474.5            1.22305\n",
       "   4 │ MD        1873.89        2005.66            3084.5     71409.5         79474.2          9775.27           1.1921\n",
       "   5 │ ME         932.525          0.0              981.0      1939.56         2261.99          359.406          1.1621\n",
       "   6 │ NH         887.499         27.0914           967.0      3653.0          4054.2          1256.99           1.34465\n",
       "   7 │ NJ           0.0         6029.5             3326.0    268491.0             3.05234e5   43564.7            1.12935\n",
       "   8 │ NY       11550.8        11335.4             9773.5    454958.0             5.72581e5       1.22314e5      1.27887\n",
       "   9 │ PA        5546.13        3505.87            7094.5         1.09274e5  108595.0          3482.5            0.991604\n",
       "  10 │ RI        1332.18        1179.14             626.5     11905.9         12277.4          2211.04           1.2314\n",
       "  11 │ VT         303.621          0.0              345.5      1299.95         1298.58            1.89851        0.998955"
      ]
     },
     "metadata": {},
     "output_type": "display_data"
    }
   ],
   "source": [
    "results.summary_table"
   ]
  },
  {
   "cell_type": "code",
   "execution_count": 15,
   "metadata": {},
   "outputs": [
    {
     "data": {
      "text/html": [
       "<div><div style = \"float: left;\"><span>11×12 DataFrame</span></div><div style = \"clear: both;\"></div></div><div class = \"data-frame\" style = \"overflow-x: scroll;\"><table class = \"data-frame\" style = \"margin-bottom: 6px;\"><thead><tr class = \"header\"><th class = \"rowNumber\" style = \"font-weight: bold; text-align: right;\">Row</th><th style = \"text-align: left;\">state</th><th style = \"text-align: left;\">CT</th><th style = \"text-align: left;\">DE</th><th style = \"text-align: left;\">MA</th><th style = \"text-align: left;\">MD</th><th style = \"text-align: left;\">ME</th><th style = \"text-align: left;\">NH</th><th style = \"text-align: left;\">NJ</th><th style = \"text-align: left;\">NY</th><th style = \"text-align: left;\">PA</th><th style = \"text-align: left;\">RI</th><th style = \"text-align: left;\">VT</th></tr><tr class = \"subheader headerLastRow\"><th class = \"rowNumber\" style = \"font-weight: bold; text-align: right;\"></th><th title = \"String\" style = \"text-align: left;\">String</th><th title = \"Float64\" style = \"text-align: left;\">Float64</th><th title = \"Float64\" style = \"text-align: left;\">Float64</th><th title = \"Float64\" style = \"text-align: left;\">Float64</th><th title = \"Float64\" style = \"text-align: left;\">Float64</th><th title = \"Float64\" style = \"text-align: left;\">Float64</th><th title = \"Float64\" style = \"text-align: left;\">Float64</th><th title = \"Float64\" style = \"text-align: left;\">Float64</th><th title = \"Float64\" style = \"text-align: left;\">Float64</th><th title = \"Float64\" style = \"text-align: left;\">Float64</th><th title = \"Float64\" style = \"text-align: left;\">Float64</th><th title = \"Float64\" style = \"text-align: left;\">Float64</th></tr></thead><tbody><tr><td class = \"rowNumber\" style = \"font-weight: bold; text-align: right;\">1</td><td style = \"text-align: left;\">CT</td><td style = \"text-align: right;\">0.0</td><td style = \"text-align: right;\">0.0</td><td style = \"text-align: right;\">0.0</td><td style = \"text-align: right;\">0.0</td><td style = \"text-align: right;\">0.0</td><td style = \"text-align: right;\">0.0</td><td style = \"text-align: right;\">0.0</td><td style = \"text-align: right;\">1291.93</td><td style = \"text-align: right;\">0.0</td><td style = \"text-align: right;\">0.0</td><td style = \"text-align: right;\">0.0</td></tr><tr><td class = \"rowNumber\" style = \"font-weight: bold; text-align: right;\">2</td><td style = \"text-align: left;\">DE</td><td style = \"text-align: right;\">0.0</td><td style = \"text-align: right;\">0.0</td><td style = \"text-align: right;\">0.0</td><td style = \"text-align: right;\">0.0</td><td style = \"text-align: right;\">0.0</td><td style = \"text-align: right;\">0.0</td><td style = \"text-align: right;\">555.537</td><td style = \"text-align: right;\">0.0</td><td style = \"text-align: right;\">0.0</td><td style = \"text-align: right;\">0.0</td><td style = \"text-align: right;\">0.0</td></tr><tr><td class = \"rowNumber\" style = \"font-weight: bold; text-align: right;\">3</td><td style = \"text-align: left;\">MA</td><td style = \"text-align: right;\">0.0</td><td style = \"text-align: right;\">0.0</td><td style = \"text-align: right;\">0.0</td><td style = \"text-align: right;\">0.0</td><td style = \"text-align: right;\">0.0</td><td style = \"text-align: right;\">0.0</td><td style = \"text-align: right;\">0.0</td><td style = \"text-align: right;\">4612.29</td><td style = \"text-align: right;\">0.0</td><td style = \"text-align: right;\">0.0</td><td style = \"text-align: right;\">0.0</td></tr><tr><td class = \"rowNumber\" style = \"font-weight: bold; text-align: right;\">4</td><td style = \"text-align: left;\">MD</td><td style = \"text-align: right;\">0.0</td><td style = \"text-align: right;\">0.0</td><td style = \"text-align: right;\">0.0</td><td style = \"text-align: right;\">0.0</td><td style = \"text-align: right;\">0.0</td><td style = \"text-align: right;\">0.0</td><td style = \"text-align: right;\">0.0</td><td style = \"text-align: right;\">1873.89</td><td style = \"text-align: right;\">0.0</td><td style = \"text-align: right;\">0.0</td><td style = \"text-align: right;\">0.0</td></tr><tr><td class = \"rowNumber\" style = \"font-weight: bold; text-align: right;\">5</td><td style = \"text-align: left;\">ME</td><td style = \"text-align: right;\">0.0</td><td style = \"text-align: right;\">0.0</td><td style = \"text-align: right;\">0.0</td><td style = \"text-align: right;\">0.0</td><td style = \"text-align: right;\">0.0</td><td style = \"text-align: right;\">26.9531</td><td style = \"text-align: right;\">0.0</td><td style = \"text-align: right;\">0.0</td><td style = \"text-align: right;\">0.0</td><td style = \"text-align: right;\">905.571</td><td style = \"text-align: right;\">0.0</td></tr><tr><td class = \"rowNumber\" style = \"font-weight: bold; text-align: right;\">6</td><td style = \"text-align: left;\">NH</td><td style = \"text-align: right;\">738.204</td><td style = \"text-align: right;\">0.0</td><td style = \"text-align: right;\">149.295</td><td style = \"text-align: right;\">0.0</td><td style = \"text-align: right;\">0.0</td><td style = \"text-align: right;\">0.0</td><td style = \"text-align: right;\">0.0</td><td style = \"text-align: right;\">0.0</td><td style = \"text-align: right;\">0.0</td><td style = \"text-align: right;\">0.0</td><td style = \"text-align: right;\">0.0</td></tr><tr><td class = \"rowNumber\" style = \"font-weight: bold; text-align: right;\">7</td><td style = \"text-align: left;\">NJ</td><td style = \"text-align: right;\">0.0</td><td style = \"text-align: right;\">0.0</td><td style = \"text-align: right;\">0.0</td><td style = \"text-align: right;\">0.0</td><td style = \"text-align: right;\">0.0</td><td style = \"text-align: right;\">0.0</td><td style = \"text-align: right;\">0.0</td><td style = \"text-align: right;\">0.0</td><td style = \"text-align: right;\">0.0</td><td style = \"text-align: right;\">0.0</td><td style = \"text-align: right;\">0.0</td></tr><tr><td class = \"rowNumber\" style = \"font-weight: bold; text-align: right;\">8</td><td style = \"text-align: left;\">NY</td><td style = \"text-align: right;\">1678.46</td><td style = \"text-align: right;\">233.057</td><td style = \"text-align: right;\">1701.27</td><td style = \"text-align: right;\">2005.66</td><td style = \"text-align: right;\">0.0</td><td style = \"text-align: right;\">0.0</td><td style = \"text-align: right;\">2152.95</td><td style = \"text-align: right;\">0.0</td><td style = \"text-align: right;\">3505.87</td><td style = \"text-align: right;\">273.571</td><td style = \"text-align: right;\">0.0</td></tr><tr><td class = \"rowNumber\" style = \"font-weight: bold; text-align: right;\">9</td><td style = \"text-align: left;\">PA</td><td style = \"text-align: right;\">0.0</td><td style = \"text-align: right;\">0.0</td><td style = \"text-align: right;\">0.0</td><td style = \"text-align: right;\">0.0</td><td style = \"text-align: right;\">0.0</td><td style = \"text-align: right;\">0.0</td><td style = \"text-align: right;\">3321.01</td><td style = \"text-align: right;\">2225.12</td><td style = \"text-align: right;\">0.0</td><td style = \"text-align: right;\">0.0</td><td style = \"text-align: right;\">0.0</td></tr><tr><td class = \"rowNumber\" style = \"font-weight: bold; text-align: right;\">10</td><td style = \"text-align: left;\">RI</td><td style = \"text-align: right;\">0.0</td><td style = \"text-align: right;\">0.0</td><td style = \"text-align: right;\">0.0</td><td style = \"text-align: right;\">0.0</td><td style = \"text-align: right;\">0.0</td><td style = \"text-align: right;\">0.0</td><td style = \"text-align: right;\">0.0</td><td style = \"text-align: right;\">1332.18</td><td style = \"text-align: right;\">0.0</td><td style = \"text-align: right;\">0.0</td><td style = \"text-align: right;\">0.0</td></tr><tr><td class = \"rowNumber\" style = \"font-weight: bold; text-align: right;\">11</td><td style = \"text-align: left;\">VT</td><td style = \"text-align: right;\">0.0</td><td style = \"text-align: right;\">0.0</td><td style = \"text-align: right;\">303.483</td><td style = \"text-align: right;\">0.0</td><td style = \"text-align: right;\">0.0</td><td style = \"text-align: right;\">0.138226</td><td style = \"text-align: right;\">0.0</td><td style = \"text-align: right;\">0.0</td><td style = \"text-align: right;\">0.0</td><td style = \"text-align: right;\">0.0</td><td style = \"text-align: right;\">0.0</td></tr></tbody></table></div>"
      ],
      "text/latex": [
       "\\begin{tabular}{r|cccccccccccc}\n",
       "\t& state & CT & DE & MA & MD & ME & NH & NJ & NY & PA & RI & VT\\\\\n",
       "\t\\hline\n",
       "\t& String & Float64 & Float64 & Float64 & Float64 & Float64 & Float64 & Float64 & Float64 & Float64 & Float64 & Float64\\\\\n",
       "\t\\hline\n",
       "\t1 & CT & 0.0 & 0.0 & 0.0 & 0.0 & 0.0 & 0.0 & 0.0 & 1291.93 & 0.0 & 0.0 & 0.0 \\\\\n",
       "\t2 & DE & 0.0 & 0.0 & 0.0 & 0.0 & 0.0 & 0.0 & 555.537 & 0.0 & 0.0 & 0.0 & 0.0 \\\\\n",
       "\t3 & MA & 0.0 & 0.0 & 0.0 & 0.0 & 0.0 & 0.0 & 0.0 & 4612.29 & 0.0 & 0.0 & 0.0 \\\\\n",
       "\t4 & MD & 0.0 & 0.0 & 0.0 & 0.0 & 0.0 & 0.0 & 0.0 & 1873.89 & 0.0 & 0.0 & 0.0 \\\\\n",
       "\t5 & ME & 0.0 & 0.0 & 0.0 & 0.0 & 0.0 & 26.9531 & 0.0 & 0.0 & 0.0 & 905.571 & 0.0 \\\\\n",
       "\t6 & NH & 738.204 & 0.0 & 149.295 & 0.0 & 0.0 & 0.0 & 0.0 & 0.0 & 0.0 & 0.0 & 0.0 \\\\\n",
       "\t7 & NJ & 0.0 & 0.0 & 0.0 & 0.0 & 0.0 & 0.0 & 0.0 & 0.0 & 0.0 & 0.0 & 0.0 \\\\\n",
       "\t8 & NY & 1678.46 & 233.057 & 1701.27 & 2005.66 & 0.0 & 0.0 & 2152.95 & 0.0 & 3505.87 & 273.571 & 0.0 \\\\\n",
       "\t9 & PA & 0.0 & 0.0 & 0.0 & 0.0 & 0.0 & 0.0 & 3321.01 & 2225.12 & 0.0 & 0.0 & 0.0 \\\\\n",
       "\t10 & RI & 0.0 & 0.0 & 0.0 & 0.0 & 0.0 & 0.0 & 0.0 & 1332.18 & 0.0 & 0.0 & 0.0 \\\\\n",
       "\t11 & VT & 0.0 & 0.0 & 303.483 & 0.0 & 0.0 & 0.138226 & 0.0 & 0.0 & 0.0 & 0.0 & 0.0 \\\\\n",
       "\\end{tabular}\n"
      ],
      "text/plain": [
       "\u001b[1m11×12 DataFrame\u001b[0m\n",
       "\u001b[1m Row \u001b[0m│\u001b[1m state  \u001b[0m\u001b[1m CT       \u001b[0m\u001b[1m DE      \u001b[0m\u001b[1m MA       \u001b[0m\u001b[1m MD      \u001b[0m\u001b[1m ME      \u001b[0m\u001b[1m NH        \u001b[0m\u001b[1m NJ       \u001b[0m\u001b[1m NY      \u001b[0m\u001b[1m PA      \u001b[0m\u001b[1m RI      \u001b[0m\u001b[1m VT      \u001b[0m\n",
       "     │\u001b[90m String \u001b[0m\u001b[90m Float64  \u001b[0m\u001b[90m Float64 \u001b[0m\u001b[90m Float64  \u001b[0m\u001b[90m Float64 \u001b[0m\u001b[90m Float64 \u001b[0m\u001b[90m Float64   \u001b[0m\u001b[90m Float64  \u001b[0m\u001b[90m Float64 \u001b[0m\u001b[90m Float64 \u001b[0m\u001b[90m Float64 \u001b[0m\u001b[90m Float64 \u001b[0m\n",
       "─────┼────────────────────────────────────────────────────────────────────────────────────────────────────────────────\n",
       "   1 │ CT         0.0      0.0       0.0       0.0       0.0   0.0          0.0    1291.93     0.0     0.0        0.0\n",
       "   2 │ DE         0.0      0.0       0.0       0.0       0.0   0.0        555.537     0.0      0.0     0.0        0.0\n",
       "   3 │ MA         0.0      0.0       0.0       0.0       0.0   0.0          0.0    4612.29     0.0     0.0        0.0\n",
       "   4 │ MD         0.0      0.0       0.0       0.0       0.0   0.0          0.0    1873.89     0.0     0.0        0.0\n",
       "   5 │ ME         0.0      0.0       0.0       0.0       0.0  26.9531       0.0       0.0      0.0   905.571      0.0\n",
       "   6 │ NH       738.204    0.0     149.295     0.0       0.0   0.0          0.0       0.0      0.0     0.0        0.0\n",
       "   7 │ NJ         0.0      0.0       0.0       0.0       0.0   0.0          0.0       0.0      0.0     0.0        0.0\n",
       "   8 │ NY      1678.46   233.057  1701.27   2005.66      0.0   0.0       2152.95      0.0   3505.87  273.571      0.0\n",
       "   9 │ PA         0.0      0.0       0.0       0.0       0.0   0.0       3321.01   2225.12     0.0     0.0        0.0\n",
       "  10 │ RI         0.0      0.0       0.0       0.0       0.0   0.0          0.0    1332.18     0.0     0.0        0.0\n",
       "  11 │ VT         0.0      0.0     303.483     0.0       0.0   0.138226     0.0       0.0      0.0     0.0        0.0"
      ]
     },
     "metadata": {},
     "output_type": "display_data"
    }
   ],
   "source": [
    "results.sent_matrix_table"
   ]
  },
  {
   "cell_type": "code",
   "execution_count": 16,
   "metadata": {},
   "outputs": [
    {
     "name": "stdout",
     "output_type": "stream",
     "text": [
      "First day:\n"
     ]
    },
    {
     "data": {
      "text/html": [
       "<div><div style = \"float: left;\"><span>11×11 DataFrame</span></div><div style = \"clear: both;\"></div></div><div class = \"data-frame\" style = \"overflow-x: scroll;\"><table class = \"data-frame\" style = \"margin-bottom: 6px;\"><thead><tr class = \"header\"><th class = \"rowNumber\" style = \"font-weight: bold; text-align: right;\">Row</th><th style = \"text-align: left;\">state</th><th style = \"text-align: left;\">date</th><th style = \"text-align: left;\">sent</th><th style = \"text-align: left;\">received</th><th style = \"text-align: left;\">initial_nurses</th><th style = \"text-align: left;\">current_nurses</th><th style = \"text-align: left;\">demand</th><th style = \"text-align: left;\">shortage</th><th style = \"text-align: left;\">load</th><th style = \"text-align: left;\">sent_to</th><th style = \"text-align: left;\">sent_from</th></tr><tr class = \"subheader headerLastRow\"><th class = \"rowNumber\" style = \"font-weight: bold; text-align: right;\"></th><th title = \"String\" style = \"text-align: left;\">String</th><th title = \"Date\" style = \"text-align: left;\">Date</th><th title = \"Float64\" style = \"text-align: left;\">Float64</th><th title = \"Float64\" style = \"text-align: left;\">Float64</th><th title = \"Float32\" style = \"text-align: left;\">Float32</th><th title = \"Float64\" style = \"text-align: left;\">Float64</th><th title = \"Float32\" style = \"text-align: left;\">Float32</th><th title = \"Float64\" style = \"text-align: left;\">Float64</th><th title = \"Float64\" style = \"text-align: left;\">Float64</th><th title = \"Any\" style = \"text-align: left;\">Any</th><th title = \"Any\" style = \"text-align: left;\">Any</th></tr></thead><tbody><tr><td class = \"rowNumber\" style = \"font-weight: bold; text-align: right;\">1</td><td style = \"text-align: left;\">CT</td><td style = \"text-align: left;\">2020-04-01</td><td style = \"text-align: right;\">1291.93</td><td style = \"text-align: right;\">344.713</td><td style = \"text-align: right;\">2296.5</td><td style = \"text-align: right;\">1349.28</td><td style = \"text-align: right;\">1004.57</td><td style = \"text-align: right;\">0.0</td><td style = \"text-align: right;\">0.744521</td><td style = \"text-align: left;\">[(&quot;NY&quot;, 1291.93)]</td><td style = \"text-align: left;\">[(&quot;NH&quot;, 344.713)]</td></tr><tr><td class = \"rowNumber\" style = \"font-weight: bold; text-align: right;\">2</td><td style = \"text-align: left;\">DE</td><td style = \"text-align: left;\">2020-04-01</td><td style = \"text-align: right;\">555.537</td><td style = \"text-align: right;\">0.0</td><td style = \"text-align: right;\">661.0</td><td style = \"text-align: right;\">105.463</td><td style = \"text-align: right;\">70.3982</td><td style = \"text-align: right;\">0.0</td><td style = \"text-align: right;\">0.667518</td><td style = \"text-align: left;\">[(&quot;NJ&quot;, 555.537)]</td><td style = \"text-align: left;\">[]</td></tr><tr><td class = \"rowNumber\" style = \"font-weight: bold; text-align: right;\">3</td><td style = \"text-align: left;\">MA</td><td style = \"text-align: left;\">2020-04-01</td><td style = \"text-align: right;\">4567.76</td><td style = \"text-align: right;\">452.732</td><td style = \"text-align: right;\">5073.0</td><td style = \"text-align: right;\">957.972</td><td style = \"text-align: right;\">505.24</td><td style = \"text-align: right;\">0.0</td><td style = \"text-align: right;\">0.527406</td><td style = \"text-align: left;\">[(&quot;NY&quot;, 4567.76)]</td><td style = \"text-align: left;\">[(&quot;NH&quot;, 149.295), (&quot;VT&quot;, 303.437)]</td></tr><tr><td class = \"rowNumber\" style = \"font-weight: bold; text-align: right;\">4</td><td style = \"text-align: left;\">MD</td><td style = \"text-align: left;\">2020-04-01</td><td style = \"text-align: right;\">1873.89</td><td style = \"text-align: right;\">0.0</td><td style = \"text-align: right;\">3084.5</td><td style = \"text-align: right;\">1210.61</td><td style = \"text-align: right;\">643.135</td><td style = \"text-align: right;\">0.0</td><td style = \"text-align: right;\">0.531251</td><td style = \"text-align: left;\">[(&quot;NY&quot;, 1873.89)]</td><td style = \"text-align: left;\">[]</td></tr><tr><td class = \"rowNumber\" style = \"font-weight: bold; text-align: right;\">5</td><td style = \"text-align: left;\">ME</td><td style = \"text-align: left;\">2020-04-01</td><td style = \"text-align: right;\">905.571</td><td style = \"text-align: right;\">0.0</td><td style = \"text-align: right;\">981.0</td><td style = \"text-align: right;\">75.4285</td><td style = \"text-align: right;\">56.6743</td><td style = \"text-align: right;\">0.0</td><td style = \"text-align: right;\">0.751364</td><td style = \"text-align: left;\">[(&quot;RI&quot;, 905.571)]</td><td style = \"text-align: left;\">[]</td></tr><tr><td class = \"rowNumber\" style = \"font-weight: bold; text-align: right;\">6</td><td style = \"text-align: left;\">NH</td><td style = \"text-align: left;\">2020-04-01</td><td style = \"text-align: right;\">494.008</td><td style = \"text-align: right;\">0.0</td><td style = \"text-align: right;\">967.0</td><td style = \"text-align: right;\">472.992</td><td style = \"text-align: right;\">52.7495</td><td style = \"text-align: right;\">0.0</td><td style = \"text-align: right;\">0.111523</td><td style = \"text-align: left;\">[(&quot;CT&quot;, 344.713), (&quot;MA&quot;, 149.295)]</td><td style = \"text-align: left;\">[]</td></tr><tr><td class = \"rowNumber\" style = \"font-weight: bold; text-align: right;\">7</td><td style = \"text-align: left;\">NJ</td><td style = \"text-align: left;\">2020-04-01</td><td style = \"text-align: right;\">0.0</td><td style = \"text-align: right;\">3876.55</td><td style = \"text-align: right;\">3326.0</td><td style = \"text-align: right;\">7202.55</td><td style = \"text-align: right;\">4499.34</td><td style = \"text-align: right;\">0.0</td><td style = \"text-align: right;\">0.624687</td><td style = \"text-align: left;\">[]</td><td style = \"text-align: left;\">[(&quot;DE&quot;, 555.537), (&quot;PA&quot;, 3321.01)]</td></tr><tr><td class = \"rowNumber\" style = \"font-weight: bold; text-align: right;\">8</td><td style = \"text-align: left;\">NY</td><td style = \"text-align: left;\">2020-04-01</td><td style = \"text-align: right;\">0.0</td><td style = \"text-align: right;\">8904.79</td><td style = \"text-align: right;\">9773.5</td><td style = \"text-align: right;\">18678.3</td><td style = \"text-align: right;\">16920.3</td><td style = \"text-align: right;\">0.0</td><td style = \"text-align: right;\">0.905879</td><td style = \"text-align: left;\">[]</td><td style = \"text-align: left;\">[(&quot;CT&quot;, 1291.93), (&quot;MA&quot;, 4567.76), (&quot;MD&quot;, 1873.89), (&quot;PA&quot;, 659.073), (&quot;RI&quot;, 512.137)]</td></tr><tr><td class = \"rowNumber\" style = \"font-weight: bold; text-align: right;\">9</td><td style = \"text-align: left;\">PA</td><td style = \"text-align: left;\">2020-04-01</td><td style = \"text-align: right;\">3980.09</td><td style = \"text-align: right;\">0.0</td><td style = \"text-align: right;\">7094.5</td><td style = \"text-align: right;\">3114.41</td><td style = \"text-align: right;\">883.269</td><td style = \"text-align: right;\">0.0</td><td style = \"text-align: right;\">0.283607</td><td style = \"text-align: left;\">[(&quot;NJ&quot;, 3321.01), (&quot;NY&quot;, 659.073)]</td><td style = \"text-align: left;\">[]</td></tr><tr><td class = \"rowNumber\" style = \"font-weight: bold; text-align: right;\">10</td><td style = \"text-align: left;\">RI</td><td style = \"text-align: left;\">2020-04-01</td><td style = \"text-align: right;\">512.137</td><td style = \"text-align: right;\">905.571</td><td style = \"text-align: right;\">626.5</td><td style = \"text-align: right;\">1019.93</td><td style = \"text-align: right;\">114.363</td><td style = \"text-align: right;\">0.0</td><td style = \"text-align: right;\">0.112128</td><td style = \"text-align: left;\">[(&quot;NY&quot;, 512.137)]</td><td style = \"text-align: left;\">[(&quot;ME&quot;, 905.571)]</td></tr><tr><td class = \"rowNumber\" style = \"font-weight: bold; text-align: right;\">11</td><td style = \"text-align: left;\">VT</td><td style = \"text-align: left;\">2020-04-01</td><td style = \"text-align: right;\">303.437</td><td style = \"text-align: right;\">0.0</td><td style = \"text-align: right;\">345.5</td><td style = \"text-align: right;\">42.0629</td><td style = \"text-align: right;\">40.4389</td><td style = \"text-align: right;\">0.0</td><td style = \"text-align: right;\">0.961391</td><td style = \"text-align: left;\">[(&quot;MA&quot;, 303.437)]</td><td style = \"text-align: left;\">[]</td></tr></tbody></table></div>"
      ],
      "text/latex": [
       "\\begin{tabular}{r|ccccccccccc}\n",
       "\t& state & date & sent & received & initial\\_nurses & current\\_nurses & demand & shortage & load & sent\\_to & sent\\_from\\\\\n",
       "\t\\hline\n",
       "\t& String & Date & Float64 & Float64 & Float32 & Float64 & Float32 & Float64 & Float64 & Any & Any\\\\\n",
       "\t\\hline\n",
       "\t1 & CT & 2020-04-01 & 1291.93 & 344.713 & 2296.5 & 1349.28 & 1004.57 & 0.0 & 0.744521 & [(\"NY\", 1291.93)] & [(\"NH\", 344.713)] \\\\\n",
       "\t2 & DE & 2020-04-01 & 555.537 & 0.0 & 661.0 & 105.463 & 70.3982 & 0.0 & 0.667518 & [(\"NJ\", 555.537)] & [] \\\\\n",
       "\t3 & MA & 2020-04-01 & 4567.76 & 452.732 & 5073.0 & 957.972 & 505.24 & 0.0 & 0.527406 & [(\"NY\", 4567.76)] & [(\"NH\", 149.295), (\"VT\", 303.437)] \\\\\n",
       "\t4 & MD & 2020-04-01 & 1873.89 & 0.0 & 3084.5 & 1210.61 & 643.135 & 0.0 & 0.531251 & [(\"NY\", 1873.89)] & [] \\\\\n",
       "\t5 & ME & 2020-04-01 & 905.571 & 0.0 & 981.0 & 75.4285 & 56.6743 & 0.0 & 0.751364 & [(\"RI\", 905.571)] & [] \\\\\n",
       "\t6 & NH & 2020-04-01 & 494.008 & 0.0 & 967.0 & 472.992 & 52.7495 & 0.0 & 0.111523 & [(\"CT\", 344.713), (\"MA\", 149.295)] & [] \\\\\n",
       "\t7 & NJ & 2020-04-01 & 0.0 & 3876.55 & 3326.0 & 7202.55 & 4499.34 & 0.0 & 0.624687 & [] & [(\"DE\", 555.537), (\"PA\", 3321.01)] \\\\\n",
       "\t8 & NY & 2020-04-01 & 0.0 & 8904.79 & 9773.5 & 18678.3 & 16920.3 & 0.0 & 0.905879 & [] & [(\"CT\", 1291.93), (\"MA\", 4567.76), (\"MD\", 1873.89), (\"PA\", 659.073), (\"RI\", 512.137)] \\\\\n",
       "\t9 & PA & 2020-04-01 & 3980.09 & 0.0 & 7094.5 & 3114.41 & 883.269 & 0.0 & 0.283607 & [(\"NJ\", 3321.01), (\"NY\", 659.073)] & [] \\\\\n",
       "\t10 & RI & 2020-04-01 & 512.137 & 905.571 & 626.5 & 1019.93 & 114.363 & 0.0 & 0.112128 & [(\"NY\", 512.137)] & [(\"ME\", 905.571)] \\\\\n",
       "\t11 & VT & 2020-04-01 & 303.437 & 0.0 & 345.5 & 42.0629 & 40.4389 & 0.0 & 0.961391 & [(\"MA\", 303.437)] & [] \\\\\n",
       "\\end{tabular}\n"
      ],
      "text/plain": [
       "\u001b[1m11×11 DataFrame\u001b[0m\n",
       "\u001b[1m Row \u001b[0m│\u001b[1m state  \u001b[0m\u001b[1m date       \u001b[0m\u001b[1m sent     \u001b[0m\u001b[1m received \u001b[0m\u001b[1m initial_nurses \u001b[0m\u001b[1m current_nurses \u001b[0m\u001b[1m demand     \u001b[0m\u001b[1m shortage \u001b[0m\u001b[1m load     \u001b[0m\u001b[1m sent_to                           \u001b[0m\u001b[1m sent_from                         \u001b[0m\n",
       "     │\u001b[90m String \u001b[0m\u001b[90m Date       \u001b[0m\u001b[90m Float64  \u001b[0m\u001b[90m Float64  \u001b[0m\u001b[90m Float32        \u001b[0m\u001b[90m Float64        \u001b[0m\u001b[90m Float32    \u001b[0m\u001b[90m Float64  \u001b[0m\u001b[90m Float64  \u001b[0m\u001b[90m Any                               \u001b[0m\u001b[90m Any                               \u001b[0m\n",
       "─────┼──────────────────────────────────────────────────────────────────────────────────────────────────────────────────────────────────────────────────────────────────────────────\n",
       "   1 │ CT      2020-04-01  1291.93    344.713          2296.5       1349.28     1004.57         0.0  0.744521  [(\"NY\", 1291.93)]                  [(\"NH\", 344.713)]\n",
       "   2 │ DE      2020-04-01   555.537     0.0             661.0        105.463      70.3982       0.0  0.667518  [(\"NJ\", 555.537)]                  []\n",
       "   3 │ MA      2020-04-01  4567.76    452.732          5073.0        957.972     505.24         0.0  0.527406  [(\"NY\", 4567.76)]                  [(\"NH\", 149.295), (\"VT\", 303.437…\n",
       "   4 │ MD      2020-04-01  1873.89      0.0            3084.5       1210.61      643.135        0.0  0.531251  [(\"NY\", 1873.89)]                  []\n",
       "   5 │ ME      2020-04-01   905.571     0.0             981.0         75.4285     56.6743       0.0  0.751364  [(\"RI\", 905.571)]                  []\n",
       "   6 │ NH      2020-04-01   494.008     0.0             967.0        472.992      52.7495       0.0  0.111523  [(\"CT\", 344.713), (\"MA\", 149.295…  []\n",
       "   7 │ NJ      2020-04-01     0.0    3876.55           3326.0       7202.55     4499.34         0.0  0.624687  []                                 [(\"DE\", 555.537), (\"PA\", 3321.01…\n",
       "   8 │ NY      2020-04-01     0.0    8904.79           9773.5      18678.3     16920.3          0.0  0.905879  []                                 [(\"CT\", 1291.93), (\"MA\", 4567.76…\n",
       "   9 │ PA      2020-04-01  3980.09      0.0            7094.5       3114.41      883.269        0.0  0.283607  [(\"NJ\", 3321.01), (\"NY\", 659.073…  []\n",
       "  10 │ RI      2020-04-01   512.137   905.571           626.5       1019.93      114.363        0.0  0.112128  [(\"NY\", 512.137)]                  [(\"ME\", 905.571)]\n",
       "  11 │ VT      2020-04-01   303.437     0.0             345.5         42.0629     40.4389       0.0  0.961391  [(\"MA\", 303.437)]                  []"
      ]
     },
     "metadata": {},
     "output_type": "display_data"
    }
   ],
   "source": [
    "println(\"First day:\")\n",
    "filter(row -> row.date == start_date, results.complete_table)"
   ]
  },
  {
   "cell_type": "code",
   "execution_count": 17,
   "metadata": {},
   "outputs": [
    {
     "data": {
      "text/html": [
       "<div><div style = \"float: left;\"><span>31×11 DataFrame</span></div><div style = \"float: right;\"><span style = \"font-style: italic;\">6 rows omitted</span></div><div style = \"clear: both;\"></div></div><div class = \"data-frame\" style = \"overflow-x: scroll;\"><table class = \"data-frame\" style = \"margin-bottom: 6px;\"><thead><tr class = \"header\"><th class = \"rowNumber\" style = \"font-weight: bold; text-align: right;\">Row</th><th style = \"text-align: left;\">state</th><th style = \"text-align: left;\">date</th><th style = \"text-align: left;\">sent</th><th style = \"text-align: left;\">received</th><th style = \"text-align: left;\">initial_nurses</th><th style = \"text-align: left;\">current_nurses</th><th style = \"text-align: left;\">demand</th><th style = \"text-align: left;\">shortage</th><th style = \"text-align: left;\">load</th><th style = \"text-align: left;\">sent_to</th><th style = \"text-align: left;\">sent_from</th></tr><tr class = \"subheader headerLastRow\"><th class = \"rowNumber\" style = \"font-weight: bold; text-align: right;\"></th><th title = \"String\" style = \"text-align: left;\">String</th><th title = \"Date\" style = \"text-align: left;\">Date</th><th title = \"Float64\" style = \"text-align: left;\">Float64</th><th title = \"Float64\" style = \"text-align: left;\">Float64</th><th title = \"Float32\" style = \"text-align: left;\">Float32</th><th title = \"Float64\" style = \"text-align: left;\">Float64</th><th title = \"Float32\" style = \"text-align: left;\">Float32</th><th title = \"Float64\" style = \"text-align: left;\">Float64</th><th title = \"Float64\" style = \"text-align: left;\">Float64</th><th title = \"Any\" style = \"text-align: left;\">Any</th><th title = \"Any\" style = \"text-align: left;\">Any</th></tr></thead><tbody><tr><td class = \"rowNumber\" style = \"font-weight: bold; text-align: right;\">1</td><td style = \"text-align: left;\">NY</td><td style = \"text-align: left;\">2020-04-01</td><td style = \"text-align: right;\">0.0</td><td style = \"text-align: right;\">8904.79</td><td style = \"text-align: right;\">9773.5</td><td style = \"text-align: right;\">18678.3</td><td style = \"text-align: right;\">16920.3</td><td style = \"text-align: right;\">0.0</td><td style = \"text-align: right;\">0.905879</td><td style = \"text-align: left;\">[]</td><td style = \"text-align: left;\">[(&quot;CT&quot;, 1291.93), (&quot;MA&quot;, 4567.76), (&quot;MD&quot;, 1873.89), (&quot;PA&quot;, 659.073), (&quot;RI&quot;, 512.137)]</td></tr><tr><td class = \"rowNumber\" style = \"font-weight: bold; text-align: right;\">2</td><td style = \"text-align: left;\">NY</td><td style = \"text-align: left;\">2020-04-02</td><td style = \"text-align: right;\">0.0</td><td style = \"text-align: right;\">1644.95</td><td style = \"text-align: right;\">9773.5</td><td style = \"text-align: right;\">20323.2</td><td style = \"text-align: right;\">18678.3</td><td style = \"text-align: right;\">0.0</td><td style = \"text-align: right;\">0.919061</td><td style = \"text-align: left;\">[]</td><td style = \"text-align: left;\">[(&quot;MA&quot;, 44.5293), (&quot;PA&quot;, 1566.05), (&quot;RI&quot;, 34.3784)]</td></tr><tr><td class = \"rowNumber\" style = \"font-weight: bold; text-align: right;\">3</td><td style = \"text-align: left;\">NY</td><td style = \"text-align: left;\">2020-04-03</td><td style = \"text-align: right;\">0.0</td><td style = \"text-align: right;\">785.664</td><td style = \"text-align: right;\">9773.5</td><td style = \"text-align: right;\">21108.9</td><td style = \"text-align: right;\">20323.2</td><td style = \"text-align: right;\">0.0</td><td style = \"text-align: right;\">0.96278</td><td style = \"text-align: left;\">[]</td><td style = \"text-align: left;\">[(&quot;RI&quot;, 785.664)]</td></tr><tr><td class = \"rowNumber\" style = \"font-weight: bold; text-align: right;\">4</td><td style = \"text-align: left;\">NY</td><td style = \"text-align: left;\">2020-04-04</td><td style = \"text-align: right;\">0.0</td><td style = \"text-align: right;\">0.0</td><td style = \"text-align: right;\">9773.5</td><td style = \"text-align: right;\">21108.9</td><td style = \"text-align: right;\">21804.5</td><td style = \"text-align: right;\">695.613</td><td style = \"text-align: right;\">1.03295</td><td style = \"text-align: left;\">[]</td><td style = \"text-align: left;\">[]</td></tr><tr><td class = \"rowNumber\" style = \"font-weight: bold; text-align: right;\">5</td><td style = \"text-align: left;\">NY</td><td style = \"text-align: left;\">2020-04-05</td><td style = \"text-align: right;\">0.0</td><td style = \"text-align: right;\">0.0</td><td style = \"text-align: right;\">9773.5</td><td style = \"text-align: right;\">21108.9</td><td style = \"text-align: right;\">23066.7</td><td style = \"text-align: right;\">1957.83</td><td style = \"text-align: right;\">1.09275</td><td style = \"text-align: left;\">[]</td><td style = \"text-align: left;\">[]</td></tr><tr><td class = \"rowNumber\" style = \"font-weight: bold; text-align: right;\">6</td><td style = \"text-align: left;\">NY</td><td style = \"text-align: left;\">2020-04-06</td><td style = \"text-align: right;\">0.0</td><td style = \"text-align: right;\">0.0</td><td style = \"text-align: right;\">9773.5</td><td style = \"text-align: right;\">21108.9</td><td style = \"text-align: right;\">24089.6</td><td style = \"text-align: right;\">2980.67</td><td style = \"text-align: right;\">1.1412</td><td style = \"text-align: left;\">[]</td><td style = \"text-align: left;\">[]</td></tr><tr><td class = \"rowNumber\" style = \"font-weight: bold; text-align: right;\">7</td><td style = \"text-align: left;\">NY</td><td style = \"text-align: left;\">2020-04-07</td><td style = \"text-align: right;\">0.0</td><td style = \"text-align: right;\">0.0</td><td style = \"text-align: right;\">9773.5</td><td style = \"text-align: right;\">21108.9</td><td style = \"text-align: right;\">24835.1</td><td style = \"text-align: right;\">3726.23</td><td style = \"text-align: right;\">1.17652</td><td style = \"text-align: left;\">[]</td><td style = \"text-align: left;\">[]</td></tr><tr><td class = \"rowNumber\" style = \"font-weight: bold; text-align: right;\">8</td><td style = \"text-align: left;\">NY</td><td style = \"text-align: left;\">2020-04-08</td><td style = \"text-align: right;\">0.0</td><td style = \"text-align: right;\">0.0</td><td style = \"text-align: right;\">9773.5</td><td style = \"text-align: right;\">21108.9</td><td style = \"text-align: right;\">25303.3</td><td style = \"text-align: right;\">4194.35</td><td style = \"text-align: right;\">1.1987</td><td style = \"text-align: left;\">[]</td><td style = \"text-align: left;\">[]</td></tr><tr><td class = \"rowNumber\" style = \"font-weight: bold; text-align: right;\">9</td><td style = \"text-align: left;\">NY</td><td style = \"text-align: left;\">2020-04-09</td><td style = \"text-align: right;\">1104.7</td><td style = \"text-align: right;\">0.0</td><td style = \"text-align: right;\">9773.5</td><td style = \"text-align: right;\">20004.2</td><td style = \"text-align: right;\">25484.6</td><td style = \"text-align: right;\">5480.36</td><td style = \"text-align: right;\">1.27396</td><td style = \"text-align: left;\">[(&quot;DE&quot;, 54.6573), (&quot;PA&quot;, 1050.04)]</td><td style = \"text-align: left;\">[]</td></tr><tr><td class = \"rowNumber\" style = \"font-weight: bold; text-align: right;\">10</td><td style = \"text-align: left;\">NY</td><td style = \"text-align: left;\">2020-04-10</td><td style = \"text-align: right;\">850.278</td><td style = \"text-align: right;\">0.0</td><td style = \"text-align: right;\">9773.5</td><td style = \"text-align: right;\">19153.9</td><td style = \"text-align: right;\">25399.2</td><td style = \"text-align: right;\">6245.3</td><td style = \"text-align: right;\">1.32606</td><td style = \"text-align: left;\">[(&quot;MA&quot;, 850.278)]</td><td style = \"text-align: left;\">[]</td></tr><tr><td class = \"rowNumber\" style = \"font-weight: bold; text-align: right;\">11</td><td style = \"text-align: left;\">NY</td><td style = \"text-align: left;\">2020-04-11</td><td style = \"text-align: right;\">2152.95</td><td style = \"text-align: right;\">0.0</td><td style = \"text-align: right;\">9773.5</td><td style = \"text-align: right;\">17001.0</td><td style = \"text-align: right;\">25062.1</td><td style = \"text-align: right;\">8061.13</td><td style = \"text-align: right;\">1.47416</td><td style = \"text-align: left;\">[(&quot;NJ&quot;, 2152.95)]</td><td style = \"text-align: left;\">[]</td></tr><tr><td class = \"rowNumber\" style = \"font-weight: bold; text-align: right;\">12</td><td style = \"text-align: left;\">NY</td><td style = \"text-align: left;\">2020-04-12</td><td style = \"text-align: right;\">0.0</td><td style = \"text-align: right;\">0.0</td><td style = \"text-align: right;\">9773.5</td><td style = \"text-align: right;\">17001.0</td><td style = \"text-align: right;\">24523.6</td><td style = \"text-align: right;\">7522.65</td><td style = \"text-align: right;\">1.44248</td><td style = \"text-align: left;\">[]</td><td style = \"text-align: left;\">[]</td></tr><tr><td class = \"rowNumber\" style = \"font-weight: bold; text-align: right;\">13</td><td style = \"text-align: left;\">NY</td><td style = \"text-align: left;\">2020-04-13</td><td style = \"text-align: right;\">857.808</td><td style = \"text-align: right;\">0.0</td><td style = \"text-align: right;\">9773.5</td><td style = \"text-align: right;\">16143.2</td><td style = \"text-align: right;\">23795.8</td><td style = \"text-align: right;\">7652.67</td><td style = \"text-align: right;\">1.47405</td><td style = \"text-align: left;\">[(&quot;PA&quot;, 857.808)]</td><td style = \"text-align: left;\">[]</td></tr><tr><td style = \"text-align: right;\">&vellip;</td><td style = \"text-align: right;\">&vellip;</td><td style = \"text-align: right;\">&vellip;</td><td style = \"text-align: right;\">&vellip;</td><td style = \"text-align: right;\">&vellip;</td><td style = \"text-align: right;\">&vellip;</td><td style = \"text-align: right;\">&vellip;</td><td style = \"text-align: right;\">&vellip;</td><td style = \"text-align: right;\">&vellip;</td><td style = \"text-align: right;\">&vellip;</td><td style = \"text-align: right;\">&vellip;</td><td style = \"text-align: right;\">&vellip;</td></tr><tr><td class = \"rowNumber\" style = \"font-weight: bold; text-align: right;\">20</td><td style = \"text-align: left;\">NY</td><td style = \"text-align: left;\">2020-04-20</td><td style = \"text-align: right;\">0.0</td><td style = \"text-align: right;\">0.0</td><td style = \"text-align: right;\">9773.5</td><td style = \"text-align: right;\">11205.8</td><td style = \"text-align: right;\">16887.6</td><td style = \"text-align: right;\">5681.84</td><td style = \"text-align: right;\">1.50705</td><td style = \"text-align: left;\">[]</td><td style = \"text-align: left;\">[]</td></tr><tr><td class = \"rowNumber\" style = \"font-weight: bold; text-align: right;\">21</td><td style = \"text-align: left;\">NY</td><td style = \"text-align: left;\">2020-04-21</td><td style = \"text-align: right;\">382.57</td><td style = \"text-align: right;\">0.0</td><td style = \"text-align: right;\">9773.5</td><td style = \"text-align: right;\">10823.2</td><td style = \"text-align: right;\">15937.0</td><td style = \"text-align: right;\">5113.77</td><td style = \"text-align: right;\">1.47248</td><td style = \"text-align: left;\">[(&quot;PA&quot;, 382.57)]</td><td style = \"text-align: left;\">[]</td></tr><tr><td class = \"rowNumber\" style = \"font-weight: bold; text-align: right;\">22</td><td style = \"text-align: left;\">NY</td><td style = \"text-align: left;\">2020-04-22</td><td style = \"text-align: right;\">0.0</td><td style = \"text-align: right;\">0.0</td><td style = \"text-align: right;\">9773.5</td><td style = \"text-align: right;\">10823.2</td><td style = \"text-align: right;\">15036.5</td><td style = \"text-align: right;\">4213.28</td><td style = \"text-align: right;\">1.38928</td><td style = \"text-align: left;\">[]</td><td style = \"text-align: left;\">[]</td></tr><tr><td class = \"rowNumber\" style = \"font-weight: bold; text-align: right;\">23</td><td style = \"text-align: left;\">NY</td><td style = \"text-align: left;\">2020-04-23</td><td style = \"text-align: right;\">0.0</td><td style = \"text-align: right;\">0.0</td><td style = \"text-align: right;\">9773.5</td><td style = \"text-align: right;\">10823.2</td><td style = \"text-align: right;\">14181.0</td><td style = \"text-align: right;\">3357.84</td><td style = \"text-align: right;\">1.31024</td><td style = \"text-align: left;\">[]</td><td style = \"text-align: left;\">[]</td></tr><tr><td class = \"rowNumber\" style = \"font-weight: bold; text-align: right;\">24</td><td style = \"text-align: left;\">NY</td><td style = \"text-align: left;\">2020-04-24</td><td style = \"text-align: right;\">0.0</td><td style = \"text-align: right;\">0.0</td><td style = \"text-align: right;\">9773.5</td><td style = \"text-align: right;\">10823.2</td><td style = \"text-align: right;\">13381.1</td><td style = \"text-align: right;\">2557.87</td><td style = \"text-align: right;\">1.23633</td><td style = \"text-align: left;\">[]</td><td style = \"text-align: left;\">[]</td></tr><tr><td class = \"rowNumber\" style = \"font-weight: bold; text-align: right;\">25</td><td style = \"text-align: left;\">NY</td><td style = \"text-align: left;\">2020-04-25</td><td style = \"text-align: right;\">0.0</td><td style = \"text-align: right;\">0.0</td><td style = \"text-align: right;\">9773.5</td><td style = \"text-align: right;\">10823.2</td><td style = \"text-align: right;\">12633.3</td><td style = \"text-align: right;\">1810.09</td><td style = \"text-align: right;\">1.16724</td><td style = \"text-align: left;\">[]</td><td style = \"text-align: left;\">[]</td></tr><tr><td class = \"rowNumber\" style = \"font-weight: bold; text-align: right;\">26</td><td style = \"text-align: left;\">NY</td><td style = \"text-align: left;\">2020-04-26</td><td style = \"text-align: right;\">850.987</td><td style = \"text-align: right;\">0.0</td><td style = \"text-align: right;\">9773.5</td><td style = \"text-align: right;\">9972.21</td><td style = \"text-align: right;\">11933.2</td><td style = \"text-align: right;\">1960.98</td><td style = \"text-align: right;\">1.19664</td><td style = \"text-align: left;\">[(&quot;MA&quot;, 850.987)]</td><td style = \"text-align: left;\">[]</td></tr><tr><td class = \"rowNumber\" style = \"font-weight: bold; text-align: right;\">27</td><td style = \"text-align: left;\">NY</td><td style = \"text-align: left;\">2020-04-27</td><td style = \"text-align: right;\">0.0</td><td style = \"text-align: right;\">0.0</td><td style = \"text-align: right;\">9773.5</td><td style = \"text-align: right;\">9972.21</td><td style = \"text-align: right;\">11272.7</td><td style = \"text-align: right;\">1300.47</td><td style = \"text-align: right;\">1.13041</td><td style = \"text-align: left;\">[]</td><td style = \"text-align: left;\">[]</td></tr><tr><td class = \"rowNumber\" style = \"font-weight: bold; text-align: right;\">28</td><td style = \"text-align: left;\">NY</td><td style = \"text-align: left;\">2020-04-28</td><td style = \"text-align: right;\">313.862</td><td style = \"text-align: right;\">0.0</td><td style = \"text-align: right;\">9773.5</td><td style = \"text-align: right;\">9658.35</td><td style = \"text-align: right;\">10663.2</td><td style = \"text-align: right;\">1004.84</td><td style = \"text-align: right;\">1.10404</td><td style = \"text-align: left;\">[(&quot;PA&quot;, 313.862)]</td><td style = \"text-align: left;\">[]</td></tr><tr><td class = \"rowNumber\" style = \"font-weight: bold; text-align: right;\">29</td><td style = \"text-align: left;\">NY</td><td style = \"text-align: left;\">2020-04-29</td><td style = \"text-align: right;\">0.0</td><td style = \"text-align: right;\">0.0</td><td style = \"text-align: right;\">9773.5</td><td style = \"text-align: right;\">9658.35</td><td style = \"text-align: right;\">10092.1</td><td style = \"text-align: right;\">433.731</td><td style = \"text-align: right;\">1.04491</td><td style = \"text-align: left;\">[]</td><td style = \"text-align: left;\">[]</td></tr><tr><td class = \"rowNumber\" style = \"font-weight: bold; text-align: right;\">30</td><td style = \"text-align: left;\">NY</td><td style = \"text-align: left;\">2020-04-30</td><td style = \"text-align: right;\">100.266</td><td style = \"text-align: right;\">0.0</td><td style = \"text-align: right;\">9773.5</td><td style = \"text-align: right;\">9558.08</td><td style = \"text-align: right;\">9558.08</td><td style = \"text-align: right;\">0.0</td><td style = \"text-align: right;\">1.0</td><td style = \"text-align: left;\">[(&quot;DE&quot;, 100.266)]</td><td style = \"text-align: left;\">[]</td></tr><tr><td class = \"rowNumber\" style = \"font-weight: bold; text-align: right;\">31</td><td style = \"text-align: left;\">NY</td><td style = \"text-align: left;\">2020-05-01</td><td style = \"text-align: right;\">0.0</td><td style = \"text-align: right;\">0.0</td><td style = \"text-align: right;\">9773.5</td><td style = \"text-align: right;\">9558.08</td><td style = \"text-align: right;\">9055.49</td><td style = \"text-align: right;\">0.0</td><td style = \"text-align: right;\">0.947417</td><td style = \"text-align: left;\">[]</td><td style = \"text-align: left;\">[]</td></tr></tbody></table></div>"
      ],
      "text/latex": [
       "\\begin{tabular}{r|ccccccccccc}\n",
       "\t& state & date & sent & received & initial\\_nurses & current\\_nurses & demand & shortage & load & sent\\_to & sent\\_from\\\\\n",
       "\t\\hline\n",
       "\t& String & Date & Float64 & Float64 & Float32 & Float64 & Float32 & Float64 & Float64 & Any & Any\\\\\n",
       "\t\\hline\n",
       "\t1 & NY & 2020-04-01 & 0.0 & 8904.79 & 9773.5 & 18678.3 & 16920.3 & 0.0 & 0.905879 & [] & [(\"CT\", 1291.93), (\"MA\", 4567.76), (\"MD\", 1873.89), (\"PA\", 659.073), (\"RI\", 512.137)] \\\\\n",
       "\t2 & NY & 2020-04-02 & 0.0 & 1644.95 & 9773.5 & 20323.2 & 18678.3 & 0.0 & 0.919061 & [] & [(\"MA\", 44.5293), (\"PA\", 1566.05), (\"RI\", 34.3784)] \\\\\n",
       "\t3 & NY & 2020-04-03 & 0.0 & 785.664 & 9773.5 & 21108.9 & 20323.2 & 0.0 & 0.96278 & [] & [(\"RI\", 785.664)] \\\\\n",
       "\t4 & NY & 2020-04-04 & 0.0 & 0.0 & 9773.5 & 21108.9 & 21804.5 & 695.613 & 1.03295 & [] & [] \\\\\n",
       "\t5 & NY & 2020-04-05 & 0.0 & 0.0 & 9773.5 & 21108.9 & 23066.7 & 1957.83 & 1.09275 & [] & [] \\\\\n",
       "\t6 & NY & 2020-04-06 & 0.0 & 0.0 & 9773.5 & 21108.9 & 24089.6 & 2980.67 & 1.1412 & [] & [] \\\\\n",
       "\t7 & NY & 2020-04-07 & 0.0 & 0.0 & 9773.5 & 21108.9 & 24835.1 & 3726.23 & 1.17652 & [] & [] \\\\\n",
       "\t8 & NY & 2020-04-08 & 0.0 & 0.0 & 9773.5 & 21108.9 & 25303.3 & 4194.35 & 1.1987 & [] & [] \\\\\n",
       "\t9 & NY & 2020-04-09 & 1104.7 & 0.0 & 9773.5 & 20004.2 & 25484.6 & 5480.36 & 1.27396 & [(\"DE\", 54.6573), (\"PA\", 1050.04)] & [] \\\\\n",
       "\t10 & NY & 2020-04-10 & 850.278 & 0.0 & 9773.5 & 19153.9 & 25399.2 & 6245.3 & 1.32606 & [(\"MA\", 850.278)] & [] \\\\\n",
       "\t11 & NY & 2020-04-11 & 2152.95 & 0.0 & 9773.5 & 17001.0 & 25062.1 & 8061.13 & 1.47416 & [(\"NJ\", 2152.95)] & [] \\\\\n",
       "\t12 & NY & 2020-04-12 & 0.0 & 0.0 & 9773.5 & 17001.0 & 24523.6 & 7522.65 & 1.44248 & [] & [] \\\\\n",
       "\t13 & NY & 2020-04-13 & 857.808 & 0.0 & 9773.5 & 16143.2 & 23795.8 & 7652.67 & 1.47405 & [(\"PA\", 857.808)] & [] \\\\\n",
       "\t14 & NY & 2020-04-14 & 0.0 & 0.0 & 9773.5 & 16143.2 & 22956.5 & 6813.32 & 1.42206 & [] & [] \\\\\n",
       "\t15 & NY & 2020-04-15 & 2261.3 & 0.0 & 9773.5 & 13881.9 & 22000.1 & 8118.22 & 1.58481 & [(\"MD\", 1870.16), (\"PA\", 391.144)] & [] \\\\\n",
       "\t16 & NY & 2020-04-16 & 1773.98 & 0.0 & 9773.5 & 12107.9 & 20989.3 & 8881.4 & 1.73352 & [(\"CT\", 1678.46), (\"MD\", 95.5249)] & [] \\\\\n",
       "\t17 & NY & 2020-04-17 & 351.705 & 0.0 & 9773.5 & 11756.2 & 19943.6 & 8187.44 & 1.69644 & [(\"DE\", 78.1336), (\"RI\", 273.571)] & [] \\\\\n",
       "\t18 & NY & 2020-04-18 & 550.425 & 0.0 & 9773.5 & 11205.8 & 18900.7 & 7694.93 & 1.68669 & [(\"MD\", 39.9766), (\"PA\", 510.448)] & [] \\\\\n",
       "\t19 & NY & 2020-04-19 & 0.0 & 0.0 & 9773.5 & 11205.8 & 17873.2 & 6667.4 & 1.595 & [] & [] \\\\\n",
       "\t20 & NY & 2020-04-20 & 0.0 & 0.0 & 9773.5 & 11205.8 & 16887.6 & 5681.84 & 1.50705 & [] & [] \\\\\n",
       "\t21 & NY & 2020-04-21 & 382.57 & 0.0 & 9773.5 & 10823.2 & 15937.0 & 5113.77 & 1.47248 & [(\"PA\", 382.57)] & [] \\\\\n",
       "\t22 & NY & 2020-04-22 & 0.0 & 0.0 & 9773.5 & 10823.2 & 15036.5 & 4213.28 & 1.38928 & [] & [] \\\\\n",
       "\t23 & NY & 2020-04-23 & 0.0 & 0.0 & 9773.5 & 10823.2 & 14181.0 & 3357.84 & 1.31024 & [] & [] \\\\\n",
       "\t24 & NY & 2020-04-24 & 0.0 & 0.0 & 9773.5 & 10823.2 & 13381.1 & 2557.87 & 1.23633 & [] & [] \\\\\n",
       "\t$\\dots$ & $\\dots$ & $\\dots$ & $\\dots$ & $\\dots$ & $\\dots$ & $\\dots$ & $\\dots$ & $\\dots$ & $\\dots$ & $\\dots$ & $\\dots$ \\\\\n",
       "\\end{tabular}\n"
      ],
      "text/plain": [
       "\u001b[1m31×11 DataFrame\u001b[0m\n",
       "\u001b[1m Row \u001b[0m│\u001b[1m state  \u001b[0m\u001b[1m date       \u001b[0m\u001b[1m sent     \u001b[0m\u001b[1m received \u001b[0m\u001b[1m initial_nurses \u001b[0m\u001b[1m current_nurses \u001b[0m\u001b[1m demand   \u001b[0m\u001b[1m shortage \u001b[0m\u001b[1m load     \u001b[0m\u001b[1m sent_to                           \u001b[0m\u001b[1m sent_from                         \u001b[0m\n",
       "     │\u001b[90m String \u001b[0m\u001b[90m Date       \u001b[0m\u001b[90m Float64  \u001b[0m\u001b[90m Float64  \u001b[0m\u001b[90m Float32        \u001b[0m\u001b[90m Float64        \u001b[0m\u001b[90m Float32  \u001b[0m\u001b[90m Float64  \u001b[0m\u001b[90m Float64  \u001b[0m\u001b[90m Any                               \u001b[0m\u001b[90m Any                               \u001b[0m\n",
       "─────┼────────────────────────────────────────────────────────────────────────────────────────────────────────────────────────────────────────────────────────────────────────────\n",
       "   1 │ NY      2020-04-01     0.0    8904.79           9773.5        18678.3   16920.3      0.0    0.905879  []                                 [(\"CT\", 1291.93), (\"MA\", 4567.76…\n",
       "   2 │ NY      2020-04-02     0.0    1644.95           9773.5        20323.2   18678.3      0.0    0.919061  []                                 [(\"MA\", 44.5293), (\"PA\", 1566.05…\n",
       "   3 │ NY      2020-04-03     0.0     785.664          9773.5        21108.9   20323.2      0.0    0.96278   []                                 [(\"RI\", 785.664)]\n",
       "   4 │ NY      2020-04-04     0.0       0.0            9773.5        21108.9   21804.5    695.613  1.03295   []                                 []\n",
       "   5 │ NY      2020-04-05     0.0       0.0            9773.5        21108.9   23066.7   1957.83   1.09275   []                                 []\n",
       "   6 │ NY      2020-04-06     0.0       0.0            9773.5        21108.9   24089.6   2980.67   1.1412    []                                 []\n",
       "   7 │ NY      2020-04-07     0.0       0.0            9773.5        21108.9   24835.1   3726.23   1.17652   []                                 []\n",
       "   8 │ NY      2020-04-08     0.0       0.0            9773.5        21108.9   25303.3   4194.35   1.1987    []                                 []\n",
       "  ⋮  │   ⋮         ⋮          ⋮         ⋮            ⋮               ⋮            ⋮         ⋮         ⋮                      ⋮                                  ⋮\n",
       "  25 │ NY      2020-04-25     0.0       0.0            9773.5        10823.2   12633.3   1810.09   1.16724   []                                 []\n",
       "  26 │ NY      2020-04-26   850.987     0.0            9773.5         9972.21  11933.2   1960.98   1.19664   [(\"MA\", 850.987)]                  []\n",
       "  27 │ NY      2020-04-27     0.0       0.0            9773.5         9972.21  11272.7   1300.47   1.13041   []                                 []\n",
       "  28 │ NY      2020-04-28   313.862     0.0            9773.5         9658.35  10663.2   1004.84   1.10404   [(\"PA\", 313.862)]                  []\n",
       "  29 │ NY      2020-04-29     0.0       0.0            9773.5         9658.35  10092.1    433.731  1.04491   []                                 []\n",
       "  30 │ NY      2020-04-30   100.266     0.0            9773.5         9558.08   9558.08     0.0    1.0       [(\"DE\", 100.266)]                  []\n",
       "  31 │ NY      2020-05-01     0.0       0.0            9773.5         9558.08   9055.49     0.0    0.947417  []                                 []\n",
       "\u001b[36m                                                                                                                                                                   16 rows omitted\u001b[0m"
      ]
     },
     "metadata": {},
     "output_type": "display_data"
    }
   ],
   "source": [
    "s = \"NY\"\n",
    "filter(row -> row.state == s, results.complete_table)"
   ]
  },
  {
   "cell_type": "code",
   "execution_count": 18,
   "metadata": {},
   "outputs": [
    {
     "data": {
      "text/plain": [
       "Dict{String, Vector{String}} with 11 entries:\n",
       "  \"RI\" => [\"NY\"]\n",
       "  \"NY\" => [\"CT\", \"DE\", \"MA\", \"MD\", \"NJ\", \"PA\", \"RI\"]\n",
       "  \"ME\" => [\"NH\", \"RI\"]\n",
       "  \"NJ\" => []\n",
       "  \"DE\" => [\"NJ\"]\n",
       "  \"MD\" => [\"NY\"]\n",
       "  \"NH\" => [\"CT\", \"MA\"]\n",
       "  \"CT\" => [\"NY\"]\n",
       "  \"MA\" => [\"NY\"]\n",
       "  \"PA\" => [\"NJ\", \"NY\"]\n",
       "  \"VT\" => [\"MA\", \"NH\"]"
      ]
     },
     "metadata": {},
     "output_type": "display_data"
    }
   ],
   "source": [
    "results.sent_to"
   ]
  },
  {
   "cell_type": "code",
   "execution_count": null,
   "metadata": {},
   "outputs": [],
   "source": []
  }
 ],
 "metadata": {
  "kernelspec": {
   "display_name": "Julia 1.10.2",
   "language": "julia",
   "name": "julia-1.10"
  },
  "language_info": {
   "file_extension": ".jl",
   "mimetype": "application/julia",
   "name": "julia",
   "version": "1.10.2"
  }
 },
 "nbformat": 4,
 "nbformat_minor": 4
}
