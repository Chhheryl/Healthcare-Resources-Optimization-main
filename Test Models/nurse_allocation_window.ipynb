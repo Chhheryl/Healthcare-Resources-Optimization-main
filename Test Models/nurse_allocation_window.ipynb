{
 "cells": [
  {
   "cell_type": "code",
<<<<<<< HEAD
   "execution_count": 1,
=======
   "execution_count": 7,
   "metadata": {},
   "outputs": [
    {
     "name": "stderr",
     "output_type": "stream",
     "text": [
      "\u001b[32m\u001b[1m   Resolving\u001b[22m\u001b[39m package versions...\n",
      "\u001b[32m\u001b[1m   Installed\u001b[22m\u001b[39m Memoize ─ v0.4.4\n",
      "\u001b[32m\u001b[1m    Updating\u001b[22m\u001b[39m `~/.julia/environments/v1.10/Project.toml`\n",
      "  \u001b[90m[c03570c3] \u001b[39m\u001b[92m+ Memoize v0.4.4\u001b[39m\n",
      "\u001b[32m\u001b[1m    Updating\u001b[22m\u001b[39m `~/.julia/environments/v1.10/Manifest.toml`\n",
      "  \u001b[90m[c03570c3] \u001b[39m\u001b[92m+ Memoize v0.4.4\u001b[39m\n",
      "\u001b[32m\u001b[1mPrecompiling\u001b[22m\u001b[39m project...\n",
      "\u001b[32m  ✓ \u001b[39mMemoize\n",
      "  1 dependency successfully precompiled in 1 seconds. 101 already precompiled.\n"
     ]
    }
   ],
   "source": [
    "Pkg.add(\"Memoize\")"
   ]
  },
  {
   "cell_type": "code",
   "execution_count": 8,
>>>>>>> a0722be22dce932ec527b0379af96346a604e552
   "metadata": {},
   "outputs": [
    {
     "name": "stdout",
     "output_type": "stream",
     "text": [
      "nurse_hrs_per_day_covid = nurse_hrs_per_week_covid / 7 = 5.142857142857143\n",
      "nurses_days_per_day_covid = 24 / nurse_hrs_per_day_covid = 4.666666666666666\n",
      "nurse_days_per_patient_day_covid = nurses_days_per_day_covid / patients_per_nurse_covid = 1.8666666666666665\n"
     ]
    },
    {
<<<<<<< HEAD
=======
     "name": "stderr",
     "output_type": "stream",
     "text": [
      "WARNING: replacing module COVIDResourceAllocation.\n"
     ]
    },
    {
>>>>>>> a0722be22dce932ec527b0379af96346a604e552
     "data": {
      "text/html": [
       "<div><div style = \"float: left;\"><span>11×4 DataFrame</span></div><div style = \"clear: both;\"></div></div><div class = \"data-frame\" style = \"overflow-x: scroll;\"><table class = \"data-frame\" style = \"margin-bottom: 6px;\"><thead><tr class = \"header\"><th class = \"rowNumber\" style = \"font-weight: bold; text-align: right;\">Row</th><th style = \"text-align: left;\">state</th><th style = \"text-align: left;\">from_beds</th><th style = \"text-align: left;\">from_empl</th><th style = \"text-align: left;\">from_ahrf</th></tr><tr class = \"subheader headerLastRow\"><th class = \"rowNumber\" style = \"font-weight: bold; text-align: right;\"></th><th title = \"String\" style = \"text-align: left;\">String</th><th title = \"Float32\" style = \"text-align: left;\">Float32</th><th title = \"Float32\" style = \"text-align: left;\">Float32</th><th title = \"Float32\" style = \"text-align: left;\">Float32</th></tr></thead><tbody><tr><td class = \"rowNumber\" style = \"font-weight: bold; text-align: right;\">1</td><td style = \"text-align: left;\">CT</td><td style = \"text-align: right;\">8221.27</td><td style = \"text-align: right;\">12120.0</td><td style = \"text-align: right;\">4593.0</td></tr><tr><td class = \"rowNumber\" style = \"font-weight: bold; text-align: right;\">2</td><td style = \"text-align: left;\">DE</td><td style = \"text-align: right;\">2257.27</td><td style = \"text-align: right;\">3234.06</td><td style = \"text-align: right;\">1322.0</td></tr><tr><td class = \"rowNumber\" style = \"font-weight: bold; text-align: right;\">3</td><td style = \"text-align: left;\">MA</td><td style = \"text-align: right;\">17563.5</td><td style = \"text-align: right;\">38220.5</td><td style = \"text-align: right;\">10146.0</td></tr><tr><td class = \"rowNumber\" style = \"font-weight: bold; text-align: right;\">4</td><td style = \"text-align: left;\">MD</td><td style = \"text-align: right;\">9598.4</td><td style = \"text-align: right;\">29581.0</td><td style = \"text-align: right;\">6169.0</td></tr><tr><td class = \"rowNumber\" style = \"font-weight: bold; text-align: right;\">5</td><td style = \"text-align: left;\">ME</td><td style = \"text-align: right;\">2877.47</td><td style = \"text-align: right;\">2346.56</td><td style = \"text-align: right;\">1962.0</td></tr><tr><td class = \"rowNumber\" style = \"font-weight: bold; text-align: right;\">6</td><td style = \"text-align: left;\">NH</td><td style = \"text-align: right;\">2567.13</td><td style = \"text-align: right;\">1484.33</td><td style = \"text-align: right;\">1934.0</td></tr><tr><td class = \"rowNumber\" style = \"font-weight: bold; text-align: right;\">7</td><td style = \"text-align: left;\">NJ</td><td style = \"text-align: right;\">19164.1</td><td style = \"text-align: right;\">71498.5</td><td style = \"text-align: right;\">6652.0</td></tr><tr><td class = \"rowNumber\" style = \"font-weight: bold; text-align: right;\">8</td><td style = \"text-align: left;\">NY</td><td style = \"text-align: right;\">44213.9</td><td style = \"text-align: right;\">83342.8</td><td style = \"text-align: right;\">19547.0</td></tr><tr><td class = \"rowNumber\" style = \"font-weight: bold; text-align: right;\">9</td><td style = \"text-align: left;\">PA</td><td style = \"text-align: right;\">34385.9</td><td style = \"text-align: right;\">65427.3</td><td style = \"text-align: right;\">14189.0</td></tr><tr><td class = \"rowNumber\" style = \"font-weight: bold; text-align: right;\">10</td><td style = \"text-align: left;\">RI</td><td style = \"text-align: right;\">3042.2</td><td style = \"text-align: right;\">10057.2</td><td style = \"text-align: right;\">1253.0</td></tr><tr><td class = \"rowNumber\" style = \"font-weight: bold; text-align: right;\">11</td><td style = \"text-align: left;\">VT</td><td style = \"text-align: right;\">1131.2</td><td style = \"text-align: right;\">1665.86</td><td style = \"text-align: right;\">691.0</td></tr></tbody></table></div>"
      ],
      "text/latex": [
       "\\begin{tabular}{r|cccc}\n",
       "\t& state & from\\_beds & from\\_empl & from\\_ahrf\\\\\n",
       "\t\\hline\n",
       "\t& String & Float32 & Float32 & Float32\\\\\n",
       "\t\\hline\n",
       "\t1 & CT & 8221.27 & 12120.0 & 4593.0 \\\\\n",
       "\t2 & DE & 2257.27 & 3234.06 & 1322.0 \\\\\n",
       "\t3 & MA & 17563.5 & 38220.5 & 10146.0 \\\\\n",
       "\t4 & MD & 9598.4 & 29581.0 & 6169.0 \\\\\n",
       "\t5 & ME & 2877.47 & 2346.56 & 1962.0 \\\\\n",
       "\t6 & NH & 2567.13 & 1484.33 & 1934.0 \\\\\n",
       "\t7 & NJ & 19164.1 & 71498.5 & 6652.0 \\\\\n",
       "\t8 & NY & 44213.9 & 83342.8 & 19547.0 \\\\\n",
       "\t9 & PA & 34385.9 & 65427.3 & 14189.0 \\\\\n",
       "\t10 & RI & 3042.2 & 10057.2 & 1253.0 \\\\\n",
       "\t11 & VT & 1131.2 & 1665.86 & 691.0 \\\\\n",
       "\\end{tabular}\n"
      ],
      "text/plain": [
       "\u001b[1m11×4 DataFrame\u001b[0m\n",
       "\u001b[1m Row \u001b[0m│\u001b[1m state  \u001b[0m\u001b[1m from_beds \u001b[0m\u001b[1m from_empl \u001b[0m\u001b[1m from_ahrf \u001b[0m\n",
       "     │\u001b[90m String \u001b[0m\u001b[90m Float32   \u001b[0m\u001b[90m Float32   \u001b[0m\u001b[90m Float32   \u001b[0m\n",
       "─────┼─────────────────────────────────────────\n",
       "   1 │ CT        8221.27   12120.0      4593.0\n",
       "   2 │ DE        2257.27    3234.06     1322.0\n",
       "   3 │ MA       17563.5    38220.5     10146.0\n",
       "   4 │ MD        9598.4    29581.0      6169.0\n",
       "   5 │ ME        2877.47    2346.56     1962.0\n",
       "   6 │ NH        2567.13    1484.33     1934.0\n",
       "   7 │ NJ       19164.1    71498.5      6652.0\n",
       "   8 │ NY       44213.9    83342.8     19547.0\n",
       "   9 │ PA       34385.9    65427.3     14189.0\n",
       "  10 │ RI        3042.2    10057.2      1253.0\n",
       "  11 │ VT        1131.2     1665.86      691.0"
      ]
     },
     "metadata": {},
     "output_type": "display_data"
    }
   ],
   "source": [
    "using Dates\n",
<<<<<<< HEAD
=======
    "using Memoize\n",
>>>>>>> a0722be22dce932ec527b0379af96346a604e552
    "using JuMP\n",
    "using CSV\n",
    "using DataFrames\n",
    "using LinearAlgebra\n",
    "using Pkg\n",
    "using IJulia\n",
<<<<<<< HEAD
=======
    "using Distributions\n",
>>>>>>> a0722be22dce932ec527b0379af96346a604e552
    "ENV[\"COLUMNS\"] = 200\n",
    "\n",
    "# Assuming your Julia file is named \"COVIDResourceAllocation.jl\"\n",
    "include(\"COVIDResourceAllocation.jl\")\n",
    "using .COVIDResourceAllocation\n",
    "\n",
    "states = [\"CT\", \"DE\", \"MA\", \"MD\", \"ME\", \"NH\", \"NJ\", \"NY\", \"PA\", \"RI\", \"VT\"]\n",
    "start_date = Date(2020, 4, 1)\n",
    "end_date   = Date(2020, 5, 1)\n",
    "travel_threshold_hours = 4.0\n",
    "\n",
    "pct_nurses_available = 0.5\n",
    "patients_per_nurse_covid = 2.5\n",
    "nurse_hrs_per_week_covid = 36\n",
    "\n",
    "@show nurse_hrs_per_day_covid = nurse_hrs_per_week_covid / 7\n",
    "@show nurses_days_per_day_covid = 24 / nurse_hrs_per_day_covid\n",
    "\n",
    "@show nurse_days_per_patient_day_covid = nurses_days_per_day_covid / patients_per_nurse_covid\n",
<<<<<<< HEAD
    "adj = adjacencies(states, level=:state, source=:google, threshold=travel_threshold_hours)\n",
    "\n",
=======
    "\n",
    "adj = adjacencies(states, level=:state, source=:google, threshold=travel_threshold_hours)\n",
>>>>>>> a0722be22dce932ec527b0379af96346a604e552
    "\n",
    "forecast_active = forecast(\n",
    "    states, start_date, end_date,\n",
    "    level=:state,\n",
    "    source=:ihme,\n",
    "    forecast_type=:active,\n",
    "    patient_type=:regular,\n",
    "    bound_type=:mean,\n",
    ")\n",
    "\n",
    "demand = forecast_active * Float32(nurse_days_per_patient_day_covid)\n",
    "\n",
    "nurses = n_nurses(states) * Float32(pct_nurses_available)\n",
    "\n",
    "_nurses_beds = n_nurses(states, source=:beds);\n",
    "_nurses_empl = n_nurses(states, source=:employment);\n",
    "_nurses_ahrf = n_nurses(states, source=:ahrf);\n",
    "DataFrame(\n",
    "    state = states,\n",
    "    from_beds = _nurses_beds,\n",
    "    from_empl = _nurses_empl,\n",
    "    from_ahrf = _nurses_ahrf,\n",
<<<<<<< HEAD
    ")\n",
    "\n",
    "# model = reusable_resource_allocation(\n",
    "#     nurses,\n",
    "#     zeros(Float32, size(demand)...),\n",
    "#     demand,\n",
    "#     adj,\n",
    "#     send_new_only=false,\n",
    "#     sendrecieve_switch_time=0,\n",
    "#     min_send_amt=0,\n",
    "#     smoothness_penalty=0,\n",
    "#     setup_cost=0,\n",
    "#     sent_penalty=0.01,\n",
    "#     verbose=true\n",
    "# )\n",
    "# sent = value.(model[:sent])\n",
    "# println(\"termination status: \", termination_status(model))\n",
    "# println(\"solve time: \", round(solve_time(model), digits=3), \"s\")\n",
    "# println(\"objective function value: \", round(objective_value(model), digits=3))"
=======
    ")"
   ]
  },
  {
   "cell_type": "code",
   "execution_count": 14,
   "metadata": {},
   "outputs": [
    {
     "data": {
      "text/plain": [
       "11×31 Matrix{Float32}:\n",
       "  1004.57     1171.2      1349.28     1544.55     1742.77     1954.06     2166.25     2379.58    …   3912.6      3867.27     3810.32     3746.65     3668.61     3588.91    3509.19    3421.23\n",
       "    70.3982     82.1305     93.8402    100.041     105.463     117.815     130.141     142.619        287.8       300.109     306.822     313.175     319.333     325.417    331.844    338.52\n",
       "   505.24      592.067     688.644     795.848     913.443    1040.49     1173.54     1316.77        2886.62     2878.09     2857.59     2823.14     2782.22     2735.29    2677.97    2614.75\n",
       "   643.135     762.345     896.905    1047.45     1210.61     1388.56     1566.9      1754.26        3392.52     3375.12     3356.09     3336.92     3307.37     3271.8     3246.26    3216.26\n",
       "    56.6743     63.287      69.3816     75.4285     81.3798     87.3393     87.3557     87.5751        54.4786     48.4423     48.4754     48.4796     48.6025     48.5877    48.4819    48.5223\n",
       "    52.7495     59.7998     66.6307     72.9351     79.5009     85.7697     92.1434     92.1396  …    170.872     177.048     183.588     189.728     197.528     205.425    213.082    219.697\n",
       "  4499.34     5149.87     5825.89     6513.68     7202.55     7877.19     8527.81     9132.07       11001.5     10798.6     10576.7     10342.5     10105.1      9861.8     9608.42    9355.5\n",
       " 16920.3     18678.3     20323.2     21804.5     23066.7     24089.6     24835.1     25303.3        13381.1     12633.3     11933.2     11272.7     10663.2     10092.1     9558.08    9055.49\n",
       "   883.269    1029.8      1192.93     1367.8      1548.37     1744.01     1955.1      2163.43        4913.13     4976.42     5028.62     5063.84     5092.95     5106.22    5097.09    5086.3\n",
       "   114.363     131.709     154.533     177.229     199.892     228.136     251.543     280.487        521.276     527.612     534.056     535.082     536.233     537.735    538.777    540.205\n",
       "    40.4389     41.0325     41.5874     42.0629     42.0175     42.0307     41.9404     42.0369  …     41.9727     42.0485     42.0928     42.0826     41.9531     41.974     41.8792    41.7409"
      ]
     },
     "metadata": {},
     "output_type": "display_data"
    }
   ],
   "source": [
    "demand"
   ]
  },
  {
   "cell_type": "code",
   "execution_count": 18,
   "metadata": {},
   "outputs": [
    {
     "data": {
      "text/plain": [
       "11×2 Matrix{Float32}:\n",
       "  1004.57     1171.2\n",
       "    70.3982     82.1305\n",
       "   505.24      592.067\n",
       "   643.135     762.345\n",
       "    56.6743     63.287\n",
       "    52.7495     59.7998\n",
       "  4499.34     5149.87\n",
       " 16920.3     18678.3\n",
       "   883.269    1029.8\n",
       "   114.363     131.709\n",
       "    40.4389     41.0325"
      ]
     },
     "metadata": {},
     "output_type": "display_data"
    }
   ],
   "source": [
    "demand[:,1:2]"
   ]
  },
  {
   "cell_type": "code",
   "execution_count": 19,
   "metadata": {},
   "outputs": [
    {
     "name": "stdout",
     "output_type": "stream",
     "text": [
      "Set parameter Username\n",
      "Academic license - for non-commercial use only - expires 2025-04-21\n",
      "Gurobi Optimizer version 11.0.1 build v11.0.1rc0 (mac64[arm] - Darwin 23.4.0 23E214)\n",
      "\n",
      "CPU model: Apple M1\n",
      "Thread count: 8 physical cores, 8 logical processors, using up to 8 threads\n",
      "\n",
      "Optimize a model with 345 rows, 264 columns and 1306 nonzeros\n",
      "Model fingerprint: 0xe473ccbc\n",
      "Coefficient statistics:\n",
      "  Matrix range     [1e+00, 1e+00]\n",
      "  Objective range  [1e-02, 1e+00]\n",
      "  Bounds range     [0e+00, 0e+00]\n",
      "  RHS range        [3e+02, 1e+04]\n",
      "Presolve removed 303 rows and 182 columns\n",
      "Presolve time: 0.00s\n",
      "Presolved: 42 rows, 82 columns, 378 nonzeros\n",
      "\n",
      "Iteration    Objective       Primal Inf.    Dual Inf.      Time\n",
      "       0    8.3201240e+03   1.341083e+03   0.000000e+00      0s\n",
      "      10    8.4274107e+03   0.000000e+00   0.000000e+00      0s\n",
      "\n",
      "Solved in 10 iterations and 0.01 seconds (0.00 work units)\n",
      "Optimal objective  8.427410664e+03\n",
      "\n",
      "User-callback calls 54, time in user-callback 0.00 sec\n",
      "termination status: OPTIMAL\n",
      "solve time: 0.005s\n",
      "objective function value: 8427.411\n"
     ]
    }
   ],
   "source": [
    "model = reusable_resource_allocation(\n",
    "    nurses,\n",
    "    zeros(Float32, size(demand[:,1:2])...), # cols are time periods, rows are hos\n",
    "    demand[:,1:2],\n",
    "    adj,\n",
    "    send_new_only=false,\n",
    "    sendrecieve_switch_time=0,\n",
    "    min_send_amt=0,\n",
    "    smoothness_penalty=0,\n",
    "    setup_cost=0,\n",
    "    sent_penalty=0.01,\n",
    "    verbose=true\n",
    ")\n",
    "sent = value.(model[:sent])\n",
    "println(\"termination status: \", termination_status(model))\n",
    "println(\"solve time: \", round(solve_time(model), digits=3), \"s\")\n",
    "println(\"objective function value: \", round(objective_value(model), digits=3))"
>>>>>>> a0722be22dce932ec527b0379af96346a604e552
   ]
  },
  {
   "cell_type": "code",
<<<<<<< HEAD
   "execution_count": 2,
   "metadata": {},
   "outputs": [
    {
     "ename": "UndefVarError",
     "evalue": "UndefVarError: `supply` not defined",
     "output_type": "error",
     "traceback": [
      "UndefVarError: `supply` not defined\n"
=======
   "execution_count": 22,
   "metadata": {},
   "outputs": [
    {
     "name": "stdout",
     "output_type": "stream",
     "text": [
      "Total sent: 10728.6640625\n",
      "Total shortage: 0.0\n",
      "Average load: 0.6313905096960949\n"
>>>>>>> a0722be22dce932ec527b0379af96346a604e552
     ]
    }
   ],
   "source": [
<<<<<<< HEAD
    "supply"
=======
    "results = NurseAllocationResults.results_all(sent, nurses, demand[:,1:2], states, start_date)\n",
    "println(\"Total sent: \", results.total_sent)\n",
    "println(\"Total shortage: \", results.total_shortage)\n",
    "println(\"Average load: \", results.average_load)"
   ]
  },
  {
   "cell_type": "code",
   "execution_count": 23,
   "metadata": {},
   "outputs": [
    {
     "data": {
      "text/html": [
       "<div><div style = \"float: left;\"><span>11×8 DataFrame</span></div><div style = \"clear: both;\"></div></div><div class = \"data-frame\" style = \"overflow-x: scroll;\"><table class = \"data-frame\" style = \"margin-bottom: 6px;\"><thead><tr class = \"header\"><th class = \"rowNumber\" style = \"font-weight: bold; text-align: right;\">Row</th><th style = \"text-align: left;\">state</th><th style = \"text-align: left;\">total_sent</th><th style = \"text-align: left;\">total_received</th><th style = \"text-align: left;\">initial_nurses</th><th style = \"text-align: left;\">total_nurse_days</th><th style = \"text-align: left;\">total_demand</th><th style = \"text-align: left;\">total_shortage</th><th style = \"text-align: left;\">average_load</th></tr><tr class = \"subheader headerLastRow\"><th class = \"rowNumber\" style = \"font-weight: bold; text-align: right;\"></th><th title = \"String\" style = \"text-align: left;\">String</th><th title = \"Float64\" style = \"text-align: left;\">Float64</th><th title = \"Float64\" style = \"text-align: left;\">Float64</th><th title = \"Float32\" style = \"text-align: left;\">Float32</th><th title = \"Float64\" style = \"text-align: left;\">Float64</th><th title = \"Float32\" style = \"text-align: left;\">Float32</th><th title = \"Float64\" style = \"text-align: left;\">Float64</th><th title = \"Float64\" style = \"text-align: left;\">Float64</th></tr></thead><tbody><tr><td class = \"rowNumber\" style = \"font-weight: bold; text-align: right;\">1</td><td style = \"text-align: left;\">CT</td><td style = \"text-align: right;\">1125.3</td><td style = \"text-align: right;\">0.0</td><td style = \"text-align: right;\">2296.5</td><td style = \"text-align: right;\">2342.39</td><td style = \"text-align: right;\">2175.77</td><td style = \"text-align: right;\">0.0</td><td style = \"text-align: right;\">0.928865</td></tr><tr><td class = \"rowNumber\" style = \"font-weight: bold; text-align: right;\">2</td><td style = \"text-align: left;\">DE</td><td style = \"text-align: right;\">578.869</td><td style = \"text-align: right;\">0.0</td><td style = \"text-align: right;\">661.0</td><td style = \"text-align: right;\">164.261</td><td style = \"text-align: right;\">152.529</td><td style = \"text-align: right;\">0.0</td><td style = \"text-align: right;\">0.928575</td></tr><tr><td class = \"rowNumber\" style = \"font-weight: bold; text-align: right;\">3</td><td style = \"text-align: left;\">MA</td><td style = \"text-align: right;\">4480.93</td><td style = \"text-align: right;\">0.0</td><td style = \"text-align: right;\">5073.0</td><td style = \"text-align: right;\">1184.13</td><td style = \"text-align: right;\">1097.31</td><td style = \"text-align: right;\">0.0</td><td style = \"text-align: right;\">0.926675</td></tr><tr><td class = \"rowNumber\" style = \"font-weight: bold; text-align: right;\">4</td><td style = \"text-align: left;\">MD</td><td style = \"text-align: right;\">2322.16</td><td style = \"text-align: right;\">0.0</td><td style = \"text-align: right;\">3084.5</td><td style = \"text-align: right;\">1524.69</td><td style = \"text-align: right;\">1405.48</td><td style = \"text-align: right;\">0.0</td><td style = \"text-align: right;\">0.921814</td></tr><tr><td class = \"rowNumber\" style = \"font-weight: bold; text-align: right;\">5</td><td style = \"text-align: left;\">ME</td><td style = \"text-align: right;\">0.0</td><td style = \"text-align: right;\">0.0</td><td style = \"text-align: right;\">981.0</td><td style = \"text-align: right;\">1962.0</td><td style = \"text-align: right;\">119.961</td><td style = \"text-align: right;\">0.0</td><td style = \"text-align: right;\">0.0611423</td></tr><tr><td class = \"rowNumber\" style = \"font-weight: bold; text-align: right;\">6</td><td style = \"text-align: left;\">NH</td><td style = \"text-align: right;\">0.0</td><td style = \"text-align: right;\">0.0</td><td style = \"text-align: right;\">967.0</td><td style = \"text-align: right;\">1934.0</td><td style = \"text-align: right;\">112.549</td><td style = \"text-align: right;\">0.0</td><td style = \"text-align: right;\">0.0581951</td></tr><tr><td class = \"rowNumber\" style = \"font-weight: bold; text-align: right;\">7</td><td style = \"text-align: left;\">NJ</td><td style = \"text-align: right;\">0.0</td><td style = \"text-align: right;\">1823.87</td><td style = \"text-align: right;\">3326.0</td><td style = \"text-align: right;\">10299.7</td><td style = \"text-align: right;\">9649.21</td><td style = \"text-align: right;\">0.0</td><td style = \"text-align: right;\">0.93684</td></tr><tr><td class = \"rowNumber\" style = \"font-weight: bold; text-align: right;\">8</td><td style = \"text-align: left;\">NY</td><td style = \"text-align: right;\">0.0</td><td style = \"text-align: right;\">8904.79</td><td style = \"text-align: right;\">9773.5</td><td style = \"text-align: right;\">37356.6</td><td style = \"text-align: right;\">35598.6</td><td style = \"text-align: right;\">0.0</td><td style = \"text-align: right;\">0.95294</td></tr><tr><td class = \"rowNumber\" style = \"font-weight: bold; text-align: right;\">9</td><td style = \"text-align: left;\">PA</td><td style = \"text-align: right;\">1726.61</td><td style = \"text-align: right;\">0.0</td><td style = \"text-align: right;\">7094.5</td><td style = \"text-align: right;\">10735.8</td><td style = \"text-align: right;\">1913.07</td><td style = \"text-align: right;\">0.0</td><td style = \"text-align: right;\">0.178196</td></tr><tr><td class = \"rowNumber\" style = \"font-weight: bold; text-align: right;\">10</td><td style = \"text-align: left;\">RI</td><td style = \"text-align: right;\">494.791</td><td style = \"text-align: right;\">0.0</td><td style = \"text-align: right;\">626.5</td><td style = \"text-align: right;\">263.418</td><td style = \"text-align: right;\">246.072</td><td style = \"text-align: right;\">0.0</td><td style = \"text-align: right;\">0.93415</td></tr><tr><td class = \"rowNumber\" style = \"font-weight: bold; text-align: right;\">11</td><td style = \"text-align: left;\">VT</td><td style = \"text-align: right;\">0.0</td><td style = \"text-align: right;\">0.0</td><td style = \"text-align: right;\">345.5</td><td style = \"text-align: right;\">691.0</td><td style = \"text-align: right;\">81.4714</td><td style = \"text-align: right;\">0.0</td><td style = \"text-align: right;\">0.117904</td></tr></tbody></table></div>"
      ],
      "text/latex": [
       "\\begin{tabular}{r|cccccccc}\n",
       "\t& state & total\\_sent & total\\_received & initial\\_nurses & total\\_nurse\\_days & total\\_demand & total\\_shortage & average\\_load\\\\\n",
       "\t\\hline\n",
       "\t& String & Float64 & Float64 & Float32 & Float64 & Float32 & Float64 & Float64\\\\\n",
       "\t\\hline\n",
       "\t1 & CT & 1125.3 & 0.0 & 2296.5 & 2342.39 & 2175.77 & 0.0 & 0.928865 \\\\\n",
       "\t2 & DE & 578.869 & 0.0 & 661.0 & 164.261 & 152.529 & 0.0 & 0.928575 \\\\\n",
       "\t3 & MA & 4480.93 & 0.0 & 5073.0 & 1184.13 & 1097.31 & 0.0 & 0.926675 \\\\\n",
       "\t4 & MD & 2322.16 & 0.0 & 3084.5 & 1524.69 & 1405.48 & 0.0 & 0.921814 \\\\\n",
       "\t5 & ME & 0.0 & 0.0 & 981.0 & 1962.0 & 119.961 & 0.0 & 0.0611423 \\\\\n",
       "\t6 & NH & 0.0 & 0.0 & 967.0 & 1934.0 & 112.549 & 0.0 & 0.0581951 \\\\\n",
       "\t7 & NJ & 0.0 & 1823.87 & 3326.0 & 10299.7 & 9649.21 & 0.0 & 0.93684 \\\\\n",
       "\t8 & NY & 0.0 & 8904.79 & 9773.5 & 37356.6 & 35598.6 & 0.0 & 0.95294 \\\\\n",
       "\t9 & PA & 1726.61 & 0.0 & 7094.5 & 10735.8 & 1913.07 & 0.0 & 0.178196 \\\\\n",
       "\t10 & RI & 494.791 & 0.0 & 626.5 & 263.418 & 246.072 & 0.0 & 0.93415 \\\\\n",
       "\t11 & VT & 0.0 & 0.0 & 345.5 & 691.0 & 81.4714 & 0.0 & 0.117904 \\\\\n",
       "\\end{tabular}\n"
      ],
      "text/plain": [
       "\u001b[1m11×8 DataFrame\u001b[0m\n",
       "\u001b[1m Row \u001b[0m│\u001b[1m state  \u001b[0m\u001b[1m total_sent \u001b[0m\u001b[1m total_received \u001b[0m\u001b[1m initial_nurses \u001b[0m\u001b[1m total_nurse_days \u001b[0m\u001b[1m total_demand \u001b[0m\u001b[1m total_shortage \u001b[0m\u001b[1m average_load \u001b[0m\n",
       "     │\u001b[90m String \u001b[0m\u001b[90m Float64    \u001b[0m\u001b[90m Float64        \u001b[0m\u001b[90m Float32        \u001b[0m\u001b[90m Float64          \u001b[0m\u001b[90m Float32      \u001b[0m\u001b[90m Float64        \u001b[0m\u001b[90m Float64      \u001b[0m\n",
       "─────┼──────────────────────────────────────────────────────────────────────────────────────────────────────────────────\n",
       "   1 │ CT        1125.3              0.0           2296.5          2342.39      2175.77               0.0     0.928865\n",
       "   2 │ DE         578.869            0.0            661.0           164.261      152.529              0.0     0.928575\n",
       "   3 │ MA        4480.93             0.0           5073.0          1184.13      1097.31               0.0     0.926675\n",
       "   4 │ MD        2322.16             0.0           3084.5          1524.69      1405.48               0.0     0.921814\n",
       "   5 │ ME           0.0              0.0            981.0          1962.0        119.961              0.0     0.0611423\n",
       "   6 │ NH           0.0              0.0            967.0          1934.0        112.549              0.0     0.0581951\n",
       "   7 │ NJ           0.0           1823.87          3326.0         10299.7       9649.21               0.0     0.93684\n",
       "   8 │ NY           0.0           8904.79          9773.5         37356.6      35598.6                0.0     0.95294\n",
       "   9 │ PA        1726.61             0.0           7094.5         10735.8       1913.07               0.0     0.178196\n",
       "  10 │ RI         494.791            0.0            626.5           263.418      246.072              0.0     0.93415\n",
       "  11 │ VT           0.0              0.0            345.5           691.0         81.4714             0.0     0.117904"
      ]
     },
     "metadata": {},
     "output_type": "display_data"
    }
   ],
   "source": [
    "results.summary_table"
   ]
  },
  {
   "cell_type": "code",
   "execution_count": 24,
   "metadata": {},
   "outputs": [
    {
     "data": {
      "text/html": [
       "<div><div style = \"float: left;\"><span>11×12 DataFrame</span></div><div style = \"clear: both;\"></div></div><div class = \"data-frame\" style = \"overflow-x: scroll;\"><table class = \"data-frame\" style = \"margin-bottom: 6px;\"><thead><tr class = \"header\"><th class = \"rowNumber\" style = \"font-weight: bold; text-align: right;\">Row</th><th style = \"text-align: left;\">state</th><th style = \"text-align: left;\">CT</th><th style = \"text-align: left;\">DE</th><th style = \"text-align: left;\">MA</th><th style = \"text-align: left;\">MD</th><th style = \"text-align: left;\">ME</th><th style = \"text-align: left;\">NH</th><th style = \"text-align: left;\">NJ</th><th style = \"text-align: left;\">NY</th><th style = \"text-align: left;\">PA</th><th style = \"text-align: left;\">RI</th><th style = \"text-align: left;\">VT</th></tr><tr class = \"subheader headerLastRow\"><th class = \"rowNumber\" style = \"font-weight: bold; text-align: right;\"></th><th title = \"String\" style = \"text-align: left;\">String</th><th title = \"Float64\" style = \"text-align: left;\">Float64</th><th title = \"Float64\" style = \"text-align: left;\">Float64</th><th title = \"Float64\" style = \"text-align: left;\">Float64</th><th title = \"Float64\" style = \"text-align: left;\">Float64</th><th title = \"Float64\" style = \"text-align: left;\">Float64</th><th title = \"Float64\" style = \"text-align: left;\">Float64</th><th title = \"Float64\" style = \"text-align: left;\">Float64</th><th title = \"Float64\" style = \"text-align: left;\">Float64</th><th title = \"Float64\" style = \"text-align: left;\">Float64</th><th title = \"Float64\" style = \"text-align: left;\">Float64</th><th title = \"Float64\" style = \"text-align: left;\">Float64</th></tr></thead><tbody><tr><td class = \"rowNumber\" style = \"font-weight: bold; text-align: right;\">1</td><td style = \"text-align: left;\">CT</td><td style = \"text-align: right;\">0.0</td><td style = \"text-align: right;\">0.0</td><td style = \"text-align: right;\">0.0</td><td style = \"text-align: right;\">0.0</td><td style = \"text-align: right;\">0.0</td><td style = \"text-align: right;\">0.0</td><td style = \"text-align: right;\">0.0</td><td style = \"text-align: right;\">1125.3</td><td style = \"text-align: right;\">0.0</td><td style = \"text-align: right;\">0.0</td><td style = \"text-align: right;\">0.0</td></tr><tr><td class = \"rowNumber\" style = \"font-weight: bold; text-align: right;\">2</td><td style = \"text-align: left;\">DE</td><td style = \"text-align: right;\">0.0</td><td style = \"text-align: right;\">0.0</td><td style = \"text-align: right;\">0.0</td><td style = \"text-align: right;\">0.0</td><td style = \"text-align: right;\">0.0</td><td style = \"text-align: right;\">0.0</td><td style = \"text-align: right;\">97.2581</td><td style = \"text-align: right;\">481.611</td><td style = \"text-align: right;\">0.0</td><td style = \"text-align: right;\">0.0</td><td style = \"text-align: right;\">0.0</td></tr><tr><td class = \"rowNumber\" style = \"font-weight: bold; text-align: right;\">3</td><td style = \"text-align: left;\">MA</td><td style = \"text-align: right;\">0.0</td><td style = \"text-align: right;\">0.0</td><td style = \"text-align: right;\">0.0</td><td style = \"text-align: right;\">0.0</td><td style = \"text-align: right;\">0.0</td><td style = \"text-align: right;\">0.0</td><td style = \"text-align: right;\">0.0</td><td style = \"text-align: right;\">4480.93</td><td style = \"text-align: right;\">0.0</td><td style = \"text-align: right;\">0.0</td><td style = \"text-align: right;\">0.0</td></tr><tr><td class = \"rowNumber\" style = \"font-weight: bold; text-align: right;\">4</td><td style = \"text-align: left;\">MD</td><td style = \"text-align: right;\">0.0</td><td style = \"text-align: right;\">0.0</td><td style = \"text-align: right;\">0.0</td><td style = \"text-align: right;\">0.0</td><td style = \"text-align: right;\">0.0</td><td style = \"text-align: right;\">0.0</td><td style = \"text-align: right;\">0.0</td><td style = \"text-align: right;\">2322.16</td><td style = \"text-align: right;\">0.0</td><td style = \"text-align: right;\">0.0</td><td style = \"text-align: right;\">0.0</td></tr><tr><td class = \"rowNumber\" style = \"font-weight: bold; text-align: right;\">5</td><td style = \"text-align: left;\">ME</td><td style = \"text-align: right;\">0.0</td><td style = \"text-align: right;\">0.0</td><td style = \"text-align: right;\">0.0</td><td style = \"text-align: right;\">0.0</td><td style = \"text-align: right;\">0.0</td><td style = \"text-align: right;\">0.0</td><td style = \"text-align: right;\">0.0</td><td style = \"text-align: right;\">0.0</td><td style = \"text-align: right;\">0.0</td><td style = \"text-align: right;\">0.0</td><td style = \"text-align: right;\">0.0</td></tr><tr><td class = \"rowNumber\" style = \"font-weight: bold; text-align: right;\">6</td><td style = \"text-align: left;\">NH</td><td style = \"text-align: right;\">0.0</td><td style = \"text-align: right;\">0.0</td><td style = \"text-align: right;\">0.0</td><td style = \"text-align: right;\">0.0</td><td style = \"text-align: right;\">0.0</td><td style = \"text-align: right;\">0.0</td><td style = \"text-align: right;\">0.0</td><td style = \"text-align: right;\">0.0</td><td style = \"text-align: right;\">0.0</td><td style = \"text-align: right;\">0.0</td><td style = \"text-align: right;\">0.0</td></tr><tr><td class = \"rowNumber\" style = \"font-weight: bold; text-align: right;\">7</td><td style = \"text-align: left;\">NJ</td><td style = \"text-align: right;\">0.0</td><td style = \"text-align: right;\">0.0</td><td style = \"text-align: right;\">0.0</td><td style = \"text-align: right;\">0.0</td><td style = \"text-align: right;\">0.0</td><td style = \"text-align: right;\">0.0</td><td style = \"text-align: right;\">0.0</td><td style = \"text-align: right;\">0.0</td><td style = \"text-align: right;\">0.0</td><td style = \"text-align: right;\">0.0</td><td style = \"text-align: right;\">0.0</td></tr><tr><td class = \"rowNumber\" style = \"font-weight: bold; text-align: right;\">8</td><td style = \"text-align: left;\">NY</td><td style = \"text-align: right;\">0.0</td><td style = \"text-align: right;\">0.0</td><td style = \"text-align: right;\">0.0</td><td style = \"text-align: right;\">0.0</td><td style = \"text-align: right;\">0.0</td><td style = \"text-align: right;\">0.0</td><td style = \"text-align: right;\">0.0</td><td style = \"text-align: right;\">0.0</td><td style = \"text-align: right;\">0.0</td><td style = \"text-align: right;\">0.0</td><td style = \"text-align: right;\">0.0</td></tr><tr><td class = \"rowNumber\" style = \"font-weight: bold; text-align: right;\">9</td><td style = \"text-align: left;\">PA</td><td style = \"text-align: right;\">0.0</td><td style = \"text-align: right;\">0.0</td><td style = \"text-align: right;\">0.0</td><td style = \"text-align: right;\">0.0</td><td style = \"text-align: right;\">0.0</td><td style = \"text-align: right;\">0.0</td><td style = \"text-align: right;\">1726.61</td><td style = \"text-align: right;\">0.0</td><td style = \"text-align: right;\">0.0</td><td style = \"text-align: right;\">0.0</td><td style = \"text-align: right;\">0.0</td></tr><tr><td class = \"rowNumber\" style = \"font-weight: bold; text-align: right;\">10</td><td style = \"text-align: left;\">RI</td><td style = \"text-align: right;\">0.0</td><td style = \"text-align: right;\">0.0</td><td style = \"text-align: right;\">0.0</td><td style = \"text-align: right;\">0.0</td><td style = \"text-align: right;\">0.0</td><td style = \"text-align: right;\">0.0</td><td style = \"text-align: right;\">0.0</td><td style = \"text-align: right;\">494.791</td><td style = \"text-align: right;\">0.0</td><td style = \"text-align: right;\">0.0</td><td style = \"text-align: right;\">0.0</td></tr><tr><td class = \"rowNumber\" style = \"font-weight: bold; text-align: right;\">11</td><td style = \"text-align: left;\">VT</td><td style = \"text-align: right;\">0.0</td><td style = \"text-align: right;\">0.0</td><td style = \"text-align: right;\">0.0</td><td style = \"text-align: right;\">0.0</td><td style = \"text-align: right;\">0.0</td><td style = \"text-align: right;\">0.0</td><td style = \"text-align: right;\">0.0</td><td style = \"text-align: right;\">0.0</td><td style = \"text-align: right;\">0.0</td><td style = \"text-align: right;\">0.0</td><td style = \"text-align: right;\">0.0</td></tr></tbody></table></div>"
      ],
      "text/latex": [
       "\\begin{tabular}{r|cccccccccccc}\n",
       "\t& state & CT & DE & MA & MD & ME & NH & NJ & NY & PA & RI & VT\\\\\n",
       "\t\\hline\n",
       "\t& String & Float64 & Float64 & Float64 & Float64 & Float64 & Float64 & Float64 & Float64 & Float64 & Float64 & Float64\\\\\n",
       "\t\\hline\n",
       "\t1 & CT & 0.0 & 0.0 & 0.0 & 0.0 & 0.0 & 0.0 & 0.0 & 1125.3 & 0.0 & 0.0 & 0.0 \\\\\n",
       "\t2 & DE & 0.0 & 0.0 & 0.0 & 0.0 & 0.0 & 0.0 & 97.2581 & 481.611 & 0.0 & 0.0 & 0.0 \\\\\n",
       "\t3 & MA & 0.0 & 0.0 & 0.0 & 0.0 & 0.0 & 0.0 & 0.0 & 4480.93 & 0.0 & 0.0 & 0.0 \\\\\n",
       "\t4 & MD & 0.0 & 0.0 & 0.0 & 0.0 & 0.0 & 0.0 & 0.0 & 2322.16 & 0.0 & 0.0 & 0.0 \\\\\n",
       "\t5 & ME & 0.0 & 0.0 & 0.0 & 0.0 & 0.0 & 0.0 & 0.0 & 0.0 & 0.0 & 0.0 & 0.0 \\\\\n",
       "\t6 & NH & 0.0 & 0.0 & 0.0 & 0.0 & 0.0 & 0.0 & 0.0 & 0.0 & 0.0 & 0.0 & 0.0 \\\\\n",
       "\t7 & NJ & 0.0 & 0.0 & 0.0 & 0.0 & 0.0 & 0.0 & 0.0 & 0.0 & 0.0 & 0.0 & 0.0 \\\\\n",
       "\t8 & NY & 0.0 & 0.0 & 0.0 & 0.0 & 0.0 & 0.0 & 0.0 & 0.0 & 0.0 & 0.0 & 0.0 \\\\\n",
       "\t9 & PA & 0.0 & 0.0 & 0.0 & 0.0 & 0.0 & 0.0 & 1726.61 & 0.0 & 0.0 & 0.0 & 0.0 \\\\\n",
       "\t10 & RI & 0.0 & 0.0 & 0.0 & 0.0 & 0.0 & 0.0 & 0.0 & 494.791 & 0.0 & 0.0 & 0.0 \\\\\n",
       "\t11 & VT & 0.0 & 0.0 & 0.0 & 0.0 & 0.0 & 0.0 & 0.0 & 0.0 & 0.0 & 0.0 & 0.0 \\\\\n",
       "\\end{tabular}\n"
      ],
      "text/plain": [
       "\u001b[1m11×12 DataFrame\u001b[0m\n",
       "\u001b[1m Row \u001b[0m│\u001b[1m state  \u001b[0m\u001b[1m CT      \u001b[0m\u001b[1m DE      \u001b[0m\u001b[1m MA      \u001b[0m\u001b[1m MD      \u001b[0m\u001b[1m ME      \u001b[0m\u001b[1m NH      \u001b[0m\u001b[1m NJ        \u001b[0m\u001b[1m NY       \u001b[0m\u001b[1m PA      \u001b[0m\u001b[1m RI      \u001b[0m\u001b[1m VT      \u001b[0m\n",
       "     │\u001b[90m String \u001b[0m\u001b[90m Float64 \u001b[0m\u001b[90m Float64 \u001b[0m\u001b[90m Float64 \u001b[0m\u001b[90m Float64 \u001b[0m\u001b[90m Float64 \u001b[0m\u001b[90m Float64 \u001b[0m\u001b[90m Float64   \u001b[0m\u001b[90m Float64  \u001b[0m\u001b[90m Float64 \u001b[0m\u001b[90m Float64 \u001b[0m\u001b[90m Float64 \u001b[0m\n",
       "─────┼──────────────────────────────────────────────────────────────────────────────────────────────────────────────\n",
       "   1 │ CT          0.0      0.0      0.0      0.0      0.0      0.0     0.0     1125.3        0.0      0.0      0.0\n",
       "   2 │ DE          0.0      0.0      0.0      0.0      0.0      0.0    97.2581   481.611      0.0      0.0      0.0\n",
       "   3 │ MA          0.0      0.0      0.0      0.0      0.0      0.0     0.0     4480.93       0.0      0.0      0.0\n",
       "   4 │ MD          0.0      0.0      0.0      0.0      0.0      0.0     0.0     2322.16       0.0      0.0      0.0\n",
       "   5 │ ME          0.0      0.0      0.0      0.0      0.0      0.0     0.0        0.0        0.0      0.0      0.0\n",
       "   6 │ NH          0.0      0.0      0.0      0.0      0.0      0.0     0.0        0.0        0.0      0.0      0.0\n",
       "   7 │ NJ          0.0      0.0      0.0      0.0      0.0      0.0     0.0        0.0        0.0      0.0      0.0\n",
       "   8 │ NY          0.0      0.0      0.0      0.0      0.0      0.0     0.0        0.0        0.0      0.0      0.0\n",
       "   9 │ PA          0.0      0.0      0.0      0.0      0.0      0.0  1726.61       0.0        0.0      0.0      0.0\n",
       "  10 │ RI          0.0      0.0      0.0      0.0      0.0      0.0     0.0      494.791      0.0      0.0      0.0\n",
       "  11 │ VT          0.0      0.0      0.0      0.0      0.0      0.0     0.0        0.0        0.0      0.0      0.0"
      ]
     },
     "metadata": {},
     "output_type": "display_data"
    }
   ],
   "source": [
    "results.sent_matrix_table"
   ]
  },
  {
   "cell_type": "code",
   "execution_count": 25,
   "metadata": {},
   "outputs": [
    {
     "data": {
      "text/html": [
       "<div><div style = \"float: left;\"><span>11×11 DataFrame</span></div><div style = \"clear: both;\"></div></div><div class = \"data-frame\" style = \"overflow-x: scroll;\"><table class = \"data-frame\" style = \"margin-bottom: 6px;\"><thead><tr class = \"header\"><th class = \"rowNumber\" style = \"font-weight: bold; text-align: right;\">Row</th><th style = \"text-align: left;\">state</th><th style = \"text-align: left;\">date</th><th style = \"text-align: left;\">sent</th><th style = \"text-align: left;\">received</th><th style = \"text-align: left;\">initial_nurses</th><th style = \"text-align: left;\">current_nurses</th><th style = \"text-align: left;\">demand</th><th style = \"text-align: left;\">shortage</th><th style = \"text-align: left;\">load</th><th style = \"text-align: left;\">sent_to</th><th style = \"text-align: left;\">sent_from</th></tr><tr class = \"subheader headerLastRow\"><th class = \"rowNumber\" style = \"font-weight: bold; text-align: right;\"></th><th title = \"String\" style = \"text-align: left;\">String</th><th title = \"Date\" style = \"text-align: left;\">Date</th><th title = \"Float64\" style = \"text-align: left;\">Float64</th><th title = \"Float64\" style = \"text-align: left;\">Float64</th><th title = \"Float32\" style = \"text-align: left;\">Float32</th><th title = \"Float64\" style = \"text-align: left;\">Float64</th><th title = \"Float32\" style = \"text-align: left;\">Float32</th><th title = \"Float64\" style = \"text-align: left;\">Float64</th><th title = \"Float64\" style = \"text-align: left;\">Float64</th><th title = \"Any\" style = \"text-align: left;\">Any</th><th title = \"Any\" style = \"text-align: left;\">Any</th></tr></thead><tbody><tr><td class = \"rowNumber\" style = \"font-weight: bold; text-align: right;\">1</td><td style = \"text-align: left;\">CT</td><td style = \"text-align: left;\">2020-04-01</td><td style = \"text-align: right;\">1125.3</td><td style = \"text-align: right;\">0.0</td><td style = \"text-align: right;\">2296.5</td><td style = \"text-align: right;\">1171.2</td><td style = \"text-align: right;\">1004.57</td><td style = \"text-align: right;\">0.0</td><td style = \"text-align: right;\">0.857731</td><td style = \"text-align: left;\">[(&quot;NY&quot;, 1125.3)]</td><td style = \"text-align: left;\">[]</td></tr><tr><td class = \"rowNumber\" style = \"font-weight: bold; text-align: right;\">2</td><td style = \"text-align: left;\">DE</td><td style = \"text-align: left;\">2020-04-01</td><td style = \"text-align: right;\">578.869</td><td style = \"text-align: right;\">0.0</td><td style = \"text-align: right;\">661.0</td><td style = \"text-align: right;\">82.1305</td><td style = \"text-align: right;\">70.3982</td><td style = \"text-align: right;\">0.0</td><td style = \"text-align: right;\">0.85715</td><td style = \"text-align: left;\">[(&quot;NJ&quot;, 97.2581), (&quot;NY&quot;, 481.611)]</td><td style = \"text-align: left;\">[]</td></tr><tr><td class = \"rowNumber\" style = \"font-weight: bold; text-align: right;\">3</td><td style = \"text-align: left;\">MA</td><td style = \"text-align: left;\">2020-04-01</td><td style = \"text-align: right;\">4480.93</td><td style = \"text-align: right;\">0.0</td><td style = \"text-align: right;\">5073.0</td><td style = \"text-align: right;\">592.067</td><td style = \"text-align: right;\">505.24</td><td style = \"text-align: right;\">0.0</td><td style = \"text-align: right;\">0.853349</td><td style = \"text-align: left;\">[(&quot;NY&quot;, 4480.93)]</td><td style = \"text-align: left;\">[]</td></tr><tr><td class = \"rowNumber\" style = \"font-weight: bold; text-align: right;\">4</td><td style = \"text-align: left;\">MD</td><td style = \"text-align: left;\">2020-04-01</td><td style = \"text-align: right;\">2322.16</td><td style = \"text-align: right;\">0.0</td><td style = \"text-align: right;\">3084.5</td><td style = \"text-align: right;\">762.345</td><td style = \"text-align: right;\">643.135</td><td style = \"text-align: right;\">0.0</td><td style = \"text-align: right;\">0.843627</td><td style = \"text-align: left;\">[(&quot;NY&quot;, 2322.16)]</td><td style = \"text-align: left;\">[]</td></tr><tr><td class = \"rowNumber\" style = \"font-weight: bold; text-align: right;\">5</td><td style = \"text-align: left;\">ME</td><td style = \"text-align: left;\">2020-04-01</td><td style = \"text-align: right;\">0.0</td><td style = \"text-align: right;\">0.0</td><td style = \"text-align: right;\">981.0</td><td style = \"text-align: right;\">981.0</td><td style = \"text-align: right;\">56.6743</td><td style = \"text-align: right;\">0.0</td><td style = \"text-align: right;\">0.0577719</td><td style = \"text-align: left;\">[]</td><td style = \"text-align: left;\">[]</td></tr><tr><td class = \"rowNumber\" style = \"font-weight: bold; text-align: right;\">6</td><td style = \"text-align: left;\">NH</td><td style = \"text-align: left;\">2020-04-01</td><td style = \"text-align: right;\">0.0</td><td style = \"text-align: right;\">0.0</td><td style = \"text-align: right;\">967.0</td><td style = \"text-align: right;\">967.0</td><td style = \"text-align: right;\">52.7495</td><td style = \"text-align: right;\">0.0</td><td style = \"text-align: right;\">0.0545497</td><td style = \"text-align: left;\">[]</td><td style = \"text-align: left;\">[]</td></tr><tr><td class = \"rowNumber\" style = \"font-weight: bold; text-align: right;\">7</td><td style = \"text-align: left;\">NJ</td><td style = \"text-align: left;\">2020-04-01</td><td style = \"text-align: right;\">0.0</td><td style = \"text-align: right;\">1823.87</td><td style = \"text-align: right;\">3326.0</td><td style = \"text-align: right;\">5149.87</td><td style = \"text-align: right;\">4499.34</td><td style = \"text-align: right;\">0.0</td><td style = \"text-align: right;\">0.873681</td><td style = \"text-align: left;\">[]</td><td style = \"text-align: left;\">[(&quot;DE&quot;, 97.2581), (&quot;PA&quot;, 1726.61)]</td></tr><tr><td class = \"rowNumber\" style = \"font-weight: bold; text-align: right;\">8</td><td style = \"text-align: left;\">NY</td><td style = \"text-align: left;\">2020-04-01</td><td style = \"text-align: right;\">0.0</td><td style = \"text-align: right;\">8904.79</td><td style = \"text-align: right;\">9773.5</td><td style = \"text-align: right;\">18678.3</td><td style = \"text-align: right;\">16920.3</td><td style = \"text-align: right;\">0.0</td><td style = \"text-align: right;\">0.905879</td><td style = \"text-align: left;\">[]</td><td style = \"text-align: left;\">[(&quot;CT&quot;, 1125.3), (&quot;DE&quot;, 481.611), (&quot;MA&quot;, 4480.93), (&quot;MD&quot;, 2322.16), (&quot;RI&quot;, 494.791)]</td></tr><tr><td class = \"rowNumber\" style = \"font-weight: bold; text-align: right;\">9</td><td style = \"text-align: left;\">PA</td><td style = \"text-align: left;\">2020-04-01</td><td style = \"text-align: right;\">1726.61</td><td style = \"text-align: right;\">0.0</td><td style = \"text-align: right;\">7094.5</td><td style = \"text-align: right;\">5367.89</td><td style = \"text-align: right;\">883.269</td><td style = \"text-align: right;\">0.0</td><td style = \"text-align: right;\">0.164547</td><td style = \"text-align: left;\">[(&quot;NJ&quot;, 1726.61)]</td><td style = \"text-align: left;\">[]</td></tr><tr><td class = \"rowNumber\" style = \"font-weight: bold; text-align: right;\">10</td><td style = \"text-align: left;\">RI</td><td style = \"text-align: left;\">2020-04-01</td><td style = \"text-align: right;\">494.791</td><td style = \"text-align: right;\">0.0</td><td style = \"text-align: right;\">626.5</td><td style = \"text-align: right;\">131.709</td><td style = \"text-align: right;\">114.363</td><td style = \"text-align: right;\">0.0</td><td style = \"text-align: right;\">0.8683</td><td style = \"text-align: left;\">[(&quot;NY&quot;, 494.791)]</td><td style = \"text-align: left;\">[]</td></tr><tr><td class = \"rowNumber\" style = \"font-weight: bold; text-align: right;\">11</td><td style = \"text-align: left;\">VT</td><td style = \"text-align: left;\">2020-04-01</td><td style = \"text-align: right;\">0.0</td><td style = \"text-align: right;\">0.0</td><td style = \"text-align: right;\">345.5</td><td style = \"text-align: right;\">345.5</td><td style = \"text-align: right;\">40.4389</td><td style = \"text-align: right;\">0.0</td><td style = \"text-align: right;\">0.117045</td><td style = \"text-align: left;\">[]</td><td style = \"text-align: left;\">[]</td></tr></tbody></table></div>"
      ],
      "text/latex": [
       "\\begin{tabular}{r|ccccccccccc}\n",
       "\t& state & date & sent & received & initial\\_nurses & current\\_nurses & demand & shortage & load & sent\\_to & sent\\_from\\\\\n",
       "\t\\hline\n",
       "\t& String & Date & Float64 & Float64 & Float32 & Float64 & Float32 & Float64 & Float64 & Any & Any\\\\\n",
       "\t\\hline\n",
       "\t1 & CT & 2020-04-01 & 1125.3 & 0.0 & 2296.5 & 1171.2 & 1004.57 & 0.0 & 0.857731 & [(\"NY\", 1125.3)] & [] \\\\\n",
       "\t2 & DE & 2020-04-01 & 578.869 & 0.0 & 661.0 & 82.1305 & 70.3982 & 0.0 & 0.85715 & [(\"NJ\", 97.2581), (\"NY\", 481.611)] & [] \\\\\n",
       "\t3 & MA & 2020-04-01 & 4480.93 & 0.0 & 5073.0 & 592.067 & 505.24 & 0.0 & 0.853349 & [(\"NY\", 4480.93)] & [] \\\\\n",
       "\t4 & MD & 2020-04-01 & 2322.16 & 0.0 & 3084.5 & 762.345 & 643.135 & 0.0 & 0.843627 & [(\"NY\", 2322.16)] & [] \\\\\n",
       "\t5 & ME & 2020-04-01 & 0.0 & 0.0 & 981.0 & 981.0 & 56.6743 & 0.0 & 0.0577719 & [] & [] \\\\\n",
       "\t6 & NH & 2020-04-01 & 0.0 & 0.0 & 967.0 & 967.0 & 52.7495 & 0.0 & 0.0545497 & [] & [] \\\\\n",
       "\t7 & NJ & 2020-04-01 & 0.0 & 1823.87 & 3326.0 & 5149.87 & 4499.34 & 0.0 & 0.873681 & [] & [(\"DE\", 97.2581), (\"PA\", 1726.61)] \\\\\n",
       "\t8 & NY & 2020-04-01 & 0.0 & 8904.79 & 9773.5 & 18678.3 & 16920.3 & 0.0 & 0.905879 & [] & [(\"CT\", 1125.3), (\"DE\", 481.611), (\"MA\", 4480.93), (\"MD\", 2322.16), (\"RI\", 494.791)] \\\\\n",
       "\t9 & PA & 2020-04-01 & 1726.61 & 0.0 & 7094.5 & 5367.89 & 883.269 & 0.0 & 0.164547 & [(\"NJ\", 1726.61)] & [] \\\\\n",
       "\t10 & RI & 2020-04-01 & 494.791 & 0.0 & 626.5 & 131.709 & 114.363 & 0.0 & 0.8683 & [(\"NY\", 494.791)] & [] \\\\\n",
       "\t11 & VT & 2020-04-01 & 0.0 & 0.0 & 345.5 & 345.5 & 40.4389 & 0.0 & 0.117045 & [] & [] \\\\\n",
       "\\end{tabular}\n"
      ],
      "text/plain": [
       "\u001b[1m11×11 DataFrame\u001b[0m\n",
       "\u001b[1m Row \u001b[0m│\u001b[1m state  \u001b[0m\u001b[1m date       \u001b[0m\u001b[1m sent     \u001b[0m\u001b[1m received \u001b[0m\u001b[1m initial_nurses \u001b[0m\u001b[1m current_nurses \u001b[0m\u001b[1m demand     \u001b[0m\u001b[1m shortage \u001b[0m\u001b[1m load      \u001b[0m\u001b[1m sent_to                           \u001b[0m\u001b[1m sent_from                         \u001b[0m\n",
       "     │\u001b[90m String \u001b[0m\u001b[90m Date       \u001b[0m\u001b[90m Float64  \u001b[0m\u001b[90m Float64  \u001b[0m\u001b[90m Float32        \u001b[0m\u001b[90m Float64        \u001b[0m\u001b[90m Float32    \u001b[0m\u001b[90m Float64  \u001b[0m\u001b[90m Float64   \u001b[0m\u001b[90m Any                               \u001b[0m\u001b[90m Any                               \u001b[0m\n",
       "─────┼───────────────────────────────────────────────────────────────────────────────────────────────────────────────────────────────────────────────────────────────────────────────\n",
       "   1 │ CT      2020-04-01  1125.3        0.0           2296.5       1171.2      1004.57         0.0  0.857731   [(\"NY\", 1125.3)]                   []\n",
       "   2 │ DE      2020-04-01   578.869      0.0            661.0         82.1305     70.3982       0.0  0.85715    [(\"NJ\", 97.2581), (\"NY\", 481.611…  []\n",
       "   3 │ MA      2020-04-01  4480.93       0.0           5073.0        592.067     505.24         0.0  0.853349   [(\"NY\", 4480.93)]                  []\n",
       "   4 │ MD      2020-04-01  2322.16       0.0           3084.5        762.345     643.135        0.0  0.843627   [(\"NY\", 2322.16)]                  []\n",
       "   5 │ ME      2020-04-01     0.0        0.0            981.0        981.0        56.6743       0.0  0.0577719  []                                 []\n",
       "   6 │ NH      2020-04-01     0.0        0.0            967.0        967.0        52.7495       0.0  0.0545497  []                                 []\n",
       "   7 │ NJ      2020-04-01     0.0     1823.87          3326.0       5149.87     4499.34         0.0  0.873681   []                                 [(\"DE\", 97.2581), (\"PA\", 1726.61…\n",
       "   8 │ NY      2020-04-01     0.0     8904.79          9773.5      18678.3     16920.3          0.0  0.905879   []                                 [(\"CT\", 1125.3), (\"DE\", 481.611)…\n",
       "   9 │ PA      2020-04-01  1726.61       0.0           7094.5       5367.89      883.269        0.0  0.164547   [(\"NJ\", 1726.61)]                  []\n",
       "  10 │ RI      2020-04-01   494.791      0.0            626.5        131.709     114.363        0.0  0.8683     [(\"NY\", 494.791)]                  []\n",
       "  11 │ VT      2020-04-01     0.0        0.0            345.5        345.5        40.4389       0.0  0.117045   []                                 []"
      ]
     },
     "metadata": {},
     "output_type": "display_data"
    }
   ],
   "source": [
    "filter(row -> row.date == start_date, results.complete_table)"
   ]
  },
  {
   "cell_type": "code",
   "execution_count": 31,
   "metadata": {},
   "outputs": [
    {
     "data": {
      "text/html": [
       "<div><div style = \"float: left;\"><span>22×2 DataFrame</span></div><div style = \"clear: both;\"></div></div><div class = \"data-frame\" style = \"overflow-x: scroll;\"><table class = \"data-frame\" style = \"margin-bottom: 6px;\"><thead><tr class = \"header\"><th class = \"rowNumber\" style = \"font-weight: bold; text-align: right;\">Row</th><th style = \"text-align: left;\">sent</th><th style = \"text-align: left;\">state</th></tr><tr class = \"subheader headerLastRow\"><th class = \"rowNumber\" style = \"font-weight: bold; text-align: right;\"></th><th title = \"Float64\" style = \"text-align: left;\">Float64</th><th title = \"String\" style = \"text-align: left;\">String</th></tr></thead><tbody><tr><td class = \"rowNumber\" style = \"font-weight: bold; text-align: right;\">1</td><td style = \"text-align: right;\">1125.3</td><td style = \"text-align: left;\">CT</td></tr><tr><td class = \"rowNumber\" style = \"font-weight: bold; text-align: right;\">2</td><td style = \"text-align: right;\">0.0</td><td style = \"text-align: left;\">CT</td></tr><tr><td class = \"rowNumber\" style = \"font-weight: bold; text-align: right;\">3</td><td style = \"text-align: right;\">578.869</td><td style = \"text-align: left;\">DE</td></tr><tr><td class = \"rowNumber\" style = \"font-weight: bold; text-align: right;\">4</td><td style = \"text-align: right;\">0.0</td><td style = \"text-align: left;\">DE</td></tr><tr><td class = \"rowNumber\" style = \"font-weight: bold; text-align: right;\">5</td><td style = \"text-align: right;\">4480.93</td><td style = \"text-align: left;\">MA</td></tr><tr><td class = \"rowNumber\" style = \"font-weight: bold; text-align: right;\">6</td><td style = \"text-align: right;\">0.0</td><td style = \"text-align: left;\">MA</td></tr><tr><td class = \"rowNumber\" style = \"font-weight: bold; text-align: right;\">7</td><td style = \"text-align: right;\">2322.16</td><td style = \"text-align: left;\">MD</td></tr><tr><td class = \"rowNumber\" style = \"font-weight: bold; text-align: right;\">8</td><td style = \"text-align: right;\">0.0</td><td style = \"text-align: left;\">MD</td></tr><tr><td class = \"rowNumber\" style = \"font-weight: bold; text-align: right;\">9</td><td style = \"text-align: right;\">0.0</td><td style = \"text-align: left;\">ME</td></tr><tr><td class = \"rowNumber\" style = \"font-weight: bold; text-align: right;\">10</td><td style = \"text-align: right;\">0.0</td><td style = \"text-align: left;\">ME</td></tr><tr><td class = \"rowNumber\" style = \"font-weight: bold; text-align: right;\">11</td><td style = \"text-align: right;\">0.0</td><td style = \"text-align: left;\">NH</td></tr><tr><td class = \"rowNumber\" style = \"font-weight: bold; text-align: right;\">12</td><td style = \"text-align: right;\">0.0</td><td style = \"text-align: left;\">NH</td></tr><tr><td class = \"rowNumber\" style = \"font-weight: bold; text-align: right;\">13</td><td style = \"text-align: right;\">0.0</td><td style = \"text-align: left;\">NJ</td></tr><tr><td class = \"rowNumber\" style = \"font-weight: bold; text-align: right;\">14</td><td style = \"text-align: right;\">0.0</td><td style = \"text-align: left;\">NJ</td></tr><tr><td class = \"rowNumber\" style = \"font-weight: bold; text-align: right;\">15</td><td style = \"text-align: right;\">0.0</td><td style = \"text-align: left;\">NY</td></tr><tr><td class = \"rowNumber\" style = \"font-weight: bold; text-align: right;\">16</td><td style = \"text-align: right;\">0.0</td><td style = \"text-align: left;\">NY</td></tr><tr><td class = \"rowNumber\" style = \"font-weight: bold; text-align: right;\">17</td><td style = \"text-align: right;\">1726.61</td><td style = \"text-align: left;\">PA</td></tr><tr><td class = \"rowNumber\" style = \"font-weight: bold; text-align: right;\">18</td><td style = \"text-align: right;\">0.0</td><td style = \"text-align: left;\">PA</td></tr><tr><td class = \"rowNumber\" style = \"font-weight: bold; text-align: right;\">19</td><td style = \"text-align: right;\">494.791</td><td style = \"text-align: left;\">RI</td></tr><tr><td class = \"rowNumber\" style = \"font-weight: bold; text-align: right;\">20</td><td style = \"text-align: right;\">0.0</td><td style = \"text-align: left;\">RI</td></tr><tr><td class = \"rowNumber\" style = \"font-weight: bold; text-align: right;\">21</td><td style = \"text-align: right;\">0.0</td><td style = \"text-align: left;\">VT</td></tr><tr><td class = \"rowNumber\" style = \"font-weight: bold; text-align: right;\">22</td><td style = \"text-align: right;\">0.0</td><td style = \"text-align: left;\">VT</td></tr></tbody></table></div>"
      ],
      "text/latex": [
       "\\begin{tabular}{r|cc}\n",
       "\t& sent & state\\\\\n",
       "\t\\hline\n",
       "\t& Float64 & String\\\\\n",
       "\t\\hline\n",
       "\t1 & 1125.3 & CT \\\\\n",
       "\t2 & 0.0 & CT \\\\\n",
       "\t3 & 578.869 & DE \\\\\n",
       "\t4 & 0.0 & DE \\\\\n",
       "\t5 & 4480.93 & MA \\\\\n",
       "\t6 & 0.0 & MA \\\\\n",
       "\t7 & 2322.16 & MD \\\\\n",
       "\t8 & 0.0 & MD \\\\\n",
       "\t9 & 0.0 & ME \\\\\n",
       "\t10 & 0.0 & ME \\\\\n",
       "\t11 & 0.0 & NH \\\\\n",
       "\t12 & 0.0 & NH \\\\\n",
       "\t13 & 0.0 & NJ \\\\\n",
       "\t14 & 0.0 & NJ \\\\\n",
       "\t15 & 0.0 & NY \\\\\n",
       "\t16 & 0.0 & NY \\\\\n",
       "\t17 & 1726.61 & PA \\\\\n",
       "\t18 & 0.0 & PA \\\\\n",
       "\t19 & 494.791 & RI \\\\\n",
       "\t20 & 0.0 & RI \\\\\n",
       "\t21 & 0.0 & VT \\\\\n",
       "\t22 & 0.0 & VT \\\\\n",
       "\\end{tabular}\n"
      ],
      "text/plain": [
       "\u001b[1m22×2 DataFrame\u001b[0m\n",
       "\u001b[1m Row \u001b[0m│\u001b[1m sent     \u001b[0m\u001b[1m state  \u001b[0m\n",
       "     │\u001b[90m Float64  \u001b[0m\u001b[90m String \u001b[0m\n",
       "─────┼──────────────────\n",
       "   1 │ 1125.3    CT\n",
       "   2 │    0.0    CT\n",
       "   3 │  578.869  DE\n",
       "   4 │    0.0    DE\n",
       "   5 │ 4480.93   MA\n",
       "   6 │    0.0    MA\n",
       "   7 │ 2322.16   MD\n",
       "   8 │    0.0    MD\n",
       "  ⋮  │    ⋮        ⋮\n",
       "  16 │    0.0    NY\n",
       "  17 │ 1726.61   PA\n",
       "  18 │    0.0    PA\n",
       "  19 │  494.791  RI\n",
       "  20 │    0.0    RI\n",
       "  21 │    0.0    VT\n",
       "  22 │    0.0    VT\n",
       "\u001b[36m          7 rows omitted\u001b[0m"
      ]
     },
     "metadata": {},
     "output_type": "display_data"
    }
   ],
   "source": [
    "#results.complete_table['sent','state']\n",
    "select(results.complete_table, :sent, :state)"
>>>>>>> a0722be22dce932ec527b0379af96346a604e552
   ]
  },
  {
   "cell_type": "code",
   "execution_count": null,
   "metadata": {},
   "outputs": [],
   "source": []
  }
 ],
 "metadata": {
  "kernelspec": {
   "display_name": "Julia 1.10.2",
   "language": "julia",
   "name": "julia-1.10"
  },
  "language_info": {
   "file_extension": ".jl",
   "mimetype": "application/julia",
   "name": "julia",
   "version": "1.10.2"
<<<<<<< HEAD
  },
  "orig_nbformat": 4,
  "vscode": {
   "interpreter": {
    "hash": "aee8b7b246df8f9039afb4144a1f6fd8d2ca17a180786b69acc140d282b71a49"
   }
=======
>>>>>>> a0722be22dce932ec527b0379af96346a604e552
  }
 },
 "nbformat": 4,
 "nbformat_minor": 2
}
