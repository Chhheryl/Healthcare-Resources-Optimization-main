{
 "cells": [
  {
   "cell_type": "code",
   "execution_count": 1,
   "metadata": {},
   "outputs": [
    {
     "name": "stdout",
     "output_type": "stream",
     "text": [
      "nurse_hrs_per_day_covid = nurse_hrs_per_week_covid / 7 = 5.142857142857143\n",
      "nurses_days_per_day_covid = 24 / nurse_hrs_per_day_covid = 4.666666666666666\n",
      "nurse_days_per_patient_day_covid = nurses_days_per_day_covid / patients_per_nurse_covid = 1.8666666666666665\n"
     ]
    },
    {
     "data": {
      "text/html": [
       "<div><div style = \"float: left;\"><span>11×4 DataFrame</span></div><div style = \"clear: both;\"></div></div><div class = \"data-frame\" style = \"overflow-x: scroll;\"><table class = \"data-frame\" style = \"margin-bottom: 6px;\"><thead><tr class = \"header\"><th class = \"rowNumber\" style = \"font-weight: bold; text-align: right;\">Row</th><th style = \"text-align: left;\">state</th><th style = \"text-align: left;\">from_beds</th><th style = \"text-align: left;\">from_empl</th><th style = \"text-align: left;\">from_ahrf</th></tr><tr class = \"subheader headerLastRow\"><th class = \"rowNumber\" style = \"font-weight: bold; text-align: right;\"></th><th title = \"String\" style = \"text-align: left;\">String</th><th title = \"Float32\" style = \"text-align: left;\">Float32</th><th title = \"Float32\" style = \"text-align: left;\">Float32</th><th title = \"Float32\" style = \"text-align: left;\">Float32</th></tr></thead><tbody><tr><td class = \"rowNumber\" style = \"font-weight: bold; text-align: right;\">1</td><td style = \"text-align: left;\">CT</td><td style = \"text-align: right;\">8221.27</td><td style = \"text-align: right;\">12120.0</td><td style = \"text-align: right;\">4593.0</td></tr><tr><td class = \"rowNumber\" style = \"font-weight: bold; text-align: right;\">2</td><td style = \"text-align: left;\">DE</td><td style = \"text-align: right;\">2257.27</td><td style = \"text-align: right;\">3234.06</td><td style = \"text-align: right;\">1322.0</td></tr><tr><td class = \"rowNumber\" style = \"font-weight: bold; text-align: right;\">3</td><td style = \"text-align: left;\">MA</td><td style = \"text-align: right;\">17563.5</td><td style = \"text-align: right;\">38220.5</td><td style = \"text-align: right;\">10146.0</td></tr><tr><td class = \"rowNumber\" style = \"font-weight: bold; text-align: right;\">4</td><td style = \"text-align: left;\">MD</td><td style = \"text-align: right;\">9598.4</td><td style = \"text-align: right;\">29581.0</td><td style = \"text-align: right;\">6169.0</td></tr><tr><td class = \"rowNumber\" style = \"font-weight: bold; text-align: right;\">5</td><td style = \"text-align: left;\">ME</td><td style = \"text-align: right;\">2877.47</td><td style = \"text-align: right;\">2346.56</td><td style = \"text-align: right;\">1962.0</td></tr><tr><td class = \"rowNumber\" style = \"font-weight: bold; text-align: right;\">6</td><td style = \"text-align: left;\">NH</td><td style = \"text-align: right;\">2567.13</td><td style = \"text-align: right;\">1484.33</td><td style = \"text-align: right;\">1934.0</td></tr><tr><td class = \"rowNumber\" style = \"font-weight: bold; text-align: right;\">7</td><td style = \"text-align: left;\">NJ</td><td style = \"text-align: right;\">19164.1</td><td style = \"text-align: right;\">71498.5</td><td style = \"text-align: right;\">6652.0</td></tr><tr><td class = \"rowNumber\" style = \"font-weight: bold; text-align: right;\">8</td><td style = \"text-align: left;\">NY</td><td style = \"text-align: right;\">44213.9</td><td style = \"text-align: right;\">83342.8</td><td style = \"text-align: right;\">19547.0</td></tr><tr><td class = \"rowNumber\" style = \"font-weight: bold; text-align: right;\">9</td><td style = \"text-align: left;\">PA</td><td style = \"text-align: right;\">34385.9</td><td style = \"text-align: right;\">65427.3</td><td style = \"text-align: right;\">14189.0</td></tr><tr><td class = \"rowNumber\" style = \"font-weight: bold; text-align: right;\">10</td><td style = \"text-align: left;\">RI</td><td style = \"text-align: right;\">3042.2</td><td style = \"text-align: right;\">10057.2</td><td style = \"text-align: right;\">1253.0</td></tr><tr><td class = \"rowNumber\" style = \"font-weight: bold; text-align: right;\">11</td><td style = \"text-align: left;\">VT</td><td style = \"text-align: right;\">1131.2</td><td style = \"text-align: right;\">1665.86</td><td style = \"text-align: right;\">691.0</td></tr></tbody></table></div>"
      ],
      "text/latex": [
       "\\begin{tabular}{r|cccc}\n",
       "\t& state & from\\_beds & from\\_empl & from\\_ahrf\\\\\n",
       "\t\\hline\n",
       "\t& String & Float32 & Float32 & Float32\\\\\n",
       "\t\\hline\n",
       "\t1 & CT & 8221.27 & 12120.0 & 4593.0 \\\\\n",
       "\t2 & DE & 2257.27 & 3234.06 & 1322.0 \\\\\n",
       "\t3 & MA & 17563.5 & 38220.5 & 10146.0 \\\\\n",
       "\t4 & MD & 9598.4 & 29581.0 & 6169.0 \\\\\n",
       "\t5 & ME & 2877.47 & 2346.56 & 1962.0 \\\\\n",
       "\t6 & NH & 2567.13 & 1484.33 & 1934.0 \\\\\n",
       "\t7 & NJ & 19164.1 & 71498.5 & 6652.0 \\\\\n",
       "\t8 & NY & 44213.9 & 83342.8 & 19547.0 \\\\\n",
       "\t9 & PA & 34385.9 & 65427.3 & 14189.0 \\\\\n",
       "\t10 & RI & 3042.2 & 10057.2 & 1253.0 \\\\\n",
       "\t11 & VT & 1131.2 & 1665.86 & 691.0 \\\\\n",
       "\\end{tabular}\n"
      ],
      "text/plain": [
       "\u001b[1m11×4 DataFrame\u001b[0m\n",
       "\u001b[1m Row \u001b[0m│\u001b[1m state  \u001b[0m\u001b[1m from_beds \u001b[0m\u001b[1m from_empl \u001b[0m\u001b[1m from_ahrf \u001b[0m\n",
       "     │\u001b[90m String \u001b[0m\u001b[90m Float32   \u001b[0m\u001b[90m Float32   \u001b[0m\u001b[90m Float32   \u001b[0m\n",
       "─────┼─────────────────────────────────────────\n",
       "   1 │ CT        8221.27   12120.0      4593.0\n",
       "   2 │ DE        2257.27    3234.06     1322.0\n",
       "   3 │ MA       17563.5    38220.5     10146.0\n",
       "   4 │ MD        9598.4    29581.0      6169.0\n",
       "   5 │ ME        2877.47    2346.56     1962.0\n",
       "   6 │ NH        2567.13    1484.33     1934.0\n",
       "   7 │ NJ       19164.1    71498.5      6652.0\n",
       "   8 │ NY       44213.9    83342.8     19547.0\n",
       "   9 │ PA       34385.9    65427.3     14189.0\n",
       "  10 │ RI        3042.2    10057.2      1253.0\n",
       "  11 │ VT        1131.2     1665.86      691.0"
      ]
     },
     "metadata": {},
     "output_type": "display_data"
    }
   ],
   "source": [
    "using Dates\n",
    "using JuMP\n",
    "using CSV\n",
    "using DataFrames\n",
    "using LinearAlgebra\n",
    "using Pkg\n",
    "using IJulia\n",
    "ENV[\"COLUMNS\"] = 200\n",
    "\n",
    "# Assuming your Julia file is named \"COVIDResourceAllocation.jl\"\n",
    "include(\"COVIDResourceAllocation.jl\")\n",
    "using .COVIDResourceAllocation\n",
    "\n",
    "states = [\"CT\", \"DE\", \"MA\", \"MD\", \"ME\", \"NH\", \"NJ\", \"NY\", \"PA\", \"RI\", \"VT\"]\n",
    "start_date = Date(2020, 4, 1)\n",
    "end_date   = Date(2020, 5, 1)\n",
    "travel_threshold_hours = 4.0\n",
    "\n",
    "pct_nurses_available = 0.5\n",
    "patients_per_nurse_covid = 2.5\n",
    "nurse_hrs_per_week_covid = 36\n",
    "\n",
    "@show nurse_hrs_per_day_covid = nurse_hrs_per_week_covid / 7\n",
    "@show nurses_days_per_day_covid = 24 / nurse_hrs_per_day_covid\n",
    "\n",
    "@show nurse_days_per_patient_day_covid = nurses_days_per_day_covid / patients_per_nurse_covid\n",
    "adj = adjacencies(states, level=:state, source=:google, threshold=travel_threshold_hours)\n",
    "\n",
    "\n",
    "forecast_active = forecast(\n",
    "    states, start_date, end_date,\n",
    "    level=:state,\n",
    "    source=:ihme,\n",
    "    forecast_type=:active,\n",
    "    patient_type=:regular,\n",
    "    bound_type=:mean,\n",
    ")\n",
    "\n",
    "demand = forecast_active * Float32(nurse_days_per_patient_day_covid)\n",
    "\n",
    "nurses = n_nurses(states) * Float32(pct_nurses_available)\n",
    "\n",
    "_nurses_beds = n_nurses(states, source=:beds);\n",
    "_nurses_empl = n_nurses(states, source=:employment);\n",
    "_nurses_ahrf = n_nurses(states, source=:ahrf);\n",
    "DataFrame(\n",
    "    state = states,\n",
    "    from_beds = _nurses_beds,\n",
    "    from_empl = _nurses_empl,\n",
    "    from_ahrf = _nurses_ahrf,\n",
    ")\n",
    "\n",
    "# model = reusable_resource_allocation(\n",
    "#     nurses,\n",
    "#     zeros(Float32, size(demand)...),\n",
    "#     demand,\n",
    "#     adj,\n",
    "#     send_new_only=false,\n",
    "#     sendrecieve_switch_time=0,\n",
    "#     min_send_amt=0,\n",
    "#     smoothness_penalty=0,\n",
    "#     setup_cost=0,\n",
    "#     sent_penalty=0.01,\n",
    "#     verbose=true\n",
    "# )\n",
    "# sent = value.(model[:sent])\n",
    "# println(\"termination status: \", termination_status(model))\n",
    "# println(\"solve time: \", round(solve_time(model), digits=3), \"s\")\n",
    "# println(\"objective function value: \", round(objective_value(model), digits=3))"
   ]
  },
  {
   "cell_type": "code",
   "execution_count": 2,
   "metadata": {},
   "outputs": [
    {
     "ename": "UndefVarError",
     "evalue": "UndefVarError: `supply` not defined",
     "output_type": "error",
     "traceback": [
      "UndefVarError: `supply` not defined\n"
     ]
    }
   ],
   "source": [
    "supply"
   ]
  },
  {
   "cell_type": "code",
   "execution_count": null,
   "metadata": {},
   "outputs": [],
   "source": []
  }
 ],
 "metadata": {
  "kernelspec": {
   "display_name": "Julia 1.10.2",
   "language": "julia",
   "name": "julia-1.10"
  },
  "language_info": {
   "file_extension": ".jl",
   "mimetype": "application/julia",
   "name": "julia",
   "version": "1.10.2"
  },
  "orig_nbformat": 4,
  "vscode": {
   "interpreter": {
    "hash": "aee8b7b246df8f9039afb4144a1f6fd8d2ca17a180786b69acc140d282b71a49"
   }
  }
 },
 "nbformat": 4,
 "nbformat_minor": 2
}
