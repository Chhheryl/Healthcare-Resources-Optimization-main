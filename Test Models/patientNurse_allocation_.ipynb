{
 "cells": [
  {
   "cell_type": "code",
   "execution_count": 1,
   "metadata": {},
   "outputs": [],
   "source": [
    "using Dates\n",
    "using JuMP\n",
    "using CSV\n",
    "using DataFrames\n",
    "using LinearAlgebra\n",
    "using Distributions\n",
    "\n",
    "include(\"COVIDResourceAllocation.jl\")\n",
    "using .COVIDResourceAllocation"
   ]
  },
  {
   "cell_type": "code",
   "execution_count": 2,
   "metadata": {},
   "outputs": [],
   "source": [
    "states = [\"CT\", \"DE\", \"MA\", \"MD\", \"ME\", \"NH\", \"NJ\", \"NY\", \"PA\", \"RI\"]\n",
    "\n",
    "start_date = Date(2020, 5, 1)\n",
    "end_date   = Date(2020, 5, 30)\n",
    "\n",
    "pct_beds_available = 0.25\n",
    "travel_threshold_hours = 4.0\n",
    "hospitalized_days = 14;"
   ]
  },
  {
   "cell_type": "code",
   "execution_count": 3,
   "metadata": {},
   "outputs": [],
   "source": [
    "N = length(states);\n",
    "T = (end_date - start_date).value + 1;"
   ]
  },
  {
   "cell_type": "code",
   "execution_count": 4,
   "metadata": {},
   "outputs": [],
   "source": [
    "forecast_admitted = forecast(\n",
    "    states, start_date, end_date,\n",
    "    level=:state,\n",
    "    source=:ihme,\n",
    "    forecast_type=:admitted,\n",
    "    patient_type=:regular,\n",
    "    bound_type=:mean,\n",
    ");"
   ]
  },
  {
   "cell_type": "code",
   "execution_count": 5,
   "metadata": {},
   "outputs": [],
   "source": [
    "forecast_initial = forecast(\n",
    "    states, start_date-Dates.Day(1), start_date-Dates.Day(1),\n",
    "    level=:state,\n",
    "    source=:ihme,\n",
    "    forecast_type=:active,\n",
    "    patient_type=:regular,\n",
    "    bound_type=:mean,\n",
    ")[:];"
   ]
  },
  {
   "cell_type": "code",
   "execution_count": 6,
   "metadata": {},
   "outputs": [],
   "source": [
    "forecast_discharged = forecast(\n",
    "    states, start_date-Dates.Day(hospitalized_days), start_date-Dates.Day(1),\n",
    "    level=:state,\n",
    "    source=:ihme,\n",
    "    forecast_type=:admitted,\n",
    "    patient_type=:regular,\n",
    "    bound_type=:mean,\n",
    ")\n",
    "forecast_discharged = hcat(forecast_discharged, zeros(Float32, N, T - hospitalized_days));"
   ]
  },
  {
   "cell_type": "code",
   "execution_count": 7,
   "metadata": {},
   "outputs": [],
   "source": [
    "beds = n_beds(states, bed_type=:all, pct_beds_available=pct_beds_available);\n",
    "adj = adjacencies(states, level=:state, source=:google, threshold=travel_threshold_hours);"
   ]
  },
  {
   "cell_type": "code",
   "execution_count": 8,
   "metadata": {},
   "outputs": [
    {
     "name": "stdout",
     "output_type": "stream",
     "text": [
      "nurse_hrs_per_day_covid = nurse_hrs_per_week_covid / 7 = 5.142857142857143\n",
      "nurses_days_per_day_covid = 24 / nurse_hrs_per_day_covid = 4.666666666666666\n",
      "nurse_days_per_patient_day_covid = nurses_days_per_day_covid / patients_per_nurse_covid = 1.8666666666666665\n"
     ]
    }
   ],
   "source": [
    "pct_nurses_available = 0.5\n",
    "patients_per_nurse_covid = 2.5\n",
    "nurse_hrs_per_week_covid = 36\n",
    "\n",
    "@show nurse_hrs_per_day_covid = nurse_hrs_per_week_covid / 7\n",
    "@show nurses_days_per_day_covid = 24 / nurse_hrs_per_day_covid\n",
    "\n",
    "@show nurse_days_per_patient_day_covid = nurses_days_per_day_covid / patients_per_nurse_covid;\n",
    "forecast_active = forecast(\n",
    "    states, start_date, end_date,\n",
    "    level=:state,\n",
    "    source=:ihme,\n",
    "    forecast_type=:active,\n",
    "    patient_type=:regular,\n",
    "    bound_type=:mean,\n",
    ");\n",
    "nurses = n_nurses(states) * Float32(pct_nurses_available);"
   ]
  },
  {
   "cell_type": "code",
   "execution_count": 21,
   "metadata": {},
   "outputs": [
    {
     "name": "stdout",
     "output_type": "stream",
     "text": [
      "Set parameter Username\n",
      "Academic license - for non-commercial use only - expires 2025-04-21\n",
      "Gurobi Optimizer version 11.0.1 build v11.0.1rc0 (mac64[x86] - Darwin 22.6.0 22G513)\n",
      "\n",
      "CPU model: Intel(R) Core(TM) i5-8257U CPU @ 1.40GHz\n",
      "Thread count: 4 physical cores, 8 logical processors, using up to 8 threads\n",
      "\n",
      "Optimize a model with 9420 rows, 6600 columns and 503820 nonzeros\n",
      "Model fingerprint: 0x8eed8a8f\n",
      "Coefficient statistics:\n",
      "  Matrix range     [7e-01, 2e+00]\n",
      "  Objective range  [1e+00, 1e+02]\n",
      "  Bounds range     [0e+00, 0e+00]\n",
      "  RHS range        [2e+00, 2e+04]\n",
      "Presolve removed 7644 rows and 1628 columns\n",
      "Presolve time: 0.12s\n",
      "Presolved: 1776 rows, 4972 columns, 401587 nonzeros\n",
      "\n",
      "Concurrent LP optimizer: dual simplex and barrier\n",
      "Showing barrier log only...\n",
      "\n",
      "\n",
      "Barrier performed 0 iterations in 0.17 seconds (0.19 work units)\n",
      "Barrier solve interrupted - model solved by another algorithm\n",
      "\n",
      "\n",
      "Solved with dual simplex\n",
      "Iteration    Objective       Primal Inf.    Dual Inf.      Time\n",
      "     259    1.3540977e+05   0.000000e+00   0.000000e+00      0s\n",
      "\n",
      "Solved in 259 iterations and 0.21 seconds (0.22 work units)\n",
      "Optimal objective  1.354097702e+05\n",
      "\n",
      "User-callback calls 67, time in user-callback 0.00 sec\n",
      "termination status: OPTIMAL\n",
      "solve time: 0.206s\n",
      "objective function value: 135409.77\n"
     ]
    }
   ],
   "source": [
    "model = patient_nurse_allocation(\n",
    "    beds,\n",
    "    forecast_initial,\n",
    "    forecast_discharged,\n",
    "    forecast_admitted,\n",
    "    nurses,\n",
    "    adj,\n",
    "    los=Exponential(100),\n",
    "    verbose=true\n",
    ")\n",
    "sentp = value.(model[:sentnurses])\n",
    "sentn = value.(model[:sentpatients])\n",
    "println(\"termination status: \", termination_status(model))\n",
    "println(\"solve time: \", round(solve_time(model), digits=3), \"s\")\n",
    "println(\"objective function value: \", round(objective_value(model), digits=3))"
   ]
  },
  {
   "cell_type": "code",
   "execution_count": 17,
   "metadata": {},
   "outputs": [
    {
     "data": {
      "text/plain": [
       "A JuMP Model\n",
       "Minimization problem with:\n",
       "Variables: 6600\n",
       "Objective function type: AffExpr\n",
       "`AffExpr`-in-`MathOptInterface.EqualTo{Float64}`: 1620 constraints\n",
       "`AffExpr`-in-`MathOptInterface.GreaterThan{Float64}`: 7200 constraints\n",
       "`AffExpr`-in-`MathOptInterface.LessThan{Float64}`: 600 constraints\n",
       "`VariableRef`-in-`MathOptInterface.GreaterThan{Float64}`: 600 constraints\n",
       "Model mode: AUTOMATIC\n",
       "CachingOptimizer state: ATTACHED_OPTIMIZER\n",
       "Solver name: Gurobi\n",
       "Names registered in the model: active_nurses, active_patients, nurse_demand, obj_dummy_nurses, obj_dummy_patients, patient_overflow, sentnurses, sentpatients"
      ]
     },
     "metadata": {},
     "output_type": "display_data"
    }
   ],
   "source": [
    "model"
   ]
  },
  {
   "cell_type": "markdown",
   "metadata": {},
   "source": [
    "## Couldn't run anything below here"
   ]
  },
  {
   "cell_type": "code",
   "execution_count": 22,
   "metadata": {},
   "outputs": [],
   "source": [
    "results = PatientAllocationResults.results_all(sentp, beds, forecast_initial, forecast_admitted, forecast_discharged, states, start_date, hospitalized_days);"
   ]
  },
  {
   "cell_type": "code",
   "execution_count": 23,
   "metadata": {},
   "outputs": [
    {
     "name": "stdout",
     "output_type": "stream",
     "text": [
      "Total overflow: 79776.95"
     ]
    },
    {
     "name": "stdout",
     "output_type": "stream",
     "text": [
      "\n",
      "Average load: 7.654549\n"
     ]
    }
   ],
   "source": [
    "println(\"Total overflow: \", results.total_overflow)\n",
    "println(\"Average load: \", results.average_load)"
   ]
  },
  {
   "cell_type": "code",
   "execution_count": 24,
   "metadata": {},
   "outputs": [
    {
     "data": {
      "text/html": [
       "<div><div style = \"float: left;\"><span>10×7 DataFrame</span></div><div style = \"clear: both;\"></div></div><div class = \"data-frame\" style = \"overflow-x: scroll;\"><table class = \"data-frame\" style = \"margin-bottom: 6px;\"><thead><tr class = \"header\"><th class = \"rowNumber\" style = \"font-weight: bold; text-align: right;\">Row</th><th style = \"text-align: left;\">location</th><th style = \"text-align: left;\">total_sent</th><th style = \"text-align: left;\">total_received</th><th style = \"text-align: left;\">overflow</th><th style = \"text-align: left;\">overall_load</th><th style = \"text-align: left;\">overflow_nosent</th><th style = \"text-align: left;\">overall_load_nosent</th></tr><tr class = \"subheader headerLastRow\"><th class = \"rowNumber\" style = \"font-weight: bold; text-align: right;\"></th><th title = \"String\" style = \"text-align: left;\">String</th><th title = \"Float64\" style = \"text-align: left;\">Float64</th><th title = \"Float64\" style = \"text-align: left;\">Float64</th><th title = \"Float64\" style = \"text-align: left;\">Float64</th><th title = \"Float64\" style = \"text-align: left;\">Float64</th><th title = \"Float32\" style = \"text-align: left;\">Float32</th><th title = \"Float32\" style = \"text-align: left;\">Float32</th></tr></thead><tbody><tr><td class = \"rowNumber\" style = \"font-weight: bold; text-align: right;\">1</td><td style = \"text-align: left;\">CT</td><td style = \"text-align: right;\">3398.96</td><td style = \"text-align: right;\">3441.51</td><td style = \"text-align: right;\">31006.8</td><td style = \"text-align: right;\">0.62156</td><td style = \"text-align: right;\">13884.9</td><td style = \"text-align: right;\">0.512099</td></tr><tr><td class = \"rowNumber\" style = \"font-weight: bold; text-align: right;\">2</td><td style = \"text-align: left;\">DE</td><td style = \"text-align: right;\">1926.54</td><td style = \"text-align: right;\">2279.04</td><td style = \"text-align: right;\">2369.16</td><td style = \"text-align: right;\">0.459858</td><td style = \"text-align: right;\">0.0</td><td style = \"text-align: right;\">-0.149694</td></tr><tr><td class = \"rowNumber\" style = \"font-weight: bold; text-align: right;\">3</td><td style = \"text-align: left;\">MA</td><td style = \"text-align: right;\">2585.5</td><td style = \"text-align: right;\">368.967</td><td style = \"text-align: right;\">0.0</td><td style = \"text-align: right;\">-0.165755</td><td style = \"text-align: right;\">0.0</td><td style = \"text-align: right;\">0.0629188</td></tr><tr><td class = \"rowNumber\" style = \"font-weight: bold; text-align: right;\">4</td><td style = \"text-align: left;\">MD</td><td style = \"text-align: right;\">0.0</td><td style = \"text-align: right;\">1373.0</td><td style = \"text-align: right;\">1337.63</td><td style = \"text-align: right;\">0.158309</td><td style = \"text-align: right;\">73.7739</td><td style = \"text-align: right;\">-0.00288614</td></tr><tr><td class = \"rowNumber\" style = \"font-weight: bold; text-align: right;\">5</td><td style = \"text-align: left;\">ME</td><td style = \"text-align: right;\">1144.54</td><td style = \"text-align: right;\">654.039</td><td style = \"text-align: right;\">0.0</td><td style = \"text-align: right;\">-0.282541</td><td style = \"text-align: right;\">0.0</td><td style = \"text-align: right;\">-0.0101372</td></tr><tr><td class = \"rowNumber\" style = \"font-weight: bold; text-align: right;\">6</td><td style = \"text-align: left;\">NH</td><td style = \"text-align: right;\">967.0</td><td style = \"text-align: right;\">681.621</td><td style = \"text-align: right;\">4.66166</td><td style = \"text-align: right;\">-0.451711</td><td style = \"text-align: right;\">0.0</td><td style = \"text-align: right;\">-0.267712</td></tr><tr><td class = \"rowNumber\" style = \"font-weight: bold; text-align: right;\">7</td><td style = \"text-align: left;\">NJ</td><td style = \"text-align: right;\">1105.38</td><td style = \"text-align: right;\">5701.98</td><td style = \"text-align: right;\">1.2869e5</td><td style = \"text-align: right;\">1.14886</td><td style = \"text-align: right;\">49083.8</td><td style = \"text-align: right;\">0.588553</td></tr><tr><td class = \"rowNumber\" style = \"font-weight: bold; text-align: right;\">8</td><td style = \"text-align: left;\">NY</td><td style = \"text-align: right;\">3455.53</td><td style = \"text-align: right;\">709.875</td><td style = \"text-align: right;\">4188.12</td><td style = \"text-align: right;\">0.381593</td><td style = \"text-align: right;\">16734.5</td><td style = \"text-align: right;\">0.482961</td></tr><tr><td class = \"rowNumber\" style = \"font-weight: bold; text-align: right;\">9</td><td style = \"text-align: left;\">PA</td><td style = \"text-align: right;\">2237.47</td><td style = \"text-align: right;\">940.361</td><td style = \"text-align: right;\">0.0</td><td style = \"text-align: right;\">-0.0792948</td><td style = \"text-align: right;\">0.0</td><td style = \"text-align: right;\">0.0104626</td></tr><tr><td class = \"rowNumber\" style = \"font-weight: bold; text-align: right;\">10</td><td style = \"text-align: left;\">RI</td><td style = \"text-align: right;\">1208.33</td><td style = \"text-align: right;\">1878.85</td><td style = \"text-align: right;\">195.639</td><td style = \"text-align: right;\">-0.0744814</td><td style = \"text-align: right;\">0.0</td><td style = \"text-align: right;\">-0.304417</td></tr></tbody></table></div>"
      ],
      "text/latex": [
       "\\begin{tabular}{r|ccccccc}\n",
       "\t& location & total\\_sent & total\\_received & overflow & overall\\_load & overflow\\_nosent & overall\\_load\\_nosent\\\\\n",
       "\t\\hline\n",
       "\t& String & Float64 & Float64 & Float64 & Float64 & Float32 & Float32\\\\\n",
       "\t\\hline\n",
       "\t1 & CT & 3398.96 & 3441.51 & 31006.8 & 0.62156 & 13884.9 & 0.512099 \\\\\n",
       "\t2 & DE & 1926.54 & 2279.04 & 2369.16 & 0.459858 & 0.0 & -0.149694 \\\\\n",
       "\t3 & MA & 2585.5 & 368.967 & 0.0 & -0.165755 & 0.0 & 0.0629188 \\\\\n",
       "\t4 & MD & 0.0 & 1373.0 & 1337.63 & 0.158309 & 73.7739 & -0.00288614 \\\\\n",
       "\t5 & ME & 1144.54 & 654.039 & 0.0 & -0.282541 & 0.0 & -0.0101372 \\\\\n",
       "\t6 & NH & 967.0 & 681.621 & 4.66166 & -0.451711 & 0.0 & -0.267712 \\\\\n",
       "\t7 & NJ & 1105.38 & 5701.98 & 1.2869e5 & 1.14886 & 49083.8 & 0.588553 \\\\\n",
       "\t8 & NY & 3455.53 & 709.875 & 4188.12 & 0.381593 & 16734.5 & 0.482961 \\\\\n",
       "\t9 & PA & 2237.47 & 940.361 & 0.0 & -0.0792948 & 0.0 & 0.0104626 \\\\\n",
       "\t10 & RI & 1208.33 & 1878.85 & 195.639 & -0.0744814 & 0.0 & -0.304417 \\\\\n",
       "\\end{tabular}\n"
      ],
      "text/plain": [
       "\u001b[1m10×7 DataFrame\u001b[0m\n",
       "\u001b[1m Row \u001b[0m│\u001b[1m location \u001b[0m\u001b[1m total_sent \u001b[0m\u001b[1m total_received \u001b[0m\u001b[1m overflow     \u001b[0m\u001b[1m overall_load \u001b[0m\u001b[1m overf\u001b[0m ⋯\n",
       "     │\u001b[90m String   \u001b[0m\u001b[90m Float64    \u001b[0m\u001b[90m Float64        \u001b[0m\u001b[90m Float64      \u001b[0m\u001b[90m Float64      \u001b[0m\u001b[90m Float\u001b[0m ⋯\n",
       "─────┼──────────────────────────────────────────────────────────────────────────\n",
       "   1 │ CT           3398.96        3441.51   31006.8          0.62156          ⋯\n",
       "   2 │ DE           1926.54        2279.04    2369.16         0.459858\n",
       "   3 │ MA           2585.5          368.967      0.0         -0.165755\n",
       "   4 │ MD              0.0         1373.0     1337.63         0.158309\n",
       "   5 │ ME           1144.54         654.039      0.0         -0.282541         ⋯\n",
       "   6 │ NH            967.0          681.621      4.66166     -0.451711\n",
       "   7 │ NJ           1105.38        5701.98       1.2869e5     1.14886\n",
       "   8 │ NY           3455.53         709.875   4188.12         0.381593\n",
       "   9 │ PA           2237.47         940.361      0.0         -0.0792948        ⋯\n",
       "  10 │ RI           1208.33        1878.85     195.639       -0.0744814\n",
       "\u001b[36m                                                               2 columns omitted\u001b[0m"
      ]
     },
     "metadata": {},
     "output_type": "display_data"
    }
   ],
   "source": [
    "results.summary_table"
   ]
  },
  {
   "cell_type": "code",
   "execution_count": 25,
   "metadata": {},
   "outputs": [
    {
     "data": {
      "text/html": [
       "<div><div style = \"float: left;\"><span>10×11 DataFrame</span></div><div style = \"clear: both;\"></div></div><div class = \"data-frame\" style = \"overflow-x: scroll;\"><table class = \"data-frame\" style = \"margin-bottom: 6px;\"><thead><tr class = \"header\"><th class = \"rowNumber\" style = \"font-weight: bold; text-align: right;\">Row</th><th style = \"text-align: left;\">state</th><th style = \"text-align: left;\">CT</th><th style = \"text-align: left;\">DE</th><th style = \"text-align: left;\">MA</th><th style = \"text-align: left;\">MD</th><th style = \"text-align: left;\">ME</th><th style = \"text-align: left;\">NH</th><th style = \"text-align: left;\">NJ</th><th style = \"text-align: left;\">NY</th><th style = \"text-align: left;\">PA</th><th style = \"text-align: left;\">RI</th></tr><tr class = \"subheader headerLastRow\"><th class = \"rowNumber\" style = \"font-weight: bold; text-align: right;\"></th><th title = \"String\" style = \"text-align: left;\">String</th><th title = \"Float64\" style = \"text-align: left;\">Float64</th><th title = \"Float64\" style = \"text-align: left;\">Float64</th><th title = \"Float64\" style = \"text-align: left;\">Float64</th><th title = \"Float64\" style = \"text-align: left;\">Float64</th><th title = \"Float64\" style = \"text-align: left;\">Float64</th><th title = \"Float64\" style = \"text-align: left;\">Float64</th><th title = \"Float64\" style = \"text-align: left;\">Float64</th><th title = \"Float64\" style = \"text-align: left;\">Float64</th><th title = \"Float64\" style = \"text-align: left;\">Float64</th><th title = \"Float64\" style = \"text-align: left;\">Float64</th></tr></thead><tbody><tr><td class = \"rowNumber\" style = \"font-weight: bold; text-align: right;\">1</td><td style = \"text-align: left;\">CT</td><td style = \"text-align: right;\">0.0</td><td style = \"text-align: right;\">620.128</td><td style = \"text-align: right;\">0.0</td><td style = \"text-align: right;\">0.0</td><td style = \"text-align: right;\">14.0794</td><td style = \"text-align: right;\">0.0</td><td style = \"text-align: right;\">2296.5</td><td style = \"text-align: right;\">0.0</td><td style = \"text-align: right;\">0.0</td><td style = \"text-align: right;\">468.25</td></tr><tr><td class = \"rowNumber\" style = \"font-weight: bold; text-align: right;\">2</td><td style = \"text-align: left;\">DE</td><td style = \"text-align: right;\">0.0</td><td style = \"text-align: right;\">0.0</td><td style = \"text-align: right;\">0.0</td><td style = \"text-align: right;\">579.903</td><td style = \"text-align: right;\">6.08457</td><td style = \"text-align: right;\">0.0</td><td style = \"text-align: right;\">661.0</td><td style = \"text-align: right;\">155.769</td><td style = \"text-align: right;\">0.0</td><td style = \"text-align: right;\">523.783</td></tr><tr><td class = \"rowNumber\" style = \"font-weight: bold; text-align: right;\">3</td><td style = \"text-align: left;\">MA</td><td style = \"text-align: right;\">1235.16</td><td style = \"text-align: right;\">0.0</td><td style = \"text-align: right;\">0.0</td><td style = \"text-align: right;\">138.217</td><td style = \"text-align: right;\">143.375</td><td style = \"text-align: right;\">483.5</td><td style = \"text-align: right;\">0.0</td><td style = \"text-align: right;\">0.0</td><td style = \"text-align: right;\">0.0</td><td style = \"text-align: right;\">585.255</td></tr><tr><td class = \"rowNumber\" style = \"font-weight: bold; text-align: right;\">4</td><td style = \"text-align: left;\">MD</td><td style = \"text-align: right;\">0.0</td><td style = \"text-align: right;\">0.0</td><td style = \"text-align: right;\">0.0</td><td style = \"text-align: right;\">0.0</td><td style = \"text-align: right;\">0.0</td><td style = \"text-align: right;\">0.0</td><td style = \"text-align: right;\">0.0</td><td style = \"text-align: right;\">0.0</td><td style = \"text-align: right;\">0.0</td><td style = \"text-align: right;\">0.0</td></tr><tr><td class = \"rowNumber\" style = \"font-weight: bold; text-align: right;\">5</td><td style = \"text-align: left;\">ME</td><td style = \"text-align: right;\">0.0</td><td style = \"text-align: right;\">0.0</td><td style = \"text-align: right;\">0.0</td><td style = \"text-align: right;\">6.08457</td><td style = \"text-align: right;\">0.0</td><td style = \"text-align: right;\">0.0</td><td style = \"text-align: right;\">981.0</td><td style = \"text-align: right;\">0.0</td><td style = \"text-align: right;\">0.0</td><td style = \"text-align: right;\">157.455</td></tr><tr><td class = \"rowNumber\" style = \"font-weight: bold; text-align: right;\">6</td><td style = \"text-align: left;\">NH</td><td style = \"text-align: right;\">0.0</td><td style = \"text-align: right;\">0.0</td><td style = \"text-align: right;\">0.0</td><td style = \"text-align: right;\">0.0</td><td style = \"text-align: right;\">0.0</td><td style = \"text-align: right;\">0.0</td><td style = \"text-align: right;\">967.0</td><td style = \"text-align: right;\">0.0</td><td style = \"text-align: right;\">0.0</td><td style = \"text-align: right;\">0.0</td></tr><tr><td class = \"rowNumber\" style = \"font-weight: bold; text-align: right;\">7</td><td style = \"text-align: left;\">NJ</td><td style = \"text-align: right;\">56.5553</td><td style = \"text-align: right;\">14.7664</td><td style = \"text-align: right;\">206.586</td><td style = \"text-align: right;\">0.0</td><td style = \"text-align: right;\">0.0</td><td style = \"text-align: right;\">0.0</td><td style = \"text-align: right;\">0.0</td><td style = \"text-align: right;\">0.0</td><td style = \"text-align: right;\">827.471</td><td style = \"text-align: right;\">0.0</td></tr><tr><td class = \"rowNumber\" style = \"font-weight: bold; text-align: right;\">8</td><td style = \"text-align: left;\">NY</td><td style = \"text-align: right;\">2149.8</td><td style = \"text-align: right;\">581.79</td><td style = \"text-align: right;\">72.2157</td><td style = \"text-align: right;\">267.536</td><td style = \"text-align: right;\">0.0</td><td style = \"text-align: right;\">198.121</td><td style = \"text-align: right;\">0.0</td><td style = \"text-align: right;\">0.0</td><td style = \"text-align: right;\">112.89</td><td style = \"text-align: right;\">73.1758</td></tr><tr><td class = \"rowNumber\" style = \"font-weight: bold; text-align: right;\">9</td><td style = \"text-align: left;\">PA</td><td style = \"text-align: right;\">0.0</td><td style = \"text-align: right;\">862.956</td><td style = \"text-align: right;\">0.0</td><td style = \"text-align: right;\">103.574</td><td style = \"text-align: right;\">490.5</td><td style = \"text-align: right;\">0.0</td><td style = \"text-align: right;\">155.403</td><td style = \"text-align: right;\">554.106</td><td style = \"text-align: right;\">0.0</td><td style = \"text-align: right;\">70.9308</td></tr><tr><td class = \"rowNumber\" style = \"font-weight: bold; text-align: right;\">10</td><td style = \"text-align: left;\">RI</td><td style = \"text-align: right;\">0.0</td><td style = \"text-align: right;\">199.398</td><td style = \"text-align: right;\">90.1658</td><td style = \"text-align: right;\">277.685</td><td style = \"text-align: right;\">0.0</td><td style = \"text-align: right;\">0.0</td><td style = \"text-align: right;\">641.08</td><td style = \"text-align: right;\">0.0</td><td style = \"text-align: right;\">0.0</td><td style = \"text-align: right;\">0.0</td></tr></tbody></table></div>"
      ],
      "text/latex": [
       "\\begin{tabular}{r|cccccccccc}\n",
       "\t& state & CT & DE & MA & MD & ME & NH & NJ & NY & \\\\\n",
       "\t\\hline\n",
       "\t& String & Float64 & Float64 & Float64 & Float64 & Float64 & Float64 & Float64 & Float64 & \\\\\n",
       "\t\\hline\n",
       "\t1 & CT & 0.0 & 620.128 & 0.0 & 0.0 & 14.0794 & 0.0 & 2296.5 & 0.0 & $\\dots$ \\\\\n",
       "\t2 & DE & 0.0 & 0.0 & 0.0 & 579.903 & 6.08457 & 0.0 & 661.0 & 155.769 & $\\dots$ \\\\\n",
       "\t3 & MA & 1235.16 & 0.0 & 0.0 & 138.217 & 143.375 & 483.5 & 0.0 & 0.0 & $\\dots$ \\\\\n",
       "\t4 & MD & 0.0 & 0.0 & 0.0 & 0.0 & 0.0 & 0.0 & 0.0 & 0.0 & $\\dots$ \\\\\n",
       "\t5 & ME & 0.0 & 0.0 & 0.0 & 6.08457 & 0.0 & 0.0 & 981.0 & 0.0 & $\\dots$ \\\\\n",
       "\t6 & NH & 0.0 & 0.0 & 0.0 & 0.0 & 0.0 & 0.0 & 967.0 & 0.0 & $\\dots$ \\\\\n",
       "\t7 & NJ & 56.5553 & 14.7664 & 206.586 & 0.0 & 0.0 & 0.0 & 0.0 & 0.0 & $\\dots$ \\\\\n",
       "\t8 & NY & 2149.8 & 581.79 & 72.2157 & 267.536 & 0.0 & 198.121 & 0.0 & 0.0 & $\\dots$ \\\\\n",
       "\t9 & PA & 0.0 & 862.956 & 0.0 & 103.574 & 490.5 & 0.0 & 155.403 & 554.106 & $\\dots$ \\\\\n",
       "\t10 & RI & 0.0 & 199.398 & 90.1658 & 277.685 & 0.0 & 0.0 & 641.08 & 0.0 & $\\dots$ \\\\\n",
       "\\end{tabular}\n"
      ],
      "text/plain": [
       "\u001b[1m10×11 DataFrame\u001b[0m\n",
       "\u001b[1m Row \u001b[0m│\u001b[1m state  \u001b[0m\u001b[1m CT        \u001b[0m\u001b[1m DE       \u001b[0m\u001b[1m MA       \u001b[0m\u001b[1m MD        \u001b[0m\u001b[1m ME        \u001b[0m\u001b[1m NH      \u001b[0m\u001b[1m N\u001b[0m ⋯\n",
       "     │\u001b[90m String \u001b[0m\u001b[90m Float64   \u001b[0m\u001b[90m Float64  \u001b[0m\u001b[90m Float64  \u001b[0m\u001b[90m Float64   \u001b[0m\u001b[90m Float64   \u001b[0m\u001b[90m Float64 \u001b[0m\u001b[90m F\u001b[0m ⋯\n",
       "─────┼──────────────────────────────────────────────────────────────────────────\n",
       "   1 │ CT         0.0     620.128     0.0       0.0       14.0794     0.0    2 ⋯\n",
       "   2 │ DE         0.0       0.0       0.0     579.903      6.08457    0.0\n",
       "   3 │ MA      1235.16      0.0       0.0     138.217    143.375    483.5\n",
       "   4 │ MD         0.0       0.0       0.0       0.0        0.0        0.0\n",
       "   5 │ ME         0.0       0.0       0.0       6.08457    0.0        0.0      ⋯\n",
       "   6 │ NH         0.0       0.0       0.0       0.0        0.0        0.0\n",
       "   7 │ NJ        56.5553   14.7664  206.586     0.0        0.0        0.0\n",
       "   8 │ NY      2149.8     581.79     72.2157  267.536      0.0      198.121\n",
       "   9 │ PA         0.0     862.956     0.0     103.574    490.5        0.0      ⋯\n",
       "  10 │ RI         0.0     199.398    90.1658  277.685      0.0        0.0\n",
       "\u001b[36m                                                               4 columns omitted\u001b[0m"
      ]
     },
     "metadata": {},
     "output_type": "display_data"
    }
   ],
   "source": [
    "results.sent_matrix_table"
   ]
  },
  {
   "cell_type": "code",
   "execution_count": 26,
   "metadata": {},
   "outputs": [
    {
     "name": "stdout",
     "output_type": "stream",
     "text": [
      "First day:\n"
     ]
    },
    {
     "data": {
      "text/html": [
       "<div><div style = \"float: left;\"><span>10×14 DataFrame</span></div><div style = \"clear: both;\"></div></div><div class = \"data-frame\" style = \"overflow-x: scroll;\"><table class = \"data-frame\" style = \"margin-bottom: 6px;\"><thead><tr class = \"header\"><th class = \"rowNumber\" style = \"font-weight: bold; text-align: right;\">Row</th><th style = \"text-align: left;\">location</th><th style = \"text-align: left;\">date</th><th style = \"text-align: left;\">sent</th><th style = \"text-align: left;\">received</th><th style = \"text-align: left;\">new_patients</th><th style = \"text-align: left;\">active_patients</th><th style = \"text-align: left;\">active_patients_nosent</th><th style = \"text-align: left;\">capacity</th><th style = \"text-align: left;\">overflow</th><th style = \"text-align: left;\">load</th><th style = \"text-align: left;\">overflow_nosent</th><th style = \"text-align: left;\">load_nosent</th><th style = \"text-align: left;\">sent_to</th><th style = \"text-align: left;\">sent_from</th></tr><tr class = \"subheader headerLastRow\"><th class = \"rowNumber\" style = \"font-weight: bold; text-align: right;\"></th><th title = \"String\" style = \"text-align: left;\">String</th><th title = \"Date\" style = \"text-align: left;\">Date</th><th title = \"Float64\" style = \"text-align: left;\">Float64</th><th title = \"Float64\" style = \"text-align: left;\">Float64</th><th title = \"Float32\" style = \"text-align: left;\">Float32</th><th title = \"Float64\" style = \"text-align: left;\">Float64</th><th title = \"Float32\" style = \"text-align: left;\">Float32</th><th title = \"Float32\" style = \"text-align: left;\">Float32</th><th title = \"Float64\" style = \"text-align: left;\">Float64</th><th title = \"Float64\" style = \"text-align: left;\">Float64</th><th title = \"Float32\" style = \"text-align: left;\">Float32</th><th title = \"Float32\" style = \"text-align: left;\">Float32</th><th title = \"Any\" style = \"text-align: left;\">Any</th><th title = \"Any\" style = \"text-align: left;\">Any</th></tr></thead><tbody><tr><td class = \"rowNumber\" style = \"font-weight: bold; text-align: right;\">1</td><td style = \"text-align: left;\">CT</td><td style = \"text-align: left;\">2020-05-01</td><td style = \"text-align: right;\">2296.5</td><td style = \"text-align: right;\">3384.96</td><td style = \"text-align: right;\">373.65</td><td style = \"text-align: right;\">5358.49</td><td style = \"text-align: right;\">1973.54</td><td style = \"text-align: right;\">1840.25</td><td style = \"text-align: right;\">3518.24</td><td style = \"text-align: right;\">2.91183</td><td style = \"text-align: right;\">133.287</td><td style = \"text-align: right;\">1.07243</td><td style = \"text-align: left;\">[(&quot;NJ&quot;, 2296.5)]</td><td style = \"text-align: left;\">[(&quot;MA&quot;, 1235.16), (&quot;NY&quot;, 2149.8)]</td></tr><tr><td class = \"rowNumber\" style = \"font-weight: bold; text-align: right;\">2</td><td style = \"text-align: left;\">DE</td><td style = \"text-align: left;\">2020-05-01</td><td style = \"text-align: right;\">661.0</td><td style = \"text-align: right;\">371.383</td><td style = \"text-align: right;\">23.0751</td><td style = \"text-align: right;\">541.239</td><td style = \"text-align: right;\">169.856</td><td style = \"text-align: right;\">506.75</td><td style = \"text-align: right;\">34.4889</td><td style = \"text-align: right;\">1.06806</td><td style = \"text-align: right;\">0.0</td><td style = \"text-align: right;\">0.335187</td><td style = \"text-align: left;\">[(&quot;NJ&quot;, 661.0)]</td><td style = \"text-align: left;\">[(&quot;PA&quot;, 371.383)]</td></tr><tr><td class = \"rowNumber\" style = \"font-weight: bold; text-align: right;\">3</td><td style = \"text-align: left;\">MA</td><td style = \"text-align: left;\">2020-05-01</td><td style = \"text-align: right;\">2303.91</td><td style = \"text-align: right;\">0.0</td><td style = \"text-align: right;\">346.806</td><td style = \"text-align: right;\">1484.71</td><td style = \"text-align: right;\">1484.71</td><td style = \"text-align: right;\">3997.75</td><td style = \"text-align: right;\">0.0</td><td style = \"text-align: right;\">0.371387</td><td style = \"text-align: right;\">0.0</td><td style = \"text-align: right;\">0.371387</td><td style = \"text-align: left;\">[(&quot;CT&quot;, 1235.16), (&quot;NH&quot;, 483.5), (&quot;RI&quot;, 585.255)]</td><td style = \"text-align: left;\">[]</td></tr><tr><td class = \"rowNumber\" style = \"font-weight: bold; text-align: right;\">4</td><td style = \"text-align: left;\">MD</td><td style = \"text-align: left;\">2020-05-01</td><td style = \"text-align: right;\">0.0</td><td style = \"text-align: right;\">0.0</td><td style = \"text-align: right;\">290.597</td><td style = \"text-align: right;\">1772.15</td><td style = \"text-align: right;\">1772.15</td><td style = \"text-align: right;\">2228.75</td><td style = \"text-align: right;\">0.0</td><td style = \"text-align: right;\">0.79513</td><td style = \"text-align: right;\">0.0</td><td style = \"text-align: right;\">0.79513</td><td style = \"text-align: left;\">[]</td><td style = \"text-align: left;\">[]</td></tr><tr><td class = \"rowNumber\" style = \"font-weight: bold; text-align: right;\">5</td><td style = \"text-align: left;\">ME</td><td style = \"text-align: left;\">2020-05-01</td><td style = \"text-align: right;\">981.0</td><td style = \"text-align: right;\">490.5</td><td style = \"text-align: right;\">8.15217</td><td style = \"text-align: right;\">520.515</td><td style = \"text-align: right;\">30.0153</td><td style = \"text-align: right;\">668.0</td><td style = \"text-align: right;\">0.0</td><td style = \"text-align: right;\">0.779215</td><td style = \"text-align: right;\">0.0</td><td style = \"text-align: right;\">0.0449331</td><td style = \"text-align: left;\">[(&quot;NJ&quot;, 981.0)]</td><td style = \"text-align: left;\">[(&quot;PA&quot;, 490.5)]</td></tr><tr><td class = \"rowNumber\" style = \"font-weight: bold; text-align: right;\">6</td><td style = \"text-align: left;\">NH</td><td style = \"text-align: left;\">2020-05-01</td><td style = \"text-align: right;\">967.0</td><td style = \"text-align: right;\">483.5</td><td style = \"text-align: right;\">12.7217</td><td style = \"text-align: right;\">589.162</td><td style = \"text-align: right;\">105.662</td><td style = \"text-align: right;\">584.5</td><td style = \"text-align: right;\">4.66166</td><td style = \"text-align: right;\">1.00798</td><td style = \"text-align: right;\">0.0</td><td style = \"text-align: right;\">0.180773</td><td style = \"text-align: left;\">[(&quot;NJ&quot;, 967.0)]</td><td style = \"text-align: left;\">[(&quot;MA&quot;, 483.5)]</td></tr><tr><td class = \"rowNumber\" style = \"font-weight: bold; text-align: right;\">7</td><td style = \"text-align: left;\">NJ</td><td style = \"text-align: left;\">2020-05-01</td><td style = \"text-align: right;\">0.0</td><td style = \"text-align: right;\">5687.4</td><td style = \"text-align: right;\">1073.99</td><td style = \"text-align: right;\">11150.2</td><td style = \"text-align: right;\">5462.78</td><td style = \"text-align: right;\">4553.25</td><td style = \"text-align: right;\">6596.93</td><td style = \"text-align: right;\">2.44884</td><td style = \"text-align: right;\">909.526</td><td style = \"text-align: right;\">1.19975</td><td style = \"text-align: left;\">[]</td><td style = \"text-align: left;\">[(&quot;CT&quot;, 2296.5), (&quot;DE&quot;, 661.0), (&quot;ME&quot;, 981.0), (&quot;NH&quot;, 967.0), (&quot;PA&quot;, 155.403), (&quot;RI&quot;, 626.5)]</td></tr><tr><td class = \"rowNumber\" style = \"font-weight: bold; text-align: right;\">8</td><td style = \"text-align: left;\">NY</td><td style = \"text-align: left;\">2020-05-01</td><td style = \"text-align: right;\">2149.8</td><td style = \"text-align: right;\">554.106</td><td style = \"text-align: right;\">1716.21</td><td style = \"text-align: right;\">6613.17</td><td style = \"text-align: right;\">6059.07</td><td style = \"text-align: right;\">10406.2</td><td style = \"text-align: right;\">0.0</td><td style = \"text-align: right;\">0.6355</td><td style = \"text-align: right;\">0.0</td><td style = \"text-align: right;\">0.582253</td><td style = \"text-align: left;\">[(&quot;CT&quot;, 2149.8)]</td><td style = \"text-align: left;\">[(&quot;PA&quot;, 554.106)]</td></tr><tr><td class = \"rowNumber\" style = \"font-weight: bold; text-align: right;\">9</td><td style = \"text-align: left;\">PA</td><td style = \"text-align: left;\">2020-05-01</td><td style = \"text-align: right;\">1571.39</td><td style = \"text-align: right;\">0.0</td><td style = \"text-align: right;\">423.688</td><td style = \"text-align: right;\">2699.62</td><td style = \"text-align: right;\">2699.62</td><td style = \"text-align: right;\">7980.25</td><td style = \"text-align: right;\">0.0</td><td style = \"text-align: right;\">0.338287</td><td style = \"text-align: right;\">0.0</td><td style = \"text-align: right;\">0.338287</td><td style = \"text-align: left;\">[(&quot;DE&quot;, 371.383), (&quot;ME&quot;, 490.5), (&quot;NJ&quot;, 155.403), (&quot;NY&quot;, 554.106)]</td><td style = \"text-align: left;\">[]</td></tr><tr><td class = \"rowNumber\" style = \"font-weight: bold; text-align: right;\">10</td><td style = \"text-align: left;\">RI</td><td style = \"text-align: left;\">2020-05-01</td><td style = \"text-align: right;\">626.5</td><td style = \"text-align: right;\">585.255</td><td style = \"text-align: right;\">45.2521</td><td style = \"text-align: right;\">869.889</td><td style = \"text-align: right;\">284.633</td><td style = \"text-align: right;\">674.25</td><td style = \"text-align: right;\">195.639</td><td style = \"text-align: right;\">1.29016</td><td style = \"text-align: right;\">0.0</td><td style = \"text-align: right;\">0.422148</td><td style = \"text-align: left;\">[(&quot;NJ&quot;, 626.5)]</td><td style = \"text-align: left;\">[(&quot;MA&quot;, 585.255)]</td></tr></tbody></table></div>"
      ],
      "text/latex": [
       "\\begin{tabular}{r|cccccccc}\n",
       "\t& location & date & sent & received & new\\_patients & active\\_patients & active\\_patients\\_nosent & \\\\\n",
       "\t\\hline\n",
       "\t& String & Date & Float64 & Float64 & Float32 & Float64 & Float32 & \\\\\n",
       "\t\\hline\n",
       "\t1 & CT & 2020-05-01 & 2296.5 & 3384.96 & 373.65 & 5358.49 & 1973.54 & $\\dots$ \\\\\n",
       "\t2 & DE & 2020-05-01 & 661.0 & 371.383 & 23.0751 & 541.239 & 169.856 & $\\dots$ \\\\\n",
       "\t3 & MA & 2020-05-01 & 2303.91 & 0.0 & 346.806 & 1484.71 & 1484.71 & $\\dots$ \\\\\n",
       "\t4 & MD & 2020-05-01 & 0.0 & 0.0 & 290.597 & 1772.15 & 1772.15 & $\\dots$ \\\\\n",
       "\t5 & ME & 2020-05-01 & 981.0 & 490.5 & 8.15217 & 520.515 & 30.0153 & $\\dots$ \\\\\n",
       "\t6 & NH & 2020-05-01 & 967.0 & 483.5 & 12.7217 & 589.162 & 105.662 & $\\dots$ \\\\\n",
       "\t7 & NJ & 2020-05-01 & 0.0 & 5687.4 & 1073.99 & 11150.2 & 5462.78 & $\\dots$ \\\\\n",
       "\t8 & NY & 2020-05-01 & 2149.8 & 554.106 & 1716.21 & 6613.17 & 6059.07 & $\\dots$ \\\\\n",
       "\t9 & PA & 2020-05-01 & 1571.39 & 0.0 & 423.688 & 2699.62 & 2699.62 & $\\dots$ \\\\\n",
       "\t10 & RI & 2020-05-01 & 626.5 & 585.255 & 45.2521 & 869.889 & 284.633 & $\\dots$ \\\\\n",
       "\\end{tabular}\n"
      ],
      "text/plain": [
       "\u001b[1m10×14 DataFrame\u001b[0m\n",
       "\u001b[1m Row \u001b[0m│\u001b[1m location \u001b[0m\u001b[1m date       \u001b[0m\u001b[1m sent    \u001b[0m\u001b[1m received \u001b[0m\u001b[1m new_patients \u001b[0m\u001b[1m active_patients \u001b[0m\u001b[1m\u001b[0m ⋯\n",
       "     │\u001b[90m String   \u001b[0m\u001b[90m Date       \u001b[0m\u001b[90m Float64 \u001b[0m\u001b[90m Float64  \u001b[0m\u001b[90m Float32      \u001b[0m\u001b[90m Float64         \u001b[0m\u001b[90m\u001b[0m ⋯\n",
       "─────┼──────────────────────────────────────────────────────────────────────────\n",
       "   1 │ CT        2020-05-01  2296.5   3384.96      373.65            5358.49   ⋯\n",
       "   2 │ DE        2020-05-01   661.0    371.383      23.0751           541.239\n",
       "   3 │ MA        2020-05-01  2303.91     0.0       346.806           1484.71\n",
       "   4 │ MD        2020-05-01     0.0      0.0       290.597           1772.15\n",
       "   5 │ ME        2020-05-01   981.0    490.5         8.15217          520.515  ⋯\n",
       "   6 │ NH        2020-05-01   967.0    483.5        12.7217           589.162\n",
       "   7 │ NJ        2020-05-01     0.0   5687.4      1073.99           11150.2\n",
       "   8 │ NY        2020-05-01  2149.8    554.106    1716.21            6613.17\n",
       "   9 │ PA        2020-05-01  1571.39     0.0       423.688           2699.62   ⋯\n",
       "  10 │ RI        2020-05-01   626.5    585.255      45.2521           869.889\n",
       "\u001b[36m                                                               8 columns omitted\u001b[0m"
      ]
     },
     "metadata": {},
     "output_type": "display_data"
    }
   ],
   "source": [
    "println(\"First day:\")\n",
    "filter(row -> row.date == start_date, results.complete_table)"
   ]
  },
  {
   "cell_type": "code",
   "execution_count": 27,
   "metadata": {},
   "outputs": [
    {
     "data": {
      "text/html": [
       "<div><div style = \"float: left;\"><span>30×14 DataFrame</span></div><div style = \"float: right;\"><span style = \"font-style: italic;\">5 rows omitted</span></div><div style = \"clear: both;\"></div></div><div class = \"data-frame\" style = \"overflow-x: scroll;\"><table class = \"data-frame\" style = \"margin-bottom: 6px;\"><thead><tr class = \"header\"><th class = \"rowNumber\" style = \"font-weight: bold; text-align: right;\">Row</th><th style = \"text-align: left;\">location</th><th style = \"text-align: left;\">date</th><th style = \"text-align: left;\">sent</th><th style = \"text-align: left;\">received</th><th style = \"text-align: left;\">new_patients</th><th style = \"text-align: left;\">active_patients</th><th style = \"text-align: left;\">active_patients_nosent</th><th style = \"text-align: left;\">capacity</th><th style = \"text-align: left;\">overflow</th><th style = \"text-align: left;\">load</th><th style = \"text-align: left;\">overflow_nosent</th><th style = \"text-align: left;\">load_nosent</th><th style = \"text-align: left;\">sent_to</th><th style = \"text-align: left;\">sent_from</th></tr><tr class = \"subheader headerLastRow\"><th class = \"rowNumber\" style = \"font-weight: bold; text-align: right;\"></th><th title = \"String\" style = \"text-align: left;\">String</th><th title = \"Date\" style = \"text-align: left;\">Date</th><th title = \"Float64\" style = \"text-align: left;\">Float64</th><th title = \"Float64\" style = \"text-align: left;\">Float64</th><th title = \"Float32\" style = \"text-align: left;\">Float32</th><th title = \"Float64\" style = \"text-align: left;\">Float64</th><th title = \"Float32\" style = \"text-align: left;\">Float32</th><th title = \"Float32\" style = \"text-align: left;\">Float32</th><th title = \"Float64\" style = \"text-align: left;\">Float64</th><th title = \"Float64\" style = \"text-align: left;\">Float64</th><th title = \"Float32\" style = \"text-align: left;\">Float32</th><th title = \"Float32\" style = \"text-align: left;\">Float32</th><th title = \"Any\" style = \"text-align: left;\">Any</th><th title = \"Any\" style = \"text-align: left;\">Any</th></tr></thead><tbody><tr><td class = \"rowNumber\" style = \"font-weight: bold; text-align: right;\">1</td><td style = \"text-align: left;\">NJ</td><td style = \"text-align: left;\">2020-05-01</td><td style = \"text-align: right;\">0.0</td><td style = \"text-align: right;\">5687.4</td><td style = \"text-align: right;\">1073.99</td><td style = \"text-align: right;\">11150.2</td><td style = \"text-align: right;\">5462.78</td><td style = \"text-align: right;\">4553.25</td><td style = \"text-align: right;\">6596.93</td><td style = \"text-align: right;\">2.44884</td><td style = \"text-align: right;\">909.526</td><td style = \"text-align: right;\">1.19975</td><td style = \"text-align: left;\">[]</td><td style = \"text-align: left;\">[(&quot;CT&quot;, 2296.5), (&quot;DE&quot;, 661.0), (&quot;ME&quot;, 981.0), (&quot;NH&quot;, 967.0), (&quot;PA&quot;, 155.403), (&quot;RI&quot;, 626.5)]</td></tr><tr><td class = \"rowNumber\" style = \"font-weight: bold; text-align: right;\">2</td><td style = \"text-align: left;\">NJ</td><td style = \"text-align: left;\">2020-05-02</td><td style = \"text-align: right;\">14.7664</td><td style = \"text-align: right;\">0.0</td><td style = \"text-align: right;\">1055.75</td><td style = \"text-align: right;\">11475.3</td><td style = \"text-align: right;\">5787.86</td><td style = \"text-align: right;\">4553.25</td><td style = \"text-align: right;\">6922.02</td><td style = \"text-align: right;\">2.52024</td><td style = \"text-align: right;\">1234.61</td><td style = \"text-align: right;\">1.27115</td><td style = \"text-align: left;\">[(&quot;DE&quot;, 14.7664)]</td><td style = \"text-align: left;\">[]</td></tr><tr><td class = \"rowNumber\" style = \"font-weight: bold; text-align: right;\">3</td><td style = \"text-align: left;\">NJ</td><td style = \"text-align: left;\">2020-05-03</td><td style = \"text-align: right;\">0.0</td><td style = \"text-align: right;\">0.0</td><td style = \"text-align: right;\">1036.88</td><td style = \"text-align: right;\">11790.9</td><td style = \"text-align: right;\">6118.25</td><td style = \"text-align: right;\">4553.25</td><td style = \"text-align: right;\">7237.64</td><td style = \"text-align: right;\">2.58956</td><td style = \"text-align: right;\">1565.0</td><td style = \"text-align: right;\">1.34371</td><td style = \"text-align: left;\">[]</td><td style = \"text-align: left;\">[]</td></tr><tr><td class = \"rowNumber\" style = \"font-weight: bold; text-align: right;\">4</td><td style = \"text-align: left;\">NJ</td><td style = \"text-align: left;\">2020-05-04</td><td style = \"text-align: right;\">0.0</td><td style = \"text-align: right;\">0.0</td><td style = \"text-align: right;\">1018.0</td><td style = \"text-align: right;\">12123.9</td><td style = \"text-align: right;\">6451.25</td><td style = \"text-align: right;\">4553.25</td><td style = \"text-align: right;\">7570.64</td><td style = \"text-align: right;\">2.66269</td><td style = \"text-align: right;\">1898.0</td><td style = \"text-align: right;\">1.41685</td><td style = \"text-align: left;\">[]</td><td style = \"text-align: left;\">[]</td></tr><tr><td class = \"rowNumber\" style = \"font-weight: bold; text-align: right;\">5</td><td style = \"text-align: left;\">NJ</td><td style = \"text-align: left;\">2020-05-05</td><td style = \"text-align: right;\">0.0</td><td style = \"text-align: right;\">0.0</td><td style = \"text-align: right;\">997.133</td><td style = \"text-align: right;\">12460.7</td><td style = \"text-align: right;\">6788.04</td><td style = \"text-align: right;\">4553.25</td><td style = \"text-align: right;\">7907.43</td><td style = \"text-align: right;\">2.73666</td><td style = \"text-align: right;\">2234.79</td><td style = \"text-align: right;\">1.49081</td><td style = \"text-align: left;\">[]</td><td style = \"text-align: left;\">[]</td></tr><tr><td class = \"rowNumber\" style = \"font-weight: bold; text-align: right;\">6</td><td style = \"text-align: left;\">NJ</td><td style = \"text-align: left;\">2020-05-06</td><td style = \"text-align: right;\">0.0</td><td style = \"text-align: right;\">14.5797</td><td style = \"text-align: right;\">971.688</td><td style = \"text-align: right;\">12807.4</td><td style = \"text-align: right;\">7120.23</td><td style = \"text-align: right;\">4553.25</td><td style = \"text-align: right;\">8254.2</td><td style = \"text-align: right;\">2.81281</td><td style = \"text-align: right;\">2566.98</td><td style = \"text-align: right;\">1.56377</td><td style = \"text-align: left;\">[]</td><td style = \"text-align: left;\">[(&quot;RI&quot;, 14.5797)]</td></tr><tr><td class = \"rowNumber\" style = \"font-weight: bold; text-align: right;\">7</td><td style = \"text-align: left;\">NJ</td><td style = \"text-align: left;\">2020-05-07</td><td style = \"text-align: right;\">0.0</td><td style = \"text-align: right;\">0.0</td><td style = \"text-align: right;\">950.161</td><td style = \"text-align: right;\">13140.0</td><td style = \"text-align: right;\">7452.74</td><td style = \"text-align: right;\">4553.25</td><td style = \"text-align: right;\">8586.71</td><td style = \"text-align: right;\">2.88584</td><td style = \"text-align: right;\">2899.49</td><td style = \"text-align: right;\">1.6368</td><td style = \"text-align: left;\">[]</td><td style = \"text-align: left;\">[]</td></tr><tr><td class = \"rowNumber\" style = \"font-weight: bold; text-align: right;\">8</td><td style = \"text-align: left;\">NJ</td><td style = \"text-align: left;\">2020-05-08</td><td style = \"text-align: right;\">0.0</td><td style = \"text-align: right;\">0.0</td><td style = \"text-align: right;\">926.771</td><td style = \"text-align: right;\">13470.7</td><td style = \"text-align: right;\">7783.52</td><td style = \"text-align: right;\">4553.25</td><td style = \"text-align: right;\">8917.49</td><td style = \"text-align: right;\">2.95849</td><td style = \"text-align: right;\">3230.27</td><td style = \"text-align: right;\">1.70944</td><td style = \"text-align: left;\">[]</td><td style = \"text-align: left;\">[]</td></tr><tr><td class = \"rowNumber\" style = \"font-weight: bold; text-align: right;\">9</td><td style = \"text-align: left;\">NJ</td><td style = \"text-align: left;\">2020-05-09</td><td style = \"text-align: right;\">0.0</td><td style = \"text-align: right;\">0.0</td><td style = \"text-align: right;\">904.766</td><td style = \"text-align: right;\">13801.8</td><td style = \"text-align: right;\">8114.59</td><td style = \"text-align: right;\">4553.25</td><td style = \"text-align: right;\">9248.56</td><td style = \"text-align: right;\">3.0312</td><td style = \"text-align: right;\">3561.34</td><td style = \"text-align: right;\">1.78215</td><td style = \"text-align: left;\">[]</td><td style = \"text-align: left;\">[]</td></tr><tr><td class = \"rowNumber\" style = \"font-weight: bold; text-align: right;\">10</td><td style = \"text-align: left;\">NJ</td><td style = \"text-align: left;\">2020-05-10</td><td style = \"text-align: right;\">0.0</td><td style = \"text-align: right;\">0.0</td><td style = \"text-align: right;\">876.339</td><td style = \"text-align: right;\">14123.6</td><td style = \"text-align: right;\">8436.37</td><td style = \"text-align: right;\">4553.25</td><td style = \"text-align: right;\">9570.34</td><td style = \"text-align: right;\">3.10187</td><td style = \"text-align: right;\">3883.12</td><td style = \"text-align: right;\">1.85282</td><td style = \"text-align: left;\">[]</td><td style = \"text-align: left;\">[]</td></tr><tr><td class = \"rowNumber\" style = \"font-weight: bold; text-align: right;\">11</td><td style = \"text-align: left;\">NJ</td><td style = \"text-align: left;\">2020-05-11</td><td style = \"text-align: right;\">0.0</td><td style = \"text-align: right;\">0.0</td><td style = \"text-align: right;\">852.41</td><td style = \"text-align: right;\">14446.0</td><td style = \"text-align: right;\">8758.78</td><td style = \"text-align: right;\">4553.25</td><td style = \"text-align: right;\">9892.75</td><td style = \"text-align: right;\">3.17268</td><td style = \"text-align: right;\">4205.53</td><td style = \"text-align: right;\">1.92363</td><td style = \"text-align: left;\">[]</td><td style = \"text-align: left;\">[]</td></tr><tr><td class = \"rowNumber\" style = \"font-weight: bold; text-align: right;\">12</td><td style = \"text-align: left;\">NJ</td><td style = \"text-align: left;\">2020-05-12</td><td style = \"text-align: right;\">0.0</td><td style = \"text-align: right;\">0.0</td><td style = \"text-align: right;\">831.472</td><td style = \"text-align: right;\">14765.8</td><td style = \"text-align: right;\">9078.55</td><td style = \"text-align: right;\">4553.25</td><td style = \"text-align: right;\">10212.5</td><td style = \"text-align: right;\">3.24291</td><td style = \"text-align: right;\">4525.3</td><td style = \"text-align: right;\">1.99386</td><td style = \"text-align: left;\">[]</td><td style = \"text-align: left;\">[]</td></tr><tr><td class = \"rowNumber\" style = \"font-weight: bold; text-align: right;\">13</td><td style = \"text-align: left;\">NJ</td><td style = \"text-align: left;\">2020-05-13</td><td style = \"text-align: right;\">0.0</td><td style = \"text-align: right;\">0.0</td><td style = \"text-align: right;\">804.114</td><td style = \"text-align: right;\">15077.4</td><td style = \"text-align: right;\">9390.17</td><td style = \"text-align: right;\">4553.25</td><td style = \"text-align: right;\">10524.1</td><td style = \"text-align: right;\">3.31135</td><td style = \"text-align: right;\">4836.92</td><td style = \"text-align: right;\">2.0623</td><td style = \"text-align: left;\">[]</td><td style = \"text-align: left;\">[]</td></tr><tr><td style = \"text-align: right;\">&vellip;</td><td style = \"text-align: right;\">&vellip;</td><td style = \"text-align: right;\">&vellip;</td><td style = \"text-align: right;\">&vellip;</td><td style = \"text-align: right;\">&vellip;</td><td style = \"text-align: right;\">&vellip;</td><td style = \"text-align: right;\">&vellip;</td><td style = \"text-align: right;\">&vellip;</td><td style = \"text-align: right;\">&vellip;</td><td style = \"text-align: right;\">&vellip;</td><td style = \"text-align: right;\">&vellip;</td><td style = \"text-align: right;\">&vellip;</td><td style = \"text-align: right;\">&vellip;</td><td style = \"text-align: right;\">&vellip;</td><td style = \"text-align: right;\">&vellip;</td></tr><tr><td class = \"rowNumber\" style = \"font-weight: bold; text-align: right;\">19</td><td style = \"text-align: left;\">NJ</td><td style = \"text-align: left;\">2020-05-19</td><td style = \"text-align: right;\">206.586</td><td style = \"text-align: right;\">0.0</td><td style = \"text-align: right;\">0.0</td><td style = \"text-align: right;\">2412.67</td><td style = \"text-align: right;\">2398.09</td><td style = \"text-align: right;\">4553.25</td><td style = \"text-align: right;\">0.0</td><td style = \"text-align: right;\">0.529878</td><td style = \"text-align: right;\">0.0</td><td style = \"text-align: right;\">0.526676</td><td style = \"text-align: left;\">[(&quot;MA&quot;, 206.586)]</td><td style = \"text-align: left;\">[]</td></tr><tr><td class = \"rowNumber\" style = \"font-weight: bold; text-align: right;\">20</td><td style = \"text-align: left;\">NJ</td><td style = \"text-align: left;\">2020-05-20</td><td style = \"text-align: right;\">0.0</td><td style = \"text-align: right;\">0.0</td><td style = \"text-align: right;\">0.0</td><td style = \"text-align: right;\">842.831</td><td style = \"text-align: right;\">1049.42</td><td style = \"text-align: right;\">4553.25</td><td style = \"text-align: right;\">0.0</td><td style = \"text-align: right;\">0.185105</td><td style = \"text-align: right;\">0.0</td><td style = \"text-align: right;\">0.230476</td><td style = \"text-align: left;\">[]</td><td style = \"text-align: left;\">[]</td></tr><tr><td class = \"rowNumber\" style = \"font-weight: bold; text-align: right;\">21</td><td style = \"text-align: left;\">NJ</td><td style = \"text-align: left;\">2020-05-21</td><td style = \"text-align: right;\">0.0</td><td style = \"text-align: right;\">0.0</td><td style = \"text-align: right;\">0.0</td><td style = \"text-align: right;\">-467.96</td><td style = \"text-align: right;\">-261.374</td><td style = \"text-align: right;\">4553.25</td><td style = \"text-align: right;\">0.0</td><td style = \"text-align: right;\">-0.102775</td><td style = \"text-align: right;\">0.0</td><td style = \"text-align: right;\">-0.0574038</td><td style = \"text-align: left;\">[]</td><td style = \"text-align: left;\">[]</td></tr><tr><td class = \"rowNumber\" style = \"font-weight: bold; text-align: right;\">22</td><td style = \"text-align: left;\">NJ</td><td style = \"text-align: left;\">2020-05-22</td><td style = \"text-align: right;\">0.0</td><td style = \"text-align: right;\">0.0</td><td style = \"text-align: right;\">0.0</td><td style = \"text-align: right;\">-1740.72</td><td style = \"text-align: right;\">-1534.13</td><td style = \"text-align: right;\">4553.25</td><td style = \"text-align: right;\">0.0</td><td style = \"text-align: right;\">-0.382302</td><td style = \"text-align: right;\">0.0</td><td style = \"text-align: right;\">-0.336931</td><td style = \"text-align: left;\">[]</td><td style = \"text-align: left;\">[]</td></tr><tr><td class = \"rowNumber\" style = \"font-weight: bold; text-align: right;\">23</td><td style = \"text-align: left;\">NJ</td><td style = \"text-align: left;\">2020-05-23</td><td style = \"text-align: right;\">0.0</td><td style = \"text-align: right;\">0.0</td><td style = \"text-align: right;\">0.0</td><td style = \"text-align: right;\">-2980.12</td><td style = \"text-align: right;\">-2773.53</td><td style = \"text-align: right;\">4553.25</td><td style = \"text-align: right;\">0.0</td><td style = \"text-align: right;\">-0.654503</td><td style = \"text-align: right;\">0.0</td><td style = \"text-align: right;\">-0.609132</td><td style = \"text-align: left;\">[]</td><td style = \"text-align: left;\">[]</td></tr><tr><td class = \"rowNumber\" style = \"font-weight: bold; text-align: right;\">24</td><td style = \"text-align: left;\">NJ</td><td style = \"text-align: left;\">2020-05-24</td><td style = \"text-align: right;\">0.0</td><td style = \"text-align: right;\">0.0</td><td style = \"text-align: right;\">0.0</td><td style = \"text-align: right;\">-4179.19</td><td style = \"text-align: right;\">-3972.6</td><td style = \"text-align: right;\">4553.25</td><td style = \"text-align: right;\">0.0</td><td style = \"text-align: right;\">-0.917847</td><td style = \"text-align: right;\">0.0</td><td style = \"text-align: right;\">-0.872476</td><td style = \"text-align: left;\">[]</td><td style = \"text-align: left;\">[]</td></tr><tr><td class = \"rowNumber\" style = \"font-weight: bold; text-align: right;\">25</td><td style = \"text-align: left;\">NJ</td><td style = \"text-align: left;\">2020-05-25</td><td style = \"text-align: right;\">0.0</td><td style = \"text-align: right;\">0.0</td><td style = \"text-align: right;\">0.0</td><td style = \"text-align: right;\">-5338.41</td><td style = \"text-align: right;\">-5131.83</td><td style = \"text-align: right;\">4553.25</td><td style = \"text-align: right;\">0.0</td><td style = \"text-align: right;\">-1.17244</td><td style = \"text-align: right;\">0.0</td><td style = \"text-align: right;\">-1.12707</td><td style = \"text-align: left;\">[]</td><td style = \"text-align: left;\">[]</td></tr><tr><td class = \"rowNumber\" style = \"font-weight: bold; text-align: right;\">26</td><td style = \"text-align: left;\">NJ</td><td style = \"text-align: left;\">2020-05-26</td><td style = \"text-align: right;\">0.0</td><td style = \"text-align: right;\">0.0</td><td style = \"text-align: right;\">0.0</td><td style = \"text-align: right;\">-6469.94</td><td style = \"text-align: right;\">-6263.35</td><td style = \"text-align: right;\">4553.25</td><td style = \"text-align: right;\">0.0</td><td style = \"text-align: right;\">-1.42095</td><td style = \"text-align: right;\">0.0</td><td style = \"text-align: right;\">-1.37558</td><td style = \"text-align: left;\">[]</td><td style = \"text-align: left;\">[]</td></tr><tr><td class = \"rowNumber\" style = \"font-weight: bold; text-align: right;\">27</td><td style = \"text-align: left;\">NJ</td><td style = \"text-align: left;\">2020-05-27</td><td style = \"text-align: right;\">0.0</td><td style = \"text-align: right;\">0.0</td><td style = \"text-align: right;\">0.0</td><td style = \"text-align: right;\">-7562.81</td><td style = \"text-align: right;\">-7356.22</td><td style = \"text-align: right;\">4553.25</td><td style = \"text-align: right;\">0.0</td><td style = \"text-align: right;\">-1.66097</td><td style = \"text-align: right;\">0.0</td><td style = \"text-align: right;\">-1.6156</td><td style = \"text-align: left;\">[]</td><td style = \"text-align: left;\">[]</td></tr><tr><td class = \"rowNumber\" style = \"font-weight: bold; text-align: right;\">28</td><td style = \"text-align: left;\">NJ</td><td style = \"text-align: left;\">2020-05-28</td><td style = \"text-align: right;\">0.0</td><td style = \"text-align: right;\">0.0</td><td style = \"text-align: right;\">0.0</td><td style = \"text-align: right;\">-8618.71</td><td style = \"text-align: right;\">-8412.12</td><td style = \"text-align: right;\">4553.25</td><td style = \"text-align: right;\">0.0</td><td style = \"text-align: right;\">-1.89287</td><td style = \"text-align: right;\">0.0</td><td style = \"text-align: right;\">-1.8475</td><td style = \"text-align: left;\">[]</td><td style = \"text-align: left;\">[]</td></tr><tr><td class = \"rowNumber\" style = \"font-weight: bold; text-align: right;\">29</td><td style = \"text-align: left;\">NJ</td><td style = \"text-align: left;\">2020-05-29</td><td style = \"text-align: right;\">827.471</td><td style = \"text-align: right;\">0.0</td><td style = \"text-align: right;\">0.0</td><td style = \"text-align: right;\">-8889.17</td><td style = \"text-align: right;\">-8682.59</td><td style = \"text-align: right;\">4553.25</td><td style = \"text-align: right;\">0.0</td><td style = \"text-align: right;\">-1.95227</td><td style = \"text-align: right;\">0.0</td><td style = \"text-align: right;\">-1.9069</td><td style = \"text-align: left;\">[(&quot;PA&quot;, 827.471)]</td><td style = \"text-align: left;\">[]</td></tr><tr><td class = \"rowNumber\" style = \"font-weight: bold; text-align: right;\">30</td><td style = \"text-align: left;\">NJ</td><td style = \"text-align: left;\">2020-05-30</td><td style = \"text-align: right;\">56.5553</td><td style = \"text-align: right;\">0.0</td><td style = \"text-align: right;\">0.0</td><td style = \"text-align: right;\">-9974.85</td><td style = \"text-align: right;\">-8940.79</td><td style = \"text-align: right;\">4553.25</td><td style = \"text-align: right;\">0.0</td><td style = \"text-align: right;\">-2.19071</td><td style = \"text-align: right;\">0.0</td><td style = \"text-align: right;\">-1.96361</td><td style = \"text-align: left;\">[(&quot;CT&quot;, 56.5553)]</td><td style = \"text-align: left;\">[]</td></tr></tbody></table></div>"
      ],
      "text/latex": [
       "\\begin{tabular}{r|cccccccc}\n",
       "\t& location & date & sent & received & new\\_patients & active\\_patients & active\\_patients\\_nosent & \\\\\n",
       "\t\\hline\n",
       "\t& String & Date & Float64 & Float64 & Float32 & Float64 & Float32 & \\\\\n",
       "\t\\hline\n",
       "\t1 & NJ & 2020-05-01 & 0.0 & 5687.4 & 1073.99 & 11150.2 & 5462.78 & $\\dots$ \\\\\n",
       "\t2 & NJ & 2020-05-02 & 14.7664 & 0.0 & 1055.75 & 11475.3 & 5787.86 & $\\dots$ \\\\\n",
       "\t3 & NJ & 2020-05-03 & 0.0 & 0.0 & 1036.88 & 11790.9 & 6118.25 & $\\dots$ \\\\\n",
       "\t4 & NJ & 2020-05-04 & 0.0 & 0.0 & 1018.0 & 12123.9 & 6451.25 & $\\dots$ \\\\\n",
       "\t5 & NJ & 2020-05-05 & 0.0 & 0.0 & 997.133 & 12460.7 & 6788.04 & $\\dots$ \\\\\n",
       "\t6 & NJ & 2020-05-06 & 0.0 & 14.5797 & 971.688 & 12807.4 & 7120.23 & $\\dots$ \\\\\n",
       "\t7 & NJ & 2020-05-07 & 0.0 & 0.0 & 950.161 & 13140.0 & 7452.74 & $\\dots$ \\\\\n",
       "\t8 & NJ & 2020-05-08 & 0.0 & 0.0 & 926.771 & 13470.7 & 7783.52 & $\\dots$ \\\\\n",
       "\t9 & NJ & 2020-05-09 & 0.0 & 0.0 & 904.766 & 13801.8 & 8114.59 & $\\dots$ \\\\\n",
       "\t10 & NJ & 2020-05-10 & 0.0 & 0.0 & 876.339 & 14123.6 & 8436.37 & $\\dots$ \\\\\n",
       "\t11 & NJ & 2020-05-11 & 0.0 & 0.0 & 852.41 & 14446.0 & 8758.78 & $\\dots$ \\\\\n",
       "\t12 & NJ & 2020-05-12 & 0.0 & 0.0 & 831.472 & 14765.8 & 9078.55 & $\\dots$ \\\\\n",
       "\t13 & NJ & 2020-05-13 & 0.0 & 0.0 & 804.114 & 15077.4 & 9390.17 & $\\dots$ \\\\\n",
       "\t14 & NJ & 2020-05-14 & 0.0 & 0.0 & 779.092 & 15384.2 & 9696.94 & $\\dots$ \\\\\n",
       "\t15 & NJ & 2020-05-15 & 0.0 & 0.0 & 0.0 & 8164.44 & 8164.63 & $\\dots$ \\\\\n",
       "\t16 & NJ & 2020-05-16 & 0.0 & 0.0 & 0.0 & 6685.69 & 6671.11 & $\\dots$ \\\\\n",
       "\t17 & NJ & 2020-05-17 & 0.0 & 0.0 & 0.0 & 5227.78 & 5213.2 & $\\dots$ \\\\\n",
       "\t18 & NJ & 2020-05-18 & 0.0 & 0.0 & 0.0 & 3801.43 & 3786.85 & $\\dots$ \\\\\n",
       "\t19 & NJ & 2020-05-19 & 206.586 & 0.0 & 0.0 & 2412.67 & 2398.09 & $\\dots$ \\\\\n",
       "\t20 & NJ & 2020-05-20 & 0.0 & 0.0 & 0.0 & 842.831 & 1049.42 & $\\dots$ \\\\\n",
       "\t21 & NJ & 2020-05-21 & 0.0 & 0.0 & 0.0 & -467.96 & -261.374 & $\\dots$ \\\\\n",
       "\t22 & NJ & 2020-05-22 & 0.0 & 0.0 & 0.0 & -1740.72 & -1534.13 & $\\dots$ \\\\\n",
       "\t23 & NJ & 2020-05-23 & 0.0 & 0.0 & 0.0 & -2980.12 & -2773.53 & $\\dots$ \\\\\n",
       "\t24 & NJ & 2020-05-24 & 0.0 & 0.0 & 0.0 & -4179.19 & -3972.6 & $\\dots$ \\\\\n",
       "\t$\\dots$ & $\\dots$ & $\\dots$ & $\\dots$ & $\\dots$ & $\\dots$ & $\\dots$ & $\\dots$ &  \\\\\n",
       "\\end{tabular}\n"
      ],
      "text/plain": [
       "\u001b[1m30×14 DataFrame\u001b[0m\n",
       "\u001b[1m Row \u001b[0m│\u001b[1m location \u001b[0m\u001b[1m date       \u001b[0m\u001b[1m sent     \u001b[0m\u001b[1m received  \u001b[0m\u001b[1m new_patients \u001b[0m\u001b[1m active_patient\u001b[0m ⋯\n",
       "     │\u001b[90m String   \u001b[0m\u001b[90m Date       \u001b[0m\u001b[90m Float64  \u001b[0m\u001b[90m Float64   \u001b[0m\u001b[90m Float32      \u001b[0m\u001b[90m Float64       \u001b[0m ⋯\n",
       "─────┼──────────────────────────────────────────────────────────────────────────\n",
       "   1 │ NJ        2020-05-01    0.0     5687.4         1073.99         11150.2  ⋯\n",
       "   2 │ NJ        2020-05-02   14.7664     0.0         1055.75         11475.3\n",
       "   3 │ NJ        2020-05-03    0.0        0.0         1036.88         11790.9\n",
       "   4 │ NJ        2020-05-04    0.0        0.0         1018.0          12123.9\n",
       "   5 │ NJ        2020-05-05    0.0        0.0          997.133        12460.7  ⋯\n",
       "   6 │ NJ        2020-05-06    0.0       14.5797       971.688        12807.4\n",
       "   7 │ NJ        2020-05-07    0.0        0.0          950.161        13140.0\n",
       "   8 │ NJ        2020-05-08    0.0        0.0          926.771        13470.7\n",
       "  ⋮  │    ⋮          ⋮          ⋮          ⋮           ⋮               ⋮       ⋱\n",
       "  24 │ NJ        2020-05-24    0.0        0.0            0.0          -4179.19 ⋯\n",
       "  25 │ NJ        2020-05-25    0.0        0.0            0.0          -5338.41\n",
       "  26 │ NJ        2020-05-26    0.0        0.0            0.0          -6469.94\n",
       "  27 │ NJ        2020-05-27    0.0        0.0            0.0          -7562.81\n",
       "  28 │ NJ        2020-05-28    0.0        0.0            0.0          -8618.71 ⋯\n",
       "  29 │ NJ        2020-05-29  827.471      0.0            0.0          -8889.17\n",
       "  30 │ NJ        2020-05-30   56.5553     0.0            0.0          -9974.85\n",
       "\u001b[36m                                                   9 columns and 15 rows omitted\u001b[0m"
      ]
     },
     "metadata": {},
     "output_type": "display_data"
    }
   ],
   "source": [
    "s = \"NJ\"\n",
    "filter(row -> row.location == s, results.complete_table)"
   ]
  },
  {
   "cell_type": "code",
   "execution_count": 21,
   "metadata": {},
   "outputs": [
    {
     "data": {
      "text/plain": [
       "Dict{String, Vector{String}} with 10 entries:\n",
       "  \"NH\" => [\"CT\", \"MA\", \"RI\"]\n",
       "  \"CT\" => [\"DE\", \"MA\", \"ME\", \"NH\", \"NJ\", \"NY\", \"PA\"]\n",
       "  \"RI\" => [\"NJ\", \"NY\"]\n",
       "  \"MA\" => [\"NJ\", \"NY\", \"RI\"]\n",
       "  \"ME\" => [\"CT\", \"RI\"]\n",
       "  \"NY\" => [\"CT\", \"DE\"]\n",
       "  \"NJ\" => [\"CT\", \"MA\", \"MD\", \"NY\", \"RI\"]\n",
       "  \"DE\" => [\"MD\", \"NJ\", \"NY\"]\n",
       "  \"PA\" => [\"CT\", \"DE\", \"MD\", \"NJ\", \"NY\"]\n",
       "  \"MD\" => [\"DE\", \"NJ\", \"NY\", \"PA\"]"
      ]
     },
     "metadata": {},
     "output_type": "display_data"
    }
   ],
   "source": [
    "results.sent_to"
   ]
  },
  {
   "cell_type": "code",
   "execution_count": null,
   "metadata": {},
   "outputs": [],
   "source": []
  }
 ],
 "metadata": {
  "kernelspec": {
   "display_name": "Julia 1.10.2",
   "language": "julia",
   "name": "julia-1.10"
  },
  "language_info": {
   "file_extension": ".jl",
   "mimetype": "application/julia",
   "name": "julia",
   "version": "1.10.2"
  }
 },
 "nbformat": 4,
 "nbformat_minor": 4
}
