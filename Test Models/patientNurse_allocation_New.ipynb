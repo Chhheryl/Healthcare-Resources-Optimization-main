{
 "cells": [
  {
   "cell_type": "code",
   "execution_count": 1,
   "metadata": {},
   "outputs": [],
   "source": [
    "using Dates\n",
    "using JuMP\n",
    "using CSV\n",
    "using DataFrames\n",
    "using LinearAlgebra\n",
    "using Distributions\n",
    "ENV[\"COLUMNS\"] = 200;\n",
    "include(\"COVIDResourceAllocation.jl\")\n",
    "using .COVIDResourceAllocation"
   ]
  },
  {
   "cell_type": "code",
   "execution_count": 2,
   "metadata": {},
   "outputs": [
    {
     "data": {
      "text/plain": [
       "11×11 BitMatrix:\n",
       " 0  1  1  0  1  1  1  1  1  1  0\n",
       " 1  0  0  1  0  0  1  1  1  0  0\n",
       " 1  0  0  0  1  1  1  1  0  1  1\n",
       " 0  1  0  0  0  0  1  1  1  0  0\n",
       " 1  0  1  0  0  1  0  0  0  1  1\n",
       " 1  0  1  0  1  0  0  0  0  1  1\n",
       " 1  1  1  1  0  0  0  1  1  1  0\n",
       " 1  1  1  1  0  0  1  0  1  1  0\n",
       " 1  1  0  1  0  0  1  1  0  0  0\n",
       " 1  0  1  0  1  1  1  1  0  0  0\n",
       " 0  0  1  0  1  1  0  0  0  0  0"
      ]
     },
     "metadata": {},
     "output_type": "display_data"
    }
   ],
   "source": [
    "states = [\"CT\", \"DE\", \"MA\", \"MD\", \"ME\", \"NH\", \"NJ\", \"NY\", \"PA\", \"RI\", \"VT\"]\n",
    "start_date = Date(2020, 3, 30)\n",
    "end_date   = Date(2020, 6, 30)\n",
    "travel_threshold_hours = 4.0\n",
    "\n",
    "pct_nurses_available = 0.5\n",
    "patients_per_nurse_covid = 2.5\n",
    "nurse_hrs_per_week_covid = 36\n",
    "pct_beds_available = 0.25\n",
    "hospitalized_days = 14\n",
    "\n",
    "adj = adjacencies(states, level=:state, source=:google, threshold=travel_threshold_hours)"
   ]
  },
  {
   "cell_type": "code",
   "execution_count": 3,
   "metadata": {},
   "outputs": [],
   "source": [
    "forecast_active = forecast(\n",
    "    states, start_date, end_date,\n",
    "    level=:state,\n",
    "    source=:ihme,\n",
    "    forecast_type=:active,\n",
    "    patient_type=:regular,\n",
    "    bound_type=:mean,\n",
    ");"
   ]
  },
  {
   "cell_type": "code",
   "execution_count": 4,
   "metadata": {},
   "outputs": [],
   "source": [
    "forecast_admitted = forecast(\n",
    "    states, start_date, end_date,\n",
    "    level=:state,\n",
    "    source=:ihme,\n",
    "    forecast_type=:admitted,\n",
    "    patient_type=:regular,\n",
    "    bound_type=:mean,\n",
    ");"
   ]
  },
  {
   "cell_type": "code",
   "execution_count": 11,
   "metadata": {},
   "outputs": [],
   "source": [
    "forecast_initial = forecast(\n",
    "    states, start_date-Dates.Day(1), start_date-Dates.Day(1),\n",
    "    level=:state,\n",
    "    source=:ihme,\n",
    "    forecast_type=:active,\n",
    "    patient_type=:regular,\n",
    "    bound_type=:mean,\n",
    ");"
   ]
  },
  {
   "cell_type": "code",
   "execution_count": 16,
   "metadata": {},
   "outputs": [
    {
     "data": {
      "text/plain": [
       "11×93 Matrix{Float32}:\n",
       "   3.70665    7.5852     7.63875   11.3346    15.0291    19.0233    22.6094    29.8746    33.7842   …  0.0  0.0  0.0  0.0  0.0  0.0  0.0  0.0  0.0  0.0  0.0  0.0  0.0  0.0  0.0  0.0  0.0  0.0  0.0\n",
       "   0.0        0.0        0.0        0.0        0.0        3.83893    3.89021    3.85197    3.86398     0.0  0.0  0.0  0.0  0.0  0.0  0.0  0.0  0.0  0.0  0.0  0.0  0.0  0.0  0.0  0.0  0.0  0.0  0.0\n",
       "   4.0887     6.0417     7.99425   10.0192    12.1117    14.301     16.3489    20.2464    24.5119      0.0  0.0  0.0  0.0  0.0  0.0  0.0  0.0  0.0  0.0  0.0  0.0  0.0  0.0  0.0  0.0  0.0  0.0  0.0\n",
       "   0.0        5.13495    5.301      5.2362     5.1579    10.2483    10.2213    15.8589    20.9335      0.0  0.0  0.0  0.0  0.0  0.0  0.0  0.0  0.0  0.0  0.0  0.0  0.0  0.0  0.0  0.0  0.0  0.0  0.0\n",
       "   0.0        0.0        0.0        0.0        0.0        0.0        0.0        0.0        0.0         0.0  0.0  0.0  0.0  0.0  0.0  0.0  0.0  0.0  0.0  0.0  0.0  0.0  0.0  0.0  0.0  0.0  0.0  0.0\n",
       "   0.0        0.0        0.0        0.0        0.0        0.0        0.0        0.0        4.21999  …  0.0  0.0  0.0  0.0  0.0  0.0  0.0  0.0  0.0  0.0  0.0  0.0  0.0  0.0  0.0  0.0  0.0  0.0  0.0\n",
       "  19.1623    27.2138    34.3332    45.6683    61.6248    80.9276   103.17     131.107    166.104       0.0  0.0  0.0  0.0  0.0  0.0  0.0  0.0  0.0  0.0  0.0  0.0  0.0  0.0  0.0  0.0  0.0  0.0  0.0\n",
       " 117.661    157.081    209.956    273.044    349.088    442.503    553.356    682.65     830.98        0.0  0.0  0.0  0.0  0.0  0.0  0.0  0.0  0.0  0.0  0.0  0.0  0.0  0.0  0.0  0.0  0.0  0.0  0.0\n",
       "   3.7197     7.4952     7.2612    11.3333    11.2896    15.1124    22.4577    25.9312    33.9431      0.0  0.0  0.0  0.0  0.0  0.0  0.0  0.0  0.0  0.0  0.0  0.0  0.0  0.0  0.0  0.0  0.0  0.0  0.0\n",
       "   0.0        0.0        0.0        0.0        0.0        0.0        3.78482    3.7994     3.74282     0.0  0.0  0.0  0.0  0.0  0.0  0.0  0.0  0.0  0.0  0.0  0.0  0.0  0.0  0.0  0.0  0.0  0.0  0.0\n",
       "   3.78477    3.78306    3.83584    3.82289    3.76609    3.79796    3.76753    3.79827    3.80448  …  0.0  0.0  0.0  0.0  0.0  0.0  0.0  0.0  0.0  0.0  0.0  0.0  0.0  0.0  0.0  0.0  0.0  0.0  0.0"
      ]
     },
     "metadata": {},
     "output_type": "display_data"
    }
   ],
   "source": [
    "N = length(states);\n",
    "T = (end_date - start_date).value + 1\n",
    "forecast_discharged = forecast(\n",
    "    states, start_date-Dates.Day(hospitalized_days), start_date-Dates.Day(1),\n",
    "    level=:state,\n",
    "    source=:ihme,\n",
    "    forecast_type=:admitted,\n",
    "    patient_type=:regular,\n",
    "    bound_type=:mean,\n",
    ")\n",
    "forecast_discharged = hcat(forecast_discharged, zeros(Float32, N, T - hospitalized_days))"
   ]
  },
  {
   "cell_type": "code",
   "execution_count": 7,
   "metadata": {},
   "outputs": [
    {
     "data": {
      "text/plain": [
       "11×11 BitMatrix:\n",
       " 0  1  1  0  1  1  1  1  1  1  0\n",
       " 1  0  0  1  0  0  1  1  1  0  0\n",
       " 1  0  0  0  1  1  1  1  0  1  1\n",
       " 0  1  0  0  0  0  1  1  1  0  0\n",
       " 1  0  1  0  0  1  0  0  0  1  1\n",
       " 1  0  1  0  1  0  0  0  0  1  1\n",
       " 1  1  1  1  0  0  0  1  1  1  0\n",
       " 1  1  1  1  0  0  1  0  1  1  0\n",
       " 1  1  0  1  0  0  1  1  0  0  0\n",
       " 1  0  1  0  1  1  1  1  0  0  0\n",
       " 0  0  1  0  1  1  0  0  0  0  0"
      ]
     },
     "metadata": {},
     "output_type": "display_data"
    }
   ],
   "source": [
    "beds = n_beds(states, bed_type=:all, pct_beds_available=pct_beds_available)\n",
    "adj = adjacencies(states, level=:state, source=:google, threshold=travel_threshold_hours)"
   ]
  },
  {
   "cell_type": "code",
   "execution_count": 8,
   "metadata": {},
   "outputs": [
    {
     "name": "stdout",
     "output_type": "stream",
     "text": [
      "nurse_hrs_per_day_covid = nurse_hrs_per_week_covid / 7 = 5.142857142857143\n",
      "nurses_days_per_day_covid = 24 / nurse_hrs_per_day_covid = 4.666666666666666\n",
      "nurse_days_per_patient_day_covid = nurses_days_per_day_covid / patients_per_nurse_covid = 1.8666666666666665\n"
     ]
    }
   ],
   "source": [
    "@show nurse_hrs_per_day_covid = nurse_hrs_per_week_covid / 7\n",
    "@show nurses_days_per_day_covid = 24 / nurse_hrs_per_day_covid\n",
    "\n",
    "@show nurse_days_per_patient_day_covid = nurses_days_per_day_covid / patients_per_nurse_covid;\n",
    "\n",
    "nurses = n_nurses(states) * Float32(pct_nurses_available);"
   ]
  },
  {
   "cell_type": "code",
   "execution_count": 20,
   "metadata": {},
   "outputs": [
    {
     "name": "stdout",
     "output_type": "stream",
     "text": [
      "Set parameter Username\n",
      "Academic license - for non-commercial use only - expires 2025-04-21\n",
      "Gurobi Optimizer version 11.0.1 build v11.0.1rc0 (mac64[x86] - Darwin 22.6.0 22G513)\n",
      "\n",
      "CPU model: Intel(R) Core(TM) i5-8257U CPU @ 1.40GHz\n",
      "Thread count: 4 physical cores, 8 logical processors, using up to 8 threads\n",
      "\n",
      "Optimize a model with 35154 rows, 24552 columns and 3529227 nonzeros\n",
      "Model fingerprint: 0xdde919f1\n",
      "Coefficient statistics:\n",
      "  Matrix range     [1e+00, 2e+00]\n",
      "  Objective range  [1e+00, 2e+02]\n",
      "  Bounds range     [0e+00, 0e+00]\n",
      "  RHS range        [4e-01, 5e+04]\n",
      "Presolve removed 29158 rows and 6755 columns\n",
      "Presolve time: 1.01s\n",
      "Presolved: 5996 rows, 17797 columns, 3207229 nonzeros\n",
      "\n",
      "Concurrent LP optimizer: dual simplex and barrier\n",
      "Showing barrier log only...\n",
      "\n",
      "Ordering time: 0.55s\n",
      "\n",
      "Barrier performed 0 iterations in 2.40 seconds (2.48 work units)\n",
      "Barrier solve interrupted - model solved by another algorithm\n",
      "\n",
      "\n",
      "Solved with dual simplex\n",
      "Iteration    Objective       Primal Inf.    Dual Inf.      Time\n",
      "    3729    1.5383657e+08   0.000000e+00   0.000000e+00      3s\n",
      "\n",
      "Solved in 3729 iterations and 2.67 seconds (3.16 work units)\n",
      "Optimal objective  1.538365690e+08\n",
      "\n",
      "User-callback calls 248, time in user-callback 0.00 sec\n",
      "termination status: OPTIMAL\n",
      "solve time: 2.669s\n",
      "objective function value: 1.53836569027e8\n"
     ]
    }
   ],
   "source": [
    "isolation_spot = vec([7,8])\n",
    "model = patient_nurse_allocation_new(\n",
    "    beds,\n",
    "    vec(forecast_initial),\n",
    "    forecast_discharged,\n",
    "    forecast_admitted,\n",
    "    nurses,\n",
    "    adj,\n",
    "    isolation_spot,\n",
    "    verbose=true\n",
    ")\n",
    "sentp = value.(model[:sentnurses])\n",
    "sentn = value.(model[:sentpatients])\n",
    "println(\"termination status: \", termination_status(model))\n",
    "println(\"solve time: \", round(solve_time(model), digits=3), \"s\")\n",
    "println(\"objective function value: \", round(objective_value(model), digits=3))"
   ]
  },
  {
   "cell_type": "code",
   "execution_count": null,
   "metadata": {},
   "outputs": [],
   "source": []
  }
 ],
 "metadata": {
  "kernelspec": {
   "display_name": "Julia 1.10.2",
   "language": "julia",
   "name": "julia-1.10"
  },
  "language_info": {
   "file_extension": ".jl",
   "mimetype": "application/julia",
   "name": "julia",
   "version": "1.10.2"
  },
  "orig_nbformat": 4,
  "vscode": {
   "interpreter": {
    "hash": "aee8b7b246df8f9039afb4144a1f6fd8d2ca17a180786b69acc140d282b71a49"
   }
  }
 },
 "nbformat": 4,
 "nbformat_minor": 2
}
