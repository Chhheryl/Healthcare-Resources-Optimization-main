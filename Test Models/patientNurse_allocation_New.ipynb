{
 "cells": [
  {
   "cell_type": "code",
   "execution_count": 1,
   "metadata": {},
   "outputs": [],
   "source": [
    "using Dates\n",
    "using JuMP\n",
    "using CSV\n",
    "using DataFrames\n",
    "using LinearAlgebra\n",
    "using Distributions\n",
    "\n",
    "include(\"COVIDResourceAllocation.jl\")\n",
    "using .COVIDResourceAllocation"
   ]
  },
  {
   "cell_type": "code",
   "execution_count": 2,
   "metadata": {},
   "outputs": [],
   "source": [
    "states = [\"CT\", \"DE\", \"MA\", \"MD\", \"ME\", \"NH\", \"NJ\", \"NY\", \"PA\", \"RI\"]\n",
    "\n",
    "start_date = Date(2020, 5, 1)\n",
    "end_date   = Date(2020, 5, 30)\n",
    "\n",
    "pct_beds_available = 0.25\n",
    "travel_threshold_hours = 4.0\n",
    "hospitalized_days = 14;"
   ]
  },
  {
   "cell_type": "code",
   "execution_count": 3,
   "metadata": {},
   "outputs": [],
   "source": [
    "N = length(states);\n",
    "T = (end_date - start_date).value + 1;"
   ]
  },
  {
   "cell_type": "code",
   "execution_count": 4,
   "metadata": {},
   "outputs": [],
   "source": [
    "forecast_admitted = forecast(\n",
    "    states, start_date, end_date,\n",
    "    level=:state,\n",
    "    source=:ihme,\n",
    "    forecast_type=:admitted,\n",
    "    patient_type=:regular,\n",
    "    bound_type=:mean,\n",
    ");"
   ]
  },
  {
   "cell_type": "code",
   "execution_count": 5,
   "metadata": {},
   "outputs": [],
   "source": [
    "forecast_initial = forecast(\n",
    "    states, start_date-Dates.Day(1), start_date-Dates.Day(1),\n",
    "    level=:state,\n",
    "    source=:ihme,\n",
    "    forecast_type=:active,\n",
    "    patient_type=:regular,\n",
    "    bound_type=:mean,\n",
    ");[:];"
   ]
  },
  {
   "cell_type": "code",
   "execution_count": 6,
   "metadata": {},
   "outputs": [],
   "source": [
    "forecast_discharged = forecast(\n",
    "    states, start_date-Dates.Day(hospitalized_days), start_date-Dates.Day(1),\n",
    "    level=:state,\n",
    "    source=:ihme,\n",
    "    forecast_type=:admitted,\n",
    "    patient_type=:regular,\n",
    "    bound_type=:mean,\n",
    ")\n",
    "forecast_discharged = hcat(forecast_discharged, zeros(Float32, N, T - hospitalized_days));"
   ]
  },
  {
   "cell_type": "code",
   "execution_count": 7,
   "metadata": {},
   "outputs": [],
   "source": [
    "beds = n_beds(states, bed_type=:all, pct_beds_available=pct_beds_available);\n",
    "adj = adjacencies(states, level=:state, source=:google, threshold=travel_threshold_hours);"
   ]
  },
  {
   "cell_type": "code",
   "execution_count": 8,
   "metadata": {},
   "outputs": [
    {
     "name": "stdout",
     "output_type": "stream",
     "text": [
      "nurse_hrs_per_day_covid = nurse_hrs_per_week_covid / 7 = 5.142857142857143\n",
      "nurses_days_per_day_covid = 24 / nurse_hrs_per_day_covid = 4.666666666666666\n",
      "nurse_days_per_patient_day_covid = nurses_days_per_day_covid / patients_per_nurse_covid = 1.8666666666666665\n"
     ]
    }
   ],
   "source": [
    "pct_nurses_available = 0.5\n",
    "patients_per_nurse_covid = 2.5\n",
    "nurse_hrs_per_week_covid = 36\n",
    "\n",
    "@show nurse_hrs_per_day_covid = nurse_hrs_per_week_covid / 7\n",
    "@show nurses_days_per_day_covid = 24 / nurse_hrs_per_day_covid\n",
    "\n",
    "@show nurse_days_per_patient_day_covid = nurses_days_per_day_covid / patients_per_nurse_covid;\n",
    "forecast_active = forecast(\n",
    "    states, start_date, end_date,\n",
    "    level=:state,\n",
    "    source=:ihme,\n",
    "    forecast_type=:active,\n",
    "    patient_type=:regular,\n",
    "    bound_type=:mean,\n",
    ");\n",
    "nurses = n_nurses(states) * Float32(pct_nurses_available);"
   ]
  },
  {
   "cell_type": "code",
   "execution_count": 9,
   "metadata": {},
   "outputs": [
    {
     "ename": "MethodError",
     "evalue": "MethodError: no method matching patient_nurse_allocation_new(::Vector{Float32}, ::Matrix{Float32}, ::Matrix{Float32}, ::Matrix{Float32}, ::Vector{Float32}, ::BitMatrix; los::Exponential{Float64}, isolation_spot::Vector{Int64}, verbose::Bool)\n\nClosest candidates are:\n  patient_nurse_allocation_new(::Vector{<:Real}, !Matched::Vector{<:Real}, ::Matrix{<:Real}, ::Matrix{<:Real}, ::Vector{<:Real}, ::BitMatrix; los, nurse_days_per_patient_day, sendreceive_switch_time, min_send_amt, smoothness_penalty, setup_cost, sent_penalty, balancing_thresh_patients, balancing_penalty_patients, nurse_target_load, nurse_target_load_gap, nurse_load_penalty, disallow_nurse_shortage_sent, disallow_nurse_shortage_newpatients, severity_weighting, isolation_spot, no_artificial_overflow, no_artificial_shortage, verbose)\n   @ Main.COVIDResourceAllocation ~/Desktop/Healthcare-Resources-Optimization-main/models/PatientNurseAllocationNew.jl:16\n",
     "output_type": "error",
     "traceback": [
      "MethodError: no method matching patient_nurse_allocation_new(::Vector{Float32}, ::Matrix{Float32}, ::Matrix{Float32}, ::Matrix{Float32}, ::Vector{Float32}, ::BitMatrix; los::Exponential{Float64}, isolation_spot::Vector{Int64}, verbose::Bool)\n",
      "\n",
      "Closest candidates are:\n",
      "  patient_nurse_allocation_new(::Vector{<:Real}, !Matched::Vector{<:Real}, ::Matrix{<:Real}, ::Matrix{<:Real}, ::Vector{<:Real}, ::BitMatrix; los, nurse_days_per_patient_day, sendreceive_switch_time, min_send_amt, smoothness_penalty, setup_cost, sent_penalty, balancing_thresh_patients, balancing_penalty_patients, nurse_target_load, nurse_target_load_gap, nurse_load_penalty, disallow_nurse_shortage_sent, disallow_nurse_shortage_newpatients, severity_weighting, isolation_spot, no_artificial_overflow, no_artificial_shortage, verbose)\n",
      "   @ Main.COVIDResourceAllocation ~/Desktop/Healthcare-Resources-Optimization-main/models/PatientNurseAllocationNew.jl:16\n",
      "\n",
      "\n",
      "Stacktrace:\n",
      " [1] top-level scope\n",
      "   @ ~/Desktop/Healthcare-Resources-Optimization-main/Test Models/patientNurse_allocation_New.ipynb:2"
     ]
    }
   ],
   "source": [
    "isolation_spot = [7,8]\n",
    "model = patient_nurse_allocation_new(\n",
    "    beds,\n",
    "    forecast_initial,\n",
    "    forecast_discharged,\n",
    "    forecast_admitted,\n",
    "    nurses,\n",
    "    adj,\n",
    "    los=Exponential(100),\n",
    "    isolation_spot = isolation_spot, \n",
    "    verbose=true\n",
    ")\n",
    "sentp = value.(model[:sentnurses])\n",
    "sentn = value.(model[:sentpatients])\n",
    "println(\"termination status: \", termination_status(model))\n",
    "println(\"solve time: \", round(solve_time(model), digits=3), \"s\")\n",
    "println(\"objective function value: \", round(objective_value(model), digits=3))"
   ]
  },
  {
   "cell_type": "code",
   "execution_count": 11,
   "metadata": {},
   "outputs": [
    {
     "data": {
      "text/plain": [
       "Vector{Int64}\u001b[90m (alias for \u001b[39m\u001b[90mArray{Int64, 1}\u001b[39m\u001b[90m)\u001b[39m"
      ]
     },
     "metadata": {},
     "output_type": "display_data"
    }
   ],
   "source": [
    "typeof(isolation_spot)"
   ]
  },
  {
   "cell_type": "code",
   "execution_count": null,
   "metadata": {},
   "outputs": [],
   "source": []
  }
 ],
 "metadata": {
  "kernelspec": {
   "display_name": "Julia 1.10.2",
   "language": "julia",
   "name": "julia-1.10"
  },
  "language_info": {
   "file_extension": ".jl",
   "mimetype": "application/julia",
   "name": "julia",
   "version": "1.10.2"
  },
  "orig_nbformat": 4,
  "vscode": {
   "interpreter": {
    "hash": "aee8b7b246df8f9039afb4144a1f6fd8d2ca17a180786b69acc140d282b71a49"
   }
  }
 },
 "nbformat": 4,
 "nbformat_minor": 2
}
