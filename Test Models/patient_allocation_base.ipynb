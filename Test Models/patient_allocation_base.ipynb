{
 "cells": [
  {
   "cell_type": "code",
   "execution_count": 1,
   "metadata": {},
   "outputs": [],
   "source": [
    "# push!(LOAD_PATH, normpath(@__DIR__, \"../../\", \"src/models\"));\n",
    "# push!(LOAD_PATH, normpath(@__DIR__, \"../../\", \"src/processing\"));\n",
    "# push!(LOAD_PATH, normpath(@__DIR__, \"../../\", \"src/util\"));\n",
    "# ENV[\"COLUMNS\"] = 200;"
   ]
  },
  {
   "cell_type": "code",
   "execution_count": 2,
   "metadata": {},
   "outputs": [],
   "source": [
    "using Dates\n",
    "using JuMP\n",
    "using CSV\n",
    "using DataFrames\n",
    "using LinearAlgebra\n",
    "using Distributions\n",
    "\n",
    "include(\"COVIDResourceAllocation.jl\")\n",
    "using .COVIDResourceAllocation"
   ]
  },
  {
   "cell_type": "code",
   "execution_count": 3,
   "metadata": {},
   "outputs": [],
   "source": [
    "states = [\"CT\", \"DE\", \"MA\", \"MD\", \"ME\", \"NH\", \"NJ\", \"NY\", \"PA\", \"RI\"]\n",
    "\n",
    "start_date = Date(2020, 5, 1)\n",
    "end_date   = Date(2020, 5, 30)\n",
    "\n",
    "pct_beds_available = 0.25\n",
    "travel_threshold_hours = 4.0\n",
    "hospitalized_days = 14;"
   ]
  },
  {
   "cell_type": "code",
   "execution_count": 4,
   "metadata": {},
   "outputs": [],
   "source": [
    "N = length(states);\n",
    "T = (end_date - start_date).value + 1;"
   ]
  },
  {
   "cell_type": "code",
   "execution_count": 5,
   "metadata": {},
   "outputs": [],
   "source": [
    "forecast_admitted = forecast(\n",
    "    states, start_date, end_date,\n",
    "    level=:state,\n",
    "    source=:ihme,\n",
    "    forecast_type=:admitted,\n",
    "    patient_type=:regular,\n",
    "    bound_type=:mean,\n",
    ");"
   ]
  },
  {
   "cell_type": "code",
   "execution_count": 6,
   "metadata": {},
   "outputs": [],
   "source": [
    "forecast_initial = forecast(\n",
    "    states, start_date-Dates.Day(1), start_date-Dates.Day(1),\n",
    "    level=:state,\n",
    "    source=:ihme,\n",
    "    forecast_type=:active,\n",
    "    patient_type=:regular,\n",
    "    bound_type=:mean,\n",
    ")[:];"
   ]
  },
  {
   "cell_type": "code",
   "execution_count": 7,
   "metadata": {},
   "outputs": [],
   "source": [
    "forecast_discharged = forecast(\n",
    "    states, start_date-Dates.Day(hospitalized_days), start_date-Dates.Day(1),\n",
    "    level=:state,\n",
    "    source=:ihme,\n",
    "    forecast_type=:admitted,\n",
    "    patient_type=:regular,\n",
    "    bound_type=:mean,\n",
    ")\n",
    "forecast_discharged = hcat(forecast_discharged, zeros(Float32, N, T - hospitalized_days));"
   ]
  },
  {
   "cell_type": "code",
   "execution_count": 8,
   "metadata": {},
   "outputs": [],
   "source": [
    "beds = n_beds(states, bed_type=:all, pct_beds_available=pct_beds_available);\n",
    "adj = adjacencies(states, level=:state, source=:google, threshold=travel_threshold_hours);"
   ]
  },
  {
   "cell_type": "code",
   "execution_count": 9,
   "metadata": {},
   "outputs": [
    {
     "name": "stdout",
     "output_type": "stream",
     "text": [
      "Set parameter Username\n",
      "Academic license - for non-commercial use only - expires 2025-04-21\n"
     ]
    },
    {
     "data": {
      "text/plain": [
       "A JuMP Model\n",
       "Minimization problem with:\n",
       "Variables: 3300\n",
       "Objective function type: AffExpr\n",
       "`AffExpr`-in-`MathOptInterface.GreaterThan{Float64}`: 600 constraints\n",
       "`AffExpr`-in-`MathOptInterface.LessThan{Float64}`: 300 constraints\n",
       "`VariableRef`-in-`MathOptInterface.EqualTo{Float64}`: 1320 constraints\n",
       "`VariableRef`-in-`MathOptInterface.GreaterThan{Float64}`: 1980 constraints\n",
       "Model mode: AUTOMATIC\n",
       "CachingOptimizer state: ATTACHED_OPTIMIZER\n",
       "Solver name: Gurobi\n",
       "Names registered in the model: active_patients, overflow, sent"
      ]
     },
     "metadata": {},
     "output_type": "display_data"
    }
   ],
   "source": [
    "model = patient_redistribution(\n",
    "    beds,\n",
    "    forecast_initial,\n",
    "    forecast_discharged,\n",
    "    forecast_admitted,\n",
    "    adj,\n",
    "    Exponential(5)\n",
    ")\n",
    "\n",
    "\n"
   ]
  },
  {
   "cell_type": "code",
   "execution_count": 10,
   "metadata": {},
   "outputs": [
    {
     "name": "stdout",
     "output_type": "stream",
     "text": [
      "Set parameter Username\n",
      "Academic license - for non-commercial use only - expires 2025-04-21\n",
      "Gurobi Optimizer version 11.0.1 build v11.0.1rc0 (mac64[x86] - Darwin 22.6.0 22G513)\n",
      "\n",
      "CPU model: Intel(R) Core(TM) i5-8257U CPU @ 1.40GHz\n",
      "Thread count: 4 physical cores, 8 logical processors, using up to 8 threads\n",
      "\n",
      "Optimize a model with 900 rows, 3300 columns and 165900 nonzeros\n",
      "Model fingerprint: 0xc4249c0e\n",
      "Coefficient statistics:\n",
      "  Matrix range     [7e-01, 1e+00]\n",
      "  Objective range  [1e+00, 1e+00]\n",
      "  Bounds range     [0e+00, 0e+00]\n",
      "  RHS range        [4e+00, 1e+04]\n",
      "Presolve removed 24 rows and 1328 columns\n",
      "Presolve time: 0.04s\n",
      "Presolved: 876 rows, 1972 columns, 102487 nonzeros\n",
      "\n",
      "Concurrent LP optimizer: dual simplex and barrier\n",
      "Showing barrier log only...\n",
      "\n",
      "\n",
      "Barrier performed 0 iterations in 0.06 seconds (0.06 work units)\n",
      "Barrier solve interrupted - model solved by another algorithm\n",
      "\n",
      "\n",
      "Solved with dual simplex\n",
      "Iteration    Objective       Primal Inf.    Dual Inf.      Time\n",
      "     172    2.7870404e+02   0.000000e+00   0.000000e+00      0s\n",
      "\n",
      "Solved in 172 iterations and 0.07 seconds (0.06 work units)\n",
      "Optimal objective  2.787040405e+02\n",
      "\n",
      "User-callback calls 65, time in user-callback 0.00 sec\n",
      "termination status: OPTIMAL\n",
      "solve time: "
     ]
    },
    {
     "name": "stdout",
     "output_type": "stream",
     "text": [
      "0.071s\n",
      "objective function value: "
     ]
    },
    {
     "name": "stdout",
     "output_type": "stream",
     "text": [
      "278.704\n"
     ]
    }
   ],
   "source": [
    "model = patient_redistribution(\n",
    "    beds,\n",
    "    forecast_initial,\n",
    "    forecast_discharged,\n",
    "    forecast_admitted,\n",
    "    adj,\n",
    "    Exponential(100),\n",
    "\n",
    "    sent_penalty=0,\n",
    "    smoothness_penalty=0,\n",
    "    sendreceive_gap=0,\n",
    "    min_send_amt=0,\n",
    "    \n",
    "    setup_cost=0,\n",
    "    \n",
    "    verbose=true,\n",
    ")\n",
    "sent = value.(model[:sent])\n",
    "println(\"termination status: \", termination_status(model))\n",
    "println(\"solve time: \", round(solve_time(model), digits=3), \"s\")\n",
    "println(\"objective function value: \", round(objective_value(model), digits=3))"
   ]
  },
  {
   "cell_type": "code",
   "execution_count": 11,
   "metadata": {},
   "outputs": [],
   "source": [
    "results = PatientAllocationResults.results_all(sent, beds, forecast_initial, forecast_admitted, forecast_discharged, states, start_date, hospitalized_days);"
   ]
  },
  {
   "cell_type": "code",
   "execution_count": 12,
   "metadata": {},
   "outputs": [
    {
     "name": "stdout",
     "output_type": "stream",
     "text": [
      "Total overflow: 79776.95"
     ]
    },
    {
     "name": "stdout",
     "output_type": "stream",
     "text": [
      "\n",
      "Average load: 7.654549\n"
     ]
    }
   ],
   "source": [
    "println(\"Total overflow: \", results.total_overflow)\n",
    "println(\"Average load: \", results.average_load)"
   ]
  },
  {
   "cell_type": "code",
   "execution_count": 13,
   "metadata": {},
   "outputs": [
    {
     "data": {
      "text/html": [
       "<div><div style = \"float: left;\"><span>10×7 DataFrame</span></div><div style = \"clear: both;\"></div></div><div class = \"data-frame\" style = \"overflow-x: scroll;\"><table class = \"data-frame\" style = \"margin-bottom: 6px;\"><thead><tr class = \"header\"><th class = \"rowNumber\" style = \"font-weight: bold; text-align: right;\">Row</th><th style = \"text-align: left;\">location</th><th style = \"text-align: left;\">total_sent</th><th style = \"text-align: left;\">total_received</th><th style = \"text-align: left;\">overflow</th><th style = \"text-align: left;\">overall_load</th><th style = \"text-align: left;\">overflow_nosent</th><th style = \"text-align: left;\">overall_load_nosent</th></tr><tr class = \"subheader headerLastRow\"><th class = \"rowNumber\" style = \"font-weight: bold; text-align: right;\"></th><th title = \"String\" style = \"text-align: left;\">String</th><th title = \"Float64\" style = \"text-align: left;\">Float64</th><th title = \"Float64\" style = \"text-align: left;\">Float64</th><th title = \"Float64\" style = \"text-align: left;\">Float64</th><th title = \"Float64\" style = \"text-align: left;\">Float64</th><th title = \"Float32\" style = \"text-align: left;\">Float32</th><th title = \"Float32\" style = \"text-align: left;\">Float32</th></tr></thead><tbody><tr><td class = \"rowNumber\" style = \"font-weight: bold; text-align: right;\">1</td><td style = \"text-align: left;\">CT</td><td style = \"text-align: right;\">1869.54</td><td style = \"text-align: right;\">538.009</td><td style = \"text-align: right;\">13563.0</td><td style = \"text-align: right;\">0.273449</td><td style = \"text-align: right;\">13884.9</td><td style = \"text-align: right;\">0.512099</td></tr><tr><td class = \"rowNumber\" style = \"font-weight: bold; text-align: right;\">2</td><td style = \"text-align: left;\">DE</td><td style = \"text-align: right;\">370.408</td><td style = \"text-align: right;\">424.639</td><td style = \"text-align: right;\">0.0</td><td style = \"text-align: right;\">-0.188552</td><td style = \"text-align: right;\">0.0</td><td style = \"text-align: right;\">-0.149694</td></tr><tr><td class = \"rowNumber\" style = \"font-weight: bold; text-align: right;\">3</td><td style = \"text-align: left;\">MA</td><td style = \"text-align: right;\">772.159</td><td style = \"text-align: right;\">891.608</td><td style = \"text-align: right;\">0.0</td><td style = \"text-align: right;\">0.0842814</td><td style = \"text-align: right;\">0.0</td><td style = \"text-align: right;\">0.0629188</td></tr><tr><td class = \"rowNumber\" style = \"font-weight: bold; text-align: right;\">4</td><td style = \"text-align: left;\">MD</td><td style = \"text-align: right;\">2083.36</td><td style = \"text-align: right;\">827.46</td><td style = \"text-align: right;\">0.0</td><td style = \"text-align: right;\">-0.130556</td><td style = \"text-align: right;\">73.7739</td><td style = \"text-align: right;\">-0.00288614</td></tr><tr><td class = \"rowNumber\" style = \"font-weight: bold; text-align: right;\">5</td><td style = \"text-align: left;\">ME</td><td style = \"text-align: right;\">12.2474</td><td style = \"text-align: right;\">124.016</td><td style = \"text-align: right;\">0.0</td><td style = \"text-align: right;\">0.0402802</td><td style = \"text-align: right;\">0.0</td><td style = \"text-align: right;\">-0.0101372</td></tr><tr><td class = \"rowNumber\" style = \"font-weight: bold; text-align: right;\">6</td><td style = \"text-align: left;\">NH</td><td style = \"text-align: right;\">242.458</td><td style = \"text-align: right;\">128.235</td><td style = \"text-align: right;\">0.0</td><td style = \"text-align: right;\">-0.360967</td><td style = \"text-align: right;\">0.0</td><td style = \"text-align: right;\">-0.267712</td></tr><tr><td class = \"rowNumber\" style = \"font-weight: bold; text-align: right;\">7</td><td style = \"text-align: left;\">NJ</td><td style = \"text-align: right;\">2215.07</td><td style = \"text-align: right;\">1682.03</td><td style = \"text-align: right;\">42262.1</td><td style = \"text-align: right;\">0.54747</td><td style = \"text-align: right;\">49083.8</td><td style = \"text-align: right;\">0.588553</td></tr><tr><td class = \"rowNumber\" style = \"font-weight: bold; text-align: right;\">8</td><td style = \"text-align: left;\">NY</td><td style = \"text-align: right;\">66.7645</td><td style = \"text-align: right;\">4676.76</td><td style = \"text-align: right;\">48397.0</td><td style = \"text-align: right;\">0.689062</td><td style = \"text-align: right;\">16734.5</td><td style = \"text-align: right;\">0.482961</td></tr><tr><td class = \"rowNumber\" style = \"font-weight: bold; text-align: right;\">9</td><td style = \"text-align: left;\">PA</td><td style = \"text-align: right;\">2092.32</td><td style = \"text-align: right;\">783.624</td><td style = \"text-align: right;\">0.0</td><td style = \"text-align: right;\">-0.0800303</td><td style = \"text-align: right;\">0.0</td><td style = \"text-align: right;\">0.0104626</td></tr><tr><td class = \"rowNumber\" style = \"font-weight: bold; text-align: right;\">10</td><td style = \"text-align: left;\">RI</td><td style = \"text-align: right;\">605.673</td><td style = \"text-align: right;\">253.613</td><td style = \"text-align: right;\">0.0</td><td style = \"text-align: right;\">-0.619358</td><td style = \"text-align: right;\">0.0</td><td style = \"text-align: right;\">-0.304417</td></tr></tbody></table></div>"
      ],
      "text/latex": [
       "\\begin{tabular}{r|ccccccc}\n",
       "\t& location & total\\_sent & total\\_received & overflow & overall\\_load & overflow\\_nosent & overall\\_load\\_nosent\\\\\n",
       "\t\\hline\n",
       "\t& String & Float64 & Float64 & Float64 & Float64 & Float32 & Float32\\\\\n",
       "\t\\hline\n",
       "\t1 & CT & 1869.54 & 538.009 & 13563.0 & 0.273449 & 13884.9 & 0.512099 \\\\\n",
       "\t2 & DE & 370.408 & 424.639 & 0.0 & -0.188552 & 0.0 & -0.149694 \\\\\n",
       "\t3 & MA & 772.159 & 891.608 & 0.0 & 0.0842814 & 0.0 & 0.0629188 \\\\\n",
       "\t4 & MD & 2083.36 & 827.46 & 0.0 & -0.130556 & 73.7739 & -0.00288614 \\\\\n",
       "\t5 & ME & 12.2474 & 124.016 & 0.0 & 0.0402802 & 0.0 & -0.0101372 \\\\\n",
       "\t6 & NH & 242.458 & 128.235 & 0.0 & -0.360967 & 0.0 & -0.267712 \\\\\n",
       "\t7 & NJ & 2215.07 & 1682.03 & 42262.1 & 0.54747 & 49083.8 & 0.588553 \\\\\n",
       "\t8 & NY & 66.7645 & 4676.76 & 48397.0 & 0.689062 & 16734.5 & 0.482961 \\\\\n",
       "\t9 & PA & 2092.32 & 783.624 & 0.0 & -0.0800303 & 0.0 & 0.0104626 \\\\\n",
       "\t10 & RI & 605.673 & 253.613 & 0.0 & -0.619358 & 0.0 & -0.304417 \\\\\n",
       "\\end{tabular}\n"
      ],
      "text/plain": [
       "\u001b[1m10×7 DataFrame\u001b[0m\n",
       "\u001b[1m Row \u001b[0m│\u001b[1m location \u001b[0m\u001b[1m total_sent \u001b[0m\u001b[1m total_received \u001b[0m\u001b[1m overflow \u001b[0m\u001b[1m overall_load \u001b[0m\u001b[1m overflow_\u001b[0m ⋯\n",
       "     │\u001b[90m String   \u001b[0m\u001b[90m Float64    \u001b[0m\u001b[90m Float64        \u001b[0m\u001b[90m Float64  \u001b[0m\u001b[90m Float64      \u001b[0m\u001b[90m Float32  \u001b[0m ⋯\n",
       "─────┼──────────────────────────────────────────────────────────────────────────\n",
       "   1 │ CT         1869.54           538.009   13563.0     0.273449        1388 ⋯\n",
       "   2 │ DE          370.408          424.639       0.0    -0.188552\n",
       "   3 │ MA          772.159          891.608       0.0     0.0842814\n",
       "   4 │ MD         2083.36           827.46        0.0    -0.130556           7\n",
       "   5 │ ME           12.2474         124.016       0.0     0.0402802            ⋯\n",
       "   6 │ NH          242.458          128.235       0.0    -0.360967\n",
       "   7 │ NJ         2215.07          1682.03    42262.1     0.54747         4908\n",
       "   8 │ NY           66.7645        4676.76    48397.0     0.689062        1673\n",
       "   9 │ PA         2092.32           783.624       0.0    -0.0800303            ⋯\n",
       "  10 │ RI          605.673          253.613       0.0    -0.619358\n",
       "\u001b[36m                                                               2 columns omitted\u001b[0m"
      ]
     },
     "metadata": {},
     "output_type": "display_data"
    }
   ],
   "source": [
    "results.summary_table"
   ]
  },
  {
   "cell_type": "code",
   "execution_count": 14,
   "metadata": {},
   "outputs": [
    {
     "data": {
      "text/html": [
       "<div><div style = \"float: left;\"><span>10×11 DataFrame</span></div><div style = \"clear: both;\"></div></div><div class = \"data-frame\" style = \"overflow-x: scroll;\"><table class = \"data-frame\" style = \"margin-bottom: 6px;\"><thead><tr class = \"header\"><th class = \"rowNumber\" style = \"font-weight: bold; text-align: right;\">Row</th><th style = \"text-align: left;\">state</th><th style = \"text-align: left;\">CT</th><th style = \"text-align: left;\">DE</th><th style = \"text-align: left;\">MA</th><th style = \"text-align: left;\">MD</th><th style = \"text-align: left;\">ME</th><th style = \"text-align: left;\">NH</th><th style = \"text-align: left;\">NJ</th><th style = \"text-align: left;\">NY</th><th style = \"text-align: left;\">PA</th><th style = \"text-align: left;\">RI</th></tr><tr class = \"subheader headerLastRow\"><th class = \"rowNumber\" style = \"font-weight: bold; text-align: right;\"></th><th title = \"String\" style = \"text-align: left;\">String</th><th title = \"Float64\" style = \"text-align: left;\">Float64</th><th title = \"Float64\" style = \"text-align: left;\">Float64</th><th title = \"Float64\" style = \"text-align: left;\">Float64</th><th title = \"Float64\" style = \"text-align: left;\">Float64</th><th title = \"Float64\" style = \"text-align: left;\">Float64</th><th title = \"Float64\" style = \"text-align: left;\">Float64</th><th title = \"Float64\" style = \"text-align: left;\">Float64</th><th title = \"Float64\" style = \"text-align: left;\">Float64</th><th title = \"Float64\" style = \"text-align: left;\">Float64</th><th title = \"Float64\" style = \"text-align: left;\">Float64</th></tr></thead><tbody><tr><td class = \"rowNumber\" style = \"font-weight: bold; text-align: right;\">1</td><td style = \"text-align: left;\">CT</td><td style = \"text-align: right;\">0.0</td><td style = \"text-align: right;\">88.3191</td><td style = \"text-align: right;\">166.176</td><td style = \"text-align: right;\">0.0</td><td style = \"text-align: right;\">124.016</td><td style = \"text-align: right;\">128.235</td><td style = \"text-align: right;\">403.696</td><td style = \"text-align: right;\">881.039</td><td style = \"text-align: right;\">78.0586</td><td style = \"text-align: right;\">0.0</td></tr><tr><td class = \"rowNumber\" style = \"font-weight: bold; text-align: right;\">2</td><td style = \"text-align: left;\">DE</td><td style = \"text-align: right;\">0.0</td><td style = \"text-align: right;\">0.0</td><td style = \"text-align: right;\">0.0</td><td style = \"text-align: right;\">19.2845</td><td style = \"text-align: right;\">0.0</td><td style = \"text-align: right;\">0.0</td><td style = \"text-align: right;\">80.9315</td><td style = \"text-align: right;\">270.192</td><td style = \"text-align: right;\">0.0</td><td style = \"text-align: right;\">0.0</td></tr><tr><td class = \"rowNumber\" style = \"font-weight: bold; text-align: right;\">3</td><td style = \"text-align: left;\">MA</td><td style = \"text-align: right;\">0.0</td><td style = \"text-align: right;\">0.0</td><td style = \"text-align: right;\">0.0</td><td style = \"text-align: right;\">0.0</td><td style = \"text-align: right;\">0.0</td><td style = \"text-align: right;\">0.0</td><td style = \"text-align: right;\">192.222</td><td style = \"text-align: right;\">465.309</td><td style = \"text-align: right;\">0.0</td><td style = \"text-align: right;\">114.628</td></tr><tr><td class = \"rowNumber\" style = \"font-weight: bold; text-align: right;\">4</td><td style = \"text-align: left;\">MD</td><td style = \"text-align: right;\">0.0</td><td style = \"text-align: right;\">302.847</td><td style = \"text-align: right;\">0.0</td><td style = \"text-align: right;\">0.0</td><td style = \"text-align: right;\">0.0</td><td style = \"text-align: right;\">0.0</td><td style = \"text-align: right;\">313.578</td><td style = \"text-align: right;\">761.365</td><td style = \"text-align: right;\">705.565</td><td style = \"text-align: right;\">0.0</td></tr><tr><td class = \"rowNumber\" style = \"font-weight: bold; text-align: right;\">5</td><td style = \"text-align: left;\">ME</td><td style = \"text-align: right;\">8.13678</td><td style = \"text-align: right;\">0.0</td><td style = \"text-align: right;\">0.0</td><td style = \"text-align: right;\">0.0</td><td style = \"text-align: right;\">0.0</td><td style = \"text-align: right;\">0.0</td><td style = \"text-align: right;\">0.0</td><td style = \"text-align: right;\">0.0</td><td style = \"text-align: right;\">0.0</td><td style = \"text-align: right;\">4.11058</td></tr><tr><td class = \"rowNumber\" style = \"font-weight: bold; text-align: right;\">6</td><td style = \"text-align: left;\">NH</td><td style = \"text-align: right;\">97.8416</td><td style = \"text-align: right;\">0.0</td><td style = \"text-align: right;\">91.1922</td><td style = \"text-align: right;\">0.0</td><td style = \"text-align: right;\">0.0</td><td style = \"text-align: right;\">0.0</td><td style = \"text-align: right;\">0.0</td><td style = \"text-align: right;\">0.0</td><td style = \"text-align: right;\">0.0</td><td style = \"text-align: right;\">53.4247</td></tr><tr><td class = \"rowNumber\" style = \"font-weight: bold; text-align: right;\">7</td><td style = \"text-align: left;\">NJ</td><td style = \"text-align: right;\">197.419</td><td style = \"text-align: right;\">0.0</td><td style = \"text-align: right;\">634.24</td><td style = \"text-align: right;\">540.09</td><td style = \"text-align: right;\">0.0</td><td style = \"text-align: right;\">0.0</td><td style = \"text-align: right;\">0.0</td><td style = \"text-align: right;\">761.871</td><td style = \"text-align: right;\">0.0</td><td style = \"text-align: right;\">81.4498</td></tr><tr><td class = \"rowNumber\" style = \"font-weight: bold; text-align: right;\">8</td><td style = \"text-align: left;\">NY</td><td style = \"text-align: right;\">34.4098</td><td style = \"text-align: right;\">32.3547</td><td style = \"text-align: right;\">0.0</td><td style = \"text-align: right;\">0.0</td><td style = \"text-align: right;\">0.0</td><td style = \"text-align: right;\">0.0</td><td style = \"text-align: right;\">0.0</td><td style = \"text-align: right;\">0.0</td><td style = \"text-align: right;\">0.0</td><td style = \"text-align: right;\">0.0</td></tr><tr><td class = \"rowNumber\" style = \"font-weight: bold; text-align: right;\">9</td><td style = \"text-align: left;\">PA</td><td style = \"text-align: right;\">200.202</td><td style = \"text-align: right;\">1.11779</td><td style = \"text-align: right;\">0.0</td><td style = \"text-align: right;\">268.086</td><td style = \"text-align: right;\">0.0</td><td style = \"text-align: right;\">0.0</td><td style = \"text-align: right;\">562.061</td><td style = \"text-align: right;\">1060.86</td><td style = \"text-align: right;\">0.0</td><td style = \"text-align: right;\">0.0</td></tr><tr><td class = \"rowNumber\" style = \"font-weight: bold; text-align: right;\">10</td><td style = \"text-align: left;\">RI</td><td style = \"text-align: right;\">0.0</td><td style = \"text-align: right;\">0.0</td><td style = \"text-align: right;\">0.0</td><td style = \"text-align: right;\">0.0</td><td style = \"text-align: right;\">0.0</td><td style = \"text-align: right;\">0.0</td><td style = \"text-align: right;\">129.546</td><td style = \"text-align: right;\">476.128</td><td style = \"text-align: right;\">0.0</td><td style = \"text-align: right;\">0.0</td></tr></tbody></table></div>"
      ],
      "text/latex": [
       "\\begin{tabular}{r|cccccccccc}\n",
       "\t& state & CT & DE & MA & MD & ME & NH & NJ & NY & \\\\\n",
       "\t\\hline\n",
       "\t& String & Float64 & Float64 & Float64 & Float64 & Float64 & Float64 & Float64 & Float64 & \\\\\n",
       "\t\\hline\n",
       "\t1 & CT & 0.0 & 88.3191 & 166.176 & 0.0 & 124.016 & 128.235 & 403.696 & 881.039 & $\\dots$ \\\\\n",
       "\t2 & DE & 0.0 & 0.0 & 0.0 & 19.2845 & 0.0 & 0.0 & 80.9315 & 270.192 & $\\dots$ \\\\\n",
       "\t3 & MA & 0.0 & 0.0 & 0.0 & 0.0 & 0.0 & 0.0 & 192.222 & 465.309 & $\\dots$ \\\\\n",
       "\t4 & MD & 0.0 & 302.847 & 0.0 & 0.0 & 0.0 & 0.0 & 313.578 & 761.365 & $\\dots$ \\\\\n",
       "\t5 & ME & 8.13678 & 0.0 & 0.0 & 0.0 & 0.0 & 0.0 & 0.0 & 0.0 & $\\dots$ \\\\\n",
       "\t6 & NH & 97.8416 & 0.0 & 91.1922 & 0.0 & 0.0 & 0.0 & 0.0 & 0.0 & $\\dots$ \\\\\n",
       "\t7 & NJ & 197.419 & 0.0 & 634.24 & 540.09 & 0.0 & 0.0 & 0.0 & 761.871 & $\\dots$ \\\\\n",
       "\t8 & NY & 34.4098 & 32.3547 & 0.0 & 0.0 & 0.0 & 0.0 & 0.0 & 0.0 & $\\dots$ \\\\\n",
       "\t9 & PA & 200.202 & 1.11779 & 0.0 & 268.086 & 0.0 & 0.0 & 562.061 & 1060.86 & $\\dots$ \\\\\n",
       "\t10 & RI & 0.0 & 0.0 & 0.0 & 0.0 & 0.0 & 0.0 & 129.546 & 476.128 & $\\dots$ \\\\\n",
       "\\end{tabular}\n"
      ],
      "text/plain": [
       "\u001b[1m10×11 DataFrame\u001b[0m\n",
       "\u001b[1m Row \u001b[0m│\u001b[1m state  \u001b[0m\u001b[1m CT        \u001b[0m\u001b[1m DE        \u001b[0m\u001b[1m MA       \u001b[0m\u001b[1m MD       \u001b[0m\u001b[1m ME      \u001b[0m\u001b[1m NH      \u001b[0m\u001b[1m NJ \u001b[0m ⋯\n",
       "     │\u001b[90m String \u001b[0m\u001b[90m Float64   \u001b[0m\u001b[90m Float64   \u001b[0m\u001b[90m Float64  \u001b[0m\u001b[90m Float64  \u001b[0m\u001b[90m Float64 \u001b[0m\u001b[90m Float64 \u001b[0m\u001b[90m Flo\u001b[0m ⋯\n",
       "─────┼──────────────────────────────────────────────────────────────────────────\n",
       "   1 │ CT        0.0       88.3191   166.176     0.0     124.016  128.235  403 ⋯\n",
       "   2 │ DE        0.0        0.0        0.0      19.2845    0.0      0.0     80\n",
       "   3 │ MA        0.0        0.0        0.0       0.0       0.0      0.0    192\n",
       "   4 │ MD        0.0      302.847      0.0       0.0       0.0      0.0    313\n",
       "   5 │ ME        8.13678    0.0        0.0       0.0       0.0      0.0      0 ⋯\n",
       "   6 │ NH       97.8416     0.0       91.1922    0.0       0.0      0.0      0\n",
       "   7 │ NJ      197.419      0.0      634.24    540.09      0.0      0.0      0\n",
       "   8 │ NY       34.4098    32.3547     0.0       0.0       0.0      0.0      0\n",
       "   9 │ PA      200.202      1.11779    0.0     268.086     0.0      0.0    562 ⋯\n",
       "  10 │ RI        0.0        0.0        0.0       0.0       0.0      0.0    129\n",
       "\u001b[36m                                                               4 columns omitted\u001b[0m"
      ]
     },
     "metadata": {},
     "output_type": "display_data"
    }
   ],
   "source": [
    "results.sent_matrix_table"
   ]
  },
  {
   "cell_type": "code",
   "execution_count": 17,
   "metadata": {},
   "outputs": [
    {
     "name": "stdout",
     "output_type": "stream",
     "text": [
      "First day:\n"
     ]
    },
    {
     "data": {
      "text/html": [
       "<div><div style = \"float: left;\"><span>10×14 DataFrame</span></div><div style = \"clear: both;\"></div></div><div class = \"data-frame\" style = \"overflow-x: scroll;\"><table class = \"data-frame\" style = \"margin-bottom: 6px;\"><thead><tr class = \"header\"><th class = \"rowNumber\" style = \"font-weight: bold; text-align: right;\">Row</th><th style = \"text-align: left;\">location</th><th style = \"text-align: left;\">date</th><th style = \"text-align: left;\">sent</th><th style = \"text-align: left;\">received</th><th style = \"text-align: left;\">new_patients</th><th style = \"text-align: left;\">active_patients</th><th style = \"text-align: left;\">active_patients_nosent</th><th style = \"text-align: left;\">capacity</th><th style = \"text-align: left;\">overflow</th><th style = \"text-align: left;\">load</th><th style = \"text-align: left;\">overflow_nosent</th><th style = \"text-align: left;\">load_nosent</th><th style = \"text-align: left;\">sent_to</th><th style = \"text-align: left;\">sent_from</th></tr><tr class = \"subheader headerLastRow\"><th class = \"rowNumber\" style = \"font-weight: bold; text-align: right;\"></th><th title = \"String\" style = \"text-align: left;\">String</th><th title = \"Date\" style = \"text-align: left;\">Date</th><th title = \"Float64\" style = \"text-align: left;\">Float64</th><th title = \"Float64\" style = \"text-align: left;\">Float64</th><th title = \"Float32\" style = \"text-align: left;\">Float32</th><th title = \"Float64\" style = \"text-align: left;\">Float64</th><th title = \"Float32\" style = \"text-align: left;\">Float32</th><th title = \"Float32\" style = \"text-align: left;\">Float32</th><th title = \"Float64\" style = \"text-align: left;\">Float64</th><th title = \"Float64\" style = \"text-align: left;\">Float64</th><th title = \"Float32\" style = \"text-align: left;\">Float32</th><th title = \"Float32\" style = \"text-align: left;\">Float32</th><th title = \"Any\" style = \"text-align: left;\">Any</th><th title = \"Any\" style = \"text-align: left;\">Any</th></tr></thead><tbody><tr><td class = \"rowNumber\" style = \"font-weight: bold; text-align: right;\">1</td><td style = \"text-align: left;\">CT</td><td style = \"text-align: left;\">2020-05-01</td><td style = \"text-align: right;\">0.0</td><td style = \"text-align: right;\">0.0</td><td style = \"text-align: right;\">373.65</td><td style = \"text-align: right;\">1973.54</td><td style = \"text-align: right;\">1973.54</td><td style = \"text-align: right;\">1840.25</td><td style = \"text-align: right;\">133.287</td><td style = \"text-align: right;\">1.07243</td><td style = \"text-align: right;\">133.287</td><td style = \"text-align: right;\">1.07243</td><td style = \"text-align: left;\">[]</td><td style = \"text-align: left;\">[]</td></tr><tr><td class = \"rowNumber\" style = \"font-weight: bold; text-align: right;\">2</td><td style = \"text-align: left;\">DE</td><td style = \"text-align: left;\">2020-05-01</td><td style = \"text-align: right;\">0.0</td><td style = \"text-align: right;\">0.0</td><td style = \"text-align: right;\">23.0751</td><td style = \"text-align: right;\">169.856</td><td style = \"text-align: right;\">169.856</td><td style = \"text-align: right;\">506.75</td><td style = \"text-align: right;\">0.0</td><td style = \"text-align: right;\">0.335187</td><td style = \"text-align: right;\">0.0</td><td style = \"text-align: right;\">0.335187</td><td style = \"text-align: left;\">[]</td><td style = \"text-align: left;\">[]</td></tr><tr><td class = \"rowNumber\" style = \"font-weight: bold; text-align: right;\">3</td><td style = \"text-align: left;\">MA</td><td style = \"text-align: left;\">2020-05-01</td><td style = \"text-align: right;\">0.0</td><td style = \"text-align: right;\">18.0104</td><td style = \"text-align: right;\">346.806</td><td style = \"text-align: right;\">1502.72</td><td style = \"text-align: right;\">1484.71</td><td style = \"text-align: right;\">3997.75</td><td style = \"text-align: right;\">0.0</td><td style = \"text-align: right;\">0.375892</td><td style = \"text-align: right;\">0.0</td><td style = \"text-align: right;\">0.371387</td><td style = \"text-align: left;\">[]</td><td style = \"text-align: left;\">[(&quot;NH&quot;, 18.0104)]</td></tr><tr><td class = \"rowNumber\" style = \"font-weight: bold; text-align: right;\">4</td><td style = \"text-align: left;\">MD</td><td style = \"text-align: left;\">2020-05-01</td><td style = \"text-align: right;\">0.0</td><td style = \"text-align: right;\">0.0</td><td style = \"text-align: right;\">290.597</td><td style = \"text-align: right;\">1772.15</td><td style = \"text-align: right;\">1772.15</td><td style = \"text-align: right;\">2228.75</td><td style = \"text-align: right;\">0.0</td><td style = \"text-align: right;\">0.79513</td><td style = \"text-align: right;\">0.0</td><td style = \"text-align: right;\">0.79513</td><td style = \"text-align: left;\">[]</td><td style = \"text-align: left;\">[]</td></tr><tr><td class = \"rowNumber\" style = \"font-weight: bold; text-align: right;\">5</td><td style = \"text-align: left;\">ME</td><td style = \"text-align: left;\">2020-05-01</td><td style = \"text-align: right;\">0.0</td><td style = \"text-align: right;\">0.0</td><td style = \"text-align: right;\">8.15217</td><td style = \"text-align: right;\">30.0153</td><td style = \"text-align: right;\">30.0153</td><td style = \"text-align: right;\">668.0</td><td style = \"text-align: right;\">0.0</td><td style = \"text-align: right;\">0.0449331</td><td style = \"text-align: right;\">0.0</td><td style = \"text-align: right;\">0.0449331</td><td style = \"text-align: left;\">[]</td><td style = \"text-align: left;\">[]</td></tr><tr><td class = \"rowNumber\" style = \"font-weight: bold; text-align: right;\">6</td><td style = \"text-align: left;\">NH</td><td style = \"text-align: left;\">2020-05-01</td><td style = \"text-align: right;\">18.0104</td><td style = \"text-align: right;\">0.0</td><td style = \"text-align: right;\">12.7217</td><td style = \"text-align: right;\">105.662</td><td style = \"text-align: right;\">105.662</td><td style = \"text-align: right;\">584.5</td><td style = \"text-align: right;\">0.0</td><td style = \"text-align: right;\">0.180773</td><td style = \"text-align: right;\">0.0</td><td style = \"text-align: right;\">0.180773</td><td style = \"text-align: left;\">[(&quot;MA&quot;, 18.0104)]</td><td style = \"text-align: left;\">[]</td></tr><tr><td class = \"rowNumber\" style = \"font-weight: bold; text-align: right;\">7</td><td style = \"text-align: left;\">NJ</td><td style = \"text-align: left;\">2020-05-01</td><td style = \"text-align: right;\">0.0</td><td style = \"text-align: right;\">0.0</td><td style = \"text-align: right;\">1073.99</td><td style = \"text-align: right;\">5462.78</td><td style = \"text-align: right;\">5462.78</td><td style = \"text-align: right;\">4553.25</td><td style = \"text-align: right;\">909.526</td><td style = \"text-align: right;\">1.19975</td><td style = \"text-align: right;\">909.526</td><td style = \"text-align: right;\">1.19975</td><td style = \"text-align: left;\">[]</td><td style = \"text-align: left;\">[]</td></tr><tr><td class = \"rowNumber\" style = \"font-weight: bold; text-align: right;\">8</td><td style = \"text-align: left;\">NY</td><td style = \"text-align: left;\">2020-05-01</td><td style = \"text-align: right;\">0.0</td><td style = \"text-align: right;\">0.0</td><td style = \"text-align: right;\">1716.21</td><td style = \"text-align: right;\">6059.07</td><td style = \"text-align: right;\">6059.07</td><td style = \"text-align: right;\">10406.2</td><td style = \"text-align: right;\">0.0</td><td style = \"text-align: right;\">0.582253</td><td style = \"text-align: right;\">0.0</td><td style = \"text-align: right;\">0.582253</td><td style = \"text-align: left;\">[]</td><td style = \"text-align: left;\">[]</td></tr><tr><td class = \"rowNumber\" style = \"font-weight: bold; text-align: right;\">9</td><td style = \"text-align: left;\">PA</td><td style = \"text-align: left;\">2020-05-01</td><td style = \"text-align: right;\">0.0</td><td style = \"text-align: right;\">0.0</td><td style = \"text-align: right;\">423.688</td><td style = \"text-align: right;\">2699.62</td><td style = \"text-align: right;\">2699.62</td><td style = \"text-align: right;\">7980.25</td><td style = \"text-align: right;\">0.0</td><td style = \"text-align: right;\">0.338287</td><td style = \"text-align: right;\">0.0</td><td style = \"text-align: right;\">0.338287</td><td style = \"text-align: left;\">[]</td><td style = \"text-align: left;\">[]</td></tr><tr><td class = \"rowNumber\" style = \"font-weight: bold; text-align: right;\">10</td><td style = \"text-align: left;\">RI</td><td style = \"text-align: left;\">2020-05-01</td><td style = \"text-align: right;\">0.0</td><td style = \"text-align: right;\">0.0</td><td style = \"text-align: right;\">45.2521</td><td style = \"text-align: right;\">284.633</td><td style = \"text-align: right;\">284.633</td><td style = \"text-align: right;\">674.25</td><td style = \"text-align: right;\">0.0</td><td style = \"text-align: right;\">0.422148</td><td style = \"text-align: right;\">0.0</td><td style = \"text-align: right;\">0.422148</td><td style = \"text-align: left;\">[]</td><td style = \"text-align: left;\">[]</td></tr></tbody></table></div>"
      ],
      "text/latex": [
       "\\begin{tabular}{r|cccccccc}\n",
       "\t& location & date & sent & received & new\\_patients & active\\_patients & active\\_patients\\_nosent & \\\\\n",
       "\t\\hline\n",
       "\t& String & Date & Float64 & Float64 & Float32 & Float64 & Float32 & \\\\\n",
       "\t\\hline\n",
       "\t1 & CT & 2020-05-01 & 0.0 & 0.0 & 373.65 & 1973.54 & 1973.54 & $\\dots$ \\\\\n",
       "\t2 & DE & 2020-05-01 & 0.0 & 0.0 & 23.0751 & 169.856 & 169.856 & $\\dots$ \\\\\n",
       "\t3 & MA & 2020-05-01 & 0.0 & 18.0104 & 346.806 & 1502.72 & 1484.71 & $\\dots$ \\\\\n",
       "\t4 & MD & 2020-05-01 & 0.0 & 0.0 & 290.597 & 1772.15 & 1772.15 & $\\dots$ \\\\\n",
       "\t5 & ME & 2020-05-01 & 0.0 & 0.0 & 8.15217 & 30.0153 & 30.0153 & $\\dots$ \\\\\n",
       "\t6 & NH & 2020-05-01 & 18.0104 & 0.0 & 12.7217 & 105.662 & 105.662 & $\\dots$ \\\\\n",
       "\t7 & NJ & 2020-05-01 & 0.0 & 0.0 & 1073.99 & 5462.78 & 5462.78 & $\\dots$ \\\\\n",
       "\t8 & NY & 2020-05-01 & 0.0 & 0.0 & 1716.21 & 6059.07 & 6059.07 & $\\dots$ \\\\\n",
       "\t9 & PA & 2020-05-01 & 0.0 & 0.0 & 423.688 & 2699.62 & 2699.62 & $\\dots$ \\\\\n",
       "\t10 & RI & 2020-05-01 & 0.0 & 0.0 & 45.2521 & 284.633 & 284.633 & $\\dots$ \\\\\n",
       "\\end{tabular}\n"
      ],
      "text/plain": [
       "\u001b[1m10×14 DataFrame\u001b[0m\n",
       "\u001b[1m Row \u001b[0m│\u001b[1m location \u001b[0m\u001b[1m date       \u001b[0m\u001b[1m sent    \u001b[0m\u001b[1m received \u001b[0m\u001b[1m new_patients \u001b[0m\u001b[1m active_patients \u001b[0m\u001b[1m\u001b[0m ⋯\n",
       "     │\u001b[90m String   \u001b[0m\u001b[90m Date       \u001b[0m\u001b[90m Float64 \u001b[0m\u001b[90m Float64  \u001b[0m\u001b[90m Float32      \u001b[0m\u001b[90m Float64         \u001b[0m\u001b[90m\u001b[0m ⋯\n",
       "─────┼──────────────────────────────────────────────────────────────────────────\n",
       "   1 │ CT        2020-05-01   0.0       0.0        373.65           1973.54    ⋯\n",
       "   2 │ DE        2020-05-01   0.0       0.0         23.0751          169.856\n",
       "   3 │ MA        2020-05-01   0.0      18.0104     346.806          1502.72\n",
       "   4 │ MD        2020-05-01   0.0       0.0        290.597          1772.15\n",
       "   5 │ ME        2020-05-01   0.0       0.0          8.15217          30.0153  ⋯\n",
       "   6 │ NH        2020-05-01  18.0104    0.0         12.7217          105.662\n",
       "   7 │ NJ        2020-05-01   0.0       0.0       1073.99           5462.78\n",
       "   8 │ NY        2020-05-01   0.0       0.0       1716.21           6059.07\n",
       "   9 │ PA        2020-05-01   0.0       0.0        423.688          2699.62    ⋯\n",
       "  10 │ RI        2020-05-01   0.0       0.0         45.2521          284.633\n",
       "\u001b[36m                                                               8 columns omitted\u001b[0m"
      ]
     },
     "metadata": {},
     "output_type": "display_data"
    }
   ],
   "source": [
    "println(\"First day:\")\n",
    "filter(row -> row.date == start_date, results.complete_table)"
   ]
  },
  {
   "cell_type": "code",
   "execution_count": 20,
   "metadata": {},
   "outputs": [
    {
     "data": {
      "text/html": [
       "<div><div style = \"float: left;\"><span>30×14 DataFrame</span></div><div style = \"float: right;\"><span style = \"font-style: italic;\">5 rows omitted</span></div><div style = \"clear: both;\"></div></div><div class = \"data-frame\" style = \"overflow-x: scroll;\"><table class = \"data-frame\" style = \"margin-bottom: 6px;\"><thead><tr class = \"header\"><th class = \"rowNumber\" style = \"font-weight: bold; text-align: right;\">Row</th><th style = \"text-align: left;\">location</th><th style = \"text-align: left;\">date</th><th style = \"text-align: left;\">sent</th><th style = \"text-align: left;\">received</th><th style = \"text-align: left;\">new_patients</th><th style = \"text-align: left;\">active_patients</th><th style = \"text-align: left;\">active_patients_nosent</th><th style = \"text-align: left;\">capacity</th><th style = \"text-align: left;\">overflow</th><th style = \"text-align: left;\">load</th><th style = \"text-align: left;\">overflow_nosent</th><th style = \"text-align: left;\">load_nosent</th><th style = \"text-align: left;\">sent_to</th><th style = \"text-align: left;\">sent_from</th></tr><tr class = \"subheader headerLastRow\"><th class = \"rowNumber\" style = \"font-weight: bold; text-align: right;\"></th><th title = \"String\" style = \"text-align: left;\">String</th><th title = \"Date\" style = \"text-align: left;\">Date</th><th title = \"Float64\" style = \"text-align: left;\">Float64</th><th title = \"Float64\" style = \"text-align: left;\">Float64</th><th title = \"Float32\" style = \"text-align: left;\">Float32</th><th title = \"Float64\" style = \"text-align: left;\">Float64</th><th title = \"Float32\" style = \"text-align: left;\">Float32</th><th title = \"Float32\" style = \"text-align: left;\">Float32</th><th title = \"Float64\" style = \"text-align: left;\">Float64</th><th title = \"Float64\" style = \"text-align: left;\">Float64</th><th title = \"Float32\" style = \"text-align: left;\">Float32</th><th title = \"Float32\" style = \"text-align: left;\">Float32</th><th title = \"Any\" style = \"text-align: left;\">Any</th><th title = \"Any\" style = \"text-align: left;\">Any</th></tr></thead><tbody><tr><td class = \"rowNumber\" style = \"font-weight: bold; text-align: right;\">1</td><td style = \"text-align: left;\">NJ</td><td style = \"text-align: left;\">2020-05-01</td><td style = \"text-align: right;\">0.0</td><td style = \"text-align: right;\">0.0</td><td style = \"text-align: right;\">1073.99</td><td style = \"text-align: right;\">5462.78</td><td style = \"text-align: right;\">5462.78</td><td style = \"text-align: right;\">4553.25</td><td style = \"text-align: right;\">909.526</td><td style = \"text-align: right;\">1.19975</td><td style = \"text-align: right;\">909.526</td><td style = \"text-align: right;\">1.19975</td><td style = \"text-align: left;\">[]</td><td style = \"text-align: left;\">[]</td></tr><tr><td class = \"rowNumber\" style = \"font-weight: bold; text-align: right;\">2</td><td style = \"text-align: left;\">NJ</td><td style = \"text-align: left;\">2020-05-02</td><td style = \"text-align: right;\">0.0</td><td style = \"text-align: right;\">0.0</td><td style = \"text-align: right;\">1055.75</td><td style = \"text-align: right;\">5787.86</td><td style = \"text-align: right;\">5787.86</td><td style = \"text-align: right;\">4553.25</td><td style = \"text-align: right;\">1234.61</td><td style = \"text-align: right;\">1.27115</td><td style = \"text-align: right;\">1234.61</td><td style = \"text-align: right;\">1.27115</td><td style = \"text-align: left;\">[]</td><td style = \"text-align: left;\">[]</td></tr><tr><td class = \"rowNumber\" style = \"font-weight: bold; text-align: right;\">3</td><td style = \"text-align: left;\">NJ</td><td style = \"text-align: left;\">2020-05-03</td><td style = \"text-align: right;\">503.403</td><td style = \"text-align: right;\">0.0</td><td style = \"text-align: right;\">1036.88</td><td style = \"text-align: right;\">6118.26</td><td style = \"text-align: right;\">6118.25</td><td style = \"text-align: right;\">4553.25</td><td style = \"text-align: right;\">1565.01</td><td style = \"text-align: right;\">1.34371</td><td style = \"text-align: right;\">1565.0</td><td style = \"text-align: right;\">1.34371</td><td style = \"text-align: left;\">[(&quot;NY&quot;, 503.403)]</td><td style = \"text-align: left;\">[]</td></tr><tr><td class = \"rowNumber\" style = \"font-weight: bold; text-align: right;\">4</td><td style = \"text-align: left;\">NJ</td><td style = \"text-align: left;\">2020-05-04</td><td style = \"text-align: right;\">0.0</td><td style = \"text-align: right;\">30.9879</td><td style = \"text-align: right;\">1018.0</td><td style = \"text-align: right;\">5978.84</td><td style = \"text-align: right;\">6451.25</td><td style = \"text-align: right;\">4553.25</td><td style = \"text-align: right;\">1425.59</td><td style = \"text-align: right;\">1.31309</td><td style = \"text-align: right;\">1898.0</td><td style = \"text-align: right;\">1.41685</td><td style = \"text-align: left;\">[]</td><td style = \"text-align: left;\">[(&quot;DE&quot;, 30.9879)]</td></tr><tr><td class = \"rowNumber\" style = \"font-weight: bold; text-align: right;\">5</td><td style = \"text-align: left;\">NJ</td><td style = \"text-align: left;\">2020-05-05</td><td style = \"text-align: right;\">0.0</td><td style = \"text-align: right;\">0.0</td><td style = \"text-align: right;\">997.133</td><td style = \"text-align: right;\">6315.63</td><td style = \"text-align: right;\">6788.04</td><td style = \"text-align: right;\">4553.25</td><td style = \"text-align: right;\">1762.38</td><td style = \"text-align: right;\">1.38706</td><td style = \"text-align: right;\">2234.79</td><td style = \"text-align: right;\">1.49081</td><td style = \"text-align: left;\">[]</td><td style = \"text-align: left;\">[]</td></tr><tr><td class = \"rowNumber\" style = \"font-weight: bold; text-align: right;\">6</td><td style = \"text-align: left;\">NJ</td><td style = \"text-align: left;\">2020-05-06</td><td style = \"text-align: right;\">0.0</td><td style = \"text-align: right;\">30.8977</td><td style = \"text-align: right;\">971.688</td><td style = \"text-align: right;\">6678.72</td><td style = \"text-align: right;\">7120.23</td><td style = \"text-align: right;\">4553.25</td><td style = \"text-align: right;\">2125.47</td><td style = \"text-align: right;\">1.4668</td><td style = \"text-align: right;\">2566.98</td><td style = \"text-align: right;\">1.56377</td><td style = \"text-align: left;\">[]</td><td style = \"text-align: left;\">[(&quot;DE&quot;, 30.8977)]</td></tr><tr><td class = \"rowNumber\" style = \"font-weight: bold; text-align: right;\">7</td><td style = \"text-align: left;\">NJ</td><td style = \"text-align: left;\">2020-05-07</td><td style = \"text-align: right;\">617.656</td><td style = \"text-align: right;\">0.0</td><td style = \"text-align: right;\">950.161</td><td style = \"text-align: right;\">7011.22</td><td style = \"text-align: right;\">7452.74</td><td style = \"text-align: right;\">4553.25</td><td style = \"text-align: right;\">2457.97</td><td style = \"text-align: right;\">1.53983</td><td style = \"text-align: right;\">2899.49</td><td style = \"text-align: right;\">1.6368</td><td style = \"text-align: left;\">[(&quot;MA&quot;, 617.656)]</td><td style = \"text-align: left;\">[]</td></tr><tr><td class = \"rowNumber\" style = \"font-weight: bold; text-align: right;\">8</td><td style = \"text-align: left;\">NJ</td><td style = \"text-align: left;\">2020-05-08</td><td style = \"text-align: right;\">0.0</td><td style = \"text-align: right;\">0.0</td><td style = \"text-align: right;\">926.771</td><td style = \"text-align: right;\">6724.35</td><td style = \"text-align: right;\">7783.52</td><td style = \"text-align: right;\">4553.25</td><td style = \"text-align: right;\">2171.1</td><td style = \"text-align: right;\">1.47682</td><td style = \"text-align: right;\">3230.27</td><td style = \"text-align: right;\">1.70944</td><td style = \"text-align: left;\">[]</td><td style = \"text-align: left;\">[]</td></tr><tr><td class = \"rowNumber\" style = \"font-weight: bold; text-align: right;\">9</td><td style = \"text-align: left;\">NJ</td><td style = \"text-align: left;\">2020-05-09</td><td style = \"text-align: right;\">0.0</td><td style = \"text-align: right;\">385.344</td><td style = \"text-align: right;\">904.766</td><td style = \"text-align: right;\">7440.76</td><td style = \"text-align: right;\">8114.59</td><td style = \"text-align: right;\">4553.25</td><td style = \"text-align: right;\">2887.51</td><td style = \"text-align: right;\">1.63417</td><td style = \"text-align: right;\">3561.34</td><td style = \"text-align: right;\">1.78215</td><td style = \"text-align: left;\">[]</td><td style = \"text-align: left;\">[(&quot;PA&quot;, 385.344)]</td></tr><tr><td class = \"rowNumber\" style = \"font-weight: bold; text-align: right;\">10</td><td style = \"text-align: left;\">NJ</td><td style = \"text-align: left;\">2020-05-10</td><td style = \"text-align: right;\">0.0</td><td style = \"text-align: right;\">0.0</td><td style = \"text-align: right;\">876.339</td><td style = \"text-align: right;\">7762.54</td><td style = \"text-align: right;\">8436.37</td><td style = \"text-align: right;\">4553.25</td><td style = \"text-align: right;\">3209.29</td><td style = \"text-align: right;\">1.70484</td><td style = \"text-align: right;\">3883.12</td><td style = \"text-align: right;\">1.85282</td><td style = \"text-align: left;\">[]</td><td style = \"text-align: left;\">[]</td></tr><tr><td class = \"rowNumber\" style = \"font-weight: bold; text-align: right;\">11</td><td style = \"text-align: left;\">NJ</td><td style = \"text-align: left;\">2020-05-11</td><td style = \"text-align: right;\">0.0</td><td style = \"text-align: right;\">0.0</td><td style = \"text-align: right;\">852.41</td><td style = \"text-align: right;\">8084.95</td><td style = \"text-align: right;\">8758.78</td><td style = \"text-align: right;\">4553.25</td><td style = \"text-align: right;\">3531.7</td><td style = \"text-align: right;\">1.77564</td><td style = \"text-align: right;\">4205.53</td><td style = \"text-align: right;\">1.92363</td><td style = \"text-align: left;\">[]</td><td style = \"text-align: left;\">[]</td></tr><tr><td class = \"rowNumber\" style = \"font-weight: bold; text-align: right;\">12</td><td style = \"text-align: left;\">NJ</td><td style = \"text-align: left;\">2020-05-12</td><td style = \"text-align: right;\">0.0</td><td style = \"text-align: right;\">0.0</td><td style = \"text-align: right;\">831.472</td><td style = \"text-align: right;\">8404.72</td><td style = \"text-align: right;\">9078.55</td><td style = \"text-align: right;\">4553.25</td><td style = \"text-align: right;\">3851.47</td><td style = \"text-align: right;\">1.84587</td><td style = \"text-align: right;\">4525.3</td><td style = \"text-align: right;\">1.99386</td><td style = \"text-align: left;\">[]</td><td style = \"text-align: left;\">[]</td></tr><tr><td class = \"rowNumber\" style = \"font-weight: bold; text-align: right;\">13</td><td style = \"text-align: left;\">NJ</td><td style = \"text-align: left;\">2020-05-13</td><td style = \"text-align: right;\">0.0</td><td style = \"text-align: right;\">215.941</td><td style = \"text-align: right;\">804.114</td><td style = \"text-align: right;\">8932.28</td><td style = \"text-align: right;\">9390.17</td><td style = \"text-align: right;\">4553.25</td><td style = \"text-align: right;\">4379.03</td><td style = \"text-align: right;\">1.96174</td><td style = \"text-align: right;\">4836.92</td><td style = \"text-align: right;\">2.0623</td><td style = \"text-align: left;\">[]</td><td style = \"text-align: left;\">[(&quot;MD&quot;, 188.562), (&quot;RI&quot;, 27.3786)]</td></tr><tr><td style = \"text-align: right;\">&vellip;</td><td style = \"text-align: right;\">&vellip;</td><td style = \"text-align: right;\">&vellip;</td><td style = \"text-align: right;\">&vellip;</td><td style = \"text-align: right;\">&vellip;</td><td style = \"text-align: right;\">&vellip;</td><td style = \"text-align: right;\">&vellip;</td><td style = \"text-align: right;\">&vellip;</td><td style = \"text-align: right;\">&vellip;</td><td style = \"text-align: right;\">&vellip;</td><td style = \"text-align: right;\">&vellip;</td><td style = \"text-align: right;\">&vellip;</td><td style = \"text-align: right;\">&vellip;</td><td style = \"text-align: right;\">&vellip;</td><td style = \"text-align: right;\">&vellip;</td></tr><tr><td class = \"rowNumber\" style = \"font-weight: bold; text-align: right;\">19</td><td style = \"text-align: left;\">NJ</td><td style = \"text-align: left;\">2020-05-19</td><td style = \"text-align: right;\">0.0</td><td style = \"text-align: right;\">139.416</td><td style = \"text-align: right;\">0.0</td><td style = \"text-align: right;\">2240.08</td><td style = \"text-align: right;\">2398.09</td><td style = \"text-align: right;\">4553.25</td><td style = \"text-align: right;\">0.0</td><td style = \"text-align: right;\">0.491974</td><td style = \"text-align: right;\">0.0</td><td style = \"text-align: right;\">0.526676</td><td style = \"text-align: left;\">[]</td><td style = \"text-align: left;\">[(&quot;CT&quot;, 139.416)]</td></tr><tr><td class = \"rowNumber\" style = \"font-weight: bold; text-align: right;\">20</td><td style = \"text-align: left;\">NJ</td><td style = \"text-align: left;\">2020-05-20</td><td style = \"text-align: right;\">0.0</td><td style = \"text-align: right;\">136.301</td><td style = \"text-align: right;\">0.0</td><td style = \"text-align: right;\">996.812</td><td style = \"text-align: right;\">1049.42</td><td style = \"text-align: right;\">4553.25</td><td style = \"text-align: right;\">0.0</td><td style = \"text-align: right;\">0.218923</td><td style = \"text-align: right;\">0.0</td><td style = \"text-align: right;\">0.230476</td><td style = \"text-align: left;\">[]</td><td style = \"text-align: left;\">[(&quot;CT&quot;, 136.301)]</td></tr><tr><td class = \"rowNumber\" style = \"font-weight: bold; text-align: right;\">21</td><td style = \"text-align: left;\">NJ</td><td style = \"text-align: left;\">2020-05-21</td><td style = \"text-align: right;\">131.744</td><td style = \"text-align: right;\">0.0</td><td style = \"text-align: right;\">0.0</td><td style = \"text-align: right;\">303.678</td><td style = \"text-align: right;\">-261.374</td><td style = \"text-align: right;\">4553.25</td><td style = \"text-align: right;\">0.0</td><td style = \"text-align: right;\">0.0666947</td><td style = \"text-align: right;\">0.0</td><td style = \"text-align: right;\">-0.0574038</td><td style = \"text-align: left;\">[(&quot;MD&quot;, 131.744)]</td><td style = \"text-align: left;\">[]</td></tr><tr><td class = \"rowNumber\" style = \"font-weight: bold; text-align: right;\">22</td><td style = \"text-align: left;\">NJ</td><td style = \"text-align: left;\">2020-05-22</td><td style = \"text-align: right;\">0.0</td><td style = \"text-align: right;\">0.0</td><td style = \"text-align: right;\">0.0</td><td style = \"text-align: right;\">-1100.82</td><td style = \"text-align: right;\">-1534.13</td><td style = \"text-align: right;\">4553.25</td><td style = \"text-align: right;\">0.0</td><td style = \"text-align: right;\">-0.241767</td><td style = \"text-align: right;\">0.0</td><td style = \"text-align: right;\">-0.336931</td><td style = \"text-align: left;\">[]</td><td style = \"text-align: left;\">[]</td></tr><tr><td class = \"rowNumber\" style = \"font-weight: bold; text-align: right;\">23</td><td style = \"text-align: left;\">NJ</td><td style = \"text-align: left;\">2020-05-23</td><td style = \"text-align: right;\">0.0</td><td style = \"text-align: right;\">49.2642</td><td style = \"text-align: right;\">0.0</td><td style = \"text-align: right;\">-2676.3</td><td style = \"text-align: right;\">-2773.53</td><td style = \"text-align: right;\">4553.25</td><td style = \"text-align: right;\">0.0</td><td style = \"text-align: right;\">-0.587779</td><td style = \"text-align: right;\">0.0</td><td style = \"text-align: right;\">-0.609132</td><td style = \"text-align: left;\">[]</td><td style = \"text-align: left;\">[(&quot;RI&quot;, 49.2642)]</td></tr><tr><td class = \"rowNumber\" style = \"font-weight: bold; text-align: right;\">24</td><td style = \"text-align: left;\">NJ</td><td style = \"text-align: left;\">2020-05-24</td><td style = \"text-align: right;\">0.0</td><td style = \"text-align: right;\">0.0</td><td style = \"text-align: right;\">0.0</td><td style = \"text-align: right;\">-3875.38</td><td style = \"text-align: right;\">-3972.6</td><td style = \"text-align: right;\">4553.25</td><td style = \"text-align: right;\">0.0</td><td style = \"text-align: right;\">-0.851123</td><td style = \"text-align: right;\">0.0</td><td style = \"text-align: right;\">-0.872476</td><td style = \"text-align: left;\">[]</td><td style = \"text-align: left;\">[]</td></tr><tr><td class = \"rowNumber\" style = \"font-weight: bold; text-align: right;\">25</td><td style = \"text-align: left;\">NJ</td><td style = \"text-align: left;\">2020-05-25</td><td style = \"text-align: right;\">0.0</td><td style = \"text-align: right;\">0.0</td><td style = \"text-align: right;\">0.0</td><td style = \"text-align: right;\">-5034.6</td><td style = \"text-align: right;\">-5131.83</td><td style = \"text-align: right;\">4553.25</td><td style = \"text-align: right;\">0.0</td><td style = \"text-align: right;\">-1.10572</td><td style = \"text-align: right;\">0.0</td><td style = \"text-align: right;\">-1.12707</td><td style = \"text-align: left;\">[]</td><td style = \"text-align: left;\">[]</td></tr><tr><td class = \"rowNumber\" style = \"font-weight: bold; text-align: right;\">26</td><td style = \"text-align: left;\">NJ</td><td style = \"text-align: left;\">2020-05-26</td><td style = \"text-align: right;\">0.0</td><td style = \"text-align: right;\">0.0</td><td style = \"text-align: right;\">0.0</td><td style = \"text-align: right;\">-6166.12</td><td style = \"text-align: right;\">-6263.35</td><td style = \"text-align: right;\">4553.25</td><td style = \"text-align: right;\">0.0</td><td style = \"text-align: right;\">-1.35422</td><td style = \"text-align: right;\">0.0</td><td style = \"text-align: right;\">-1.37558</td><td style = \"text-align: left;\">[]</td><td style = \"text-align: left;\">[]</td></tr><tr><td class = \"rowNumber\" style = \"font-weight: bold; text-align: right;\">27</td><td style = \"text-align: left;\">NJ</td><td style = \"text-align: left;\">2020-05-27</td><td style = \"text-align: right;\">0.0</td><td style = \"text-align: right;\">0.0</td><td style = \"text-align: right;\">0.0</td><td style = \"text-align: right;\">-7474.94</td><td style = \"text-align: right;\">-7356.22</td><td style = \"text-align: right;\">4553.25</td><td style = \"text-align: right;\">0.0</td><td style = \"text-align: right;\">-1.64167</td><td style = \"text-align: right;\">0.0</td><td style = \"text-align: right;\">-1.6156</td><td style = \"text-align: left;\">[]</td><td style = \"text-align: left;\">[]</td></tr><tr><td class = \"rowNumber\" style = \"font-weight: bold; text-align: right;\">28</td><td style = \"text-align: left;\">NJ</td><td style = \"text-align: left;\">2020-05-28</td><td style = \"text-align: right;\">0.0</td><td style = \"text-align: right;\">125.016</td><td style = \"text-align: right;\">0.0</td><td style = \"text-align: right;\">-8318.87</td><td style = \"text-align: right;\">-8412.12</td><td style = \"text-align: right;\">4553.25</td><td style = \"text-align: right;\">0.0</td><td style = \"text-align: right;\">-1.82702</td><td style = \"text-align: right;\">0.0</td><td style = \"text-align: right;\">-1.8475</td><td style = \"text-align: left;\">[]</td><td style = \"text-align: left;\">[(&quot;MD&quot;, 125.016)]</td></tr><tr><td class = \"rowNumber\" style = \"font-weight: bold; text-align: right;\">29</td><td style = \"text-align: left;\">NJ</td><td style = \"text-align: left;\">2020-05-29</td><td style = \"text-align: right;\">0.0</td><td style = \"text-align: right;\">0.0</td><td style = \"text-align: right;\">0.0</td><td style = \"text-align: right;\">-8644.7</td><td style = \"text-align: right;\">-8682.59</td><td style = \"text-align: right;\">4553.25</td><td style = \"text-align: right;\">0.0</td><td style = \"text-align: right;\">-1.89858</td><td style = \"text-align: right;\">0.0</td><td style = \"text-align: right;\">-1.9069</td><td style = \"text-align: left;\">[]</td><td style = \"text-align: left;\">[]</td></tr><tr><td class = \"rowNumber\" style = \"font-weight: bold; text-align: right;\">30</td><td style = \"text-align: left;\">NJ</td><td style = \"text-align: left;\">2020-05-30</td><td style = \"text-align: right;\">81.4498</td><td style = \"text-align: right;\">0.0</td><td style = \"text-align: right;\">0.0</td><td style = \"text-align: right;\">-9030.89</td><td style = \"text-align: right;\">-8940.79</td><td style = \"text-align: right;\">4553.25</td><td style = \"text-align: right;\">0.0</td><td style = \"text-align: right;\">-1.98339</td><td style = \"text-align: right;\">0.0</td><td style = \"text-align: right;\">-1.96361</td><td style = \"text-align: left;\">[(&quot;RI&quot;, 81.4498)]</td><td style = \"text-align: left;\">[]</td></tr></tbody></table></div>"
      ],
      "text/latex": [
       "\\begin{tabular}{r|cccccccc}\n",
       "\t& location & date & sent & received & new\\_patients & active\\_patients & active\\_patients\\_nosent & \\\\\n",
       "\t\\hline\n",
       "\t& String & Date & Float64 & Float64 & Float32 & Float64 & Float32 & \\\\\n",
       "\t\\hline\n",
       "\t1 & NJ & 2020-05-01 & 0.0 & 0.0 & 1073.99 & 5462.78 & 5462.78 & $\\dots$ \\\\\n",
       "\t2 & NJ & 2020-05-02 & 0.0 & 0.0 & 1055.75 & 5787.86 & 5787.86 & $\\dots$ \\\\\n",
       "\t3 & NJ & 2020-05-03 & 503.403 & 0.0 & 1036.88 & 6118.26 & 6118.25 & $\\dots$ \\\\\n",
       "\t4 & NJ & 2020-05-04 & 0.0 & 30.9879 & 1018.0 & 5978.84 & 6451.25 & $\\dots$ \\\\\n",
       "\t5 & NJ & 2020-05-05 & 0.0 & 0.0 & 997.133 & 6315.63 & 6788.04 & $\\dots$ \\\\\n",
       "\t6 & NJ & 2020-05-06 & 0.0 & 30.8977 & 971.688 & 6678.72 & 7120.23 & $\\dots$ \\\\\n",
       "\t7 & NJ & 2020-05-07 & 617.656 & 0.0 & 950.161 & 7011.22 & 7452.74 & $\\dots$ \\\\\n",
       "\t8 & NJ & 2020-05-08 & 0.0 & 0.0 & 926.771 & 6724.35 & 7783.52 & $\\dots$ \\\\\n",
       "\t9 & NJ & 2020-05-09 & 0.0 & 385.344 & 904.766 & 7440.76 & 8114.59 & $\\dots$ \\\\\n",
       "\t10 & NJ & 2020-05-10 & 0.0 & 0.0 & 876.339 & 7762.54 & 8436.37 & $\\dots$ \\\\\n",
       "\t11 & NJ & 2020-05-11 & 0.0 & 0.0 & 852.41 & 8084.95 & 8758.78 & $\\dots$ \\\\\n",
       "\t12 & NJ & 2020-05-12 & 0.0 & 0.0 & 831.472 & 8404.72 & 9078.55 & $\\dots$ \\\\\n",
       "\t13 & NJ & 2020-05-13 & 0.0 & 215.941 & 804.114 & 8932.28 & 9390.17 & $\\dots$ \\\\\n",
       "\t14 & NJ & 2020-05-14 & 455.887 & 368.939 & 779.092 & 9607.99 & 9696.94 & $\\dots$ \\\\\n",
       "\t15 & NJ & 2020-05-15 & 16.5845 & 71.9488 & 0.0 & 7691.74 & 8164.63 & $\\dots$ \\\\\n",
       "\t16 & NJ & 2020-05-16 & 0.0 & 127.979 & 0.0 & 6309.62 & 6671.11 & $\\dots$ \\\\\n",
       "\t17 & NJ & 2020-05-17 & 0.0 & 0.0 & 0.0 & 5355.11 & 5213.2 & $\\dots$ \\\\\n",
       "\t18 & NJ & 2020-05-18 & 408.345 & 0.0 & 0.0 & 3897.77 & 3786.85 & $\\dots$ \\\\\n",
       "\t19 & NJ & 2020-05-19 & 0.0 & 139.416 & 0.0 & 2240.08 & 2398.09 & $\\dots$ \\\\\n",
       "\t20 & NJ & 2020-05-20 & 0.0 & 136.301 & 0.0 & 996.812 & 1049.42 & $\\dots$ \\\\\n",
       "\t21 & NJ & 2020-05-21 & 131.744 & 0.0 & 0.0 & 303.678 & -261.374 & $\\dots$ \\\\\n",
       "\t22 & NJ & 2020-05-22 & 0.0 & 0.0 & 0.0 & -1100.82 & -1534.13 & $\\dots$ \\\\\n",
       "\t23 & NJ & 2020-05-23 & 0.0 & 49.2642 & 0.0 & -2676.3 & -2773.53 & $\\dots$ \\\\\n",
       "\t24 & NJ & 2020-05-24 & 0.0 & 0.0 & 0.0 & -3875.38 & -3972.6 & $\\dots$ \\\\\n",
       "\t$\\dots$ & $\\dots$ & $\\dots$ & $\\dots$ & $\\dots$ & $\\dots$ & $\\dots$ & $\\dots$ &  \\\\\n",
       "\\end{tabular}\n"
      ],
      "text/plain": [
       "\u001b[1m30×14 DataFrame\u001b[0m\n",
       "\u001b[1m Row \u001b[0m│\u001b[1m location \u001b[0m\u001b[1m date       \u001b[0m\u001b[1m sent     \u001b[0m\u001b[1m received \u001b[0m\u001b[1m new_patients \u001b[0m\u001b[1m active_patients\u001b[0m ⋯\n",
       "     │\u001b[90m String   \u001b[0m\u001b[90m Date       \u001b[0m\u001b[90m Float64  \u001b[0m\u001b[90m Float64  \u001b[0m\u001b[90m Float32      \u001b[0m\u001b[90m Float64        \u001b[0m ⋯\n",
       "─────┼──────────────────────────────────────────────────────────────────────────\n",
       "   1 │ NJ        2020-05-01    0.0       0.0         1073.99          5462.78  ⋯\n",
       "   2 │ NJ        2020-05-02    0.0       0.0         1055.75          5787.86\n",
       "   3 │ NJ        2020-05-03  503.403     0.0         1036.88          6118.26\n",
       "   4 │ NJ        2020-05-04    0.0      30.9879      1018.0           5978.84\n",
       "   5 │ NJ        2020-05-05    0.0       0.0          997.133         6315.63  ⋯\n",
       "   6 │ NJ        2020-05-06    0.0      30.8977       971.688         6678.72\n",
       "   7 │ NJ        2020-05-07  617.656     0.0          950.161         7011.22\n",
       "   8 │ NJ        2020-05-08    0.0       0.0          926.771         6724.35\n",
       "  ⋮  │    ⋮          ⋮          ⋮         ⋮           ⋮               ⋮        ⋱\n",
       "  24 │ NJ        2020-05-24    0.0       0.0            0.0          -3875.38  ⋯\n",
       "  25 │ NJ        2020-05-25    0.0       0.0            0.0          -5034.6\n",
       "  26 │ NJ        2020-05-26    0.0       0.0            0.0          -6166.12\n",
       "  27 │ NJ        2020-05-27    0.0       0.0            0.0          -7474.94\n",
       "  28 │ NJ        2020-05-28    0.0     125.016          0.0          -8318.87  ⋯\n",
       "  29 │ NJ        2020-05-29    0.0       0.0            0.0          -8644.7\n",
       "  30 │ NJ        2020-05-30   81.4498    0.0            0.0          -9030.89\n",
       "\u001b[36m                                                   8 columns and 15 rows omitted\u001b[0m"
      ]
     },
     "metadata": {},
     "output_type": "display_data"
    }
   ],
   "source": [
    "s = \"NJ\"\n",
    "filter(row -> row.location == s, results.complete_table)"
   ]
  },
  {
   "cell_type": "code",
   "execution_count": 21,
   "metadata": {},
   "outputs": [
    {
     "data": {
      "text/plain": [
       "Dict{String, Vector{String}} with 10 entries:\n",
       "  \"NH\" => [\"CT\", \"MA\", \"RI\"]\n",
       "  \"CT\" => [\"DE\", \"MA\", \"ME\", \"NH\", \"NJ\", \"NY\", \"PA\"]\n",
       "  \"RI\" => [\"NJ\", \"NY\"]\n",
       "  \"MA\" => [\"NJ\", \"NY\", \"RI\"]\n",
       "  \"ME\" => [\"CT\", \"RI\"]\n",
       "  \"NY\" => [\"CT\", \"DE\"]\n",
       "  \"NJ\" => [\"CT\", \"MA\", \"MD\", \"NY\", \"RI\"]\n",
       "  \"DE\" => [\"MD\", \"NJ\", \"NY\"]\n",
       "  \"PA\" => [\"CT\", \"DE\", \"MD\", \"NJ\", \"NY\"]\n",
       "  \"MD\" => [\"DE\", \"NJ\", \"NY\", \"PA\"]"
      ]
     },
     "metadata": {},
     "output_type": "display_data"
    }
   ],
   "source": [
    "results.sent_to"
   ]
  },
  {
   "cell_type": "code",
   "execution_count": null,
   "metadata": {},
   "outputs": [],
   "source": []
  }
 ],
 "metadata": {
  "kernelspec": {
   "display_name": "Julia 1.10.2",
   "language": "julia",
   "name": "julia-1.10"
  },
  "language_info": {
   "file_extension": ".jl",
   "mimetype": "application/julia",
   "name": "julia",
   "version": "1.10.2"
  }
 },
 "nbformat": 4,
 "nbformat_minor": 4
}
