{
 "cells": [
  {
   "cell_type": "code",
   "execution_count": null,
   "metadata": {},
   "outputs": [],
   "source": [
    "using Dates\n",
    "using JuMP\n",
    "using CSV\n",
    "using DataFrames\n",
    "using LinearAlgebra\n",
    "using Distributions\n",
    "using Statistics\n",
    "using Dates\n",
    "using Plots\n",
    "ENV[\"COLUMNS\"] = 200;\n",
    "include(\"COVIDResourceAllocation.jl\")\n",
    "using .COVIDResourceAllocation"
   ]
  },
  {
   "cell_type": "code",
   "execution_count": null,
   "metadata": {},
   "outputs": [],
   "source": [
    "states = [\"CT\", \"DE\", \"MA\", \"MD\", \"ME\", \"NH\", \"NJ\", \"NY\", \"PA\", \"RI\", \"VT\"]\n",
    "start_date = Date(2020, 3, 30)\n",
    "end_date   = Date(2020, 6, 30)\n",
    "travel_threshold_hours = 4.0\n",
    "\n",
    "adj = adjacencies(states, level=:state, source=:google, threshold=travel_threshold_hours);"
   ]
  },
  {
   "cell_type": "code",
   "execution_count": null,
   "metadata": {},
   "outputs": [],
   "source": [
    "hospitalized_days = 14\n",
    "forecast_initial = forecast(\n",
    "    states, start_date-Dates.Day(1), start_date-Dates.Day(1),\n",
    "    level=:state,\n",
    "    source=:ihme,\n",
    "    forecast_type=:active,\n",
    "    patient_type=:regular,\n",
    "    bound_type=:mean,\n",
    ")[:]\n",
    "forecast_active = forecast(\n",
    "    states, start_date, end_date,\n",
    "    level=:state,\n",
    "    source=:ihme,\n",
    "    forecast_type=:active,\n",
    "    patient_type=:regular,\n",
    "    bound_type=:mean,\n",
    ")\n",
    "forecast_admitted = forecast(\n",
    "    states, start_date, end_date,\n",
    "    level=:state,\n",
    "    source=:ihme,\n",
    "    forecast_type=:admitted,\n",
    "    patient_type=:regular,\n",
    "    bound_type=:mean,\n",
    ")\n",
    "forecast_discharged = forecast(\n",
    "    states, start_date-Dates.Day(hospitalized_days), end_date-Dates.Day(hospitalized_days),\n",
    "    level=:state,\n",
    "    source=:ihme,\n",
    "    forecast_type=:admitted,\n",
    "    patient_type=:regular,\n",
    "    bound_type=:mean,\n",
    ");"
   ]
  },
  {
   "cell_type": "code",
   "execution_count": null,
   "metadata": {},
   "outputs": [],
   "source": [
    "pct_nurses_available = 0.5\n",
    "patients_per_nurse_covid = 2.5\n",
    "nurse_hrs_per_week_covid = 36\n",
    "#pct_beds_available = 0.25\n",
    "\n",
    "#beds = n_beds(states, bed_type=:all, pct_beds_available=pct_beds_available)\n",
    "\n",
    "N = length(states);\n",
    "T = (end_date - start_date).value + 1\n",
    "\n",
    "#forecast_discharged = hcat(forecast_discharged, zeros(Float32, N, T - hospitalized_days))\n",
    "\n",
    "@show nurse_hrs_per_day_covid = nurse_hrs_per_week_covid / 7\n",
    "@show nurses_days_per_day_covid = 24 / nurse_hrs_per_day_covid\n",
    "\n",
    "@show nurse_days_per_patient_day_covid = nurses_days_per_day_covid / patients_per_nurse_covid;\n",
    "\n",
    "nurses = n_nurses(states) * Float32(pct_nurses_available);"
   ]
  },
  {
   "cell_type": "code",
   "execution_count": 63,
   "metadata": {},
   "outputs": [],
   "source": [
    "isolation_spot = vec([0,0,0,0,0,0,1,1,0,0,0])\n",
    "\n",
    "model = patient_nurse_allocation(\n",
    "    forecast_initial,\n",
    "    forecast_discharged,\n",
    "    forecast_admitted,\n",
    "    nurses,\n",
    "    adj,\n",
    "    #isolation_spot,\n",
    "    los = hospitalized_days,\n",
    "    nurse_days_per_patient_day = nurse_days_per_patient_day_covid,\n",
    "    sent_penalty = 0,\n",
    "    no_artificial_shortage = false,\n",
    "    disallow_nurse_shortage_sent = false,\n",
    "    disallow_nurse_shortage_newpatients = false,\n",
    "    verbose=true\n",
    ")\n",
    "sentn = value.(model[:sentnurses])\n",
    "sentp = value.(model[:sentpatients])\n",
    "println(\"termination status: \", termination_status(model))\n",
    "println(\"solve time: \", round(solve_time(model), digits=3), \"s\")\n",
    "println(\"objective function value: \", round(objective_value(model), digits=3))"
   ]
  },
  {
   "cell_type": "code",
   "execution_count": null,
   "metadata": {},
   "outputs": [],
   "source": [
    "results_old = PatientAllocationResults.results_all(sentp, nurses, forecast_initial, forecast_discharged,forecast_admitted, states, start_date, hospitalized_days);"
   ]
  },
  {
   "cell_type": "code",
   "execution_count": null,
   "metadata": {},
   "outputs": [],
   "source": [
    "results_old.sent_matrix_table"
   ]
  },
  {
   "cell_type": "code",
   "execution_count": null,
   "metadata": {},
   "outputs": [],
   "source": [
    "demand_old = results.active_patients * nurse_days_per_patient_day_covid;"
   ]
  },
  {
   "cell_type": "code",
   "execution_count": null,
   "metadata": {},
   "outputs": [],
   "source": [
    "results_nurses_old = NurseAllocationResults.results_all(sentn, nurses, demand, states, start_date);"
   ]
  },
  {
   "cell_type": "code",
   "execution_count": null,
   "metadata": {},
   "outputs": [],
   "source": [
    "results_nurses_old.summary_table"
   ]
  },
  {
   "cell_type": "code",
   "execution_count": null,
   "metadata": {},
   "outputs": [],
   "source": [
    "results_nurses_old.average_load"
   ]
  },
  {
   "cell_type": "code",
   "execution_count": null,
   "metadata": {},
   "outputs": [],
   "source": [
    "results_nurses.sent_matrix_table"
   ]
  },
  {
   "cell_type": "code",
   "execution_count": null,
   "metadata": {},
   "outputs": [],
   "source": [
    "results.sent_to"
   ]
  },
  {
   "cell_type": "markdown",
   "metadata": {},
   "source": [
    "## Plotting overflow over time for historical data"
   ]
  },
  {
   "cell_type": "code",
   "execution_count": null,
   "metadata": {},
   "outputs": [],
   "source": [
    "# note I exlcuded the initial patients\n",
    "net_patients_per_day = forecast_active-forecast_discharged+forecast_admitted;"
   ]
  },
  {
   "cell_type": "code",
   "execution_count": null,
   "metadata": {},
   "outputs": [],
   "source": [
    "nurses_p_day = (1/nurse_days_per_patient_day_covid)*pct_nurses_available*Matrix(DataFrame(repeat(nurses, 1, size(net_patients_per_day)[2]), :auto))\n",
    "beds_p_day = pct_beds_available*Matrix(DataFrame(repeat(beds, 1, size(net_patients_per_day)[2]), :auto))\n",
    "capacity = nurses_p_day+beds_p_day;"
   ]
  },
  {
   "cell_type": "code",
   "execution_count": null,
   "metadata": {},
   "outputs": [],
   "source": [
    "start_date = Date(2020, 3, 30)\n",
    "end_date   = Date(2020, 6, 30)\n",
    "date_range = start_date:end_date\n",
    "overflow = net_patients_per_day - capacity\n",
    "overflows_p_hosp = vec(sum(overflow, dims=1));"
   ]
  },
  {
   "cell_type": "code",
   "execution_count": null,
   "metadata": {},
   "outputs": [],
   "source": [
    "date_range = start_date:end_date\n",
    "gr()\n",
    "plot(date_range, overflows_p_hosp,\n",
    "     xlabel = \"Date\",\n",
    "     ylabel = \"Cumulative Overflow\",\n",
    "     title = \"Overflow over Time\",\n",
    "     legend = false,\n",
    "     linewidth = 2,fmt=:png) \n"
   ]
  },
  {
   "cell_type": "code",
   "execution_count": null,
   "metadata": {},
   "outputs": [],
   "source": [
    "states = [\"CT\", \"DE\", \"MA\", \"MD\", \"ME\", \"NH\", \"NJ\", \"NY\", \"PA\", \"RI\", \"VT\"]\n",
    "states_cleaned = [replace(state, r\"[, ]\" => \"\") for state in states]\n",
    "states_cleaned_row = hcat(states_cleaned...)\n",
    "\n",
    "plot(date_range, [vec(overflow[i,:]) for i in 1:size(overflow)[1]],\n",
    "     xlabel = \"Date\",\n",
    "     ylabel = \"Overflow By Hospital\",\n",
    "     title = \"Overflow over Time\",\n",
    "     legend = :topright,\n",
    "     label = states_cleaned_row,\n",
    "     linewidth = 2,\n",
    "     fmt=:png)\n",
    "savefig(joinpath(\"../figures\", \"Historical_overflow_plot.png\"))"
   ]
  },
  {
   "cell_type": "code",
   "execution_count": null,
   "metadata": {},
   "outputs": [],
   "source": [
    "# total overflow overtime regardless of states\n",
    "df = results.complete_table\n",
    "cleaned_df = DataFrame(Date=df.date, Sent=df.sent)\n",
    "# Group by state and date, then create the 11x93 matrix\n",
    "grouped_df = groupby(cleaned_df, :Date)"
   ]
  },
  {
   "cell_type": "code",
   "execution_count": null,
   "metadata": {},
   "outputs": [],
   "source": [
    "df = results.complete_table\n",
    "cleaned_df = DataFrame(Date=df.date, Sent=df.sent)\n",
    "# Group by state and date, then create the 11x93 matrix\n",
    "grouped_df = groupby(cleaned_df, :Date)\n",
    "\n",
    "# check the shortage matrix\n",
    "#size(shortage_matrix)\n",
    "df = results.complete_table\n",
    "cleaned_df = DataFrame(State=df.location, Date=df.date, Sent=df.sent)\n",
    "# Group by state and date, then create the 11x93 matrix\n",
    "grouped_df = groupby(cleaned_df, :State)\n",
    "sent_matrix = zeros(11, 93)\n",
    "for (i, state_df) in enumerate(grouped_df)\n",
    "    sent_matrix[i, :] .= state_df.Sent\n",
    "end\n",
    "\n",
    "plot(date_range, [vec(grouped_df[i]) for i in 1:length(grouped_df)],\n",
    "     xlabel = \"Date\",\n",
    "     ylabel = \"Patient Transfer By Hospital\",\n",
    "     title = \"Total Patient Transfer Over Time\",\n",
    "     legend = :topright,\n",
    "     label = states_cleaned_row,\n",
    "     linewidth = 2,\n",
    "     fmt=:png)\n",
    "#savefig(joinpath(\"../figures\", \"PNA_PSent_plot.png\"))"
   ]
  },
  {
   "cell_type": "markdown",
   "metadata": {},
   "source": [
    "## Plotting Overflow Overtime for Transfer Model"
   ]
  },
  {
   "cell_type": "markdown",
   "metadata": {},
   "source": [
    "Plot Patients Sent over Time"
   ]
  },
  {
   "cell_type": "code",
   "execution_count": null,
   "metadata": {},
   "outputs": [],
   "source": [
    "states = [\"CT\", \"DE\", \"MA\", \"MD\", \"ME\", \"NH\", \"NJ\", \"NY\", \"PA\", \"RI\", \"VT\"]\n",
    "states_cleaned = [replace(state, r\"[, ]\" => \"\") for state in states]\n",
    "states_cleaned_row = hcat(states_cleaned...)\n",
    "\n",
    "df = results.complete_table\n",
    "cleaned_df = DataFrame(State=df.location, Date=df.date, Sent=df.sent)\n",
    "# Group by state and date, then create the 11x93 matrix\n",
    "grouped_df = groupby(cleaned_df, :State)\n",
    "sent_matrix = zeros(11, 93)\n",
    "for (i, state_df) in enumerate(grouped_df)\n",
    "    sent_matrix[i, :] .= state_df.Sent\n",
    "end\n",
    "\n",
    "# check the shortage matrix\n",
    "#size(shortage_matrix)\n",
    "\n",
    "plot(date_range, [vec(sent_matrix[i,:]) for i in 1:size(sent_matrix)[1]],\n",
    "     xlabel = \"Date\",\n",
    "     ylabel = \"Patient Transfer By Hospital\",\n",
    "     title = \"Total Patient Transfer Over Time\",\n",
    "     legend = :topright,\n",
    "     label = states_cleaned_row,\n",
    "     linewidth = 2,\n",
    "     fmt=:png)\n",
    "savefig(joinpath(\"../figures\", \"PNA_PSent_plot.png\"))"
   ]
  },
  {
   "cell_type": "markdown",
   "metadata": {},
   "source": [
    "## Shortage Plots"
   ]
  },
  {
   "cell_type": "code",
   "execution_count": null,
   "metadata": {},
   "outputs": [],
   "source": [
    "net_shortage = net_patients_per_day*nurse_days_per_patient_day_covid - nurses_p_day*pct_nurses_available;\n",
    "net_shortage_p_hosp = vec(sum(net_shortage, dims=1));"
   ]
  },
  {
   "cell_type": "code",
   "execution_count": null,
   "metadata": {},
   "outputs": [],
   "source": [
    "# smoothed demand\n",
    "net_shortage = demand - nurses_p_day*pct_nurses_available;\n",
    "net_shortage_p_hosp = vec(sum(net_shortage, dims=1));"
   ]
  },
  {
   "cell_type": "code",
   "execution_count": null,
   "metadata": {},
   "outputs": [],
   "source": [
    "states = [\"CT\", \"DE\", \"MA\", \"MD\", \"ME\", \"NH\", \"NJ\", \"NY\", \"PA\", \"RI\", \"VT\"]\n",
    "states_cleaned = [replace(state, r\"[, ]\" => \"\") for state in states]\n",
    "states_cleaned_row = hcat(states_cleaned...)\n",
    "\n",
    "plot(date_range, [vec(net_shortage[i,:]) for i in 1:size(net_shortage)[1]],\n",
    "     xlabel = \"Date\",\n",
    "     ylabel = \"Shortage By Hospital\",\n",
    "     title = \"Shortage over Time\",\n",
    "     legend = :topright,\n",
    "     label = states_cleaned_row,\n",
    "     linewidth = 2,\n",
    "     fmt=:png)\n",
    "savefig(joinpath(\"../figures\", \"Historical_shortage_plot.png\"))"
   ]
  },
  {
   "cell_type": "markdown",
   "metadata": {},
   "source": [
    "Plot shortage over time using patient-nurse allocaiton model (without isolation spots)"
   ]
  },
  {
   "cell_type": "code",
   "execution_count": null,
   "metadata": {},
   "outputs": [],
   "source": [
    "start_date = Date(2020, 3, 30)\n",
    "end_date   = Date(2020, 6, 30)\n",
    "date_range = start_date:end_date\n",
    "states = [\"CT\", \"DE\", \"MA\", \"MD\", \"ME\", \"NH\", \"NJ\", \"NY\", \"PA\", \"RI\", \"VT\"]\n",
    "states_cleaned = [replace(state, r\"[, ]\" => \"\") for state in states]\n",
    "states_cleaned_row = hcat(states_cleaned...)\n",
    "df = results_nurses_old.complete_table\n",
    "cleaned_df = DataFrame(State=df.state, Date=df.date, Shortage=df.shortage)\n",
    "# Group by state and date, then create the 11x93 matrix\n",
    "grouped_df = groupby(cleaned_df, :State)\n",
    "shortage_matrix = zeros(11, 93)\n",
    "for (i, state_df) in enumerate(grouped_df)\n",
    "    shortage_matrix[i, :] .= state_df.Shortage\n",
    "end\n",
    "\n",
    "# check the shortage matrix\n",
    "#size(shortage_matrix)\n",
    "\n",
    "net_shortage = shortage_matrix\n",
    "\n",
    "plot(date_range, [vec(net_shortage[i,:]) for i in 1:size(net_shortage)[1]],\n",
    "     xlabel = \"Date\",\n",
    "     ylabel = \"Shortage By Hospital\",\n",
    "     title = \"Shortage over Time\",\n",
    "     legend = :topright,\n",
    "     label = states_cleaned_row,\n",
    "     linewidth = 2,\n",
    "     fmt=:png)\n",
    "#savefig(joinpath(\"../figures\", \"PNA_shortage_plot_disallow_shortage_sent.png\"))\n",
    "     "
   ]
  },
  {
   "cell_type": "code",
   "execution_count": null,
   "metadata": {},
   "outputs": [],
   "source": [
    "states = [\"CT\", \"DE\", \"MA\", \"MD\", \"ME\", \"NH\", \"NJ\", \"NY\", \"PA\", \"RI\", \"VT\"]\n",
    "states_cleaned = [replace(state, r\"[, ]\" => \"\") for state in states]\n",
    "states_cleaned_row = hcat(states_cleaned...)\n",
    "\n",
    "df = results_nurses.complete_table\n",
    "cleaned_df = DataFrame(State=df.state, Date=df.date, Sent=df.sent)\n",
    "# Group by state and date, then create the 11x93 matrix\n",
    "grouped_df = groupby(cleaned_df, :State)\n",
    "sent_matrix = zeros(11, 93)\n",
    "for (i, state_df) in enumerate(grouped_df)\n",
    "    sent_matrix[i, :] .= state_df.Sent\n",
    "end\n",
    "\n",
    "# check the shortage matrix\n",
    "#size(shortage_matrix)\n",
    "\n",
    "plot(date_range, [vec(sent_matrix[i,:]) for i in 1:size(sent_matrix)[1]],\n",
    "     xlabel = \"Date\",\n",
    "     ylabel = \"Nurse Transfer By Hospital\",\n",
    "     title = \"Total Nurse Transfer Over Time\",\n",
    "     legend = :topright,\n",
    "     label = states_cleaned_row,\n",
    "     linewidth = 2,\n",
    "     fmt=:png)\n",
    "savefig(joinpath(\"../figures\", \"PNA_NSent_plot.png\"))"
   ]
  }
 ],
 "metadata": {
  "kernelspec": {
   "display_name": "Julia 1.10.2",
   "language": "julia",
   "name": "julia-1.10"
  },
  "language_info": {
   "file_extension": ".jl",
   "mimetype": "application/julia",
   "name": "julia",
   "version": "3.11.4"
  },
  "orig_nbformat": 4,
  "vscode": {
   "interpreter": {
    "hash": "a85fe637b7df588aebc382d4c222c7bdbcc7e487876f6d218b1fc2e2e261a72a"
   }
  }
 },
 "nbformat": 4,
 "nbformat_minor": 2
}
