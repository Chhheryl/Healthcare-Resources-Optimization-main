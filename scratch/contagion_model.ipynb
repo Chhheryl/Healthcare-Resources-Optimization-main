{
 "cells": [
  {
   "cell_type": "code",
   "execution_count": 1,
   "metadata": {},
   "outputs": [],
   "source": [
    "using Dates\n",
    "using JuMP\n",
    "using CSV\n",
    "using DataFrames\n",
    "using LinearAlgebra\n",
    "using Pkg\n",
    "using IJulia\n",
    "using Distributions"
   ]
  },
  {
   "cell_type": "code",
   "execution_count": 2,
   "metadata": {},
   "outputs": [],
   "source": [
    "include(\"../Test Models/COVIDResourceAllocation.jl\")\n",
    "using .COVIDResourceAllocation"
   ]
  },
  {
   "cell_type": "code",
   "execution_count": 3,
   "metadata": {},
   "outputs": [
    {
     "name": "stdout",
     "output_type": "stream",
     "text": [
      "nurse_hrs_per_day_covid = nurse_hrs_per_week_covid / 7 = 5.142857142857143\n",
      "nurses_days_per_day_covid = 24 / nurse_hrs_per_day_covid = 4.666666666666666\n",
      "nurse_days_per_patient_day_covid = nurses_days_per_day_covid / patients_per_nurse_covid = 1.8666666666666665\n"
     ]
    }
   ],
   "source": [
    "pct_nurses_available = 0.5\n",
    "patients_per_nurse_covid = 2.5\n",
    "nurse_hrs_per_week_covid = 36\n",
    "\n",
    "@show nurse_hrs_per_day_covid = nurse_hrs_per_week_covid / 7\n",
    "@show nurses_days_per_day_covid = 24 / nurse_hrs_per_day_covid\n",
    "\n",
    "@show nurse_days_per_patient_day_covid = nurses_days_per_day_covid / patients_per_nurse_covid;"
   ]
  },
  {
   "cell_type": "code",
   "execution_count": 4,
   "metadata": {},
   "outputs": [],
   "source": [
    "states = [\"CT\", \"DE\", \"MA\", \"MD\", \"ME\", \"NH\", \"NJ\", \"NY\", \"PA\", \"RI\", \"VT\"]\n",
    "start_date = Date(2020, 3, 30)\n",
    "end_date   = Date(2020, 6, 30)\n",
    "travel_threshold_hours = 4.0\n",
    "pct_beds_available = 0.25\n",
    "travel_threshold_hours = 4.0\n",
    "hospitalized_days = 14;"
   ]
  },
  {
   "cell_type": "code",
   "execution_count": 13,
   "metadata": {},
   "outputs": [],
   "source": [
    "N = length(states);\n",
    "T = (end_date - start_date).value + 1\n",
    "\n",
    "forecast_active = forecast(\n",
    "    states, start_date, end_date,\n",
    "    level=:state,\n",
    "    source=:ihme,\n",
    "    forecast_type=:active,\n",
    "    patient_type=:regular,\n",
    "    bound_type=:mean,\n",
    ")\n",
    "forecast_admitted = forecast(\n",
    "    states, start_date,  end_date,\n",
    "    level=:state,\n",
    "    source=:ihme,\n",
    "    forecast_type=:admitted,\n",
    "    patient_type=:regular,\n",
    "    bound_type=:mean,\n",
    ")\n",
    "forecast_discharged = forecast(\n",
    "    states, start_date-Dates.Day(hospitalized_days), start_date-Dates.Day(1),\n",
    "    level=:state,\n",
    "    source=:ihme,\n",
    "    forecast_type=:admitted,\n",
    "    patient_type=:regular,\n",
    "    bound_type=:mean,\n",
    ")\n",
    "forecast_discharged = hcat(forecast_discharged, zeros(Float32, N, T - hospitalized_days));"
   ]
  },
  {
   "cell_type": "code",
   "execution_count": 6,
   "metadata": {},
   "outputs": [],
   "source": [
    "beds = n_beds(states, bed_type=:all, pct_beds_available=pct_beds_available);\n",
    "adj = adjacencies(states, level=:state, source=:google, threshold=travel_threshold_hours);"
   ]
  },
  {
   "cell_type": "code",
   "execution_count": 14,
   "metadata": {},
   "outputs": [],
   "source": [
    "demand = forecast_active * Float32(nurse_days_per_patient_day_covid);"
   ]
  },
  {
   "cell_type": "code",
   "execution_count": 8,
   "metadata": {},
   "outputs": [],
   "source": [
    "nurses = n_nurses(states) * Float32(pct_nurses_available);"
   ]
  },
  {
   "cell_type": "code",
   "execution_count": null,
   "metadata": {},
   "outputs": [],
   "source": [
    "## create arrays to store all the model output\n",
    "# total amount\n",
    "nurses_sent_tot = zeros(T)\n",
    "shortage_tot = zeros(T)\n",
    "average_load = zeros(T)\n",
    "patients_sent_tot = zeros(T)\n",
    "overall_shortage = zeros(T)\n",
    "overall_overflow = zeros(T)\n"
   ]
  },
  {
   "cell_type": "code",
   "execution_count": 38,
   "metadata": {},
   "outputs": [
    {
     "ename": "MethodError",
     "evalue": "MethodError: Cannot `convert` an object of type Array{Float64, 3} to an object of type Float64\n\nClosest candidates are:\n  convert(::Type{T}, !Matched::DualNumbers.Dual) where T<:Union{Real, Complex}\n   @ DualNumbers ~/.julia/packages/DualNumbers/5knFX/src/dual.jl:24\n  convert(::Type{T}, !Matched::T) where T\n   @ Base Base.jl:84\n  convert(::Type{T}, !Matched::Number) where T<:Number\n   @ Base number.jl:7\n  ...\n",
     "output_type": "error",
     "traceback": [
      "MethodError: Cannot `convert` an object of type Array{Float64, 3} to an object of type Float64\n",
      "\n",
      "Closest candidates are:\n",
      "  convert(::Type{T}, !Matched::DualNumbers.Dual) where T<:Union{Real, Complex}\n",
      "   @ DualNumbers ~/.julia/packages/DualNumbers/5knFX/src/dual.jl:24\n",
      "  convert(::Type{T}, !Matched::T) where T\n",
      "   @ Base Base.jl:84\n",
      "  convert(::Type{T}, !Matched::Number) where T<:Number\n",
      "   @ Base number.jl:7\n",
      "  ...\n",
      "\n",
      "\n",
      "Stacktrace:\n",
      " [1] setindex!(A::Vector{Float64}, x::Array{Float64, 3}, i1::Int64)\n",
      "   @ Base ./array.jl:1021\n",
      " [2] top-level scope\n",
      "   @ ~/Desktop/Healthcare-Resources-Optimization-main/scratch/contagion_model.ipynb:49"
     ]
    }
   ],
   "source": [
    "for t in 1:T-1\n",
    "    N = 11\n",
    "    contaminated_hospitals = [0,0,0,0,0,0,1,1,0,0,0]\n",
    "    indices = findall(x -> x == 1, contaminated_hospitals)\n",
    "\n",
    "    stage1_matrix = falses(N,N)\n",
    "\n",
    "        for i in 1:N  \n",
    "            for j in 1:N \n",
    "                # check that the edge is directed toward the contaminated hospital\n",
    "                # if true set the matrix idx to 1 else leave it as 0 \n",
    "                stage1_matrix[i,j] = (contaminated_hospitals[j] == 1)\n",
    "            end\n",
    "        end\n",
    "        \n",
    "    stage2_matrix = falses(N,N)\n",
    "    for i in 1:N  \n",
    "        for j in 1:N \n",
    "            # Manditorily make a fully connected graph among non-contaminated hospitals\n",
    "            stage2_matrix[i,j] = ((contaminated_hospitals[i] == 0) && contaminated_hospitals[j] == 0)\n",
    "        end\n",
    "    end\n",
    "\n",
    "    model1 = reusable_resource_allocation(\n",
    "            nurses,\n",
    "            zeros(Float32, size(demand[:, t:t+1])...),\n",
    "            demand[:, t:t+1],\n",
    "            stage1_matrix,\n",
    "            obj_dir = :shortage,  \n",
    "            send_new_only = false,\n",
    "            sendrecieve_switch_time = 0,\n",
    "            min_send_amt = 0,\n",
    "            smoothness_penalty = 0,\n",
    "            setup_cost = 0,\n",
    "            sent_penalty = 0,\n",
    "            verbose = true\n",
    "        );\n",
    "        \n",
    "        sent_nurses_contam = value.(model1[:sent])\n",
    "        indices = findall(x -> x == 1, contaminated_hospitals)\n",
    "        received_by_contaminated = [sum(sent_nurses_contam[:, j, :]) for j in 1:length(contaminated_hospitals)]\n",
    "        sent_to_contaminated = [sum(sent_nurses_contam[j, :, :]) for j in 1:length(contaminated_hospitals)]\n",
    "        nurses_afterstage1 = nurses-sent_to_contaminated+received_by_contaminated\n",
    "        \n",
    "        model1_result = NurseAllocationResults.results_all(sent_nurses_contam, nurses, demand[:, t:t+1], states, start_date)\n",
    "        stage1_shortage_tot = model1_result.total_shortage\n",
    "        stage1_average_load = model1_result.average_load\n",
    "\n",
    "        nurses_sent_tot[t] = sent_nurses_contam\n",
    "        shortage_tot[t] = stage1_shortage_tot\n",
    "        average_load[t] = stage1_average_load\n",
    "\n",
    "        forecast_initial = forecast(\n",
    "        states, start_date-Dates.Day(1), start_date-Dates.Day(1),\n",
    "        level=:state,\n",
    "        source=:ihme,\n",
    "        forecast_type=:active,\n",
    "        patient_type=:regular,\n",
    "        bound_type=:mean,\n",
    "        )[:]\n",
    "\n",
    "    model2 = patient_nurse_allocation(\n",
    "            beds,\n",
    "            forecast_initial,#demand[:, t:t+1],#nurses_afterstage1, \n",
    "            forecast_discharged[:, t:t+1],\n",
    "            forecast_admitted[:, t:t+1],\n",
    "            nurses_afterstage1,\n",
    "            stage2_matrix,\n",
    "            los=Exponential(1000),\n",
    "            verbose =true,\n",
    "        );\n",
    "\n",
    "        sent_nurses_uncontam = value.(model2[:sentnurses])\n",
    "        sent_patients_uncontam = value.(model2[:sentpatients])\n",
    "        indices = findall(x -> x == 0, contaminated_hospitals)\n",
    "        receivedn_by_uncontaminated = [sum(sent_nurses_uncontam[:, j, :]) for j in 1:length(contaminated_hospitals)]\n",
    "        sentn_to_uncontaminated = [sum(sent_nurses_uncontam[j, :, :]) for j in 1:length(contaminated_hospitals)]\n",
    "        receivedp_by_uncontaminated = [sum(sent_patients_uncontam[:, j, :]) for j in 1:length(contaminated_hospitals)]\n",
    "        sentp_to_uncontaminated = [sum(sent_patients_uncontam[j, :, :]) for j in 1:length(contaminated_hospitals)]\n",
    "\n",
    "        # nurses = nurses_afterstage1-sentn_to_uncontaminated+receivedn_by_uncontaminated\n",
    "        # demand[:,t+1] .+= receivedp_by_uncontaminated - sentp_to_uncontaminated \n",
    "\n",
    "        # nurses_sent_tot[t] += sent_nurses_uncontam\n",
    "        # patients_sent_tot[t] = sent_patients_uncontam\n",
    "\n",
    "        # model2_presult = PatientAllocationResults.results_all(sent_patients_uncontam, beds, forecast_initial, forecast_admitted[:, t:t+1], forecast_discharged[:, t:t+1], states, start_date, hospitalized_days);\n",
    "        # model2_nresult = NurseAllocationResults.results_all(sent_nurses_contam, nurses_afterstage1, demand, states, start_date)\n",
    "\n",
    "        # nurses_sent_tot[t] = stage1_nsent_tot + total_nsent_stage2\n",
    "        # patients_sent_tot[t] = total_psent\n",
    "        # stage2_shortage_tot = model2_nresult.total_shortage\n",
    "        # stage2_average_load = model2_nresult.average_load + model2_presult.average_load\n",
    "        # stage2_overflow_tot = model2_nresult.total_overflow\n",
    "\n",
    "        # overall_shortage[t] = stage1_shortage_tot + stage2_shortage_tot\n",
    "        # overall_overflow[t] = stage2_overflow_tot\n",
    "\n",
    "\n",
    "        #model1_result = NurseAllocationResults.results_all(sent, nurses, demand, states, start_date)\n",
    "        #stage1_nsent_tot = model1_result.total_sent \n",
    "        #stage1_shortage_tot = model1_result.total_shortage\n",
    "        #stage1_average_load = model1_result.average_load\n",
    "\n",
    "        start_date = start_date + Dates.Day(1)\n",
    "\n",
    "    # sent_nurses_uncontam = value.(model2[:sentnurses])\n",
    "    # sent_patients_uncontam = value.(model2[:sentpatient])\n",
    "\n",
    "    #println(\"termination status: \", termination_status(model2))\n",
    "    #println(\"solve time: \", round(solve_time(model2), digits=3), \"s\")\n",
    "    #println(\"objective function value: \", round(objective_value(model2), digits=3))\n",
    "\n",
    "    t+=1\n",
    "end"
   ]
  },
  {
   "cell_type": "code",
   "execution_count": 36,
   "metadata": {},
   "outputs": [
    {
     "ename": "UndefVarError",
     "evalue": "UndefVarError: `sent_nurses_contam` not defined",
     "output_type": "error",
     "traceback": [
      "UndefVarError: `sent_nurses_contam` not defined\n"
     ]
    }
   ],
   "source": [
    "sent_nurses_contam"
   ]
  },
  {
   "cell_type": "code",
   "execution_count": 32,
   "metadata": {},
   "outputs": [
    {
     "ename": "UndefVarError",
     "evalue": "UndefVarError: `sent_nurses_uncontam` not defined",
     "output_type": "error",
     "traceback": [
      "UndefVarError: `sent_nurses_uncontam` not defined\n"
     ]
    }
   ],
   "source": [
    "sent_nurses_uncontam"
   ]
  },
  {
   "cell_type": "code",
   "execution_count": 31,
   "metadata": {},
   "outputs": [
    {
     "data": {
      "text/plain": [
       "93-element Vector{Float64}:\n",
       "    0.0\n",
       " 2418.021240234375\n",
       " 2531.5240166187286\n",
       " 2612.778315077936\n",
       " 3348.2851610520706\n",
       " 2324.133915885918\n",
       " 1319.79529846713\n",
       "  972.2629621000748\n",
       " 1003.2561386360983\n",
       "  609.9147842830223\n",
       "    ⋮\n",
       "    0.0\n",
       "    0.0\n",
       "    0.0\n",
       "    0.0\n",
       "    0.0\n",
       "    0.0\n",
       "    0.0\n",
       "    0.0\n",
       "    0.0"
      ]
     },
     "metadata": {},
     "output_type": "display_data"
    }
   ],
   "source": [
    "nurses_sent_tot"
   ]
  }
 ],
 "metadata": {
  "kernelspec": {
   "display_name": "Julia 1.10.2",
   "language": "julia",
   "name": "julia-1.10"
  },
  "language_info": {
   "file_extension": ".jl",
   "mimetype": "application/julia",
   "name": "julia",
   "version": "1.10.2"
  }
 },
 "nbformat": 4,
 "nbformat_minor": 2
}
