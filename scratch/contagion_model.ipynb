{
 "cells": [
  {
   "cell_type": "code",
   "execution_count": 118,
   "metadata": {},
   "outputs": [],
   "source": [
    "using Dates\n",
    "using JuMP\n",
    "using CSV\n",
    "using DataFrames\n",
    "using LinearAlgebra\n",
    "using Pkg\n",
    "using IJulia"
   ]
  },
  {
   "cell_type": "code",
   "execution_count": 119,
   "metadata": {},
   "outputs": [
    {
     "name": "stderr",
     "output_type": "stream",
     "text": [
      "WARNING: replacing module COVIDResourceAllocation.\n",
      "WARNING: using COVIDResourceAllocation.patient_nurse_allocation in module Main conflicts with an existing identifier.\n",
      "WARNING: using COVIDResourceAllocation.reusable_resource_allocation in module Main conflicts with an existing identifier.\n",
      "WARNING: using COVIDResourceAllocation.forecast in module Main conflicts with an existing identifier.\n",
      "WARNING: using COVIDResourceAllocation.n_beds in module Main conflicts with an existing identifier.\n",
      "WARNING: using COVIDResourceAllocation.adjacencies in module Main conflicts with an existing identifier.\n",
      "WARNING: using COVIDResourceAllocation.n_nurses in module Main conflicts with an existing identifier.\n"
     ]
    }
   ],
   "source": [
    "include(\"../Test Models/COVIDResourceAllocation.jl\")\n",
    "using .COVIDResourceAllocation"
   ]
  },
  {
   "cell_type": "code",
   "execution_count": 120,
   "metadata": {},
   "outputs": [
    {
     "name": "stdout",
     "output_type": "stream",
     "text": [
      "nurse_hrs_per_day_covid = nurse_hrs_per_week_covid / 7 = 5.142857142857143\n",
      "nurses_days_per_day_covid = 24 / nurse_hrs_per_day_covid = 4.666666666666666\n",
      "nurse_days_per_patient_day_covid = nurses_days_per_day_covid / patients_per_nurse_covid = 1.8666666666666665\n"
     ]
    }
   ],
   "source": [
    "pct_nurses_available = 0.5\n",
    "patients_per_nurse_covid = 2.5\n",
    "nurse_hrs_per_week_covid = 36\n",
    "\n",
    "@show nurse_hrs_per_day_covid = nurse_hrs_per_week_covid / 7\n",
    "@show nurses_days_per_day_covid = 24 / nurse_hrs_per_day_covid\n",
    "\n",
    "@show nurse_days_per_patient_day_covid = nurses_days_per_day_covid / patients_per_nurse_covid;"
   ]
  },
  {
   "cell_type": "code",
   "execution_count": 121,
   "metadata": {},
   "outputs": [],
   "source": [
    "states = [\"CT\", \"DE\", \"MA\", \"MD\", \"ME\", \"NH\", \"NJ\", \"NY\", \"PA\", \"RI\", \"VT\"]\n",
    "start_date = Date(2020, 4, 1)\n",
    "end_date   = Date(2020, 5, 1)\n",
    "travel_threshold_hours = 4.0\n",
    "pct_beds_available = 0.25\n",
    "travel_threshold_hours = 4.0\n",
    "hospitalized_days = 14;"
   ]
  },
  {
   "cell_type": "code",
   "execution_count": 122,
   "metadata": {},
   "outputs": [],
   "source": [
    "N = length(states);\n",
    "T = (end_date - start_date).value + 1;"
   ]
  },
  {
   "cell_type": "code",
   "execution_count": 123,
   "metadata": {},
   "outputs": [],
   "source": [
    "forecast_active = forecast(\n",
    "    states, start_date, end_date,\n",
    "    level=:state,\n",
    "    source=:ihme,\n",
    "    forecast_type=:active,\n",
    "    patient_type=:regular,\n",
    "    bound_type=:mean,\n",
    ");"
   ]
  },
  {
   "cell_type": "code",
   "execution_count": null,
   "metadata": {},
   "outputs": [],
   "source": [
    "forecast_admitted = forecast(\n",
    "    states, start_date,  end_date,\n",
    "    level=:state,\n",
    "    source=:ihme,\n",
    "    forecast_type=:admitted,\n",
    "    patient_type=:regular,\n",
    "    bound_type=:mean,\n",
    ");"
   ]
  },
  {
   "cell_type": "code",
   "execution_count": null,
   "metadata": {},
   "outputs": [],
   "source": [
    "forecast_initial = forecast(\n",
    "    states, start_date-Dates.Day(1), start_date-Dates.Day(1),\n",
    "    level=:state,\n",
    "    source=:ihme,\n",
    "    forecast_type=:active,\n",
    "    patient_type=:regular,\n",
    "    bound_type=:mean,\n",
    ")[:];"
   ]
  },
  {
   "cell_type": "code",
   "execution_count": null,
   "metadata": {},
   "outputs": [],
   "source": [
    "forecast_discharged = forecast(\n",
    "    states, start_date-Dates.Day(hospitalized_days), start_date-Dates.Day(1),\n",
    "    level=:state,\n",
    "    source=:ihme,\n",
    "    forecast_type=:admitted,\n",
    "    patient_type=:regular,\n",
    "    bound_type=:mean,\n",
    ")\n",
    "forecast_discharged = hcat(forecast_discharged, zeros(Float32, N, T - hospitalized_days));"
   ]
  },
  {
   "cell_type": "code",
   "execution_count": null,
   "metadata": {},
   "outputs": [],
   "source": [
    "beds = n_beds(states, bed_type=:all, pct_beds_available=pct_beds_available);\n",
    "adj = adjacencies(states, level=:state, source=:google, threshold=travel_threshold_hours);"
   ]
  },
  {
   "cell_type": "code",
   "execution_count": null,
   "metadata": {},
   "outputs": [],
   "source": [
    "demand = forecast_active * Float32(nurse_days_per_patient_day_covid);"
   ]
  },
  {
   "cell_type": "code",
   "execution_count": null,
   "metadata": {},
   "outputs": [],
   "source": [
    "nurses = n_nurses(states) * Float32(pct_nurses_available);"
   ]
  },
  {
   "cell_type": "code",
   "execution_count": null,
   "metadata": {},
   "outputs": [],
   "source": [
    "t  = 1\n",
    "N = 11\n",
    "contaminated_hospitals = [0,0,0,0,0,0,1,1,0,0,0]\n",
    "stage1_matrix = falses(N,N)\n",
    "\n",
    "    for i in 1:N  \n",
    "        for j in 1:N \n",
    "            # check that the edge is directed toward the contaminated hospital\n",
    "            # if true set the matrix idx to 1 else leave it as 0 \n",
    "            stage1_matrix[i,j] = (contaminated_hospitals[j] == 1)\n",
    "        end\n",
    "    end\n",
    "    \n",
    "stage2_matrix = falses(N,N)\n",
    "for i in 1:N  \n",
    "    for j in 1:N \n",
    "        # Manditorily make a fully connected graph among non-contaminated hospitals\n",
    "        stage2_matrix = ((contaminated_hospitals[i] == 0) && contaminated_hospitals[j] == 0)\n",
    "    end\n",
    "end\n",
    "\n",
    "model1 = reusable_resource_allocation(\n",
    "        nurses,\n",
    "        zeros(Float32, size(demand[:, t:t+1])...),\n",
    "        demand[:, t:t+1],\n",
    "        stage1_matrix,\n",
    "        obj_dir = :shortage,  \n",
    "        send_new_only = false,\n",
    "        sendrecieve_switch_time = 0,\n",
    "        min_send_amt = 0,\n",
    "        smoothness_penalty = 0,\n",
    "        setup_cost = 0,\n",
    "        sent_penalty = 0,\n",
    "        verbose = true\n",
    "    )\n",
    "    \n",
    "    sent_nurses_contam = value.(model1[:sent])\n",
    "    sent_nurses_contam_matrix = sum(sent_nurses_contam, dims = 3)\n",
    "    sent_nurses_contam_net_array = zeros(11)  # Ensure this dimension matches the number of hospitals\n",
    "    for i in 1:11\n",
    "        sent_nurses_contam_net_array[i] = sum(sent_nurses_contam_matrix[i, :]) - sum(sent_nurses_contam_matrix[:, i])\n",
    "    end\n",
    "\n",
    "    nurses_afterstage1 = nurses+sent_nurses_contam_net_array\n",
    "\n",
    "model2 = patient_nurse_allocation(\n",
    "        beds,\n",
    "        forecast_initial[:,t:t+1],\n",
    "        forecast_discharged[:, t:t+1],\n",
    "        forecast_admitted[:, t:t+1],\n",
    "        nurses_afterstage1,\n",
    "        stage2_matrix,\n",
    "        los=11,\n",
    "        nurse_days_per_patient_day=2.0,\n",
    "        smoothness_penalty=0,\n",
    "        setup_cost=0,\n",
    "        sent_penalty=0,\n",
    "        balancing_thresh_patients=1.0,\n",
    "        balancing_penalty_patients=0,\n",
    "        nurse_target_load=1.25,\n",
    "        nurse_target_load_gap=0.25,\n",
    "        nurse_load_penalty=0,\n",
    "        disallow_nurse_shortage_sent=false,\n",
    "        disallow_nurse_shortage_newpatients=false,\n",
    "        severity_weighting=false,\n",
    "        no_artificial_overflow=false,\n",
    "        no_artificial_shortage=false,\n",
    "        verbose =false,\n",
    "    )\n",
    "\n",
    "sent_nurses_uncontam = value.(model2[:sentnurses])\n",
    "sent_patients_uncontam = value.(model2[:sentpatient])\n",
    "        "
   ]
  },
  {
   "cell_type": "code",
   "execution_count": null,
   "metadata": {},
   "outputs": [],
   "source": [
    "contaminated_hospitals = [0,0,0,0,0,0,1,1,0,0,0]\n",
    "stage1_matrix = falses(N,N)\n",
    "\n",
    "    for i in 1:N  \n",
    "        for j in 1:N \n",
    "            # check that the edge is directed toward the contaminated hospital\n",
    "            # if true set the matrix idx to 1 else leave it as 0 \n",
    "            stage1_matrix[i,j] = (contaminated_hospitals[j] == 1)\n",
    "        end\n",
    "    end\n",
    "    \n",
    "stage2_matrix = falses(N,N)\n",
    "for i in 1:N\n",
    "    for j in 1:N\n",
    "        # Mandatorily make a fully connected graph among non-contaminated hospitals\n",
    "        # Only set to true if both hospitals i and j are not contaminated\n",
    "        stage2_matrix[i, j] = (contaminated_hospitals[i] == 0) && (contaminated_hospitals[j] == 0)\n",
    "    end\n",
    "end\n",
    "\n"
   ]
  },
  {
   "cell_type": "code",
   "execution_count": 113,
   "metadata": {},
   "outputs": [
    {
     "ename": "ArgumentError",
     "evalue": "ArgumentError: invalid Array dimensions",
     "output_type": "error",
     "traceback": [
      "ArgumentError: invalid Array dimensions\n",
      "\n",
      "Stacktrace:\n",
      " [1] Array\n",
      "   @ ./boot.jl:477 [inlined]\n",
      " [2] Array\n",
      "   @ ./boot.jl:486 [inlined]\n",
      " [3] zeros\n",
      "   @ ./array.jl:636 [inlined]\n",
      " [4] zeros\n",
      "   @ ./array.jl:632 [inlined]\n",
      " [5] patient_nurse_allocation(beds::Vector{Float32}, initial_patients::Vector{Float32}, discharged_patients::Matrix{Float32}, admitted_patients::Matrix{Float32}, initial_nurses::Vector{Float64}, adj_matrix::BitMatrix; los::Int64, nurse_days_per_patient_day::Float64, sendreceive_switch_time::Int64, min_send_amt::Int64, smoothness_penalty::Int64, setup_cost::Int64, sent_penalty::Int64, balancing_thresh_patients::Float64, balancing_penalty_patients::Int64, nurse_target_load::Float64, nurse_target_load_gap::Float64, nurse_load_penalty::Int64, disallow_nurse_shortage_sent::Bool, disallow_nurse_shortage_newpatients::Bool, severity_weighting::Bool, no_artificial_overflow::Bool, no_artificial_shortage::Bool, verbose::Bool)\n",
      "   @ Main.COVIDResourceAllocation.PatientNurseAllocation ~/Desktop/Healthcare-Resources-Optimization-main/models/PatientNurseAllocation.jl:50\n",
      " [6] top-level scope\n",
      "   @ ~/Desktop/Healthcare-Resources-Optimization-main/scratch/contagion_model.ipynb:1"
     ]
    }
   ],
   "source": [
    "model2 = patient_nurse_allocation(\n",
    "        beds,\n",
    "        forecast_initial,\n",
    "        forecast_discharged[:, t:t+1],\n",
    "        forecast_admitted[:, t:t+1],\n",
    "        nurses_afterstage1,\n",
    "        stage2_matrix,\n",
    "        los=11,\n",
    "        nurse_days_per_patient_day=2.0,\n",
    "        sendreceive_switch_time=0,\n",
    "        min_send_amt = 0,\n",
    "        smoothness_penalty=0,\n",
    "        setup_cost=0,\n",
    "        sent_penalty=0,\n",
    "        balancing_thresh_patients=1.0,\n",
    "        balancing_penalty_patients=0,\n",
    "        nurse_target_load=1.25,\n",
    "        nurse_target_load_gap=0.25,\n",
    "        nurse_load_penalty=0,\n",
    "        disallow_nurse_shortage_sent=false,\n",
    "        disallow_nurse_shortage_newpatients=false,\n",
    "        severity_weighting=false,\n",
    "        no_artificial_overflow=false,\n",
    "        no_artificial_shortage=false,\n",
    "        verbose =false,\n",
    "    )"
   ]
  },
  {
   "cell_type": "code",
   "execution_count": 43,
   "metadata": {},
   "outputs": [
    {
     "data": {
      "text/plain": [
       "contagion_model (generic function with 2 methods)"
      ]
     },
     "metadata": {},
     "output_type": "display_data"
    }
   ],
   "source": [
    "function contagion_model( \n",
    "    adj_matrix::BitArray{2}, \n",
    "    contaminated_hospitals::Array{<:Real,1}, \n",
    "    initial_nurses::Array{<:Real,1}, \n",
    "    demand::,\n",
    "    initial_patients,\n",
    "    discharged_patients,\n",
    "    admitted_patients\n",
    "    T::Real=0,\n",
    ")\n",
    "    #= \n",
    "        adj_matrix [N by N matrix]: specifies the edges between hospitals in a network; N is the number \n",
    "                    of hospitals in the network\n",
    "\n",
    "        contaminated hospitals [array of size N]: an array where index i is 1 if the hospital is contaminated \n",
    "                                0 otherwise\n",
    "\n",
    "        initial_capacities [array of size N]: an array where index i is the number of initial capacities in hospital i \n",
    "                            \n",
    "        patients [N by 2 matrix]: initial patients at each hospital on day 1 and day 2\n",
    "\n",
    "        T [int]: the time horizon\n",
    "    =#\n",
    "\n",
    "    # used to create new graph of the exact same size \n",
    "    N, T = size(demand)\n",
    "\n",
    "    # construct the Stage 1 graph \n",
    "\n",
    "    stage1_matrix = falses(N,N)\n",
    "    \n",
    "    for i in 1:N  \n",
    "        for j in 1:N \n",
    "            # check that the edge is directed toward the contaminated hospital\n",
    "            # if true set the matrix idx to 1 else leave it as 0 \n",
    "            stage1_matrix[i,j] = (contaminated_hospitals[j] == 1)\n",
    "        end\n",
    "    end\n",
    "\n",
    "    # construct the Stage 2 graph \n",
    "    stage2_matrix = falses(N,N)\n",
    "    for i in 1:N  \n",
    "        for j in 1:N \n",
    "            # Manditorily make a fully connected graph among non-contaminated hospitals\n",
    "            stage2_matrix = ((contaminated_hospitals[i] == 0) && contaminated_hospitals[j] == 0)\n",
    "        end\n",
    "    end\n",
    "\n",
    "    for t in 1:T\n",
    "        ###########\n",
    "        # STAGE 1 #\n",
    "        ###########\n",
    "        # In stage 1 we only run resource redistribution model on a modified network.\n",
    "        # The modified network is as follows: the only edges that exist are those that are directed to the contaminated\n",
    "        # hosptials. In other words, we can only send resources to the contaminated hospitals in this stage. \n",
    "        # To accomplish this, we run a resource redistribtuion model. \n",
    "        \n",
    "        # t is the step size of days we want to forward after each round\n",
    "\n",
    "        model1 = reusable_resource_allocation(\n",
    "            initial_nurses,\n",
    "            zeros(Float32, size(demand[:, t:t+1])...),\n",
    "            demand[:, t:t+1],\n",
    "            stage1_matrix,\n",
    "            obj_dir = :shortage,  \n",
    "            send_new_only = false,\n",
    "            sendrecieve_switch_time = 0,\n",
    "            min_send_amt = 0,\n",
    "            smoothness_penalty = 0,\n",
    "            setup_cost = 0,\n",
    "            sent_penalty = 0,\n",
    "            verbose = true\n",
    "        )\n",
    "        \n",
    "        sent_nurses_contam = value.(model1[:sent])\n",
    "        sent_nurses_contam_matrix = sum(sent_nurses_contam, dims = 3)\n",
    "        sent_nurses_contam_net_array = zeros(N)  # Ensure this dimension matches the number of hospitals\n",
    "        for i in 1:N\n",
    "            sent_nurses_contam_net_array[i] = sum(sent_nurses_contam_matrix[i, :]) - sum(sent_nurses_contam_matrix[:, i])\n",
    "        end\n",
    "\n",
    "        nurses_afterstage1 = initial_nurses + sent_nurses_contam_net_array\n",
    "        \n",
    "        ###########\n",
    "        # STAGE 2 #\n",
    "        ###########\n",
    "        # In stage 2 we run a mixing patient and resource model on a modified network.\n",
    "        # The modified network is as follows: no nodes are directed to the contaminated hosptials.\n",
    "        # Uncontaminated hospitals are interconnected to each other. In other words, the goal is to balance the loads\n",
    "        # between uncontaminated hospitals in this stage after helping the contaminated hospitals.\n",
    "        # Note that the initial_nurses are initial_nurses before stage 1 - the number of nurses\n",
    "        # sent to the contaminated_hospitals.\n",
    "        # To accomplish this, we run a patient_nurse_allocation model.\n",
    "        \n",
    "        model2 = patient_nurse_allocation(\n",
    "            beds = beds,\n",
    "            initial_patients = initial_patients[:, t:t+1],\n",
    "            discharged_patients = discharged_patients[:, t:t+1],\n",
    "            admitted_patients = admitted_patients[:, t:t+1],\n",
    "            initial_nurses = nurses_afterstage1,\n",
    "            adj_matrix = stage2_matrix;\n",
    "            los=11,\n",
    "            nurse_days_per_patient_day=2.0,\n",
    "            smoothness_penalty=0,\n",
    "            setup_cost=0,\n",
    "            sent_penalty=0,\n",
    "            balancing_thresh_patients=1.0,\n",
    "            balancing_penalty_patients=0,\n",
    "            nurse_target_load=1.25,\n",
    "            nurse_target_load_gap=0.25,\n",
    "            nurse_load_penalty=0,\n",
    "            disallow_nurse_shortage_sent=false,\n",
    "            disallow_nurse_shortage_newpatients=false,\n",
    "            severity_weighting=false,\n",
    "            no_artificial_overflow=false,\n",
    "            no_artificial_shortage=false,\n",
    "            verbose =false,\n",
    "        )\n",
    "\n",
    "        sent_nurses_uncontam = value.(model2[:sentnurses])\n",
    "        sent_patients_uncontam = value.(model2[:sentpatient])\n",
    "        \n",
    "        # initial value for the next round\n",
    "        nurses = nurses_afterstage1 - sent_nurses_uncontam\n",
    "        demand = demand - sent_patients_uncontam\n",
    "        \n",
    "        \n",
    "        \n",
    "        t = t+1\n",
    "\n",
    "    end \n",
    "end"
   ]
  },
  {
   "cell_type": "code",
   "execution_count": null,
   "metadata": {},
   "outputs": [],
   "source": [
    "Using"
   ]
  },
  {
   "cell_type": "code",
   "execution_count": 23,
   "metadata": {},
   "outputs": [
    {
     "data": {
      "text/plain": [
       "9-element Vector{String}:\n",
       " \"Case and Fatalities_ALL\"\n",
       " \"Case and Fatalities_2020\"\n",
       " \"Case and Fatalities_2021\"\n",
       " \"Case and Fatalities_2022\"\n",
       " \"Case and Fatalities_2023\"\n",
       " \"Trends\"\n",
       " \"Molecular Positivity Rate\"\n",
       " \"Hospitalizations\"\n",
       " \"Hospitalization by Day\""
      ]
     },
     "metadata": {},
     "output_type": "display_data"
    }
   ],
   "source": [
    "import XLSX\n",
    "xf = XLSX.readxlsx(\"CaseCountData.xlsx\")\n",
    "sheetnames = XLSX.sheetnames(xf)\n",
    "xf[\"Trends\"]"
   ]
  },
  {
   "cell_type": "code",
   "execution_count": 26,
   "metadata": {},
   "outputs": [
    {
     "data": {
      "text/html": [
       "<div><div style = \"float: left;\"><span>1163×7 DataFrame</span></div><div style = \"float: right;\"><span style = \"font-style: italic;\">1138 rows omitted</span></div><div style = \"clear: both;\"></div></div><div class = \"data-frame\" style = \"overflow-x: scroll;\"><table class = \"data-frame\" style = \"margin-bottom: 6px;\"><thead><tr class = \"header\"><th class = \"rowNumber\" style = \"font-weight: bold; text-align: right;\">Row</th><th style = \"text-align: left;\">Date</th><th style = \"text-align: left;\">Cumulative Confirmed Cases</th><th style = \"text-align: left;\">New Confirmed Cases</th><th style = \"text-align: left;\">Cumulative Probable Cases</th><th style = \"text-align: left;\">New Probable Cases</th><th style = \"text-align: left;\">Cumulative Fatalities</th><th style = \"text-align: left;\">Total Fatalities Current Day</th></tr><tr class = \"subheader headerLastRow\"><th class = \"rowNumber\" style = \"font-weight: bold; text-align: right;\"></th><th title = \"Any\" style = \"text-align: left;\">Any</th><th title = \"Any\" style = \"text-align: left;\">Any</th><th title = \"Any\" style = \"text-align: left;\">Any</th><th title = \"Any\" style = \"text-align: left;\">Any</th><th title = \"Any\" style = \"text-align: left;\">Any</th><th title = \"Any\" style = \"text-align: left;\">Any</th><th title = \"Any\" style = \"text-align: left;\">Any</th></tr></thead><tbody><tr><td class = \"rowNumber\" style = \"font-weight: bold; text-align: right;\">1</td><td style = \"text-align: left;\">2020/03/04</td><td style = \"text-align: left;\">0</td><td style = \"text-align: left;\">0</td><td style = \"text-align: left;\">0</td><td style = \"text-align: left;\">0</td><td style = \"font-style: italic; text-align: left;\">missing</td><td style = \"font-style: italic; text-align: left;\">missing</td></tr><tr><td class = \"rowNumber\" style = \"font-weight: bold; text-align: right;\">2</td><td style = \"text-align: left;\">2020/03/05</td><td style = \"text-align: left;\">0</td><td style = \"text-align: left;\">0</td><td style = \"text-align: left;\">0</td><td style = \"text-align: left;\">0</td><td style = \"font-style: italic; text-align: left;\">missing</td><td style = \"font-style: italic; text-align: left;\">missing</td></tr><tr><td class = \"rowNumber\" style = \"font-weight: bold; text-align: right;\">3</td><td style = \"text-align: left;\">2020/03/06</td><td style = \"text-align: left;\">1</td><td style = \"text-align: left;\">1</td><td style = \"text-align: left;\">0</td><td style = \"text-align: left;\">0</td><td style = \"font-style: italic; text-align: left;\">missing</td><td style = \"font-style: italic; text-align: left;\">missing</td></tr><tr><td class = \"rowNumber\" style = \"font-weight: bold; text-align: right;\">4</td><td style = \"text-align: left;\">2020/03/07</td><td style = \"text-align: left;\">1</td><td style = \"text-align: left;\">0</td><td style = \"text-align: left;\">0</td><td style = \"text-align: left;\">0</td><td style = \"text-align: left;\">0</td><td style = \"font-style: italic; text-align: left;\">missing</td></tr><tr><td class = \"rowNumber\" style = \"font-weight: bold; text-align: right;\">5</td><td style = \"text-align: left;\">2020/03/08</td><td style = \"text-align: left;\">3</td><td style = \"text-align: left;\">2</td><td style = \"text-align: left;\">1</td><td style = \"text-align: left;\">1</td><td style = \"text-align: left;\">0</td><td style = \"font-style: italic; text-align: left;\">missing</td></tr><tr><td class = \"rowNumber\" style = \"font-weight: bold; text-align: right;\">6</td><td style = \"text-align: left;\">2020/03/09</td><td style = \"text-align: left;\">9</td><td style = \"text-align: left;\">6</td><td style = \"text-align: left;\">1</td><td style = \"text-align: left;\">0</td><td style = \"text-align: left;\">0</td><td style = \"font-style: italic; text-align: left;\">missing</td></tr><tr><td class = \"rowNumber\" style = \"font-weight: bold; text-align: right;\">7</td><td style = \"text-align: left;\">2020/03/10</td><td style = \"text-align: left;\">19</td><td style = \"text-align: left;\">10</td><td style = \"text-align: left;\">2</td><td style = \"text-align: left;\">1</td><td style = \"text-align: left;\">0</td><td style = \"text-align: left;\">0</td></tr><tr><td class = \"rowNumber\" style = \"font-weight: bold; text-align: right;\">8</td><td style = \"text-align: left;\">2020/03/11</td><td style = \"text-align: left;\">25</td><td style = \"text-align: left;\">6</td><td style = \"text-align: left;\">3</td><td style = \"text-align: left;\">1</td><td style = \"text-align: left;\">0</td><td style = \"text-align: left;\">0</td></tr><tr><td class = \"rowNumber\" style = \"font-weight: bold; text-align: right;\">9</td><td style = \"text-align: left;\">2020/03/12</td><td style = \"text-align: left;\">30</td><td style = \"text-align: left;\">5</td><td style = \"text-align: left;\">3</td><td style = \"text-align: left;\">0</td><td style = \"text-align: left;\">0</td><td style = \"text-align: left;\">0</td></tr><tr><td class = \"rowNumber\" style = \"font-weight: bold; text-align: right;\">10</td><td style = \"text-align: left;\">2020/03/13</td><td style = \"text-align: left;\">43</td><td style = \"text-align: left;\">13</td><td style = \"text-align: left;\">3</td><td style = \"text-align: left;\">0</td><td style = \"text-align: left;\">0</td><td style = \"text-align: left;\">0</td></tr><tr><td class = \"rowNumber\" style = \"font-weight: bold; text-align: right;\">11</td><td style = \"text-align: left;\">2020/03/14</td><td style = \"text-align: left;\">47</td><td style = \"text-align: left;\">4</td><td style = \"text-align: left;\">3</td><td style = \"text-align: left;\">0</td><td style = \"text-align: left;\">0</td><td style = \"text-align: left;\">0</td></tr><tr><td class = \"rowNumber\" style = \"font-weight: bold; text-align: right;\">12</td><td style = \"text-align: left;\">2020/03/15</td><td style = \"text-align: left;\">100</td><td style = \"text-align: left;\">53</td><td style = \"text-align: left;\">3</td><td style = \"text-align: left;\">0</td><td style = \"text-align: left;\">1</td><td style = \"text-align: left;\">1</td></tr><tr><td class = \"rowNumber\" style = \"font-weight: bold; text-align: right;\">13</td><td style = \"text-align: left;\">2020/03/16</td><td style = \"text-align: left;\">120</td><td style = \"text-align: left;\">20</td><td style = \"text-align: left;\">4</td><td style = \"text-align: left;\">1</td><td style = \"text-align: left;\">2</td><td style = \"text-align: left;\">1</td></tr><tr><td style = \"text-align: right;\">&vellip;</td><td style = \"text-align: right;\">&vellip;</td><td style = \"text-align: right;\">&vellip;</td><td style = \"text-align: right;\">&vellip;</td><td style = \"text-align: right;\">&vellip;</td><td style = \"text-align: right;\">&vellip;</td><td style = \"text-align: right;\">&vellip;</td><td style = \"text-align: right;\">&vellip;</td></tr><tr><td class = \"rowNumber\" style = \"font-weight: bold; text-align: right;\">1152</td><td style = \"text-align: left;\">2023/04/29</td><td style = \"text-align: left;\">6672669</td><td style = \"text-align: left;\">665</td><td style = \"text-align: left;\">1826652</td><td style = \"text-align: left;\">411</td><td style = \"text-align: left;\">92365</td><td style = \"text-align: left;\">3</td></tr><tr><td class = \"rowNumber\" style = \"font-weight: bold; text-align: right;\">1153</td><td style = \"text-align: left;\">2023/04/30</td><td style = \"text-align: left;\">6673053</td><td style = \"text-align: left;\">384</td><td style = \"text-align: left;\">1826919</td><td style = \"text-align: left;\">267</td><td style = \"text-align: left;\">92366</td><td style = \"text-align: left;\">1</td></tr><tr><td class = \"rowNumber\" style = \"font-weight: bold; text-align: right;\">1154</td><td style = \"text-align: left;\">2023/05/01</td><td style = \"text-align: left;\">6673403</td><td style = \"text-align: left;\">350</td><td style = \"text-align: left;\">1827135</td><td style = \"text-align: left;\">216</td><td style = \"text-align: left;\">92373</td><td style = \"text-align: left;\">7</td></tr><tr><td class = \"rowNumber\" style = \"font-weight: bold; text-align: right;\">1155</td><td style = \"text-align: left;\">2023/05/02</td><td style = \"text-align: left;\">6673782</td><td style = \"text-align: left;\">379</td><td style = \"text-align: left;\">1827795</td><td style = \"text-align: left;\">660</td><td style = \"text-align: left;\">92375</td><td style = \"text-align: left;\">2</td></tr><tr><td class = \"rowNumber\" style = \"font-weight: bold; text-align: right;\">1156</td><td style = \"text-align: left;\">2023/05/03</td><td style = \"text-align: left;\">6674290</td><td style = \"text-align: left;\">508</td><td style = \"text-align: left;\">1828294</td><td style = \"text-align: left;\">499</td><td style = \"text-align: left;\">92378</td><td style = \"text-align: left;\">3</td></tr><tr><td class = \"rowNumber\" style = \"font-weight: bold; text-align: right;\">1157</td><td style = \"text-align: left;\">2023/05/04</td><td style = \"text-align: left;\">6674847</td><td style = \"text-align: left;\">557</td><td style = \"text-align: left;\">1828855</td><td style = \"text-align: left;\">561</td><td style = \"text-align: left;\">92378</td><td style = \"text-align: left;\">0</td></tr><tr><td class = \"rowNumber\" style = \"font-weight: bold; text-align: right;\">1158</td><td style = \"text-align: left;\">2023/05/05</td><td style = \"text-align: left;\">6675394</td><td style = \"text-align: left;\">547</td><td style = \"text-align: left;\">1829275</td><td style = \"text-align: left;\">420</td><td style = \"text-align: left;\">92378</td><td style = \"text-align: left;\">0</td></tr><tr><td class = \"rowNumber\" style = \"font-weight: bold; text-align: right;\">1159</td><td style = \"text-align: left;\">2023/05/06</td><td style = \"text-align: left;\">6675817</td><td style = \"text-align: left;\">423</td><td style = \"text-align: left;\">1829761</td><td style = \"text-align: left;\">486</td><td style = \"text-align: left;\">92378</td><td style = \"text-align: left;\">0</td></tr><tr><td class = \"rowNumber\" style = \"font-weight: bold; text-align: right;\">1160</td><td style = \"text-align: left;\">2023/05/07</td><td style = \"text-align: left;\">6676105</td><td style = \"text-align: left;\">288</td><td style = \"text-align: left;\">1830005</td><td style = \"text-align: left;\">244</td><td style = \"text-align: left;\">92378</td><td style = \"text-align: left;\">0</td></tr><tr><td class = \"rowNumber\" style = \"font-weight: bold; text-align: right;\">1161</td><td style = \"text-align: left;\">2023/05/08</td><td style = \"text-align: left;\">6676394</td><td style = \"text-align: left;\">289</td><td style = \"text-align: left;\">1830184</td><td style = \"text-align: left;\">179</td><td style = \"text-align: left;\">92378</td><td style = \"text-align: left;\">0</td></tr><tr><td class = \"rowNumber\" style = \"font-weight: bold; text-align: right;\">1162</td><td style = \"text-align: left;\">2023/05/09</td><td style = \"text-align: left;\">6676787</td><td style = \"text-align: left;\">393</td><td style = \"text-align: left;\">1830615</td><td style = \"text-align: left;\">431</td><td style = \"text-align: left;\">92378</td><td style = \"text-align: left;\">0</td></tr><tr><td class = \"rowNumber\" style = \"font-weight: bold; text-align: right;\">1163</td><td style = \"text-align: left;\">2023/05/10</td><td style = \"text-align: left;\">6677164</td><td style = \"text-align: left;\">377</td><td style = \"text-align: left;\">1831040</td><td style = \"text-align: left;\">425</td><td style = \"font-style: italic; text-align: left;\">missing</td><td style = \"font-style: italic; text-align: left;\">missing</td></tr></tbody></table></div>"
      ],
      "text/latex": [
       "\\begin{tabular}{r|ccccc}\n",
       "\t& Date & Cumulative Confirmed Cases & New Confirmed Cases & Cumulative Probable Cases & \\\\\n",
       "\t\\hline\n",
       "\t& Any & Any & Any & Any & \\\\\n",
       "\t\\hline\n",
       "\t1 & 2020/03/04 & 0 & 0 & 0 & $\\dots$ \\\\\n",
       "\t2 & 2020/03/05 & 0 & 0 & 0 & $\\dots$ \\\\\n",
       "\t3 & 2020/03/06 & 1 & 1 & 0 & $\\dots$ \\\\\n",
       "\t4 & 2020/03/07 & 1 & 0 & 0 & $\\dots$ \\\\\n",
       "\t5 & 2020/03/08 & 3 & 2 & 1 & $\\dots$ \\\\\n",
       "\t6 & 2020/03/09 & 9 & 6 & 1 & $\\dots$ \\\\\n",
       "\t7 & 2020/03/10 & 19 & 10 & 2 & $\\dots$ \\\\\n",
       "\t8 & 2020/03/11 & 25 & 6 & 3 & $\\dots$ \\\\\n",
       "\t9 & 2020/03/12 & 30 & 5 & 3 & $\\dots$ \\\\\n",
       "\t10 & 2020/03/13 & 43 & 13 & 3 & $\\dots$ \\\\\n",
       "\t11 & 2020/03/14 & 47 & 4 & 3 & $\\dots$ \\\\\n",
       "\t12 & 2020/03/15 & 100 & 53 & 3 & $\\dots$ \\\\\n",
       "\t13 & 2020/03/16 & 120 & 20 & 4 & $\\dots$ \\\\\n",
       "\t14 & 2020/03/17 & 193 & 73 & 7 & $\\dots$ \\\\\n",
       "\t15 & 2020/03/18 & 260 & 67 & 11 & $\\dots$ \\\\\n",
       "\t16 & 2020/03/19 & 317 & 57 & 12 & $\\dots$ \\\\\n",
       "\t17 & 2020/03/20 & 396 & 79 & 12 & $\\dots$ \\\\\n",
       "\t18 & 2020/03/21 & 467 & 71 & 15 & $\\dots$ \\\\\n",
       "\t19 & 2020/03/22 & 527 & 60 & 17 & $\\dots$ \\\\\n",
       "\t20 & 2020/03/23 & 674 & 147 & 18 & $\\dots$ \\\\\n",
       "\t21 & 2020/03/24 & 884 & 210 & 24 & $\\dots$ \\\\\n",
       "\t22 & 2020/03/25 & 1072 & 188 & 30 & $\\dots$ \\\\\n",
       "\t23 & 2020/03/26 & 1298 & 226 & 37 & $\\dots$ \\\\\n",
       "\t24 & 2020/03/27 & 1643 & 345 & 42 & $\\dots$ \\\\\n",
       "\t$\\dots$ & $\\dots$ & $\\dots$ & $\\dots$ & $\\dots$ &  \\\\\n",
       "\\end{tabular}\n"
      ],
      "text/plain": [
       "\u001b[1m1163×7 DataFrame\u001b[0m\n",
       "\u001b[1m  Row \u001b[0m│\u001b[1m Date       \u001b[0m\u001b[1m Cumulative Confirmed Cases \u001b[0m\u001b[1m New Confirmed Cases \u001b[0m\u001b[1m Cumulativ\u001b[0m ⋯\n",
       "      │\u001b[90m Any        \u001b[0m\u001b[90m Any                        \u001b[0m\u001b[90m Any                 \u001b[0m\u001b[90m Any      \u001b[0m ⋯\n",
       "──────┼─────────────────────────────────────────────────────────────────────────\n",
       "    1 │ 2020/03/04  0                           0                    0         ⋯\n",
       "    2 │ 2020/03/05  0                           0                    0\n",
       "    3 │ 2020/03/06  1                           1                    0\n",
       "    4 │ 2020/03/07  1                           0                    0\n",
       "    5 │ 2020/03/08  3                           2                    1         ⋯\n",
       "    6 │ 2020/03/09  9                           6                    1\n",
       "    7 │ 2020/03/10  19                          10                   2\n",
       "    8 │ 2020/03/11  25                          6                    3\n",
       "  ⋮   │     ⋮                   ⋮                        ⋮                     ⋱\n",
       " 1157 │ 2023/05/04  6674847                     557                  1828855   ⋯\n",
       " 1158 │ 2023/05/05  6675394                     547                  1829275\n",
       " 1159 │ 2023/05/06  6675817                     423                  1829761\n",
       " 1160 │ 2023/05/07  6676105                     288                  1830005\n",
       " 1161 │ 2023/05/08  6676394                     289                  1830184   ⋯\n",
       " 1162 │ 2023/05/09  6676787                     393                  1830615\n",
       " 1163 │ 2023/05/10  6677164                     377                  1831040\n",
       "\u001b[36m                                                 4 columns and 1148 rows omitted\u001b[0m"
      ]
     },
     "metadata": {},
     "output_type": "display_data"
    }
   ],
   "source": [
    "using DataFrames, XLSX\n",
    "df = DataFrame(XLSX.readtable(\"CaseCountData.xlsx\", \"Trends\"))"
   ]
  },
  {
   "cell_type": "code",
   "execution_count": null,
   "metadata": {},
   "outputs": [],
   "source": []
  }
 ],
 "metadata": {
  "kernelspec": {
   "display_name": "Julia 1.10.2",
   "language": "julia",
   "name": "julia-1.10"
  },
  "language_info": {
   "file_extension": ".jl",
   "mimetype": "application/julia",
   "name": "julia",
   "version": "1.10.2"
  }
 },
 "nbformat": 4,
 "nbformat_minor": 2
}
